{
 "cells": [
  {
   "cell_type": "code",
   "execution_count": 26,
   "metadata": {
    "colab": {
     "base_uri": "https://localhost:8080/"
    },
    "executionInfo": {
     "elapsed": 1190,
     "status": "ok",
     "timestamp": 1734799441785,
     "user": {
      "displayName": "Erik Kellener",
      "userId": "15028931739696665470"
     },
     "user_tz": 480
    },
    "id": "G2PoUl1vXJec",
    "outputId": "7b0df69d-54f7-4314-b517-1b19df0fb216"
   },
   "outputs": [
    {
     "name": "stderr",
     "output_type": "stream",
     "text": [
      "82141.74s - pydevd: Sending message related to process being replaced timed-out after 5 seconds\n"
     ]
    },
    {
     "name": "stdout",
     "output_type": "stream",
     "text": [
      "Requirement already satisfied: mlflow in /Users/evankellener/Desktop/UFC_fight_predictor/ufc_env/lib/python3.9/site-packages (2.20.1)\n",
      "Requirement already satisfied: mlflow-skinny==2.20.1 in /Users/evankellener/Desktop/UFC_fight_predictor/ufc_env/lib/python3.9/site-packages (from mlflow) (2.20.1)\n",
      "Requirement already satisfied: Flask<4 in /Users/evankellener/Desktop/UFC_fight_predictor/ufc_env/lib/python3.9/site-packages (from mlflow) (3.1.0)\n",
      "Requirement already satisfied: Jinja2<4,>=2.11 in /Users/evankellener/Desktop/UFC_fight_predictor/ufc_env/lib/python3.9/site-packages (from mlflow) (3.1.5)\n",
      "Requirement already satisfied: alembic!=1.10.0,<2 in /Users/evankellener/Desktop/UFC_fight_predictor/ufc_env/lib/python3.9/site-packages (from mlflow) (1.14.1)\n",
      "Requirement already satisfied: docker<8,>=4.0.0 in /Users/evankellener/Desktop/UFC_fight_predictor/ufc_env/lib/python3.9/site-packages (from mlflow) (7.1.0)\n",
      "Requirement already satisfied: graphene<4 in /Users/evankellener/Desktop/UFC_fight_predictor/ufc_env/lib/python3.9/site-packages (from mlflow) (3.4.3)\n",
      "Requirement already satisfied: gunicorn<24 in /Users/evankellener/Desktop/UFC_fight_predictor/ufc_env/lib/python3.9/site-packages (from mlflow) (23.0.0)\n",
      "Requirement already satisfied: markdown<4,>=3.3 in /Users/evankellener/Desktop/UFC_fight_predictor/ufc_env/lib/python3.9/site-packages (from mlflow) (3.7)\n",
      "Requirement already satisfied: matplotlib<4 in /Users/evankellener/Desktop/UFC_fight_predictor/ufc_env/lib/python3.9/site-packages (from mlflow) (3.9.4)\n",
      "Requirement already satisfied: numpy<3 in /Users/evankellener/Desktop/UFC_fight_predictor/ufc_env/lib/python3.9/site-packages (from mlflow) (2.0.2)\n",
      "Requirement already satisfied: pandas<3 in /Users/evankellener/Desktop/UFC_fight_predictor/ufc_env/lib/python3.9/site-packages (from mlflow) (2.2.3)\n",
      "Requirement already satisfied: pyarrow<19,>=4.0.0 in /Users/evankellener/Desktop/UFC_fight_predictor/ufc_env/lib/python3.9/site-packages (from mlflow) (18.1.0)\n",
      "Requirement already satisfied: scikit-learn<2 in /Users/evankellener/Desktop/UFC_fight_predictor/ufc_env/lib/python3.9/site-packages (from mlflow) (1.6.0)\n",
      "Requirement already satisfied: scipy<2 in /Users/evankellener/Desktop/UFC_fight_predictor/ufc_env/lib/python3.9/site-packages (from mlflow) (1.13.1)\n",
      "Requirement already satisfied: sqlalchemy<3,>=1.4.0 in /Users/evankellener/Desktop/UFC_fight_predictor/ufc_env/lib/python3.9/site-packages (from mlflow) (2.0.38)\n",
      "Requirement already satisfied: cachetools<6,>=5.0.0 in /Users/evankellener/Desktop/UFC_fight_predictor/ufc_env/lib/python3.9/site-packages (from mlflow-skinny==2.20.1->mlflow) (5.5.1)\n",
      "Requirement already satisfied: click<9,>=7.0 in /Users/evankellener/Desktop/UFC_fight_predictor/ufc_env/lib/python3.9/site-packages (from mlflow-skinny==2.20.1->mlflow) (8.1.8)\n",
      "Requirement already satisfied: cloudpickle<4 in /Users/evankellener/Desktop/UFC_fight_predictor/ufc_env/lib/python3.9/site-packages (from mlflow-skinny==2.20.1->mlflow) (3.1.1)\n",
      "Requirement already satisfied: databricks-sdk<1,>=0.20.0 in /Users/evankellener/Desktop/UFC_fight_predictor/ufc_env/lib/python3.9/site-packages (from mlflow-skinny==2.20.1->mlflow) (0.43.0)\n",
      "Requirement already satisfied: gitpython<4,>=3.1.9 in /Users/evankellener/Desktop/UFC_fight_predictor/ufc_env/lib/python3.9/site-packages (from mlflow-skinny==2.20.1->mlflow) (3.1.44)\n",
      "Requirement already satisfied: importlib_metadata!=4.7.0,<9,>=3.7.0 in /Users/evankellener/Desktop/UFC_fight_predictor/ufc_env/lib/python3.9/site-packages (from mlflow-skinny==2.20.1->mlflow) (8.5.0)\n",
      "Requirement already satisfied: opentelemetry-api<3,>=1.9.0 in /Users/evankellener/Desktop/UFC_fight_predictor/ufc_env/lib/python3.9/site-packages (from mlflow-skinny==2.20.1->mlflow) (1.30.0)\n",
      "Requirement already satisfied: opentelemetry-sdk<3,>=1.9.0 in /Users/evankellener/Desktop/UFC_fight_predictor/ufc_env/lib/python3.9/site-packages (from mlflow-skinny==2.20.1->mlflow) (1.30.0)\n",
      "Requirement already satisfied: packaging<25 in /Users/evankellener/Desktop/UFC_fight_predictor/ufc_env/lib/python3.9/site-packages (from mlflow-skinny==2.20.1->mlflow) (24.2)\n",
      "Requirement already satisfied: protobuf<6,>=3.12.0 in /Users/evankellener/Desktop/UFC_fight_predictor/ufc_env/lib/python3.9/site-packages (from mlflow-skinny==2.20.1->mlflow) (5.29.3)\n",
      "Requirement already satisfied: pydantic<3,>=1.0 in /Users/evankellener/Desktop/UFC_fight_predictor/ufc_env/lib/python3.9/site-packages (from mlflow-skinny==2.20.1->mlflow) (2.10.6)\n",
      "Requirement already satisfied: pyyaml<7,>=5.1 in /Users/evankellener/Desktop/UFC_fight_predictor/ufc_env/lib/python3.9/site-packages (from mlflow-skinny==2.20.1->mlflow) (6.0.2)\n",
      "Requirement already satisfied: requests<3,>=2.17.3 in /Users/evankellener/Desktop/UFC_fight_predictor/ufc_env/lib/python3.9/site-packages (from mlflow-skinny==2.20.1->mlflow) (2.32.3)\n",
      "Requirement already satisfied: sqlparse<1,>=0.4.0 in /Users/evankellener/Desktop/UFC_fight_predictor/ufc_env/lib/python3.9/site-packages (from mlflow-skinny==2.20.1->mlflow) (0.5.3)\n",
      "Requirement already satisfied: typing-extensions<5,>=4.0.0 in /Users/evankellener/Desktop/UFC_fight_predictor/ufc_env/lib/python3.9/site-packages (from mlflow-skinny==2.20.1->mlflow) (4.12.2)\n",
      "Requirement already satisfied: Mako in /Users/evankellener/Desktop/UFC_fight_predictor/ufc_env/lib/python3.9/site-packages (from alembic!=1.10.0,<2->mlflow) (1.3.9)\n",
      "Requirement already satisfied: urllib3>=1.26.0 in /Users/evankellener/Desktop/UFC_fight_predictor/ufc_env/lib/python3.9/site-packages (from docker<8,>=4.0.0->mlflow) (2.3.0)\n",
      "Requirement already satisfied: Werkzeug>=3.1 in /Users/evankellener/Desktop/UFC_fight_predictor/ufc_env/lib/python3.9/site-packages (from Flask<4->mlflow) (3.1.3)\n",
      "Requirement already satisfied: itsdangerous>=2.2 in /Users/evankellener/Desktop/UFC_fight_predictor/ufc_env/lib/python3.9/site-packages (from Flask<4->mlflow) (2.2.0)\n",
      "Requirement already satisfied: blinker>=1.9 in /Users/evankellener/Desktop/UFC_fight_predictor/ufc_env/lib/python3.9/site-packages (from Flask<4->mlflow) (1.9.0)\n",
      "Requirement already satisfied: graphql-core<3.3,>=3.1 in /Users/evankellener/Desktop/UFC_fight_predictor/ufc_env/lib/python3.9/site-packages (from graphene<4->mlflow) (3.2.6)\n",
      "Requirement already satisfied: graphql-relay<3.3,>=3.1 in /Users/evankellener/Desktop/UFC_fight_predictor/ufc_env/lib/python3.9/site-packages (from graphene<4->mlflow) (3.2.0)\n",
      "Requirement already satisfied: python-dateutil<3,>=2.7.0 in /Users/evankellener/Desktop/UFC_fight_predictor/ufc_env/lib/python3.9/site-packages (from graphene<4->mlflow) (2.9.0.post0)\n",
      "Requirement already satisfied: MarkupSafe>=2.0 in /Users/evankellener/Desktop/UFC_fight_predictor/ufc_env/lib/python3.9/site-packages (from Jinja2<4,>=2.11->mlflow) (3.0.2)\n",
      "Requirement already satisfied: contourpy>=1.0.1 in /Users/evankellener/Desktop/UFC_fight_predictor/ufc_env/lib/python3.9/site-packages (from matplotlib<4->mlflow) (1.3.0)\n",
      "Requirement already satisfied: cycler>=0.10 in /Users/evankellener/Desktop/UFC_fight_predictor/ufc_env/lib/python3.9/site-packages (from matplotlib<4->mlflow) (0.12.1)\n",
      "Requirement already satisfied: fonttools>=4.22.0 in /Users/evankellener/Desktop/UFC_fight_predictor/ufc_env/lib/python3.9/site-packages (from matplotlib<4->mlflow) (4.55.8)\n",
      "Requirement already satisfied: kiwisolver>=1.3.1 in /Users/evankellener/Desktop/UFC_fight_predictor/ufc_env/lib/python3.9/site-packages (from matplotlib<4->mlflow) (1.4.7)\n",
      "Requirement already satisfied: pillow>=8 in /Users/evankellener/Desktop/UFC_fight_predictor/ufc_env/lib/python3.9/site-packages (from matplotlib<4->mlflow) (11.1.0)\n",
      "Requirement already satisfied: pyparsing>=2.3.1 in /Users/evankellener/Desktop/UFC_fight_predictor/ufc_env/lib/python3.9/site-packages (from matplotlib<4->mlflow) (3.2.1)\n",
      "Requirement already satisfied: importlib-resources>=3.2.0 in /Users/evankellener/Desktop/UFC_fight_predictor/ufc_env/lib/python3.9/site-packages (from matplotlib<4->mlflow) (6.5.2)\n",
      "Requirement already satisfied: pytz>=2020.1 in /Users/evankellener/Desktop/UFC_fight_predictor/ufc_env/lib/python3.9/site-packages (from pandas<3->mlflow) (2024.2)\n",
      "Requirement already satisfied: tzdata>=2022.7 in /Users/evankellener/Desktop/UFC_fight_predictor/ufc_env/lib/python3.9/site-packages (from pandas<3->mlflow) (2024.2)\n",
      "Requirement already satisfied: joblib>=1.2.0 in /Users/evankellener/Desktop/UFC_fight_predictor/ufc_env/lib/python3.9/site-packages (from scikit-learn<2->mlflow) (1.4.2)\n",
      "Requirement already satisfied: threadpoolctl>=3.1.0 in /Users/evankellener/Desktop/UFC_fight_predictor/ufc_env/lib/python3.9/site-packages (from scikit-learn<2->mlflow) (3.5.0)\n",
      "Requirement already satisfied: google-auth~=2.0 in /Users/evankellener/Desktop/UFC_fight_predictor/ufc_env/lib/python3.9/site-packages (from databricks-sdk<1,>=0.20.0->mlflow-skinny==2.20.1->mlflow) (2.38.0)\n",
      "Requirement already satisfied: gitdb<5,>=4.0.1 in /Users/evankellener/Desktop/UFC_fight_predictor/ufc_env/lib/python3.9/site-packages (from gitpython<4,>=3.1.9->mlflow-skinny==2.20.1->mlflow) (4.0.12)\n",
      "Requirement already satisfied: zipp>=3.20 in /Users/evankellener/Desktop/UFC_fight_predictor/ufc_env/lib/python3.9/site-packages (from importlib_metadata!=4.7.0,<9,>=3.7.0->mlflow-skinny==2.20.1->mlflow) (3.21.0)\n",
      "Requirement already satisfied: deprecated>=1.2.6 in /Users/evankellener/Desktop/UFC_fight_predictor/ufc_env/lib/python3.9/site-packages (from opentelemetry-api<3,>=1.9.0->mlflow-skinny==2.20.1->mlflow) (1.2.18)\n",
      "Requirement already satisfied: opentelemetry-semantic-conventions==0.51b0 in /Users/evankellener/Desktop/UFC_fight_predictor/ufc_env/lib/python3.9/site-packages (from opentelemetry-sdk<3,>=1.9.0->mlflow-skinny==2.20.1->mlflow) (0.51b0)\n",
      "Requirement already satisfied: annotated-types>=0.6.0 in /Users/evankellener/Desktop/UFC_fight_predictor/ufc_env/lib/python3.9/site-packages (from pydantic<3,>=1.0->mlflow-skinny==2.20.1->mlflow) (0.7.0)\n",
      "Requirement already satisfied: pydantic-core==2.27.2 in /Users/evankellener/Desktop/UFC_fight_predictor/ufc_env/lib/python3.9/site-packages (from pydantic<3,>=1.0->mlflow-skinny==2.20.1->mlflow) (2.27.2)\n",
      "Requirement already satisfied: six>=1.5 in /Users/evankellener/Desktop/UFC_fight_predictor/ufc_env/lib/python3.9/site-packages (from python-dateutil<3,>=2.7.0->graphene<4->mlflow) (1.17.0)\n",
      "Requirement already satisfied: charset-normalizer<4,>=2 in /Users/evankellener/Desktop/UFC_fight_predictor/ufc_env/lib/python3.9/site-packages (from requests<3,>=2.17.3->mlflow-skinny==2.20.1->mlflow) (3.4.1)\n",
      "Requirement already satisfied: idna<4,>=2.5 in /Users/evankellener/Desktop/UFC_fight_predictor/ufc_env/lib/python3.9/site-packages (from requests<3,>=2.17.3->mlflow-skinny==2.20.1->mlflow) (3.10)\n",
      "Requirement already satisfied: certifi>=2017.4.17 in /Users/evankellener/Desktop/UFC_fight_predictor/ufc_env/lib/python3.9/site-packages (from requests<3,>=2.17.3->mlflow-skinny==2.20.1->mlflow) (2024.12.14)\n",
      "Requirement already satisfied: wrapt<2,>=1.10 in /Users/evankellener/Desktop/UFC_fight_predictor/ufc_env/lib/python3.9/site-packages (from deprecated>=1.2.6->opentelemetry-api<3,>=1.9.0->mlflow-skinny==2.20.1->mlflow) (1.17.2)\n",
      "Requirement already satisfied: smmap<6,>=3.0.1 in /Users/evankellener/Desktop/UFC_fight_predictor/ufc_env/lib/python3.9/site-packages (from gitdb<5,>=4.0.1->gitpython<4,>=3.1.9->mlflow-skinny==2.20.1->mlflow) (5.0.2)\n",
      "Requirement already satisfied: pyasn1-modules>=0.2.1 in /Users/evankellener/Desktop/UFC_fight_predictor/ufc_env/lib/python3.9/site-packages (from google-auth~=2.0->databricks-sdk<1,>=0.20.0->mlflow-skinny==2.20.1->mlflow) (0.4.1)\n",
      "Requirement already satisfied: rsa<5,>=3.1.4 in /Users/evankellener/Desktop/UFC_fight_predictor/ufc_env/lib/python3.9/site-packages (from google-auth~=2.0->databricks-sdk<1,>=0.20.0->mlflow-skinny==2.20.1->mlflow) (4.9)\n",
      "Requirement already satisfied: pyasn1<0.7.0,>=0.4.6 in /Users/evankellener/Desktop/UFC_fight_predictor/ufc_env/lib/python3.9/site-packages (from pyasn1-modules>=0.2.1->google-auth~=2.0->databricks-sdk<1,>=0.20.0->mlflow-skinny==2.20.1->mlflow) (0.6.1)\n",
      "\n",
      "\u001b[1m[\u001b[0m\u001b[34;49mnotice\u001b[0m\u001b[1;39;49m]\u001b[0m\u001b[39;49m A new release of pip is available: \u001b[0m\u001b[31;49m25.0\u001b[0m\u001b[39;49m -> \u001b[0m\u001b[32;49m25.1\u001b[0m\n",
      "\u001b[1m[\u001b[0m\u001b[34;49mnotice\u001b[0m\u001b[1;39;49m]\u001b[0m\u001b[39;49m To update, run: \u001b[0m\u001b[32;49mpip install --upgrade pip\u001b[0m\n",
      "Note: you may need to restart the kernel to use updated packages.\n"
     ]
    },
    {
     "name": "stderr",
     "output_type": "stream",
     "text": [
      "82147.63s - pydevd: Sending message related to process being replaced timed-out after 5 seconds\n"
     ]
    },
    {
     "name": "stdout",
     "output_type": "stream",
     "text": [
      "Requirement already satisfied: optuna in /Users/evankellener/Desktop/UFC_fight_predictor/ufc_env/lib/python3.9/site-packages (4.2.0)\n",
      "Requirement already satisfied: alembic>=1.5.0 in /Users/evankellener/Desktop/UFC_fight_predictor/ufc_env/lib/python3.9/site-packages (from optuna) (1.14.1)\n",
      "Requirement already satisfied: colorlog in /Users/evankellener/Desktop/UFC_fight_predictor/ufc_env/lib/python3.9/site-packages (from optuna) (6.9.0)\n",
      "Requirement already satisfied: numpy in /Users/evankellener/Desktop/UFC_fight_predictor/ufc_env/lib/python3.9/site-packages (from optuna) (2.0.2)\n",
      "Requirement already satisfied: packaging>=20.0 in /Users/evankellener/Desktop/UFC_fight_predictor/ufc_env/lib/python3.9/site-packages (from optuna) (24.2)\n",
      "Requirement already satisfied: sqlalchemy>=1.4.2 in /Users/evankellener/Desktop/UFC_fight_predictor/ufc_env/lib/python3.9/site-packages (from optuna) (2.0.38)\n",
      "Requirement already satisfied: tqdm in /Users/evankellener/Desktop/UFC_fight_predictor/ufc_env/lib/python3.9/site-packages (from optuna) (4.67.1)\n",
      "Requirement already satisfied: PyYAML in /Users/evankellener/Desktop/UFC_fight_predictor/ufc_env/lib/python3.9/site-packages (from optuna) (6.0.2)\n",
      "Requirement already satisfied: Mako in /Users/evankellener/Desktop/UFC_fight_predictor/ufc_env/lib/python3.9/site-packages (from alembic>=1.5.0->optuna) (1.3.9)\n",
      "Requirement already satisfied: typing-extensions>=4 in /Users/evankellener/Desktop/UFC_fight_predictor/ufc_env/lib/python3.9/site-packages (from alembic>=1.5.0->optuna) (4.12.2)\n",
      "Requirement already satisfied: MarkupSafe>=0.9.2 in /Users/evankellener/Desktop/UFC_fight_predictor/ufc_env/lib/python3.9/site-packages (from Mako->alembic>=1.5.0->optuna) (3.0.2)\n",
      "\n",
      "\u001b[1m[\u001b[0m\u001b[34;49mnotice\u001b[0m\u001b[1;39;49m]\u001b[0m\u001b[39;49m A new release of pip is available: \u001b[0m\u001b[31;49m25.0\u001b[0m\u001b[39;49m -> \u001b[0m\u001b[32;49m25.1\u001b[0m\n",
      "\u001b[1m[\u001b[0m\u001b[34;49mnotice\u001b[0m\u001b[1;39;49m]\u001b[0m\u001b[39;49m To update, run: \u001b[0m\u001b[32;49mpip install --upgrade pip\u001b[0m\n",
      "Note: you may need to restart the kernel to use updated packages.\n",
      "Not using gDrive\n",
      "/Users/evankellener/Desktop/UFC_fight_predictor/src\n"
     ]
    }
   ],
   "source": [
    "import sys\n",
    "import os\n",
    "import sqlite3\n",
    "import pandas as pd\n",
    "import yaml\n",
    "from tqdm.notebook import tqdm_notebook\n",
    "from datetime import datetime\n",
    "\n",
    "# Install mlflow if not already installed\n",
    "%pip install mlflow\n",
    "import mlflow\n",
    "\n",
    "%pip install optuna\n",
    "import optuna\n",
    "\n",
    "\n",
    "# Suggestion on fixed folder structure\n",
    "'''\n",
    "/\n",
    "/scripts        # scripts contains all .py,≈ ipynb files/modules\n",
    "/scripts/[sub processing modules] # optionally used sub folders for processing modules\n",
    "/data\n",
    "/data/sqlite   #contains sqlite database .db\n",
    "/data/csv     #contains temporary csv files used for scraping\n",
    "'''\n",
    "\n",
    "\n",
    "# Adding flag for using with Google Drive or run locally\n",
    "use_gdrive = False\n",
    "\n",
    "if use_gdrive:\n",
    "  from google.colab import drive\n",
    "  drive.mount('/content/drive')\n",
    "  root_folder = '/content/drive/MyDrive/'\n",
    "  print('Using gDrive')\n",
    "  print(root_folder)\n",
    "else:\n",
    "  root_folder = os.getcwd()\n",
    "  print('Not using gDrive')\n",
    "  print(root_folder)\n",
    "\n",
    "# Read config\n",
    "config = yaml.safe_load(open('../src/scrape_ufc_stats_config.yaml'))\n",
    "\n",
    "#set folder locations or override config\n",
    "base_folder = '../'\n",
    "db_location = base_folder+'data/sqlite_db/sqlite_scrapper.db'\n",
    "scripts_folder = base_folder+'src'\n",
    "local_run = False\n",
    "db_conn = sqlite3.connect(db_location)\n",
    "cursor = db_conn.cursor()"
   ]
  },
  {
   "cell_type": "markdown",
   "metadata": {},
   "source": [
    "# Setting Up Proper Directory"
   ]
  },
  {
   "cell_type": "code",
   "execution_count": 27,
   "metadata": {},
   "outputs": [
    {
     "name": "stdout",
     "output_type": "stream",
     "text": [
      "['../', '../', '../', '../', '../', '/Library/Developer/CommandLineTools/Library/Frameworks/Python3.framework/Versions/3.9/lib/python39.zip', '/Library/Developer/CommandLineTools/Library/Frameworks/Python3.framework/Versions/3.9/lib/python3.9', '/Library/Developer/CommandLineTools/Library/Frameworks/Python3.framework/Versions/3.9/lib/python3.9/lib-dynload', '', '/Users/evankellener/Desktop/UFC_fight_predictor/ufc_env/lib/python3.9/site-packages']\n"
     ]
    }
   ],
   "source": [
    "sys.path.insert(0, '../')\n",
    "print(sys.path)"
   ]
  },
  {
   "cell_type": "code",
   "execution_count": 28,
   "metadata": {},
   "outputs": [],
   "source": [
    "os.chdir(scripts_folder)"
   ]
  },
  {
   "cell_type": "markdown",
   "metadata": {},
   "source": [
    "# Scraping Process"
   ]
  },
  {
   "cell_type": "code",
   "execution_count": null,
   "metadata": {
    "id": "0zYN2S9rvPgx"
   },
   "outputs": [],
   "source": [
    "from scrapper_modules import Eventdetails, Fightdetails, Fightresultsandstats, Fighterdetails, Fightertott\n",
    "from tqdm.notebook import tqdm_notebook"
   ]
  },
  {
   "cell_type": "markdown",
   "metadata": {},
   "source": [
    "### Runtime: 0.8s"
   ]
  },
  {
   "cell_type": "code",
   "execution_count": null,
   "metadata": {
    "id": "il07bZorw0cB"
   },
   "outputs": [],
   "source": [
    "ed = Eventdetails(config, db_conn)\n",
    "#ed_df = ed.process()\n",
    "ed_df = ed.process()#%Y-%m-%d\n",
    "ed.save()\n",
    "db_conn.commit()"
   ]
  },
  {
   "cell_type": "markdown",
   "metadata": {},
   "source": [
    "### Runtime: 5m 24.2s"
   ]
  },
  {
   "cell_type": "code",
   "execution_count": null,
   "metadata": {
    "colab": {
     "base_uri": "https://localhost:8080/",
     "height": 49,
     "referenced_widgets": [
      "8dd7c962e49f490091c9d89a0e623d7b",
      "b78b1ad75fb64fdbb595c5baff305516",
      "ce230fb6df0940caa94a83c5e346da7a",
      "9fabd27658e7458da7e23671a84cc5b1",
      "dc28b5145ffa404b87e55d7cf6dc8638",
      "d0839cc8cd314153a24c5984e02e95e4",
      "73b9915cef1b46968b987ed2b83a5acd",
      "e7a4b28a6129451fb6856a448068ee5d",
      "4617bb9161fb4b63b134e5ccc43fda02",
      "7e1926a1065947c096434b417867da83",
      "a6514271fc2d4894accadb7d52f0b932"
     ]
    },
    "executionInfo": {
     "elapsed": 242163,
     "status": "ok",
     "timestamp": 1730398363080,
     "user": {
      "displayName": "Evan Kellener",
      "userId": "06994163046607635769"
     },
     "user_tz": 420
    },
    "id": "9B-Fw-bQ-TVc",
    "outputId": "d6dc00a0-1be0-4635-b487-b5ebbc35e422"
   },
   "outputs": [],
   "source": [
    "fd = Fightdetails(config, db_conn, list(ed_df['URL']))\n",
    "fd_df = fd.process()\n",
    "fd.save()\n",
    "db_conn.commit()"
   ]
  },
  {
   "cell_type": "code",
   "execution_count": null,
   "metadata": {
    "colab": {
     "base_uri": "https://localhost:8080/",
     "height": 49,
     "referenced_widgets": [
      "8718154bce88472a973464b97c94a606",
      "7c8a538969ed413aa9ed3ea062ef769d",
      "48ddb60ff85a404f8c1c4cd11208358a",
      "e04d8cd066d641d68c7372bd0e7860e2",
      "9f5bf2febfab4b38b37eb06be0fe2cf0",
      "881d2f8f6df3415eb849d57430f35883",
      "b0334b9a67074c1a8e08431c9a71ed4a",
      "aea2ff927ae4451eaafa94c50d1b8d1e",
      "b4ca1843f1d6451d8d6982135741d31e",
      "1ef486183d784b6dbed5d7d4762bcaa8",
      "99aacd0c155141018c0064158a5191fe"
     ]
    },
    "executionInfo": {
     "elapsed": 5095161,
     "status": "ok",
     "timestamp": 1730403460206,
     "user": {
      "displayName": "Evan Kellener",
      "userId": "06994163046607635769"
     },
     "user_tz": 420
    },
    "id": "MqWblXYi-WmX",
    "outputId": "233ddfe6-3566-4589-c4e4-3b7e24b82fc6"
   },
   "outputs": [],
   "source": [
    "frs = Fightresultsandstats(config, db_conn, list(fd_df['URL']))\n",
    "fr_df, fs_df = frs.process()\n",
    "frs.save()\n",
    "db_conn.commit()"
   ]
  },
  {
   "cell_type": "code",
   "execution_count": null,
   "metadata": {},
   "outputs": [],
   "source": [
    "fs_df = pd.read_csv(base_folder+'data/tmp/Fightstats.csv')"
   ]
  },
  {
   "cell_type": "code",
   "execution_count": null,
   "metadata": {},
   "outputs": [],
   "source": [
    "print(fs_df.columns)"
   ]
  },
  {
   "cell_type": "code",
   "execution_count": null,
   "metadata": {
    "colab": {
     "base_uri": "https://localhost:8080/",
     "height": 87,
     "referenced_widgets": [
      "8ce7677305da441ab84b7e0ef668980b",
      "4b1107254e4645efacc0793ef76eee62",
      "a55edca0b3e7471b91ab614b4812d7eb",
      "16b584af3e6a430a9a613bece67a2563",
      "e63f80b576f5469c865c021a3b49c24f",
      "aacb4cc6bfd14ef8a655d79a9576b45a",
      "e2a7bcde2af34b948a5d72f341807c6e",
      "d86cd8e4d3f74244801ce1a94cbdb99e",
      "1c17c4618c6543608856ba1e674af557",
      "26f5cbdb369641fb9bfe67a6bbbdc080",
      "423913db86e34360b8a313617b2cccdf"
     ]
    },
    "executionInfo": {
     "elapsed": 22046,
     "status": "ok",
     "timestamp": 1730403687939,
     "user": {
      "displayName": "Evan Kellener",
      "userId": "06994163046607635769"
     },
     "user_tz": 420
    },
    "id": "sPuyI2ZLD8NQ",
    "outputId": "b782500e-60fd-42f6-930e-58f22467e8cf"
   },
   "outputs": [],
   "source": [
    "frd = Fighterdetails(config, db_conn)\n",
    "frd_df = frd.process(filtered_data=fs_df)\n",
    "frd.save()\n",
    "db_conn.commit()"
   ]
  },
  {
   "cell_type": "markdown",
   "metadata": {
    "id": "p9DPbSxjG4m8"
   },
   "source": [
    "Filter Of"
   ]
  },
  {
   "cell_type": "code",
   "execution_count": null,
   "metadata": {
    "colab": {
     "base_uri": "https://localhost:8080/",
     "height": 49,
     "referenced_widgets": [
      "c6dd4753b9d640578077c0dee4e372dc",
      "2f81a1b04587479b89c6a04c9b397f8a",
      "ed3f1900a0cc423cb2657cb2ea1bfad5",
      "575f4e9102344b97a2d067634843716f",
      "a7fb973dbc5d4e098f9f0c24a9624aac",
      "af15705b86ad4fe5a14a1ac80ddb6518",
      "ae77db4c323b46299d9955d2f6106e1f",
      "51915e04257f4aeea54a68dd7cff745b",
      "ac7cb17738264d52a33076459316cff5",
      "ba1836a331804b79868f7ac079376d08",
      "c6fb2ebea039492e94742640c0c908e8"
     ]
    },
    "executionInfo": {
     "elapsed": 717401,
     "status": "ok",
     "timestamp": 1730404419138,
     "user": {
      "displayName": "Evan Kellener",
      "userId": "06994163046607635769"
     },
     "user_tz": 420
    },
    "id": "9oLslvxbfxxq",
    "outputId": "a7cfaa29-1963-43df-85ef-a508eff81741"
   },
   "outputs": [],
   "source": [
    "ft = Fightertott(config, db_conn, list(frd_df['URL']))\n",
    "ft_df = ft.process()\n",
    "ft_df = ft.save()\n",
    "db_conn.commit()"
   ]
  },
  {
   "cell_type": "code",
   "execution_count": null,
   "metadata": {},
   "outputs": [],
   "source": [
    "os.chdir(scripts_folder)"
   ]
  },
  {
   "cell_type": "markdown",
   "metadata": {},
   "source": [
    "## Save Tabels to CSV"
   ]
  },
  {
   "cell_type": "code",
   "execution_count": null,
   "metadata": {},
   "outputs": [],
   "source": [
    "import csv\n",
    "def save_table_to_csv(db_path, table_name, csv_file_path):\n",
    "    # Connect to the SQLite database\n",
    "    connection = sqlite3.connect(db_path)\n",
    "    cursor = connection.cursor()\n",
    "    \n",
    "    try:\n",
    "        # Query to fetch all rows from the table\n",
    "        cursor.execute(f\"SELECT * FROM {table_name}\")\n",
    "        \n",
    "        rows = cursor.fetchall()\n",
    "\n",
    "        # Get column names\n",
    "        column_names = [description[0] for description in cursor.description]\n",
    "\n",
    "        # Write to CSV file\n",
    "        with open(csv_file_path, mode='w', newline='', encoding='utf-8') as file:\n",
    "            writer = csv.writer(file)\n",
    "            writer.writerow(column_names)  # Write header\n",
    "            writer.writerows(rows)        # Write data\n",
    "\n",
    "        print(f\"Table '{table_name}' has been saved to '{csv_file_path}'.\")\n",
    "    except sqlite3.Error as e:\n",
    "        print(f\"An error occurred: {e}\")\n",
    "    finally:\n",
    "        connection.close()"
   ]
  },
  {
   "cell_type": "code",
   "execution_count": null,
   "metadata": {},
   "outputs": [],
   "source": [
    "print(config['event_details_file_name'])\n",
    "save_table_to_csv(db_location, 'ufc_event_details', base_folder+'data/tmp/ufc_event_details.csv.csv')\n",
    "save_table_to_csv(db_location, 'ufc_fight_details', base_folder+'data/tmp/Fightdetails.csv')\n",
    "save_table_to_csv(db_location, 'ufc_fight_results', base_folder+'data/tmp/Fightresults.csv')\n",
    "save_table_to_csv(db_location, 'ufc_fight_stats', base_folder+'data/tmp/Fightstats.csv')\n",
    "save_table_to_csv(db_location, 'ufc_fighter_details', base_folder+'data/tmp/Fighterdetails.csv')\n",
    "save_table_to_csv(db_location, 'ufc_fighter_tott', base_folder+'data/tmp/Fightertott.csv')"
   ]
  },
  {
   "cell_type": "code",
   "execution_count": null,
   "metadata": {},
   "outputs": [],
   "source": [
    "save_table_to_csv(db_location, 'ufc_fight_stats', base_folder+'data/tmp/Fightstats.csv')"
   ]
  },
  {
   "cell_type": "markdown",
   "metadata": {},
   "source": [
    "# Height Weight Reach Modeling"
   ]
  },
  {
   "cell_type": "code",
   "execution_count": null,
   "metadata": {},
   "outputs": [],
   "source": [
    "import height_weight_reach"
   ]
  },
  {
   "cell_type": "code",
   "execution_count": null,
   "metadata": {},
   "outputs": [],
   "source": [
    "table_name = \"ufc_fighter_tott\"\n",
    "predictor = height_weight_reach.hwr_process(db_location, table_name)"
   ]
  },
  {
   "cell_type": "markdown",
   "metadata": {},
   "source": [
    "### Reach Predictor"
   ]
  },
  {
   "cell_type": "code",
   "execution_count": null,
   "metadata": {},
   "outputs": [],
   "source": [
    "reach_model, reach_mse, reach_r2 = predictor.train_model(['HEIGHT', 'WEIGHT'], 'REACH')\n",
    "print(f\"Reach Model - MSE: {reach_mse}, R^2: {reach_r2}\")"
   ]
  },
  {
   "cell_type": "markdown",
   "metadata": {},
   "source": [
    "### Height Predictor"
   ]
  },
  {
   "cell_type": "code",
   "execution_count": null,
   "metadata": {},
   "outputs": [],
   "source": [
    "height_weights, height_mse, height_r2 = predictor.train_model(['WEIGHT'], 'HEIGHT')\n",
    "print(f\"Height Model - MSE: {height_mse}, R^2: {height_r2}\")\n"
   ]
  },
  {
   "cell_type": "code",
   "execution_count": null,
   "metadata": {},
   "outputs": [],
   "source": [
    "updated_data = predictor.predict_missing_values(['HEIGHT', 'WEIGHT'], 'REACH')"
   ]
  },
  {
   "cell_type": "code",
   "execution_count": null,
   "metadata": {},
   "outputs": [],
   "source": [
    "# Save updated data to database\n",
    "updated_data.to_sql(os.path.splitext(config['fighter_tott_file_name'])[0], db_conn, if_exists='replace', index=False)"
   ]
  },
  {
   "cell_type": "code",
   "execution_count": null,
   "metadata": {},
   "outputs": [],
   "source": [
    "missing_dob = updated_data[updated_data['DOB'].isnull()]\n",
    "missing_dob.to_csv(base_folder+'data/tmp/final_data_with_no_dob.csv', index=False)"
   ]
  },
  {
   "cell_type": "markdown",
   "metadata": {},
   "source": [
    "# Dob Scrapper"
   ]
  },
  {
   "cell_type": "code",
   "execution_count": null,
   "metadata": {},
   "outputs": [],
   "source": [
    "import dob_scrapper"
   ]
  },
  {
   "cell_type": "code",
   "execution_count": null,
   "metadata": {},
   "outputs": [],
   "source": [
    "scraper = dob_scrapper.DOBScraper()"
   ]
  },
  {
   "cell_type": "code",
   "execution_count": null,
   "metadata": {},
   "outputs": [],
   "source": [
    "unfinished_fighter_data = pd.read_csv(base_folder+'data/tmp/final_data_with_no_dob.csv')\n",
    "for index, row in tqdm_notebook(unfinished_fighter_data.iterrows(), total=unfinished_fighter_data.shape[0]):\n",
    "    dob = scraper.scrape_dob(row['FIGHTER'])\n",
    "    print(f\"{row['FIGHTER']} - DOB: {dob}\")\n",
    "    unfinished_fighter_data.at[index, 'DOB'] = dob\n",
    "\n",
    "unfinished_fighter_data.to_csv(base_folder+'data/tmp/final_data_with_dob.csv', index=False)"
   ]
  },
  {
   "cell_type": "markdown",
   "metadata": {},
   "source": [
    "# SQL Queries"
   ]
  },
  {
   "cell_type": "code",
   "execution_count": null,
   "metadata": {},
   "outputs": [],
   "source": [
    "with open('../src/sql_scripts/reset.sql', 'r') as f:\n",
    "  sql_weight_fix_script = f.read()\n",
    "\n",
    "cursor.executescript(sql_weight_fix_script)"
   ]
  },
  {
   "cell_type": "markdown",
   "metadata": {},
   "source": [
    "### Weight Class Indexing"
   ]
  },
  {
   "cell_type": "code",
   "execution_count": null,
   "metadata": {},
   "outputs": [],
   "source": [
    "with open('../src/sql_scripts/ufc_sql_weightclass.sql', 'r') as f:\n",
    "  sql_weight_fix_script = f.read()\n",
    "\n",
    "cursor.executescript(sql_weight_fix_script)"
   ]
  },
  {
   "cell_type": "markdown",
   "metadata": {},
   "source": [
    "### Match Stats"
   ]
  },
  {
   "cell_type": "markdown",
   "metadata": {},
   "source": [
    "# Change catch weight and open weight bouts in fight results"
   ]
  },
  {
   "cell_type": "code",
   "execution_count": null,
   "metadata": {},
   "outputs": [],
   "source": [
    "with open('../src/sql_scripts/ufc_sql_match_stats.sql', 'r') as f:\n",
    "  sql_match_stats = f.read()\n",
    "\n",
    "cursor.executescript(sql_match_stats)\n",
    "\n",
    "db_conn.commit()"
   ]
  },
  {
   "cell_type": "code",
   "execution_count": null,
   "metadata": {},
   "outputs": [],
   "source": [
    "with open('../src/sql_scripts/ufc_sql_final_views.sql', 'r') as f:\n",
    "  sql_final_views = f.read()\n",
    "\n",
    "cursor.executescript(sql_final_views)\n",
    "db_conn.commit()"
   ]
  },
  {
   "cell_type": "code",
   "execution_count": null,
   "metadata": {},
   "outputs": [],
   "source": [
    "with open('../src/sql_scripts/test.sql', 'r') as f:\n",
    "  sql_final_views = f.read()\n",
    "\n",
    "cursor.executescript(sql_final_views)\n",
    "db_conn.commit()"
   ]
  },
  {
   "cell_type": "code",
   "execution_count": null,
   "metadata": {},
   "outputs": [],
   "source": [
    "# just display the rows where the jsfighter is 'RaulRosasJr.'\n",
    "df[df['jfs_fighter'] == 'RaulRosasJr.']"
   ]
  },
  {
   "cell_type": "code",
   "execution_count": null,
   "metadata": {},
   "outputs": [],
   "source": [
    "import pandas as pd\n",
    "df = pd.read_sql_query(\"SELECT * from pre_final\", db_conn)"
   ]
  },
  {
   "cell_type": "code",
   "execution_count": null,
   "metadata": {},
   "outputs": [],
   "source": [
    "df.head(10)"
   ]
  },
  {
   "cell_type": "code",
   "execution_count": null,
   "metadata": {},
   "outputs": [],
   "source": [
    "df.to_csv('../data/tmp/pre_final.csv', index=True)"
   ]
  },
  {
   "cell_type": "code",
   "execution_count": null,
   "metadata": {},
   "outputs": [],
   "source": [
    "!ls"
   ]
  },
  {
   "cell_type": "code",
   "execution_count": null,
   "metadata": {},
   "outputs": [],
   "source": [
    "df.head()"
   ]
  },
  {
   "cell_type": "code",
   "execution_count": null,
   "metadata": {},
   "outputs": [],
   "source": [
    "import cleanup_class\n",
    "\n",
    "cleaner = cleanup_class.Cleanup(df)\n",
    "cleaner.order_by_date()\n",
    "#interleaved_df = cleaner.duplicate_and_swap_row()\n",
    "interleaved_df = cleaner.results_column()"
   ]
  },
  {
   "cell_type": "code",
   "execution_count": null,
   "metadata": {},
   "outputs": [],
   "source": [
    "interleaved_df.to_csv('../data/tmp/interleaved_clean.csv', index=True)"
   ]
  },
  {
   "cell_type": "code",
   "execution_count": null,
   "metadata": {},
   "outputs": [],
   "source": [
    "interleaved_df.head(10)"
   ]
  },
  {
   "cell_type": "code",
   "execution_count": null,
   "metadata": {},
   "outputs": [],
   "source": [
    "from elo_class_fixed import FightDataProcessor, EnhancedElo"
   ]
  },
  {
   "cell_type": "code",
   "execution_count": null,
   "metadata": {},
   "outputs": [],
   "source": [
    "\n",
    "# Add WINNER column from existing `result` column if it's present\n",
    "if 'result' in interleaved_df.columns:\n",
    "    interleaved_df['WINNER'] = interleaved_df.apply(\n",
    "        lambda row: row['FIGHTER'] if row['result'] == 1 else row['opp_FIGHTER'], axis=1\n",
    "    )\n",
    "\n",
    "interleaved_df.to_csv('../data/tmp/interleaved_clean.csv', index=False)"
   ]
  },
  {
   "cell_type": "code",
   "execution_count": null,
   "metadata": {},
   "outputs": [],
   "source": [
    "processor = FightDataProcessor('../data/tmp/interleaved_clean.csv')\n",
    "raw_data = processor.load_data()\n",
    "raw_data.to_csv('../data/tmp/interleaved_raw.csv')\n",
    "cleaned_data = processor.clean_data()\n",
    "cleaned_data.to_csv('../data/tmp/interleaved_cleaned.csv')\n",
    "\n",
    "elo_calculator = EnhancedElo(k_factor=40)\n",
    "results_with_elo = elo_calculator.process_fights(cleaned_data)\n",
    "results_with_elo.to_csv('../data/tmp/interleaved_with_elo.csv')\n",
    "\n",
    "print(results_with_elo.head())\n"
   ]
  },
  {
   "cell_type": "markdown",
   "metadata": {},
   "source": [
    "# Confirm precomp postcomp "
   ]
  },
  {
   "cell_type": "code",
   "execution_count": null,
   "metadata": {},
   "outputs": [],
   "source": [
    "data = pd.read_csv('../data/tmp/interleaved_with_elo.csv')"
   ]
  },
  {
   "cell_type": "code",
   "execution_count": null,
   "metadata": {},
   "outputs": [],
   "source": [
    "from elo_feature_enhancer import EloFeatureEnhancer\n",
    "\n",
    "editor = EloFeatureEnhancer('../data/tmp/interleaved_with_elo.csv')\n",
    "\n",
    "#arrage elo features in the proper place\n",
    "ordered_data = editor.insert_elo_features_in_order()\n",
    "\n",
    "ordered_data.to_csv('../data/tmp/ordered.csv')\n",
    "\n",
    "# Confirm precomp postcomp - Store fighter's most recent postcomp stats\n",
    "# and check consistency between precomp and previous postcomp values\n",
    "editor.verify_precomp_postcomp_consistency()\n",
    "editor.store_fighter_postcomp_stats()\n",
    "\n",
    "filtered_data = editor.filter_by_fight_count(min_fights=1)\n",
    "filtered_data.to_csv('../data/tmp/filtered.csv')\n",
    "\n",
    "swapped_data = editor.duplicate_and_swap_rows()\n",
    "\n",
    "for col in swapped_data.columns:\n",
    "    swapped_data[col] = pd.to_numeric(swapped_data[col], errors='ignore')\n",
    "\n",
    "float_cols = swapped_data.select_dtypes(include=['float64', 'float32']).columns\n",
    "\n",
    "swapped_data[float_cols] = swapped_data[float_cols].applymap(lambda x: round(x, 2) if pd.notnull(x) else x)\n",
    "\n",
    "if 'DATE' in swapped_data.columns:\n",
    "    swapped_data['DATE'] = pd.to_datetime(swapped_data['DATE'], errors='coerce').dt.strftime('%Y-%m-%d')\n",
    "\n",
    "swapped_data.to_csv('../data/tmp/final.csv', index=False, float_format='%.2f')"
   ]
  },
  {
   "cell_type": "code",
   "execution_count": null,
   "metadata": {},
   "outputs": [],
   "source": [
    "from sanity_check import SanityCheck\n",
    "success, results = SanityCheck('../data/tmp/final.csv', 'Alexandre Pantoja')\n",
    "\n",
    "if success:\n",
    "        print(\"\\nSANITY CHECK PASSED: All postcomp stats match the precomp stats in subsequent fights.\")\n",
    "else:\n",
    "    print(\"\\nSANITY CHECK FAILED: Some stats don't match between fights.\")"
   ]
  },
  {
   "cell_type": "code",
   "execution_count": null,
   "metadata": {},
   "outputs": [],
   "source": [
    "elo_calculator.query_fighter_elo('Ian Machado Garry')"
   ]
  },
  {
   "cell_type": "code",
   "execution_count": null,
   "metadata": {},
   "outputs": [],
   "source": [
    "elo_calculator.top_k_fighters(50)"
   ]
  },
  {
   "cell_type": "markdown",
   "metadata": {},
   "source": [
    "# Predictions/Models"
   ]
  },
  {
   "cell_type": "code",
   "execution_count": 29,
   "metadata": {},
   "outputs": [
    {
     "name": "stdout",
     "output_type": "stream",
     "text": [
      "Most recent date in dataset: 2025-03-29 00:00:00\n",
      "Training cutoff date: 2024-03-29 00:00:00\n",
      "Using data from 2009-01-01 to 2024-03-29 00:00:00 for training\n",
      "Using data from 2024-03-29 00:00:00 to 2025-03-29 00:00:00 for testing\n",
      "Training set size: 11066\n",
      "Testing set size: 788\n",
      "Saved feature scaler to /Users/evankellener/Desktop/UFC_fight_predictor/saved_models/feature_scaler.joblib\n"
     ]
    }
   ],
   "source": [
    "from model import DNNFightPredictor\n",
    "\n",
    "predictor = DNNFightPredictor(file_path = '../data/tmp/final.csv')"
   ]
  },
  {
   "cell_type": "code",
   "execution_count": null,
   "metadata": {},
   "outputs": [],
   "source": [
    "predictor.hyperparameter_tuning()"
   ]
  },
  {
   "cell_type": "code",
   "execution_count": null,
   "metadata": {},
   "outputs": [],
   "source": [
    "predictor.evaluate_generalization()"
   ]
  },
  {
   "cell_type": "code",
   "execution_count": 35,
   "metadata": {},
   "outputs": [
    {
     "name": "stdout",
     "output_type": "stream",
     "text": [
      "Loaded stored postcomp stats for 1813 fighters\n",
      "Loaded weightclass lookup table with 12 entries\n",
      "Created weightclass lookup dictionary\n"
     ]
    },
    {
     "name": "stderr",
     "output_type": "stream",
     "text": [
      "WARNING:absl:Compiled the loaded model, but the compiled metrics have yet to be built. `model.compile_metrics` will be empty until you train or evaluate the model.\n"
     ]
    },
    {
     "name": "stdout",
     "output_type": "stream",
     "text": [
      "\n",
      "Using saved best model loaded from /Users/evankellener/Desktop/UFC_fight_predictor/saved_models/best_model.h5 for generalization evaluation with postcomp values\n",
      "Test set size: 788 fights\n",
      "Loading saved scaler from /Users/evankellener/Desktop/UFC_fight_predictor/saved_models/feature_scaler.joblib\n",
      "Processed 740 test fights (used stored stats for 632 fights, skipped 48 with no data)\n",
      "\n",
      "========== Generalization Performance with Postcomp Values ==========\n",
      "Test accuracy: 0.5892\n",
      "Precision: 0.5947\n",
      "Recall: 0.7772\n",
      "F1-score: 0.6738\n",
      "AUC-ROC: 0.6045\n",
      "\n",
      "Confusion Matrix:\n",
      "TN: 122 | FP: 214\n",
      "FN: 90 | TP: 314\n",
      "Positive Predictive Value: 0.5947\n",
      "Negative Predictive Value: 0.5755\n",
      "\n",
      "Detailed Classification Report:\n",
      "              precision    recall  f1-score   support\n",
      "\n",
      "           0       0.58      0.36      0.45       336\n",
      "           1       0.59      0.78      0.67       404\n",
      "\n",
      "    accuracy                           0.59       740\n",
      "   macro avg       0.59      0.57      0.56       740\n",
      "weighted avg       0.59      0.59      0.57       740\n",
      "\n",
      "\n",
      "Metrics by Month:\n",
      "            accuracy  precision    recall        f1       auc  count\n",
      "year_month                                                          \n",
      "2024-03     0.500000   0.500000  1.000000  0.666667  0.578125   16.0\n",
      "2024-04     0.666667   0.588235  0.833333  0.689655  0.654167   54.0\n",
      "2024-05     0.553571   0.574468  0.843750  0.683544  0.601562   56.0\n",
      "2024-06     0.576087   0.538462  0.795455  0.642202  0.633523   92.0\n",
      "2024-07     0.580645   0.596154  0.861111  0.704545  0.590812   62.0\n",
      "2024-08     0.484848   0.476190  0.625000  0.540541  0.497243   66.0\n",
      "2024-09     0.620690   0.565217  0.928571  0.702703  0.683333   58.0\n",
      "2024-10     0.628571   0.692308  0.782609  0.734694  0.572464   70.0\n",
      "2024-11     0.612903   0.605263  0.718750  0.657143  0.616667   62.0\n",
      "2024-12     0.666667   0.675000  0.900000  0.771429  0.709259   48.0\n",
      "2025-01     0.500000   0.647059  0.550000  0.594595  0.490000   30.0\n",
      "2025-02     0.648148   0.685714  0.750000  0.716418  0.669034   54.0\n",
      "2025-03     0.555556   0.590909  0.650000  0.619048  0.536719   72.0\n"
     ]
    },
    {
     "name": "stderr",
     "output_type": "stream",
     "text": [
      "WARNING:absl:Compiled the loaded model, but the compiled metrics have yet to be built. `model.compile_metrics` will be empty until you train or evaluate the model.\n"
     ]
    },
    {
     "name": "stdout",
     "output_type": "stream",
     "text": [
      "ROC curve saved to /Users/evankellener/Desktop/UFC_fight_predictor/postcomp_roc_curve.png\n",
      "\n",
      "Using saved best model loaded from /Users/evankellener/Desktop/UFC_fight_predictor/saved_models/best_model.h5 for generalization evaluation\n",
      "\u001b[1m25/25\u001b[0m \u001b[32m━━━━━━━━━━━━━━━━━━━━\u001b[0m\u001b[37m\u001b[0m \u001b[1m0s\u001b[0m 1ms/step - accuracy: 0.7491 - loss: 0.5695  \n",
      "\u001b[1m25/25\u001b[0m \u001b[32m━━━━━━━━━━━━━━━━━━━━\u001b[0m\u001b[37m\u001b[0m \u001b[1m0s\u001b[0m 2ms/step \n",
      "\n",
      "========== Generalization Performance ==========\n",
      "Test accuracy: 0.7462\n",
      "Test loss: 0.5724\n",
      "Precision: 0.7457\n",
      "Recall: 0.8116\n",
      "F1-score: 0.7773\n",
      "AUC-ROC: 0.8127\n",
      "\n",
      "Confusion Matrix:\n",
      "TN: 239 | FP: 119\n",
      "FN: 81 | TP: 349\n",
      "Positive Predictive Value: 0.7457\n",
      "Negative Predictive Value: 0.7469\n",
      "\n",
      "Detailed Classification Report:\n",
      "              precision    recall  f1-score   support\n",
      "\n",
      "           0       0.75      0.67      0.71       358\n",
      "           1       0.75      0.81      0.78       430\n",
      "\n",
      "    accuracy                           0.75       788\n",
      "   macro avg       0.75      0.74      0.74       788\n",
      "weighted avg       0.75      0.75      0.74       788\n",
      "\n",
      "\n",
      "Metrics by Month:\n",
      "            accuracy  precision    recall        f1       auc  count\n",
      "year_month                                                          \n",
      "2024-03     0.722222   0.727273  0.800000  0.761905  0.800000   18.0\n",
      "2024-04     0.700000   0.600000  0.750000  0.666667  0.748843   60.0\n",
      "2024-05     0.833333   0.815789  0.911765  0.861111  0.852941   60.0\n",
      "2024-06     0.770000   0.727273  0.833333  0.776699  0.860978  100.0\n",
      "2024-07     0.727273   0.761905  0.800000  0.780488  0.769231   66.0\n",
      "2024-08     0.614286   0.595745  0.777778  0.674699  0.742647   70.0\n",
      "2024-09     0.854839   0.818182  0.900000  0.857143  0.927083   62.0\n",
      "2024-10     0.820513   0.851852  0.884615  0.867925  0.889053   78.0\n",
      "2024-11     0.696970   0.733333  0.647059  0.687500  0.782169   66.0\n",
      "2024-12     0.812500   0.838710  0.866667  0.852459  0.816667   48.0\n",
      "2025-01     0.531250   0.631579  0.600000  0.615385  0.504167   32.0\n",
      "2025-02     0.759259   0.827586  0.750000  0.786885  0.786932   54.0\n",
      "2025-03     0.743243   0.714286  0.875000  0.786517  0.869118   74.0\n",
      "ROC curve saved to /Users/evankellener/Desktop/UFC_fight_predictor/roc_curve.png\n",
      "\n",
      "========== Comparison with Original Evaluation ==========\n",
      "                Original    With Postcomp\n",
      "Accuracy:       0.7462       0.5892\n",
      "Precision:      0.7457       0.5947\n",
      "Recall:         0.8116       0.7772\n",
      "F1-score:       0.7773       0.6738\n",
      "AUC-ROC:        0.8127       0.6045\n",
      "\n",
      "Improvement Percentages:\n",
      "Accuracy:  -21.04%\n",
      "Precision: -20.25%\n",
      "Recall:    -4.24%\n",
      "F1-score:  -13.31%\n",
      "AUC-ROC:   -25.62%\n",
      "Comparison chart saved to /Users/evankellener/Desktop/UFC_fight_predictor/precomp_vs_postcomp.png\n"
     ]
    },
    {
     "data": {
      "text/plain": [
       "{'accuracy': 0.5891891891891892,\n",
       " 'precision': 0.5946969696969697,\n",
       " 'recall': 0.7772277227722773,\n",
       " 'f1': 0.6738197424892703,\n",
       " 'auc_roc': np.float64(0.6044834394153702)}"
      ]
     },
     "execution_count": 35,
     "metadata": {},
     "output_type": "execute_result"
    },
    {
     "data": {
      "image/png": "[encoded data removed]",
      "text/plain": [
       "<Figure size 1000x800 with 1 Axes>"
      ]
     },
     "metadata": {},
     "output_type": "display_data"
    },
    {
     "data": {
      "image/png": "[encoded data removed]",
      "text/plain": [
       "<Figure size 1000x800 with 1 Axes>"
      ]
     },
     "metadata": {},
     "output_type": "display_data"
    },
    {
     "data": {
      "image/png": "[encoded data removed]",
      "text/plain": [
       "<Figure size 1200x600 with 1 Axes>"
      ]
     },
     "metadata": {},
     "output_type": "display_data"
    }
   ],
   "source": [
    "predictor.evaluate_generalization_with_postcomp()"
   ]
  },
  {
   "cell_type": "code",
   "execution_count": null,
   "metadata": {},
   "outputs": [],
   "source": [
    "#export fighter data\n",
    "pre_final_data = pd.read_csv('../data/tmp/pre_final.csv')\n",
    "filtered_pf = pre_final_data[pre_final_data['FIGHTER'] == 'Alexandre Pantoja']"
   ]
  },
  {
   "cell_type": "code",
   "execution_count": null,
   "metadata": {},
   "outputs": [],
   "source": [
    "filtered_pf.to_csv('../data/tmp/fighter_filtered_final.csv')"
   ]
  },
  {
   "cell_type": "code",
   "execution_count": null,
   "metadata": {},
   "outputs": [],
   "source": [
    "predictor.predict_with_postcomp_data('Alex Pereira', 'Magomed Ankalaev', weight1=205, weight2=205)\n",
    "predictor.predict_with_postcomp_data('Justin Gaethje', 'Rafael Fiziev', weight1=155, weight2=155)\n",
    "predictor.predict_with_postcomp_data('Jalin Turner', 'Ignacio Bahamondes', weight1=155, weight2=155)\n",
    "predictor.predict_with_postcomp_data('King Green', 'Mauricio Ruffy', weight1=155, weight2=155)\n",
    "predictor.predict_with_postcomp_data('Joshua Van', 'Rei Tsuruya', weight1=125, weight2=125)\n",
    "predictor.predict_with_postcomp_data('Bruno Fe', 'Rei Tsuruya', weight1=125, weight2=125)"
   ]
  },
  {
   "cell_type": "markdown",
   "metadata": {},
   "source": [
    "# Predict Kape vs Almabayev"
   ]
  },
  {
   "cell_type": "code",
   "execution_count": null,
   "metadata": {},
   "outputs": [],
   "source": [
    "predictor.mlflow_run()"
   ]
  },
  {
   "cell_type": "code",
   "execution_count": null,
   "metadata": {},
   "outputs": [],
   "source": [
    "predictor = DNNFightPredictor(file_path = '../data/tmp/interleaved_results_elo_hist_1_removed.csv')\n",
    "predictor.hyperparameter_tuning()"
   ]
  },
  {
   "cell_type": "markdown",
   "metadata": {},
   "source": [
    "# Elo Comparisson\n",
    "* old data + elo columns(2) = 0.664\n",
    "\n",
    "{'learning_rate': 2.661075089731784e-05,\n",
    " 'batch_size': 64,\n",
    " 'dropout_rate': 0.4113464221107168,\n",
    " 'l2_reg': 0.0067498143500825235,\n",
    " 'layer_size_0': 64,\n",
    " 'layer_size_1': 48,\n",
    " 'layer_size_2': 32,\n",
    " 'layer_size_3': 112}\n",
    "\n",
    "* new data + elo columns(2) = 0.666\n",
    "\n",
    "\n"
   ]
  },
  {
   "cell_type": "code",
   "execution_count": null,
   "metadata": {},
   "outputs": [],
   "source": [
    "predictor.shap_analysis()"
   ]
  },
  {
   "cell_type": "code",
   "execution_count": null,
   "metadata": {},
   "outputs": [],
   "source": [
    "predictor.predict_fight_winner('Merab Dvalishvili', 'Umar Nurmagomedov')"
   ]
  },
  {
   "cell_type": "markdown",
   "metadata": {},
   "source": [
    "# Best Hyperparameters for elo columns\n",
    "\n",
    "{'learning_rate': 0.001441126615791276,\n",
    " 'batch_size': 64,\n",
    " 'dropout_rate': 0.35954714170732943,\n",
    " 'l2_reg': 0.0030518395936230975,\n",
    " 'layer_size_0': 80,\n",
    " 'layer_size_1': 32}"
   ]
  },
  {
   "cell_type": "markdown",
   "metadata": {},
   "source": [
    "selected_features = [\n",
    "            'age', 'HEIGHT', 'WEIGHT', 'REACH', 'weightindex', \n",
    "            'precomp_sigstr_pm', 'precomp_tdavg', 'precomp_sapm', 'precomp_subavg',\n",
    "            'precomp_tddef', 'precomp_sigstr_perc', 'precomp_strdef', 'precomp_tdacc_perc',\n",
    "            'precomp_totalacc_perc', 'precomp_headacc_perc', 'precomp_bodyacc_perc', 'precomp_legacc_perc',\n",
    "            'precomp_distacc_perc','precomp_clinchacc_perc','precomp_groundacc_perc','precomp_winsum', 'precomp_losssum',\n",
    "            'precomp_sigstr_pm3', 'precomp_tdavg3', 'precomp_sapm3', 'precomp_subavg3',\n",
    "            'precomp_tddef3', 'precomp_sigstr_perc3', 'precomp_strdef3', 'precomp_tdacc_perc3',\n",
    "            'precomp_totalacc_perc3', 'precomp_headacc_perc3', 'precomp_bodyacc_perc3', 'precomp_legacc_perc3',\n",
    "            'precomp_distacc_perc3','precomp_clinchacc_perc3','precomp_groundacc_perc3',\n",
    "            'precomp_winsum3', 'precomp_losssum3',\n",
    "            'precomp_sigstr_pm5', 'precomp_tdavg5', 'precomp_sapm5', 'precomp_subavg5',\n",
    "            'precomp_tddef5', 'precomp_sigstr_perc5', 'precomp_strdef5', 'precomp_tdacc_perc5',\n",
    "            'precomp_totalacc_perc5', 'precomp_headacc_perc5', 'precomp_bodyacc_perc5', 'precomp_legacc_perc5',\n",
    "            'precomp_distacc_perc5','precomp_clinchacc_perc5','precomp_groundacc_perc5',\n",
    "            'precomp_winsum5', 'precomp_losssum5',\n",
    "            'precomp_elo','elo_diff_pre', 'precomp_elo_change_3', 'precomp_elo_change_5', \n",
    "            'opp_age', 'opp_HEIGHT', 'opp_WEIGHT', 'opp_REACH','opp_weightindex',\n",
    "            'opp_precomp_sigstr_pm', 'opp_precomp_tdavg', 'opp_precomp_sapm', 'opp_precomp_subavg',\n",
    "            'opp_precomp_tddef', 'opp_precomp_sigstr_perc', 'opp_precomp_strdef', 'opp_precomp_tdacc_perc',\n",
    "            'opp_precomp_totalacc_perc', 'opp_precomp_headacc_perc','opp_precomp_bodyacc_perc','opp_precomp_legacc_perc',\n",
    "            'opp_precomp_distacc_perc','opp_precomp_clinchacc_perc','opp_precomp_groundacc_perc','opp_precomp_winsum', 'opp_precomp_losssum',\n",
    "            'opp_precomp_sigstr_pm3', 'opp_precomp_tdavg3', 'opp_precomp_sapm3', 'opp_precomp_subavg3',\n",
    "            'opp_precomp_tddef3', 'opp_precomp_sigstr_perc3', 'opp_precomp_strdef3', 'opp_precomp_tdacc_perc3',\n",
    "            'opp_precomp_totalacc_perc3', 'opp_precomp_headacc_perc3','opp_precomp_bodyacc_perc3','opp_precomp_legacc_perc3',\n",
    "            'opp_precomp_distacc_perc3','opp_precomp_clinchacc_perc3','opp_precomp_groundacc_perc3',\n",
    "            'opp_precomp_winsum3', 'opp_precomp_losssum3','opp_weight_avg3',\n",
    "            'opp_precomp_elo','opp_elo_diff_pre', 'opp_precomp_elo_change_3', 'opp_precomp_elo_change_5',\n",
    "            'opp_precomp_sigstr_pm5', 'opp_precomp_tdavg5', 'opp_precomp_sapm5', 'opp_precomp_subavg5',\n",
    "            'opp_precomp_tddef5', 'opp_precomp_sigstr_perc5', 'opp_precomp_strdef5', 'opp_precomp_tdacc_perc5',\n",
    "            'opp_precomp_totalacc_perc5', 'opp_precomp_headacc_perc5','opp_precomp_bodyacc_perc5','opp_precomp_legacc_perc5',\n",
    "            'opp_precomp_distacc_perc5','opp_precomp_clinchacc_perc5','opp_precomp_groundacc_perc5',\n",
    "            'opp_precomp_winsum5', 'opp_precomp_losssum5','opp_precomp_elo_change_5',\n",
    "        ]\n",
    "\n",
    "\n",
    "\n",
    "        {'learning_rate': 0.0004982871706745808,\n",
    " 'batch_size': 16,\n",
    " 'dropout_rate': 0.4512401787251757,\n",
    " 'l2_reg': 0.0005124681578208401,\n",
    " 'layer_size_0': 128,\n",
    " 'layer_size_1': 80,\n",
    " 'layer_size_2': 64,\n",
    " 'layer_size_3': 32}"
   ]
  },
  {
   "cell_type": "code",
   "execution_count": null,
   "metadata": {},
   "outputs": [],
   "source": [
    "import pandas as pd\n",
    "\n",
    "# Creating the data for the CSV file\n",
    "data = [\n",
    "    [\"Song Yadong\", \"Henry Cejudo\", \"Song Yadong\"],\n",
    "    [\"Anthony Hernandez\", \"Brendan Allen\", \"Anthony Hernandez\"],\n",
    "    [\"Rob Font\", \"Jean Matsumoto\", \"Rob Font\"],\n",
    "    [\"Jean Silva\", \"Melsik Baghdasaryan\", \"Jean Silva\"],\n",
    "    [\"Alonzo Menifield\", \"Julius Walker\", \"Alonzo Menifield\"],\n",
    "    [\"Ion Cuțelaba\", \"Ibo Aslan\", \"Ion Cuțelaba\"],\n",
    "    [\"Melquizael Costa\", \"Andre Fili\", \"Melquizael Costa\"],\n",
    "    [\"Mansur Abdul-Malik\", \"Nick Klein\", \"Mansur Abdul-Malik\"],\n",
    "    [\"Ricky Simón\", \"Javid Basharat\", \"Ricky Simón\"],\n",
    "    [\"Austin Vanderford\", \"Nikolay Veretennikov\", \"Austin Vanderford\"],\n",
    "    [\"Nursulton Ruziboev\", \"Eric McConico\", \"Nursulton Ruziboev\"],\n",
    "    [\"Modestas Bukauskas\", \"Raffael Cerqueira\", \"Modestas Bukauskas\"],\n",
    "    [\"Manel Kape\", \"Asu Almabayev\", \"Manel Kape\"],\n",
    "    [\"Cody Brundage\", \"Julian Marquez\", \"Cody Brundage\"],\n",
    "    [\"Nasrat Haqparast\", \"Esteban Ribovics\", \"Nasrat Haqparast\"],\n",
    "    [\"Hyder Amil\", \"William Gomis\", \"Hyder Amil\"],\n",
    "    [\"Sam Patterson\", \"Danny Barlow\", \"Sam Patterson\"],\n",
    "    [\"Mário Pinto\", \"Austen Lane\", \"Mário Pinto\"],\n",
    "    [\"Chepe Mariscal\", \"Ricardo Ramos\", \"Chepe Mariscal\"],\n",
    "    [\"Danny Silva\", \"Lucas Almeida\", \"Danny Silva\"],\n",
    "    [\"JJ Aldrich\", \"Andrea Lee\", \"JJ Aldrich\"],\n",
    "    [\"Ramazan Temirov\", \"Charles Johnson\", \"Ramazan Temirov\"]\n",
    "]\n",
    "\n",
    "# Creating a DataFrame\n",
    "df = pd.DataFrame(data, columns=[\"Fighter A\", \"Fighter B\", \"Winner\"])\n",
    "\n",
    "# Exporting the DataFrame to a CSV file\n",
    "file_path = \"../data/tmp/UFC_Fight_Night_Results.csv\"\n",
    "df.to_csv(file_path, index=False)\n",
    "\n",
    "# Providing the file to the user\n",
    "file_path\n"
   ]
  },
  {
   "cell_type": "markdown",
   "metadata": {},
   "source": []
  }
 ],
 "metadata": {
  "colab": {
   "provenance": []
  },
  "kernelspec": {
   "display_name": "ufc_env",
   "language": "python",
   "name": "python3"
  },
  "language_info": {
   "codemirror_mode": {
    "name": "ipython",
    "version": 3
   },
   "file_extension": ".py",
   "mimetype": "text/x-python",
   "name": "python",
   "nbconvert_exporter": "python",
   "pygments_lexer": "ipython3",
   "version": "3.9.6"
  },
  "widgets": {
   "application/vnd.jupyter.widget-state+json": {
    "16b584af3e6a430a9a613bece67a2563": {
     "model_module": "@jupyter-widgets/controls",
     "model_module_version": "1.5.0",
     "model_name": "HTMLModel",
     "state": {
      "_dom_classes": [],
      "_model_module": "@jupyter-widgets/controls",
      "_model_module_version": "1.5.0",
      "_model_name": "HTMLModel",
      "_view_count": null,
      "_view_module": "@jupyter-widgets/controls",
      "_view_module_version": "1.5.0",
      "_view_name": "HTMLView",
      "description": "",
      "description_tooltip": null,
      "layout": "IPY_MODEL_26f5cbdb369641fb9bfe67a6bbbdc080",
      "placeholder": "​",
      "style": "IPY_MODEL_423913db86e34360b8a313617b2cccdf",
      "value": " 26/26 [00:21&lt;00:00,  1.87it/s]"
     }
    },
    "1c17c4618c6543608856ba1e674af557": {
     "model_module": "@jupyter-widgets/controls",
     "model_module_version": "1.5.0",
     "model_name": "ProgressStyleModel",
     "state": {
      "_model_module": "@jupyter-widgets/controls",
      "_model_module_version": "1.5.0",
      "_model_name": "ProgressStyleModel",
      "_view_count": null,
      "_view_module": "@jupyter-widgets/base",
      "_view_module_version": "1.2.0",
      "_view_name": "StyleView",
      "bar_color": null,
      "description_width": ""
     }
    },
    "1ef486183d784b6dbed5d7d4762bcaa8": {
     "model_module": "@jupyter-widgets/base",
     "model_module_version": "1.2.0",
     "model_name": "LayoutModel",
     "state": {
      "_model_module": "@jupyter-widgets/base",
      "_model_module_version": "1.2.0",
      "_model_name": "LayoutModel",
      "_view_count": null,
      "_view_module": "@jupyter-widgets/base",
      "_view_module_version": "1.2.0",
      "_view_name": "LayoutView",
      "align_content": null,
      "align_items": null,
      "align_self": null,
      "border": null,
      "bottom": null,
      "display": null,
      "flex": null,
      "flex_flow": null,
      "grid_area": null,
      "grid_auto_columns": null,
      "grid_auto_flow": null,
      "grid_auto_rows": null,
      "grid_column": null,
      "grid_gap": null,
      "grid_row": null,
      "grid_template_areas": null,
      "grid_template_columns": null,
      "grid_template_rows": null,
      "height": null,
      "justify_content": null,
      "justify_items": null,
      "left": null,
      "margin": null,
      "max_height": null,
      "max_width": null,
      "min_height": null,
      "min_width": null,
      "object_fit": null,
      "object_position": null,
      "order": null,
      "overflow": null,
      "overflow_x": null,
      "overflow_y": null,
      "padding": null,
      "right": null,
      "top": null,
      "visibility": null,
      "width": null
     }
    },
    "26f5cbdb369641fb9bfe67a6bbbdc080": {
     "model_module": "@jupyter-widgets/base",
     "model_module_version": "1.2.0",
     "model_name": "LayoutModel",
     "state": {
      "_model_module": "@jupyter-widgets/base",
      "_model_module_version": "1.2.0",
      "_model_name": "LayoutModel",
      "_view_count": null,
      "_view_module": "@jupyter-widgets/base",
      "_view_module_version": "1.2.0",
      "_view_name": "LayoutView",
      "align_content": null,
      "align_items": null,
      "align_self": null,
      "border": null,
      "bottom": null,
      "display": null,
      "flex": null,
      "flex_flow": null,
      "grid_area": null,
      "grid_auto_columns": null,
      "grid_auto_flow": null,
      "grid_auto_rows": null,
      "grid_column": null,
      "grid_gap": null,
      "grid_row": null,
      "grid_template_areas": null,
      "grid_template_columns": null,
      "grid_template_rows": null,
      "height": null,
      "justify_content": null,
      "justify_items": null,
      "left": null,
      "margin": null,
      "max_height": null,
      "max_width": null,
      "min_height": null,
      "min_width": null,
      "object_fit": null,
      "object_position": null,
      "order": null,
      "overflow": null,
      "overflow_x": null,
      "overflow_y": null,
      "padding": null,
      "right": null,
      "top": null,
      "visibility": null,
      "width": null
     }
    },
    "2f81a1b04587479b89c6a04c9b397f8a": {
     "model_module": "@jupyter-widgets/controls",
     "model_module_version": "1.5.0",
     "model_name": "HTMLModel",
     "state": {
      "_dom_classes": [],
      "_model_module": "@jupyter-widgets/controls",
      "_model_module_version": "1.5.0",
      "_model_name": "HTMLModel",
      "_view_count": null,
      "_view_module": "@jupyter-widgets/controls",
      "_view_module_version": "1.5.0",
      "_view_name": "HTMLView",
      "description": "",
      "description_tooltip": null,
      "layout": "IPY_MODEL_af15705b86ad4fe5a14a1ac80ddb6518",
      "placeholder": "​",
      "style": "IPY_MODEL_ae77db4c323b46299d9955d2f6106e1f",
      "value": "100%"
     }
    },
    "423913db86e34360b8a313617b2cccdf": {
     "model_module": "@jupyter-widgets/controls",
     "model_module_version": "1.5.0",
     "model_name": "DescriptionStyleModel",
     "state": {
      "_model_module": "@jupyter-widgets/controls",
      "_model_module_version": "1.5.0",
      "_model_name": "DescriptionStyleModel",
      "_view_count": null,
      "_view_module": "@jupyter-widgets/base",
      "_view_module_version": "1.2.0",
      "_view_name": "StyleView",
      "description_width": ""
     }
    },
    "4617bb9161fb4b63b134e5ccc43fda02": {
     "model_module": "@jupyter-widgets/controls",
     "model_module_version": "1.5.0",
     "model_name": "ProgressStyleModel",
     "state": {
      "_model_module": "@jupyter-widgets/controls",
      "_model_module_version": "1.5.0",
      "_model_name": "ProgressStyleModel",
      "_view_count": null,
      "_view_module": "@jupyter-widgets/base",
      "_view_module_version": "1.2.0",
      "_view_name": "StyleView",
      "bar_color": null,
      "description_width": ""
     }
    },
    "48ddb60ff85a404f8c1c4cd11208358a": {
     "model_module": "@jupyter-widgets/controls",
     "model_module_version": "1.5.0",
     "model_name": "FloatProgressModel",
     "state": {
      "_dom_classes": [],
      "_model_module": "@jupyter-widgets/controls",
      "_model_module_version": "1.5.0",
      "_model_name": "FloatProgressModel",
      "_view_count": null,
      "_view_module": "@jupyter-widgets/controls",
      "_view_module_version": "1.5.0",
      "_view_name": "ProgressView",
      "bar_style": "success",
      "description": "",
      "description_tooltip": null,
      "layout": "IPY_MODEL_aea2ff927ae4451eaafa94c50d1b8d1e",
      "max": 7898,
      "min": 0,
      "orientation": "horizontal",
      "style": "IPY_MODEL_b4ca1843f1d6451d8d6982135741d31e",
      "value": 7898
     }
    },
    "4b1107254e4645efacc0793ef76eee62": {
     "model_module": "@jupyter-widgets/controls",
     "model_module_version": "1.5.0",
     "model_name": "HTMLModel",
     "state": {
      "_dom_classes": [],
      "_model_module": "@jupyter-widgets/controls",
      "_model_module_version": "1.5.0",
      "_model_name": "HTMLModel",
      "_view_count": null,
      "_view_module": "@jupyter-widgets/controls",
      "_view_module_version": "1.5.0",
      "_view_name": "HTMLView",
      "description": "",
      "description_tooltip": null,
      "layout": "IPY_MODEL_aacb4cc6bfd14ef8a655d79a9576b45a",
      "placeholder": "​",
      "style": "IPY_MODEL_e2a7bcde2af34b948a5d72f341807c6e",
      "value": "100%"
     }
    },
    "51915e04257f4aeea54a68dd7cff745b": {
     "model_module": "@jupyter-widgets/base",
     "model_module_version": "1.2.0",
     "model_name": "LayoutModel",
     "state": {
      "_model_module": "@jupyter-widgets/base",
      "_model_module_version": "1.2.0",
      "_model_name": "LayoutModel",
      "_view_count": null,
      "_view_module": "@jupyter-widgets/base",
      "_view_module_version": "1.2.0",
      "_view_name": "LayoutView",
      "align_content": null,
      "align_items": null,
      "align_self": null,
      "border": null,
      "bottom": null,
      "display": null,
      "flex": null,
      "flex_flow": null,
      "grid_area": null,
      "grid_auto_columns": null,
      "grid_auto_flow": null,
      "grid_auto_rows": null,
      "grid_column": null,
      "grid_gap": null,
      "grid_row": null,
      "grid_template_areas": null,
      "grid_template_columns": null,
      "grid_template_rows": null,
      "height": null,
      "justify_content": null,
      "justify_items": null,
      "left": null,
      "margin": null,
      "max_height": null,
      "max_width": null,
      "min_height": null,
      "min_width": null,
      "object_fit": null,
      "object_position": null,
      "order": null,
      "overflow": null,
      "overflow_x": null,
      "overflow_y": null,
      "padding": null,
      "right": null,
      "top": null,
      "visibility": null,
      "width": null
     }
    },
    "575f4e9102344b97a2d067634843716f": {
     "model_module": "@jupyter-widgets/controls",
     "model_module_version": "1.5.0",
     "model_name": "HTMLModel",
     "state": {
      "_dom_classes": [],
      "_model_module": "@jupyter-widgets/controls",
      "_model_module_version": "1.5.0",
      "_model_name": "HTMLModel",
      "_view_count": null,
      "_view_module": "@jupyter-widgets/controls",
      "_view_module_version": "1.5.0",
      "_view_name": "HTMLView",
      "description": "",
      "description_tooltip": null,
      "layout": "IPY_MODEL_ba1836a331804b79868f7ac079376d08",
      "placeholder": "​",
      "style": "IPY_MODEL_c6fb2ebea039492e94742640c0c908e8",
      "value": " 2511/2511 [11:57&lt;00:00,  3.23it/s]"
     }
    },
    "73b9915cef1b46968b987ed2b83a5acd": {
     "model_module": "@jupyter-widgets/controls",
     "model_module_version": "1.5.0",
     "model_name": "DescriptionStyleModel",
     "state": {
      "_model_module": "@jupyter-widgets/controls",
      "_model_module_version": "1.5.0",
      "_model_name": "DescriptionStyleModel",
      "_view_count": null,
      "_view_module": "@jupyter-widgets/base",
      "_view_module_version": "1.2.0",
      "_view_name": "StyleView",
      "description_width": ""
     }
    },
    "7c8a538969ed413aa9ed3ea062ef769d": {
     "model_module": "@jupyter-widgets/controls",
     "model_module_version": "1.5.0",
     "model_name": "HTMLModel",
     "state": {
      "_dom_classes": [],
      "_model_module": "@jupyter-widgets/controls",
      "_model_module_version": "1.5.0",
      "_model_name": "HTMLModel",
      "_view_count": null,
      "_view_module": "@jupyter-widgets/controls",
      "_view_module_version": "1.5.0",
      "_view_name": "HTMLView",
      "description": "",
      "description_tooltip": null,
      "layout": "IPY_MODEL_881d2f8f6df3415eb849d57430f35883",
      "placeholder": "​",
      "style": "IPY_MODEL_b0334b9a67074c1a8e08431c9a71ed4a",
      "value": "100%"
     }
    },
    "7e1926a1065947c096434b417867da83": {
     "model_module": "@jupyter-widgets/base",
     "model_module_version": "1.2.0",
     "model_name": "LayoutModel",
     "state": {
      "_model_module": "@jupyter-widgets/base",
      "_model_module_version": "1.2.0",
      "_model_name": "LayoutModel",
      "_view_count": null,
      "_view_module": "@jupyter-widgets/base",
      "_view_module_version": "1.2.0",
      "_view_name": "LayoutView",
      "align_content": null,
      "align_items": null,
      "align_self": null,
      "border": null,
      "bottom": null,
      "display": null,
      "flex": null,
      "flex_flow": null,
      "grid_area": null,
      "grid_auto_columns": null,
      "grid_auto_flow": null,
      "grid_auto_rows": null,
      "grid_column": null,
      "grid_gap": null,
      "grid_row": null,
      "grid_template_areas": null,
      "grid_template_columns": null,
      "grid_template_rows": null,
      "height": null,
      "justify_content": null,
      "justify_items": null,
      "left": null,
      "margin": null,
      "max_height": null,
      "max_width": null,
      "min_height": null,
      "min_width": null,
      "object_fit": null,
      "object_position": null,
      "order": null,
      "overflow": null,
      "overflow_x": null,
      "overflow_y": null,
      "padding": null,
      "right": null,
      "top": null,
      "visibility": null,
      "width": null
     }
    },
    "8718154bce88472a973464b97c94a606": {
     "model_module": "@jupyter-widgets/controls",
     "model_module_version": "1.5.0",
     "model_name": "HBoxModel",
     "state": {
      "_dom_classes": [],
      "_model_module": "@jupyter-widgets/controls",
      "_model_module_version": "1.5.0",
      "_model_name": "HBoxModel",
      "_view_count": null,
      "_view_module": "@jupyter-widgets/controls",
      "_view_module_version": "1.5.0",
      "_view_name": "HBoxView",
      "box_style": "",
      "children": [
       "IPY_MODEL_7c8a538969ed413aa9ed3ea062ef769d",
       "IPY_MODEL_48ddb60ff85a404f8c1c4cd11208358a",
       "IPY_MODEL_e04d8cd066d641d68c7372bd0e7860e2"
      ],
      "layout": "IPY_MODEL_9f5bf2febfab4b38b37eb06be0fe2cf0"
     }
    },
    "881d2f8f6df3415eb849d57430f35883": {
     "model_module": "@jupyter-widgets/base",
     "model_module_version": "1.2.0",
     "model_name": "LayoutModel",
     "state": {
      "_model_module": "@jupyter-widgets/base",
      "_model_module_version": "1.2.0",
      "_model_name": "LayoutModel",
      "_view_count": null,
      "_view_module": "@jupyter-widgets/base",
      "_view_module_version": "1.2.0",
      "_view_name": "LayoutView",
      "align_content": null,
      "align_items": null,
      "align_self": null,
      "border": null,
      "bottom": null,
      "display": null,
      "flex": null,
      "flex_flow": null,
      "grid_area": null,
      "grid_auto_columns": null,
      "grid_auto_flow": null,
      "grid_auto_rows": null,
      "grid_column": null,
      "grid_gap": null,
      "grid_row": null,
      "grid_template_areas": null,
      "grid_template_columns": null,
      "grid_template_rows": null,
      "height": null,
      "justify_content": null,
      "justify_items": null,
      "left": null,
      "margin": null,
      "max_height": null,
      "max_width": null,
      "min_height": null,
      "min_width": null,
      "object_fit": null,
      "object_position": null,
      "order": null,
      "overflow": null,
      "overflow_x": null,
      "overflow_y": null,
      "padding": null,
      "right": null,
      "top": null,
      "visibility": null,
      "width": null
     }
    },
    "8ce7677305da441ab84b7e0ef668980b": {
     "model_module": "@jupyter-widgets/controls",
     "model_module_version": "1.5.0",
     "model_name": "HBoxModel",
     "state": {
      "_dom_classes": [],
      "_model_module": "@jupyter-widgets/controls",
      "_model_module_version": "1.5.0",
      "_model_name": "HBoxModel",
      "_view_count": null,
      "_view_module": "@jupyter-widgets/controls",
      "_view_module_version": "1.5.0",
      "_view_name": "HBoxView",
      "box_style": "",
      "children": [
       "IPY_MODEL_4b1107254e4645efacc0793ef76eee62",
       "IPY_MODEL_a55edca0b3e7471b91ab614b4812d7eb",
       "IPY_MODEL_16b584af3e6a430a9a613bece67a2563"
      ],
      "layout": "IPY_MODEL_e63f80b576f5469c865c021a3b49c24f"
     }
    },
    "8dd7c962e49f490091c9d89a0e623d7b": {
     "model_module": "@jupyter-widgets/controls",
     "model_module_version": "1.5.0",
     "model_name": "HBoxModel",
     "state": {
      "_dom_classes": [],
      "_model_module": "@jupyter-widgets/controls",
      "_model_module_version": "1.5.0",
      "_model_name": "HBoxModel",
      "_view_count": null,
      "_view_module": "@jupyter-widgets/controls",
      "_view_module_version": "1.5.0",
      "_view_name": "HBoxView",
      "box_style": "",
      "children": [
       "IPY_MODEL_b78b1ad75fb64fdbb595c5baff305516",
       "IPY_MODEL_ce230fb6df0940caa94a83c5e346da7a",
       "IPY_MODEL_9fabd27658e7458da7e23671a84cc5b1"
      ],
      "layout": "IPY_MODEL_dc28b5145ffa404b87e55d7cf6dc8638"
     }
    },
    "99aacd0c155141018c0064158a5191fe": {
     "model_module": "@jupyter-widgets/controls",
     "model_module_version": "1.5.0",
     "model_name": "DescriptionStyleModel",
     "state": {
      "_model_module": "@jupyter-widgets/controls",
      "_model_module_version": "1.5.0",
      "_model_name": "DescriptionStyleModel",
      "_view_count": null,
      "_view_module": "@jupyter-widgets/base",
      "_view_module_version": "1.2.0",
      "_view_name": "StyleView",
      "description_width": ""
     }
    },
    "9f5bf2febfab4b38b37eb06be0fe2cf0": {
     "model_module": "@jupyter-widgets/base",
     "model_module_version": "1.2.0",
     "model_name": "LayoutModel",
     "state": {
      "_model_module": "@jupyter-widgets/base",
      "_model_module_version": "1.2.0",
      "_model_name": "LayoutModel",
      "_view_count": null,
      "_view_module": "@jupyter-widgets/base",
      "_view_module_version": "1.2.0",
      "_view_name": "LayoutView",
      "align_content": null,
      "align_items": null,
      "align_self": null,
      "border": null,
      "bottom": null,
      "display": null,
      "flex": null,
      "flex_flow": null,
      "grid_area": null,
      "grid_auto_columns": null,
      "grid_auto_flow": null,
      "grid_auto_rows": null,
      "grid_column": null,
      "grid_gap": null,
      "grid_row": null,
      "grid_template_areas": null,
      "grid_template_columns": null,
      "grid_template_rows": null,
      "height": null,
      "justify_content": null,
      "justify_items": null,
      "left": null,
      "margin": null,
      "max_height": null,
      "max_width": null,
      "min_height": null,
      "min_width": null,
      "object_fit": null,
      "object_position": null,
      "order": null,
      "overflow": null,
      "overflow_x": null,
      "overflow_y": null,
      "padding": null,
      "right": null,
      "top": null,
      "visibility": null,
      "width": null
     }
    },
    "9fabd27658e7458da7e23671a84cc5b1": {
     "model_module": "@jupyter-widgets/controls",
     "model_module_version": "1.5.0",
     "model_name": "HTMLModel",
     "state": {
      "_dom_classes": [],
      "_model_module": "@jupyter-widgets/controls",
      "_model_module_version": "1.5.0",
      "_model_name": "HTMLModel",
      "_view_count": null,
      "_view_module": "@jupyter-widgets/controls",
      "_view_module_version": "1.5.0",
      "_view_name": "HTMLView",
      "description": "",
      "description_tooltip": null,
      "layout": "IPY_MODEL_7e1926a1065947c096434b417867da83",
      "placeholder": "​",
      "style": "IPY_MODEL_a6514271fc2d4894accadb7d52f0b932",
      "value": " 709/709 [04:01&lt;00:00,  3.38it/s]"
     }
    },
    "a55edca0b3e7471b91ab614b4812d7eb": {
     "model_module": "@jupyter-widgets/controls",
     "model_module_version": "1.5.0",
     "model_name": "FloatProgressModel",
     "state": {
      "_dom_classes": [],
      "_model_module": "@jupyter-widgets/controls",
      "_model_module_version": "1.5.0",
      "_model_name": "FloatProgressModel",
      "_view_count": null,
      "_view_module": "@jupyter-widgets/controls",
      "_view_module_version": "1.5.0",
      "_view_name": "ProgressView",
      "bar_style": "success",
      "description": "",
      "description_tooltip": null,
      "layout": "IPY_MODEL_d86cd8e4d3f74244801ce1a94cbdb99e",
      "max": 26,
      "min": 0,
      "orientation": "horizontal",
      "style": "IPY_MODEL_1c17c4618c6543608856ba1e674af557",
      "value": 26
     }
    },
    "a6514271fc2d4894accadb7d52f0b932": {
     "model_module": "@jupyter-widgets/controls",
     "model_module_version": "1.5.0",
     "model_name": "DescriptionStyleModel",
     "state": {
      "_model_module": "@jupyter-widgets/controls",
      "_model_module_version": "1.5.0",
      "_model_name": "DescriptionStyleModel",
      "_view_count": null,
      "_view_module": "@jupyter-widgets/base",
      "_view_module_version": "1.2.0",
      "_view_name": "StyleView",
      "description_width": ""
     }
    },
    "a7fb973dbc5d4e098f9f0c24a9624aac": {
     "model_module": "@jupyter-widgets/base",
     "model_module_version": "1.2.0",
     "model_name": "LayoutModel",
     "state": {
      "_model_module": "@jupyter-widgets/base",
      "_model_module_version": "1.2.0",
      "_model_name": "LayoutModel",
      "_view_count": null,
      "_view_module": "@jupyter-widgets/base",
      "_view_module_version": "1.2.0",
      "_view_name": "LayoutView",
      "align_content": null,
      "align_items": null,
      "align_self": null,
      "border": null,
      "bottom": null,
      "display": null,
      "flex": null,
      "flex_flow": null,
      "grid_area": null,
      "grid_auto_columns": null,
      "grid_auto_flow": null,
      "grid_auto_rows": null,
      "grid_column": null,
      "grid_gap": null,
      "grid_row": null,
      "grid_template_areas": null,
      "grid_template_columns": null,
      "grid_template_rows": null,
      "height": null,
      "justify_content": null,
      "justify_items": null,
      "left": null,
      "margin": null,
      "max_height": null,
      "max_width": null,
      "min_height": null,
      "min_width": null,
      "object_fit": null,
      "object_position": null,
      "order": null,
      "overflow": null,
      "overflow_x": null,
      "overflow_y": null,
      "padding": null,
      "right": null,
      "top": null,
      "visibility": null,
      "width": null
     }
    },
    "aacb4cc6bfd14ef8a655d79a9576b45a": {
     "model_module": "@jupyter-widgets/base",
     "model_module_version": "1.2.0",
     "model_name": "LayoutModel",
     "state": {
      "_model_module": "@jupyter-widgets/base",
      "_model_module_version": "1.2.0",
      "_model_name": "LayoutModel",
      "_view_count": null,
      "_view_module": "@jupyter-widgets/base",
      "_view_module_version": "1.2.0",
      "_view_name": "LayoutView",
      "align_content": null,
      "align_items": null,
      "align_self": null,
      "border": null,
      "bottom": null,
      "display": null,
      "flex": null,
      "flex_flow": null,
      "grid_area": null,
      "grid_auto_columns": null,
      "grid_auto_flow": null,
      "grid_auto_rows": null,
      "grid_column": null,
      "grid_gap": null,
      "grid_row": null,
      "grid_template_areas": null,
      "grid_template_columns": null,
      "grid_template_rows": null,
      "height": null,
      "justify_content": null,
      "justify_items": null,
      "left": null,
      "margin": null,
      "max_height": null,
      "max_width": null,
      "min_height": null,
      "min_width": null,
      "object_fit": null,
      "object_position": null,
      "order": null,
      "overflow": null,
      "overflow_x": null,
      "overflow_y": null,
      "padding": null,
      "right": null,
      "top": null,
      "visibility": null,
      "width": null
     }
    },
    "ac7cb17738264d52a33076459316cff5": {
     "model_module": "@jupyter-widgets/controls",
     "model_module_version": "1.5.0",
     "model_name": "ProgressStyleModel",
     "state": {
      "_model_module": "@jupyter-widgets/controls",
      "_model_module_version": "1.5.0",
      "_model_name": "ProgressStyleModel",
      "_view_count": null,
      "_view_module": "@jupyter-widgets/base",
      "_view_module_version": "1.2.0",
      "_view_name": "StyleView",
      "bar_color": null,
      "description_width": ""
     }
    },
    "ae77db4c323b46299d9955d2f6106e1f": {
     "model_module": "@jupyter-widgets/controls",
     "model_module_version": "1.5.0",
     "model_name": "DescriptionStyleModel",
     "state": {
      "_model_module": "@jupyter-widgets/controls",
      "_model_module_version": "1.5.0",
      "_model_name": "DescriptionStyleModel",
      "_view_count": null,
      "_view_module": "@jupyter-widgets/base",
      "_view_module_version": "1.2.0",
      "_view_name": "StyleView",
      "description_width": ""
     }
    },
    "aea2ff927ae4451eaafa94c50d1b8d1e": {
     "model_module": "@jupyter-widgets/base",
     "model_module_version": "1.2.0",
     "model_name": "LayoutModel",
     "state": {
      "_model_module": "@jupyter-widgets/base",
      "_model_module_version": "1.2.0",
      "_model_name": "LayoutModel",
      "_view_count": null,
      "_view_module": "@jupyter-widgets/base",
      "_view_module_version": "1.2.0",
      "_view_name": "LayoutView",
      "align_content": null,
      "align_items": null,
      "align_self": null,
      "border": null,
      "bottom": null,
      "display": null,
      "flex": null,
      "flex_flow": null,
      "grid_area": null,
      "grid_auto_columns": null,
      "grid_auto_flow": null,
      "grid_auto_rows": null,
      "grid_column": null,
      "grid_gap": null,
      "grid_row": null,
      "grid_template_areas": null,
      "grid_template_columns": null,
      "grid_template_rows": null,
      "height": null,
      "justify_content": null,
      "justify_items": null,
      "left": null,
      "margin": null,
      "max_height": null,
      "max_width": null,
      "min_height": null,
      "min_width": null,
      "object_fit": null,
      "object_position": null,
      "order": null,
      "overflow": null,
      "overflow_x": null,
      "overflow_y": null,
      "padding": null,
      "right": null,
      "top": null,
      "visibility": null,
      "width": null
     }
    },
    "af15705b86ad4fe5a14a1ac80ddb6518": {
     "model_module": "@jupyter-widgets/base",
     "model_module_version": "1.2.0",
     "model_name": "LayoutModel",
     "state": {
      "_model_module": "@jupyter-widgets/base",
      "_model_module_version": "1.2.0",
      "_model_name": "LayoutModel",
      "_view_count": null,
      "_view_module": "@jupyter-widgets/base",
      "_view_module_version": "1.2.0",
      "_view_name": "LayoutView",
      "align_content": null,
      "align_items": null,
      "align_self": null,
      "border": null,
      "bottom": null,
      "display": null,
      "flex": null,
      "flex_flow": null,
      "grid_area": null,
      "grid_auto_columns": null,
      "grid_auto_flow": null,
      "grid_auto_rows": null,
      "grid_column": null,
      "grid_gap": null,
      "grid_row": null,
      "grid_template_areas": null,
      "grid_template_columns": null,
      "grid_template_rows": null,
      "height": null,
      "justify_content": null,
      "justify_items": null,
      "left": null,
      "margin": null,
      "max_height": null,
      "max_width": null,
      "min_height": null,
      "min_width": null,
      "object_fit": null,
      "object_position": null,
      "order": null,
      "overflow": null,
      "overflow_x": null,
      "overflow_y": null,
      "padding": null,
      "right": null,
      "top": null,
      "visibility": null,
      "width": null
     }
    },
    "b0334b9a67074c1a8e08431c9a71ed4a": {
     "model_module": "@jupyter-widgets/controls",
     "model_module_version": "1.5.0",
     "model_name": "DescriptionStyleModel",
     "state": {
      "_model_module": "@jupyter-widgets/controls",
      "_model_module_version": "1.5.0",
      "_model_name": "DescriptionStyleModel",
      "_view_count": null,
      "_view_module": "@jupyter-widgets/base",
      "_view_module_version": "1.2.0",
      "_view_name": "StyleView",
      "description_width": ""
     }
    },
    "b4ca1843f1d6451d8d6982135741d31e": {
     "model_module": "@jupyter-widgets/controls",
     "model_module_version": "1.5.0",
     "model_name": "ProgressStyleModel",
     "state": {
      "_model_module": "@jupyter-widgets/controls",
      "_model_module_version": "1.5.0",
      "_model_name": "ProgressStyleModel",
      "_view_count": null,
      "_view_module": "@jupyter-widgets/base",
      "_view_module_version": "1.2.0",
      "_view_name": "StyleView",
      "bar_color": null,
      "description_width": ""
     }
    },
    "b78b1ad75fb64fdbb595c5baff305516": {
     "model_module": "@jupyter-widgets/controls",
     "model_module_version": "1.5.0",
     "model_name": "HTMLModel",
     "state": {
      "_dom_classes": [],
      "_model_module": "@jupyter-widgets/controls",
      "_model_module_version": "1.5.0",
      "_model_name": "HTMLModel",
      "_view_count": null,
      "_view_module": "@jupyter-widgets/controls",
      "_view_module_version": "1.5.0",
      "_view_name": "HTMLView",
      "description": "",
      "description_tooltip": null,
      "layout": "IPY_MODEL_d0839cc8cd314153a24c5984e02e95e4",
      "placeholder": "​",
      "style": "IPY_MODEL_73b9915cef1b46968b987ed2b83a5acd",
      "value": "100%"
     }
    },
    "ba1836a331804b79868f7ac079376d08": {
     "model_module": "@jupyter-widgets/base",
     "model_module_version": "1.2.0",
     "model_name": "LayoutModel",
     "state": {
      "_model_module": "@jupyter-widgets/base",
      "_model_module_version": "1.2.0",
      "_model_name": "LayoutModel",
      "_view_count": null,
      "_view_module": "@jupyter-widgets/base",
      "_view_module_version": "1.2.0",
      "_view_name": "LayoutView",
      "align_content": null,
      "align_items": null,
      "align_self": null,
      "border": null,
      "bottom": null,
      "display": null,
      "flex": null,
      "flex_flow": null,
      "grid_area": null,
      "grid_auto_columns": null,
      "grid_auto_flow": null,
      "grid_auto_rows": null,
      "grid_column": null,
      "grid_gap": null,
      "grid_row": null,
      "grid_template_areas": null,
      "grid_template_columns": null,
      "grid_template_rows": null,
      "height": null,
      "justify_content": null,
      "justify_items": null,
      "left": null,
      "margin": null,
      "max_height": null,
      "max_width": null,
      "min_height": null,
      "min_width": null,
      "object_fit": null,
      "object_position": null,
      "order": null,
      "overflow": null,
      "overflow_x": null,
      "overflow_y": null,
      "padding": null,
      "right": null,
      "top": null,
      "visibility": null,
      "width": null
     }
    },
    "c6dd4753b9d640578077c0dee4e372dc": {
     "model_module": "@jupyter-widgets/controls",
     "model_module_version": "1.5.0",
     "model_name": "HBoxModel",
     "state": {
      "_dom_classes": [],
      "_model_module": "@jupyter-widgets/controls",
      "_model_module_version": "1.5.0",
      "_model_name": "HBoxModel",
      "_view_count": null,
      "_view_module": "@jupyter-widgets/controls",
      "_view_module_version": "1.5.0",
      "_view_name": "HBoxView",
      "box_style": "",
      "children": [
       "IPY_MODEL_2f81a1b04587479b89c6a04c9b397f8a",
       "IPY_MODEL_ed3f1900a0cc423cb2657cb2ea1bfad5",
       "IPY_MODEL_575f4e9102344b97a2d067634843716f"
      ],
      "layout": "IPY_MODEL_a7fb973dbc5d4e098f9f0c24a9624aac"
     }
    },
    "c6fb2ebea039492e94742640c0c908e8": {
     "model_module": "@jupyter-widgets/controls",
     "model_module_version": "1.5.0",
     "model_name": "DescriptionStyleModel",
     "state": {
      "_model_module": "@jupyter-widgets/controls",
      "_model_module_version": "1.5.0",
      "_model_name": "DescriptionStyleModel",
      "_view_count": null,
      "_view_module": "@jupyter-widgets/base",
      "_view_module_version": "1.2.0",
      "_view_name": "StyleView",
      "description_width": ""
     }
    },
    "ce230fb6df0940caa94a83c5e346da7a": {
     "model_module": "@jupyter-widgets/controls",
     "model_module_version": "1.5.0",
     "model_name": "FloatProgressModel",
     "state": {
      "_dom_classes": [],
      "_model_module": "@jupyter-widgets/controls",
      "_model_module_version": "1.5.0",
      "_model_name": "FloatProgressModel",
      "_view_count": null,
      "_view_module": "@jupyter-widgets/controls",
      "_view_module_version": "1.5.0",
      "_view_name": "ProgressView",
      "bar_style": "success",
      "description": "",
      "description_tooltip": null,
      "layout": "IPY_MODEL_e7a4b28a6129451fb6856a448068ee5d",
      "max": 709,
      "min": 0,
      "orientation": "horizontal",
      "style": "IPY_MODEL_4617bb9161fb4b63b134e5ccc43fda02",
      "value": 709
     }
    },
    "d0839cc8cd314153a24c5984e02e95e4": {
     "model_module": "@jupyter-widgets/base",
     "model_module_version": "1.2.0",
     "model_name": "LayoutModel",
     "state": {
      "_model_module": "@jupyter-widgets/base",
      "_model_module_version": "1.2.0",
      "_model_name": "LayoutModel",
      "_view_count": null,
      "_view_module": "@jupyter-widgets/base",
      "_view_module_version": "1.2.0",
      "_view_name": "LayoutView",
      "align_content": null,
      "align_items": null,
      "align_self": null,
      "border": null,
      "bottom": null,
      "display": null,
      "flex": null,
      "flex_flow": null,
      "grid_area": null,
      "grid_auto_columns": null,
      "grid_auto_flow": null,
      "grid_auto_rows": null,
      "grid_column": null,
      "grid_gap": null,
      "grid_row": null,
      "grid_template_areas": null,
      "grid_template_columns": null,
      "grid_template_rows": null,
      "height": null,
      "justify_content": null,
      "justify_items": null,
      "left": null,
      "margin": null,
      "max_height": null,
      "max_width": null,
      "min_height": null,
      "min_width": null,
      "object_fit": null,
      "object_position": null,
      "order": null,
      "overflow": null,
      "overflow_x": null,
      "overflow_y": null,
      "padding": null,
      "right": null,
      "top": null,
      "visibility": null,
      "width": null
     }
    },
    "d86cd8e4d3f74244801ce1a94cbdb99e": {
     "model_module": "@jupyter-widgets/base",
     "model_module_version": "1.2.0",
     "model_name": "LayoutModel",
     "state": {
      "_model_module": "@jupyter-widgets/base",
      "_model_module_version": "1.2.0",
      "_model_name": "LayoutModel",
      "_view_count": null,
      "_view_module": "@jupyter-widgets/base",
      "_view_module_version": "1.2.0",
      "_view_name": "LayoutView",
      "align_content": null,
      "align_items": null,
      "align_self": null,
      "border": null,
      "bottom": null,
      "display": null,
      "flex": null,
      "flex_flow": null,
      "grid_area": null,
      "grid_auto_columns": null,
      "grid_auto_flow": null,
      "grid_auto_rows": null,
      "grid_column": null,
      "grid_gap": null,
      "grid_row": null,
      "grid_template_areas": null,
      "grid_template_columns": null,
      "grid_template_rows": null,
      "height": null,
      "justify_content": null,
      "justify_items": null,
      "left": null,
      "margin": null,
      "max_height": null,
      "max_width": null,
      "min_height": null,
      "min_width": null,
      "object_fit": null,
      "object_position": null,
      "order": null,
      "overflow": null,
      "overflow_x": null,
      "overflow_y": null,
      "padding": null,
      "right": null,
      "top": null,
      "visibility": null,
      "width": null
     }
    },
    "dc28b5145ffa404b87e55d7cf6dc8638": {
     "model_module": "@jupyter-widgets/base",
     "model_module_version": "1.2.0",
     "model_name": "LayoutModel",
     "state": {
      "_model_module": "@jupyter-widgets/base",
      "_model_module_version": "1.2.0",
      "_model_name": "LayoutModel",
      "_view_count": null,
      "_view_module": "@jupyter-widgets/base",
      "_view_module_version": "1.2.0",
      "_view_name": "LayoutView",
      "align_content": null,
      "align_items": null,
      "align_self": null,
      "border": null,
      "bottom": null,
      "display": null,
      "flex": null,
      "flex_flow": null,
      "grid_area": null,
      "grid_auto_columns": null,
      "grid_auto_flow": null,
      "grid_auto_rows": null,
      "grid_column": null,
      "grid_gap": null,
      "grid_row": null,
      "grid_template_areas": null,
      "grid_template_columns": null,
      "grid_template_rows": null,
      "height": null,
      "justify_content": null,
      "justify_items": null,
      "left": null,
      "margin": null,
      "max_height": null,
      "max_width": null,
      "min_height": null,
      "min_width": null,
      "object_fit": null,
      "object_position": null,
      "order": null,
      "overflow": null,
      "overflow_x": null,
      "overflow_y": null,
      "padding": null,
      "right": null,
      "top": null,
      "visibility": null,
      "width": null
     }
    },
    "e04d8cd066d641d68c7372bd0e7860e2": {
     "model_module": "@jupyter-widgets/controls",
     "model_module_version": "1.5.0",
     "model_name": "HTMLModel",
     "state": {
      "_dom_classes": [],
      "_model_module": "@jupyter-widgets/controls",
      "_model_module_version": "1.5.0",
      "_model_name": "HTMLModel",
      "_view_count": null,
      "_view_module": "@jupyter-widgets/controls",
      "_view_module_version": "1.5.0",
      "_view_name": "HTMLView",
      "description": "",
      "description_tooltip": null,
      "layout": "IPY_MODEL_1ef486183d784b6dbed5d7d4762bcaa8",
      "placeholder": "​",
      "style": "IPY_MODEL_99aacd0c155141018c0064158a5191fe",
      "value": " 7898/7898 [1:24:54&lt;00:00,  1.91it/s]"
     }
    },
    "e2a7bcde2af34b948a5d72f341807c6e": {
     "model_module": "@jupyter-widgets/controls",
     "model_module_version": "1.5.0",
     "model_name": "DescriptionStyleModel",
     "state": {
      "_model_module": "@jupyter-widgets/controls",
      "_model_module_version": "1.5.0",
      "_model_name": "DescriptionStyleModel",
      "_view_count": null,
      "_view_module": "@jupyter-widgets/base",
      "_view_module_version": "1.2.0",
      "_view_name": "StyleView",
      "description_width": ""
     }
    },
    "e63f80b576f5469c865c021a3b49c24f": {
     "model_module": "@jupyter-widgets/base",
     "model_module_version": "1.2.0",
     "model_name": "LayoutModel",
     "state": {
      "_model_module": "@jupyter-widgets/base",
      "_model_module_version": "1.2.0",
      "_model_name": "LayoutModel",
      "_view_count": null,
      "_view_module": "@jupyter-widgets/base",
      "_view_module_version": "1.2.0",
      "_view_name": "LayoutView",
      "align_content": null,
      "align_items": null,
      "align_self": null,
      "border": null,
      "bottom": null,
      "display": null,
      "flex": null,
      "flex_flow": null,
      "grid_area": null,
      "grid_auto_columns": null,
      "grid_auto_flow": null,
      "grid_auto_rows": null,
      "grid_column": null,
      "grid_gap": null,
      "grid_row": null,
      "grid_template_areas": null,
      "grid_template_columns": null,
      "grid_template_rows": null,
      "height": null,
      "justify_content": null,
      "justify_items": null,
      "left": null,
      "margin": null,
      "max_height": null,
      "max_width": null,
      "min_height": null,
      "min_width": null,
      "object_fit": null,
      "object_position": null,
      "order": null,
      "overflow": null,
      "overflow_x": null,
      "overflow_y": null,
      "padding": null,
      "right": null,
      "top": null,
      "visibility": null,
      "width": null
     }
    },
    "e7a4b28a6129451fb6856a448068ee5d": {
     "model_module": "@jupyter-widgets/base",
     "model_module_version": "1.2.0",
     "model_name": "LayoutModel",
     "state": {
      "_model_module": "@jupyter-widgets/base",
      "_model_module_version": "1.2.0",
      "_model_name": "LayoutModel",
      "_view_count": null,
      "_view_module": "@jupyter-widgets/base",
      "_view_module_version": "1.2.0",
      "_view_name": "LayoutView",
      "align_content": null,
      "align_items": null,
      "align_self": null,
      "border": null,
      "bottom": null,
      "display": null,
      "flex": null,
      "flex_flow": null,
      "grid_area": null,
      "grid_auto_columns": null,
      "grid_auto_flow": null,
      "grid_auto_rows": null,
      "grid_column": null,
      "grid_gap": null,
      "grid_row": null,
      "grid_template_areas": null,
      "grid_template_columns": null,
      "grid_template_rows": null,
      "height": null,
      "justify_content": null,
      "justify_items": null,
      "left": null,
      "margin": null,
      "max_height": null,
      "max_width": null,
      "min_height": null,
      "min_width": null,
      "object_fit": null,
      "object_position": null,
      "order": null,
      "overflow": null,
      "overflow_x": null,
      "overflow_y": null,
      "padding": null,
      "right": null,
      "top": null,
      "visibility": null,
      "width": null
     }
    },
    "ed3f1900a0cc423cb2657cb2ea1bfad5": {
     "model_module": "@jupyter-widgets/controls",
     "model_module_version": "1.5.0",
     "model_name": "FloatProgressModel",
     "state": {
      "_dom_classes": [],
      "_model_module": "@jupyter-widgets/controls",
      "_model_module_version": "1.5.0",
      "_model_name": "FloatProgressModel",
      "_view_count": null,
      "_view_module": "@jupyter-widgets/controls",
      "_view_module_version": "1.5.0",
      "_view_name": "ProgressView",
      "bar_style": "success",
      "description": "",
      "description_tooltip": null,
      "layout": "IPY_MODEL_51915e04257f4aeea54a68dd7cff745b",
      "max": 2511,
      "min": 0,
      "orientation": "horizontal",
      "style": "IPY_MODEL_ac7cb17738264d52a33076459316cff5",
      "value": 2511
     }
    }
   }
  }
 },
 "nbformat": 4,
 "nbformat_minor": 0
}
