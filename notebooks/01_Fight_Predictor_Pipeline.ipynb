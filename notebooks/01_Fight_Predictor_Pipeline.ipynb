{
 "cells": [
  {
   "cell_type": "code",
   "execution_count": 1,
   "metadata": {
    "colab": {
     "base_uri": "https://localhost:8080/"
    },
    "executionInfo": {
     "elapsed": 1190,
     "status": "ok",
     "timestamp": 1734799441785,
     "user": {
      "displayName": "Erik Kellener",
      "userId": "15028931739696665470"
     },
     "user_tz": 480
    },
    "id": "G2PoUl1vXJec",
    "outputId": "7b0df69d-54f7-4314-b517-1b19df0fb216"
   },
   "outputs": [
    {
     "name": "stdout",
     "output_type": "stream",
     "text": [
      "Requirement already satisfied: mlflow in /Users/evankellener/Desktop/UFC_fight_predictor/ufc_env/lib/python3.9/site-packages (2.20.1)\n",
      "Requirement already satisfied: mlflow-skinny==2.20.1 in /Users/evankellener/Desktop/UFC_fight_predictor/ufc_env/lib/python3.9/site-packages (from mlflow) (2.20.1)\n",
      "Requirement already satisfied: Flask<4 in /Users/evankellener/Desktop/UFC_fight_predictor/ufc_env/lib/python3.9/site-packages (from mlflow) (3.1.0)\n",
      "Requirement already satisfied: Jinja2<4,>=2.11 in /Users/evankellener/Desktop/UFC_fight_predictor/ufc_env/lib/python3.9/site-packages (from mlflow) (3.1.5)\n",
      "Requirement already satisfied: alembic!=1.10.0,<2 in /Users/evankellener/Desktop/UFC_fight_predictor/ufc_env/lib/python3.9/site-packages (from mlflow) (1.14.1)\n",
      "Requirement already satisfied: docker<8,>=4.0.0 in /Users/evankellener/Desktop/UFC_fight_predictor/ufc_env/lib/python3.9/site-packages (from mlflow) (7.1.0)\n",
      "Requirement already satisfied: graphene<4 in /Users/evankellener/Desktop/UFC_fight_predictor/ufc_env/lib/python3.9/site-packages (from mlflow) (3.4.3)\n",
      "Requirement already satisfied: gunicorn<24 in /Users/evankellener/Desktop/UFC_fight_predictor/ufc_env/lib/python3.9/site-packages (from mlflow) (23.0.0)\n",
      "Requirement already satisfied: markdown<4,>=3.3 in /Users/evankellener/Desktop/UFC_fight_predictor/ufc_env/lib/python3.9/site-packages (from mlflow) (3.7)\n",
      "Requirement already satisfied: matplotlib<4 in /Users/evankellener/Desktop/UFC_fight_predictor/ufc_env/lib/python3.9/site-packages (from mlflow) (3.9.4)\n",
      "Requirement already satisfied: numpy<3 in /Users/evankellener/Desktop/UFC_fight_predictor/ufc_env/lib/python3.9/site-packages (from mlflow) (2.0.2)\n",
      "Requirement already satisfied: pandas<3 in /Users/evankellener/Desktop/UFC_fight_predictor/ufc_env/lib/python3.9/site-packages (from mlflow) (2.2.3)\n",
      "Requirement already satisfied: pyarrow<19,>=4.0.0 in /Users/evankellener/Desktop/UFC_fight_predictor/ufc_env/lib/python3.9/site-packages (from mlflow) (18.1.0)\n",
      "Requirement already satisfied: scikit-learn<2 in /Users/evankellener/Desktop/UFC_fight_predictor/ufc_env/lib/python3.9/site-packages (from mlflow) (1.6.0)\n",
      "Requirement already satisfied: scipy<2 in /Users/evankellener/Desktop/UFC_fight_predictor/ufc_env/lib/python3.9/site-packages (from mlflow) (1.13.1)\n",
      "Requirement already satisfied: sqlalchemy<3,>=1.4.0 in /Users/evankellener/Desktop/UFC_fight_predictor/ufc_env/lib/python3.9/site-packages (from mlflow) (2.0.38)\n",
      "Requirement already satisfied: cachetools<6,>=5.0.0 in /Users/evankellener/Desktop/UFC_fight_predictor/ufc_env/lib/python3.9/site-packages (from mlflow-skinny==2.20.1->mlflow) (5.5.1)\n",
      "Requirement already satisfied: click<9,>=7.0 in /Users/evankellener/Desktop/UFC_fight_predictor/ufc_env/lib/python3.9/site-packages (from mlflow-skinny==2.20.1->mlflow) (8.1.8)\n",
      "Requirement already satisfied: cloudpickle<4 in /Users/evankellener/Desktop/UFC_fight_predictor/ufc_env/lib/python3.9/site-packages (from mlflow-skinny==2.20.1->mlflow) (3.1.1)\n",
      "Requirement already satisfied: databricks-sdk<1,>=0.20.0 in /Users/evankellener/Desktop/UFC_fight_predictor/ufc_env/lib/python3.9/site-packages (from mlflow-skinny==2.20.1->mlflow) (0.43.0)\n",
      "Requirement already satisfied: gitpython<4,>=3.1.9 in /Users/evankellener/Desktop/UFC_fight_predictor/ufc_env/lib/python3.9/site-packages (from mlflow-skinny==2.20.1->mlflow) (3.1.44)\n",
      "Requirement already satisfied: importlib_metadata!=4.7.0,<9,>=3.7.0 in /Users/evankellener/Desktop/UFC_fight_predictor/ufc_env/lib/python3.9/site-packages (from mlflow-skinny==2.20.1->mlflow) (8.5.0)\n",
      "Requirement already satisfied: opentelemetry-api<3,>=1.9.0 in /Users/evankellener/Desktop/UFC_fight_predictor/ufc_env/lib/python3.9/site-packages (from mlflow-skinny==2.20.1->mlflow) (1.30.0)\n",
      "Requirement already satisfied: opentelemetry-sdk<3,>=1.9.0 in /Users/evankellener/Desktop/UFC_fight_predictor/ufc_env/lib/python3.9/site-packages (from mlflow-skinny==2.20.1->mlflow) (1.30.0)\n",
      "Requirement already satisfied: packaging<25 in /Users/evankellener/Desktop/UFC_fight_predictor/ufc_env/lib/python3.9/site-packages (from mlflow-skinny==2.20.1->mlflow) (24.2)\n",
      "Requirement already satisfied: protobuf<6,>=3.12.0 in /Users/evankellener/Desktop/UFC_fight_predictor/ufc_env/lib/python3.9/site-packages (from mlflow-skinny==2.20.1->mlflow) (5.29.3)\n",
      "Requirement already satisfied: pydantic<3,>=1.0 in /Users/evankellener/Desktop/UFC_fight_predictor/ufc_env/lib/python3.9/site-packages (from mlflow-skinny==2.20.1->mlflow) (2.10.6)\n",
      "Requirement already satisfied: pyyaml<7,>=5.1 in /Users/evankellener/Desktop/UFC_fight_predictor/ufc_env/lib/python3.9/site-packages (from mlflow-skinny==2.20.1->mlflow) (6.0.2)\n",
      "Requirement already satisfied: requests<3,>=2.17.3 in /Users/evankellener/Desktop/UFC_fight_predictor/ufc_env/lib/python3.9/site-packages (from mlflow-skinny==2.20.1->mlflow) (2.32.3)\n",
      "Requirement already satisfied: sqlparse<1,>=0.4.0 in /Users/evankellener/Desktop/UFC_fight_predictor/ufc_env/lib/python3.9/site-packages (from mlflow-skinny==2.20.1->mlflow) (0.5.3)\n",
      "Requirement already satisfied: typing-extensions<5,>=4.0.0 in /Users/evankellener/Desktop/UFC_fight_predictor/ufc_env/lib/python3.9/site-packages (from mlflow-skinny==2.20.1->mlflow) (4.12.2)\n",
      "Requirement already satisfied: Mako in /Users/evankellener/Desktop/UFC_fight_predictor/ufc_env/lib/python3.9/site-packages (from alembic!=1.10.0,<2->mlflow) (1.3.9)\n",
      "Requirement already satisfied: urllib3>=1.26.0 in /Users/evankellener/Desktop/UFC_fight_predictor/ufc_env/lib/python3.9/site-packages (from docker<8,>=4.0.0->mlflow) (2.3.0)\n",
      "Requirement already satisfied: Werkzeug>=3.1 in /Users/evankellener/Desktop/UFC_fight_predictor/ufc_env/lib/python3.9/site-packages (from Flask<4->mlflow) (3.1.3)\n",
      "Requirement already satisfied: itsdangerous>=2.2 in /Users/evankellener/Desktop/UFC_fight_predictor/ufc_env/lib/python3.9/site-packages (from Flask<4->mlflow) (2.2.0)\n",
      "Requirement already satisfied: blinker>=1.9 in /Users/evankellener/Desktop/UFC_fight_predictor/ufc_env/lib/python3.9/site-packages (from Flask<4->mlflow) (1.9.0)\n",
      "Requirement already satisfied: graphql-core<3.3,>=3.1 in /Users/evankellener/Desktop/UFC_fight_predictor/ufc_env/lib/python3.9/site-packages (from graphene<4->mlflow) (3.2.6)\n",
      "Requirement already satisfied: graphql-relay<3.3,>=3.1 in /Users/evankellener/Desktop/UFC_fight_predictor/ufc_env/lib/python3.9/site-packages (from graphene<4->mlflow) (3.2.0)\n",
      "Requirement already satisfied: python-dateutil<3,>=2.7.0 in /Users/evankellener/Desktop/UFC_fight_predictor/ufc_env/lib/python3.9/site-packages (from graphene<4->mlflow) (2.9.0.post0)\n",
      "Requirement already satisfied: MarkupSafe>=2.0 in /Users/evankellener/Desktop/UFC_fight_predictor/ufc_env/lib/python3.9/site-packages (from Jinja2<4,>=2.11->mlflow) (3.0.2)\n",
      "Requirement already satisfied: contourpy>=1.0.1 in /Users/evankellener/Desktop/UFC_fight_predictor/ufc_env/lib/python3.9/site-packages (from matplotlib<4->mlflow) (1.3.0)\n",
      "Requirement already satisfied: cycler>=0.10 in /Users/evankellener/Desktop/UFC_fight_predictor/ufc_env/lib/python3.9/site-packages (from matplotlib<4->mlflow) (0.12.1)\n",
      "Requirement already satisfied: fonttools>=4.22.0 in /Users/evankellener/Desktop/UFC_fight_predictor/ufc_env/lib/python3.9/site-packages (from matplotlib<4->mlflow) (4.55.8)\n",
      "Requirement already satisfied: kiwisolver>=1.3.1 in /Users/evankellener/Desktop/UFC_fight_predictor/ufc_env/lib/python3.9/site-packages (from matplotlib<4->mlflow) (1.4.7)\n",
      "Requirement already satisfied: pillow>=8 in /Users/evankellener/Desktop/UFC_fight_predictor/ufc_env/lib/python3.9/site-packages (from matplotlib<4->mlflow) (11.1.0)\n",
      "Requirement already satisfied: pyparsing>=2.3.1 in /Users/evankellener/Desktop/UFC_fight_predictor/ufc_env/lib/python3.9/site-packages (from matplotlib<4->mlflow) (3.2.1)\n",
      "Requirement already satisfied: importlib-resources>=3.2.0 in /Users/evankellener/Desktop/UFC_fight_predictor/ufc_env/lib/python3.9/site-packages (from matplotlib<4->mlflow) (6.5.2)\n",
      "Requirement already satisfied: pytz>=2020.1 in /Users/evankellener/Desktop/UFC_fight_predictor/ufc_env/lib/python3.9/site-packages (from pandas<3->mlflow) (2024.2)\n",
      "Requirement already satisfied: tzdata>=2022.7 in /Users/evankellener/Desktop/UFC_fight_predictor/ufc_env/lib/python3.9/site-packages (from pandas<3->mlflow) (2024.2)\n",
      "Requirement already satisfied: joblib>=1.2.0 in /Users/evankellener/Desktop/UFC_fight_predictor/ufc_env/lib/python3.9/site-packages (from scikit-learn<2->mlflow) (1.4.2)\n",
      "Requirement already satisfied: threadpoolctl>=3.1.0 in /Users/evankellener/Desktop/UFC_fight_predictor/ufc_env/lib/python3.9/site-packages (from scikit-learn<2->mlflow) (3.5.0)\n",
      "Requirement already satisfied: google-auth~=2.0 in /Users/evankellener/Desktop/UFC_fight_predictor/ufc_env/lib/python3.9/site-packages (from databricks-sdk<1,>=0.20.0->mlflow-skinny==2.20.1->mlflow) (2.38.0)\n",
      "Requirement already satisfied: gitdb<5,>=4.0.1 in /Users/evankellener/Desktop/UFC_fight_predictor/ufc_env/lib/python3.9/site-packages (from gitpython<4,>=3.1.9->mlflow-skinny==2.20.1->mlflow) (4.0.12)\n",
      "Requirement already satisfied: zipp>=3.20 in /Users/evankellener/Desktop/UFC_fight_predictor/ufc_env/lib/python3.9/site-packages (from importlib_metadata!=4.7.0,<9,>=3.7.0->mlflow-skinny==2.20.1->mlflow) (3.21.0)\n",
      "Requirement already satisfied: deprecated>=1.2.6 in /Users/evankellener/Desktop/UFC_fight_predictor/ufc_env/lib/python3.9/site-packages (from opentelemetry-api<3,>=1.9.0->mlflow-skinny==2.20.1->mlflow) (1.2.18)\n",
      "Requirement already satisfied: opentelemetry-semantic-conventions==0.51b0 in /Users/evankellener/Desktop/UFC_fight_predictor/ufc_env/lib/python3.9/site-packages (from opentelemetry-sdk<3,>=1.9.0->mlflow-skinny==2.20.1->mlflow) (0.51b0)\n",
      "Requirement already satisfied: annotated-types>=0.6.0 in /Users/evankellener/Desktop/UFC_fight_predictor/ufc_env/lib/python3.9/site-packages (from pydantic<3,>=1.0->mlflow-skinny==2.20.1->mlflow) (0.7.0)\n",
      "Requirement already satisfied: pydantic-core==2.27.2 in /Users/evankellener/Desktop/UFC_fight_predictor/ufc_env/lib/python3.9/site-packages (from pydantic<3,>=1.0->mlflow-skinny==2.20.1->mlflow) (2.27.2)\n",
      "Requirement already satisfied: six>=1.5 in /Users/evankellener/Desktop/UFC_fight_predictor/ufc_env/lib/python3.9/site-packages (from python-dateutil<3,>=2.7.0->graphene<4->mlflow) (1.17.0)\n",
      "Requirement already satisfied: charset-normalizer<4,>=2 in /Users/evankellener/Desktop/UFC_fight_predictor/ufc_env/lib/python3.9/site-packages (from requests<3,>=2.17.3->mlflow-skinny==2.20.1->mlflow) (3.4.1)\n",
      "Requirement already satisfied: idna<4,>=2.5 in /Users/evankellener/Desktop/UFC_fight_predictor/ufc_env/lib/python3.9/site-packages (from requests<3,>=2.17.3->mlflow-skinny==2.20.1->mlflow) (3.10)\n",
      "Requirement already satisfied: certifi>=2017.4.17 in /Users/evankellener/Desktop/UFC_fight_predictor/ufc_env/lib/python3.9/site-packages (from requests<3,>=2.17.3->mlflow-skinny==2.20.1->mlflow) (2024.12.14)\n",
      "Requirement already satisfied: wrapt<2,>=1.10 in /Users/evankellener/Desktop/UFC_fight_predictor/ufc_env/lib/python3.9/site-packages (from deprecated>=1.2.6->opentelemetry-api<3,>=1.9.0->mlflow-skinny==2.20.1->mlflow) (1.17.2)\n",
      "Requirement already satisfied: smmap<6,>=3.0.1 in /Users/evankellener/Desktop/UFC_fight_predictor/ufc_env/lib/python3.9/site-packages (from gitdb<5,>=4.0.1->gitpython<4,>=3.1.9->mlflow-skinny==2.20.1->mlflow) (5.0.2)\n",
      "Requirement already satisfied: pyasn1-modules>=0.2.1 in /Users/evankellener/Desktop/UFC_fight_predictor/ufc_env/lib/python3.9/site-packages (from google-auth~=2.0->databricks-sdk<1,>=0.20.0->mlflow-skinny==2.20.1->mlflow) (0.4.1)\n",
      "Requirement already satisfied: rsa<5,>=3.1.4 in /Users/evankellener/Desktop/UFC_fight_predictor/ufc_env/lib/python3.9/site-packages (from google-auth~=2.0->databricks-sdk<1,>=0.20.0->mlflow-skinny==2.20.1->mlflow) (4.9)\n",
      "Requirement already satisfied: pyasn1<0.7.0,>=0.4.6 in /Users/evankellener/Desktop/UFC_fight_predictor/ufc_env/lib/python3.9/site-packages (from pyasn1-modules>=0.2.1->google-auth~=2.0->databricks-sdk<1,>=0.20.0->mlflow-skinny==2.20.1->mlflow) (0.6.1)\n",
      "\n",
      "\u001b[1m[\u001b[0m\u001b[34;49mnotice\u001b[0m\u001b[1;39;49m]\u001b[0m\u001b[39;49m A new release of pip is available: \u001b[0m\u001b[31;49m25.0\u001b[0m\u001b[39;49m -> \u001b[0m\u001b[32;49m25.0.1\u001b[0m\n",
      "\u001b[1m[\u001b[0m\u001b[34;49mnotice\u001b[0m\u001b[1;39;49m]\u001b[0m\u001b[39;49m To update, run: \u001b[0m\u001b[32;49mpip install --upgrade pip\u001b[0m\n",
      "Note: you may need to restart the kernel to use updated packages.\n"
     ]
    },
    {
     "name": "stderr",
     "output_type": "stream",
     "text": [
      "/Users/evankellener/Desktop/UFC_fight_predictor/ufc_env/lib/python3.9/site-packages/urllib3/__init__.py:35: NotOpenSSLWarning: urllib3 v2 only supports OpenSSL 1.1.1+, currently the 'ssl' module is compiled with 'LibreSSL 2.8.3'. See: https://github.com/urllib3/urllib3/issues/3020\n",
      "  warnings.warn(\n"
     ]
    },
    {
     "name": "stdout",
     "output_type": "stream",
     "text": [
      "Requirement already satisfied: optuna in /Users/evankellener/Desktop/UFC_fight_predictor/ufc_env/lib/python3.9/site-packages (4.2.0)\n",
      "Requirement already satisfied: alembic>=1.5.0 in /Users/evankellener/Desktop/UFC_fight_predictor/ufc_env/lib/python3.9/site-packages (from optuna) (1.14.1)\n",
      "Requirement already satisfied: colorlog in /Users/evankellener/Desktop/UFC_fight_predictor/ufc_env/lib/python3.9/site-packages (from optuna) (6.9.0)\n",
      "Requirement already satisfied: numpy in /Users/evankellener/Desktop/UFC_fight_predictor/ufc_env/lib/python3.9/site-packages (from optuna) (2.0.2)\n",
      "Requirement already satisfied: packaging>=20.0 in /Users/evankellener/Desktop/UFC_fight_predictor/ufc_env/lib/python3.9/site-packages (from optuna) (24.2)\n",
      "Requirement already satisfied: sqlalchemy>=1.4.2 in /Users/evankellener/Desktop/UFC_fight_predictor/ufc_env/lib/python3.9/site-packages (from optuna) (2.0.38)\n",
      "Requirement already satisfied: tqdm in /Users/evankellener/Desktop/UFC_fight_predictor/ufc_env/lib/python3.9/site-packages (from optuna) (4.67.1)\n",
      "Requirement already satisfied: PyYAML in /Users/evankellener/Desktop/UFC_fight_predictor/ufc_env/lib/python3.9/site-packages (from optuna) (6.0.2)\n",
      "Requirement already satisfied: Mako in /Users/evankellener/Desktop/UFC_fight_predictor/ufc_env/lib/python3.9/site-packages (from alembic>=1.5.0->optuna) (1.3.9)\n",
      "Requirement already satisfied: typing-extensions>=4 in /Users/evankellener/Desktop/UFC_fight_predictor/ufc_env/lib/python3.9/site-packages (from alembic>=1.5.0->optuna) (4.12.2)\n",
      "Requirement already satisfied: MarkupSafe>=0.9.2 in /Users/evankellener/Desktop/UFC_fight_predictor/ufc_env/lib/python3.9/site-packages (from Mako->alembic>=1.5.0->optuna) (3.0.2)\n",
      "\n",
      "\u001b[1m[\u001b[0m\u001b[34;49mnotice\u001b[0m\u001b[1;39;49m]\u001b[0m\u001b[39;49m A new release of pip is available: \u001b[0m\u001b[31;49m25.0\u001b[0m\u001b[39;49m -> \u001b[0m\u001b[32;49m25.0.1\u001b[0m\n",
      "\u001b[1m[\u001b[0m\u001b[34;49mnotice\u001b[0m\u001b[1;39;49m]\u001b[0m\u001b[39;49m To update, run: \u001b[0m\u001b[32;49mpip install --upgrade pip\u001b[0m\n",
      "Note: you may need to restart the kernel to use updated packages.\n",
      "Not using gDrive\n",
      "/Users/evankellener/Desktop/UFC_fight_predictor/notebooks\n"
     ]
    }
   ],
   "source": [
    "import sys\n",
    "import os\n",
    "import sqlite3\n",
    "import pandas as pd\n",
    "import yaml\n",
    "from tqdm.notebook import tqdm_notebook\n",
    "from datetime import datetime\n",
    "\n",
    "# Install mlflow if not already installed\n",
    "%pip install mlflow\n",
    "import mlflow\n",
    "\n",
    "%pip install optuna\n",
    "import optuna\n",
    "\n",
    "\n",
    "# Suggestion on fixed folder structure\n",
    "'''\n",
    "/\n",
    "/scripts        # scripts contains all .py,≈ ipynb files/modules\n",
    "/scripts/[sub processing modules] # optionally used sub folders for processing modules\n",
    "/data\n",
    "/data/sqlite   #contains sqlite database .db\n",
    "/data/csv     #contains temporary csv files used for scraping\n",
    "'''\n",
    "\n",
    "\n",
    "# Adding flag for using with Google Drive or run locally\n",
    "use_gdrive = False\n",
    "\n",
    "if use_gdrive:\n",
    "  from google.colab import drive\n",
    "  drive.mount('/content/drive')\n",
    "  root_folder = '/content/drive/MyDrive/'\n",
    "  print('Using gDrive')\n",
    "  print(root_folder)\n",
    "else:\n",
    "  root_folder = os.getcwd()\n",
    "  print('Not using gDrive')\n",
    "  print(root_folder)\n",
    "\n",
    "# Read config\n",
    "config = yaml.safe_load(open('../src/scrape_ufc_stats_config.yaml'))\n",
    "\n",
    "#set folder locations or override config\n",
    "base_folder = '../'\n",
    "db_location = base_folder+'data/sqlite_db/sqlite_scrapper.db'\n",
    "scripts_folder = base_folder+'src'\n",
    "local_run = False\n",
    "db_conn = sqlite3.connect(db_location)\n",
    "cursor = db_conn.cursor()"
   ]
  },
  {
   "cell_type": "markdown",
   "metadata": {},
   "source": [
    "# Setting Up Proper Directory"
   ]
  },
  {
   "cell_type": "code",
   "execution_count": 2,
   "metadata": {},
   "outputs": [
    {
     "name": "stdout",
     "output_type": "stream",
     "text": [
      "['../', '/Library/Developer/CommandLineTools/Library/Frameworks/Python3.framework/Versions/3.9/lib/python39.zip', '/Library/Developer/CommandLineTools/Library/Frameworks/Python3.framework/Versions/3.9/lib/python3.9', '/Library/Developer/CommandLineTools/Library/Frameworks/Python3.framework/Versions/3.9/lib/python3.9/lib-dynload', '', '/Users/evankellener/Desktop/UFC_fight_predictor/ufc_env/lib/python3.9/site-packages']\n"
     ]
    }
   ],
   "source": [
    "sys.path.insert(0, '../')\n",
    "print(sys.path)"
   ]
  },
  {
   "cell_type": "code",
   "execution_count": 3,
   "metadata": {},
   "outputs": [],
   "source": [
    "os.chdir(scripts_folder)"
   ]
  },
  {
   "cell_type": "markdown",
   "metadata": {},
   "source": [
    "# Scraping Process"
   ]
  },
  {
   "cell_type": "code",
   "execution_count": null,
   "metadata": {
    "id": "0zYN2S9rvPgx"
   },
   "outputs": [],
   "source": [
    "from scrapper_modules import Eventdetails, Fightdetails, Fightresultsandstats, Fighterdetails, Fightertott\n",
    "from tqdm.notebook import tqdm_notebook"
   ]
  },
  {
   "cell_type": "markdown",
   "metadata": {},
   "source": [
    "### Runtime: 0.8s"
   ]
  },
  {
   "cell_type": "code",
   "execution_count": null,
   "metadata": {
    "id": "il07bZorw0cB"
   },
   "outputs": [],
   "source": [
    "ed = Eventdetails(config, db_conn)\n",
    "#ed_df = ed.process()\n",
    "ed_df = ed.process()#%Y-%m-%d\n",
    "ed.save()\n",
    "db_conn.commit()"
   ]
  },
  {
   "cell_type": "markdown",
   "metadata": {},
   "source": [
    "### Runtime: 5m 24.2s"
   ]
  },
  {
   "cell_type": "code",
   "execution_count": null,
   "metadata": {
    "colab": {
     "base_uri": "https://localhost:8080/",
     "height": 49,
     "referenced_widgets": [
      "8dd7c962e49f490091c9d89a0e623d7b",
      "b78b1ad75fb64fdbb595c5baff305516",
      "ce230fb6df0940caa94a83c5e346da7a",
      "9fabd27658e7458da7e23671a84cc5b1",
      "dc28b5145ffa404b87e55d7cf6dc8638",
      "d0839cc8cd314153a24c5984e02e95e4",
      "73b9915cef1b46968b987ed2b83a5acd",
      "e7a4b28a6129451fb6856a448068ee5d",
      "4617bb9161fb4b63b134e5ccc43fda02",
      "7e1926a1065947c096434b417867da83",
      "a6514271fc2d4894accadb7d52f0b932"
     ]
    },
    "executionInfo": {
     "elapsed": 242163,
     "status": "ok",
     "timestamp": 1730398363080,
     "user": {
      "displayName": "Evan Kellener",
      "userId": "06994163046607635769"
     },
     "user_tz": 420
    },
    "id": "9B-Fw-bQ-TVc",
    "outputId": "d6dc00a0-1be0-4635-b487-b5ebbc35e422"
   },
   "outputs": [],
   "source": [
    "fd = Fightdetails(config, db_conn, list(ed_df['URL']))\n",
    "fd_df = fd.process()\n",
    "fd.save()\n",
    "db_conn.commit()"
   ]
  },
  {
   "cell_type": "code",
   "execution_count": null,
   "metadata": {
    "colab": {
     "base_uri": "https://localhost:8080/",
     "height": 49,
     "referenced_widgets": [
      "8718154bce88472a973464b97c94a606",
      "7c8a538969ed413aa9ed3ea062ef769d",
      "48ddb60ff85a404f8c1c4cd11208358a",
      "e04d8cd066d641d68c7372bd0e7860e2",
      "9f5bf2febfab4b38b37eb06be0fe2cf0",
      "881d2f8f6df3415eb849d57430f35883",
      "b0334b9a67074c1a8e08431c9a71ed4a",
      "aea2ff927ae4451eaafa94c50d1b8d1e",
      "b4ca1843f1d6451d8d6982135741d31e",
      "1ef486183d784b6dbed5d7d4762bcaa8",
      "99aacd0c155141018c0064158a5191fe"
     ]
    },
    "executionInfo": {
     "elapsed": 5095161,
     "status": "ok",
     "timestamp": 1730403460206,
     "user": {
      "displayName": "Evan Kellener",
      "userId": "06994163046607635769"
     },
     "user_tz": 420
    },
    "id": "MqWblXYi-WmX",
    "outputId": "233ddfe6-3566-4589-c4e4-3b7e24b82fc6"
   },
   "outputs": [],
   "source": [
    "frs = Fightresultsandstats(config, db_conn, list(fd_df['URL']))\n",
    "fr_df, fs_df = frs.process()\n",
    "frs.save()\n",
    "db_conn.commit()"
   ]
  },
  {
   "cell_type": "code",
   "execution_count": null,
   "metadata": {},
   "outputs": [],
   "source": [
    "fs_df = pd.read_csv(base_folder+'data/tmp/Fightstats.csv')"
   ]
  },
  {
   "cell_type": "code",
   "execution_count": null,
   "metadata": {},
   "outputs": [],
   "source": [
    "print(fs_df.columns)"
   ]
  },
  {
   "cell_type": "code",
   "execution_count": null,
   "metadata": {
    "colab": {
     "base_uri": "https://localhost:8080/",
     "height": 87,
     "referenced_widgets": [
      "8ce7677305da441ab84b7e0ef668980b",
      "4b1107254e4645efacc0793ef76eee62",
      "a55edca0b3e7471b91ab614b4812d7eb",
      "16b584af3e6a430a9a613bece67a2563",
      "e63f80b576f5469c865c021a3b49c24f",
      "aacb4cc6bfd14ef8a655d79a9576b45a",
      "e2a7bcde2af34b948a5d72f341807c6e",
      "d86cd8e4d3f74244801ce1a94cbdb99e",
      "1c17c4618c6543608856ba1e674af557",
      "26f5cbdb369641fb9bfe67a6bbbdc080",
      "423913db86e34360b8a313617b2cccdf"
     ]
    },
    "executionInfo": {
     "elapsed": 22046,
     "status": "ok",
     "timestamp": 1730403687939,
     "user": {
      "displayName": "Evan Kellener",
      "userId": "06994163046607635769"
     },
     "user_tz": 420
    },
    "id": "sPuyI2ZLD8NQ",
    "outputId": "b782500e-60fd-42f6-930e-58f22467e8cf"
   },
   "outputs": [],
   "source": [
    "frd = Fighterdetails(config, db_conn)\n",
    "frd_df = frd.process(filtered_data=fs_df)\n",
    "frd.save()\n",
    "db_conn.commit()"
   ]
  },
  {
   "cell_type": "markdown",
   "metadata": {
    "id": "p9DPbSxjG4m8"
   },
   "source": [
    "Filter Of"
   ]
  },
  {
   "cell_type": "code",
   "execution_count": null,
   "metadata": {
    "colab": {
     "base_uri": "https://localhost:8080/",
     "height": 49,
     "referenced_widgets": [
      "c6dd4753b9d640578077c0dee4e372dc",
      "2f81a1b04587479b89c6a04c9b397f8a",
      "ed3f1900a0cc423cb2657cb2ea1bfad5",
      "575f4e9102344b97a2d067634843716f",
      "a7fb973dbc5d4e098f9f0c24a9624aac",
      "af15705b86ad4fe5a14a1ac80ddb6518",
      "ae77db4c323b46299d9955d2f6106e1f",
      "51915e04257f4aeea54a68dd7cff745b",
      "ac7cb17738264d52a33076459316cff5",
      "ba1836a331804b79868f7ac079376d08",
      "c6fb2ebea039492e94742640c0c908e8"
     ]
    },
    "executionInfo": {
     "elapsed": 717401,
     "status": "ok",
     "timestamp": 1730404419138,
     "user": {
      "displayName": "Evan Kellener",
      "userId": "06994163046607635769"
     },
     "user_tz": 420
    },
    "id": "9oLslvxbfxxq",
    "outputId": "a7cfaa29-1963-43df-85ef-a508eff81741"
   },
   "outputs": [],
   "source": [
    "ft = Fightertott(config, db_conn, list(frd_df['URL']))\n",
    "ft_df = ft.process()\n",
    "ft_df = ft.save()\n",
    "db_conn.commit()"
   ]
  },
  {
   "cell_type": "code",
   "execution_count": null,
   "metadata": {},
   "outputs": [],
   "source": [
    "os.chdir(scripts_folder)"
   ]
  },
  {
   "cell_type": "markdown",
   "metadata": {},
   "source": [
    "## Save Tabels to CSV"
   ]
  },
  {
   "cell_type": "code",
   "execution_count": null,
   "metadata": {},
   "outputs": [],
   "source": [
    "import csv\n",
    "def save_table_to_csv(db_path, table_name, csv_file_path):\n",
    "    # Connect to the SQLite database\n",
    "    connection = sqlite3.connect(db_path)\n",
    "    cursor = connection.cursor()\n",
    "    \n",
    "    try:\n",
    "        # Query to fetch all rows from the table\n",
    "        cursor.execute(f\"SELECT * FROM {table_name}\")\n",
    "        \n",
    "        rows = cursor.fetchall()\n",
    "\n",
    "        # Get column names\n",
    "        column_names = [description[0] for description in cursor.description]\n",
    "\n",
    "        # Write to CSV file\n",
    "        with open(csv_file_path, mode='w', newline='', encoding='utf-8') as file:\n",
    "            writer = csv.writer(file)\n",
    "            writer.writerow(column_names)  # Write header\n",
    "            writer.writerows(rows)        # Write data\n",
    "\n",
    "        print(f\"Table '{table_name}' has been saved to '{csv_file_path}'.\")\n",
    "    except sqlite3.Error as e:\n",
    "        print(f\"An error occurred: {e}\")\n",
    "    finally:\n",
    "        connection.close()"
   ]
  },
  {
   "cell_type": "code",
   "execution_count": null,
   "metadata": {},
   "outputs": [],
   "source": [
    "print(config['event_details_file_name'])\n",
    "save_table_to_csv(db_location, 'ufc_event_details', base_folder+'data/tmp/ufc_event_details.csv.csv')\n",
    "save_table_to_csv(db_location, 'ufc_fight_details', base_folder+'data/tmp/Fightdetails.csv')\n",
    "save_table_to_csv(db_location, 'ufc_fight_results', base_folder+'data/tmp/Fightresults.csv')\n",
    "save_table_to_csv(db_location, 'ufc_fight_stats', base_folder+'data/tmp/Fightstats.csv')\n",
    "save_table_to_csv(db_location, 'ufc_fighter_details', base_folder+'data/tmp/Fighterdetails.csv')\n",
    "save_table_to_csv(db_location, 'ufc_fighter_tott', base_folder+'data/tmp/Fightertott.csv')"
   ]
  },
  {
   "cell_type": "code",
   "execution_count": null,
   "metadata": {},
   "outputs": [],
   "source": [
    "save_table_to_csv(db_location, 'ufc_fight_stats', base_folder+'data/tmp/Fightstats.csv')"
   ]
  },
  {
   "cell_type": "markdown",
   "metadata": {},
   "source": [
    "# Height Weight Reach Modeling"
   ]
  },
  {
   "cell_type": "code",
   "execution_count": null,
   "metadata": {},
   "outputs": [],
   "source": [
    "import height_weight_reach"
   ]
  },
  {
   "cell_type": "code",
   "execution_count": null,
   "metadata": {},
   "outputs": [],
   "source": [
    "table_name = \"ufc_fighter_tott\"\n",
    "predictor = height_weight_reach.hwr_process(db_location, table_name)"
   ]
  },
  {
   "cell_type": "markdown",
   "metadata": {},
   "source": [
    "### Reach Predictor"
   ]
  },
  {
   "cell_type": "code",
   "execution_count": null,
   "metadata": {},
   "outputs": [],
   "source": [
    "reach_model, reach_mse, reach_r2 = predictor.train_model(['HEIGHT', 'WEIGHT'], 'REACH')\n",
    "print(f\"Reach Model - MSE: {reach_mse}, R^2: {reach_r2}\")"
   ]
  },
  {
   "cell_type": "markdown",
   "metadata": {},
   "source": [
    "### Height Predictor"
   ]
  },
  {
   "cell_type": "code",
   "execution_count": null,
   "metadata": {},
   "outputs": [],
   "source": [
    "height_weights, height_mse, height_r2 = predictor.train_model(['WEIGHT'], 'HEIGHT')\n",
    "print(f\"Height Model - MSE: {height_mse}, R^2: {height_r2}\")\n"
   ]
  },
  {
   "cell_type": "code",
   "execution_count": null,
   "metadata": {},
   "outputs": [],
   "source": [
    "updated_data = predictor.predict_missing_values(['HEIGHT', 'WEIGHT'], 'REACH')"
   ]
  },
  {
   "cell_type": "code",
   "execution_count": null,
   "metadata": {},
   "outputs": [],
   "source": [
    "# Save updated data to database\n",
    "updated_data.to_sql(os.path.splitext(config['fighter_tott_file_name'])[0], db_conn, if_exists='replace', index=False)"
   ]
  },
  {
   "cell_type": "code",
   "execution_count": null,
   "metadata": {},
   "outputs": [],
   "source": [
    "missing_dob = updated_data[updated_data['DOB'].isnull()]\n",
    "missing_dob.to_csv(base_folder+'data/tmp/final_data_with_no_dob.csv', index=False)"
   ]
  },
  {
   "cell_type": "markdown",
   "metadata": {},
   "source": [
    "# Dob Scrapper"
   ]
  },
  {
   "cell_type": "code",
   "execution_count": null,
   "metadata": {},
   "outputs": [],
   "source": [
    "import dob_scrapper"
   ]
  },
  {
   "cell_type": "code",
   "execution_count": null,
   "metadata": {},
   "outputs": [],
   "source": [
    "scraper = dob_scrapper.DOBScraper()"
   ]
  },
  {
   "cell_type": "code",
   "execution_count": null,
   "metadata": {},
   "outputs": [],
   "source": [
    "unfinished_fighter_data = pd.read_csv(base_folder+'data/tmp/final_data_with_no_dob.csv')\n",
    "for index, row in tqdm_notebook(unfinished_fighter_data.iterrows(), total=unfinished_fighter_data.shape[0]):\n",
    "    dob = scraper.scrape_dob(row['FIGHTER'])\n",
    "    print(f\"{row['FIGHTER']} - DOB: {dob}\")\n",
    "    unfinished_fighter_data.at[index, 'DOB'] = dob\n",
    "\n",
    "unfinished_fighter_data.to_csv(base_folder+'data/tmp/final_data_with_dob.csv', index=False)"
   ]
  },
  {
   "cell_type": "markdown",
   "metadata": {},
   "source": [
    "# SQL Queries"
   ]
  },
  {
   "cell_type": "code",
   "execution_count": 4,
   "metadata": {},
   "outputs": [
    {
     "data": {
      "text/plain": [
       "<sqlite3.Cursor at 0x144552c00>"
      ]
     },
     "execution_count": 4,
     "metadata": {},
     "output_type": "execute_result"
    }
   ],
   "source": [
    "with open('../src/sql_scripts/reset.sql', 'r') as f:\n",
    "  sql_weight_fix_script = f.read()\n",
    "\n",
    "cursor.executescript(sql_weight_fix_script)"
   ]
  },
  {
   "cell_type": "markdown",
   "metadata": {},
   "source": [
    "### Weight Class Indexing"
   ]
  },
  {
   "cell_type": "code",
   "execution_count": 5,
   "metadata": {},
   "outputs": [
    {
     "data": {
      "text/plain": [
       "<sqlite3.Cursor at 0x144552c00>"
      ]
     },
     "execution_count": 5,
     "metadata": {},
     "output_type": "execute_result"
    }
   ],
   "source": [
    "with open('../src/sql_scripts/ufc_sql_weightclass.sql', 'r') as f:\n",
    "  sql_weight_fix_script = f.read()\n",
    "\n",
    "cursor.executescript(sql_weight_fix_script)"
   ]
  },
  {
   "cell_type": "markdown",
   "metadata": {},
   "source": [
    "### Match Stats"
   ]
  },
  {
   "cell_type": "markdown",
   "metadata": {},
   "source": [
    "# Change catch weight and open weight bouts in fight results"
   ]
  },
  {
   "cell_type": "code",
   "execution_count": 6,
   "metadata": {},
   "outputs": [],
   "source": [
    "with open('../src/sql_scripts/ufc_sql_match_stats.sql', 'r') as f:\n",
    "  sql_match_stats = f.read()\n",
    "\n",
    "cursor.executescript(sql_match_stats)\n",
    "\n",
    "db_conn.commit()"
   ]
  },
  {
   "cell_type": "code",
   "execution_count": 7,
   "metadata": {},
   "outputs": [],
   "source": [
    "with open('../src/sql_scripts/ufc_sql_final_views.sql', 'r') as f:\n",
    "  sql_final_views = f.read()\n",
    "\n",
    "cursor.executescript(sql_final_views)\n",
    "db_conn.commit()"
   ]
  },
  {
   "cell_type": "code",
   "execution_count": null,
   "metadata": {},
   "outputs": [
    {
     "ename": "DatabaseError",
     "evalue": "Execution failed on sql 'DROP VIEW IF EXISTS single_full_view;\n\n\nCREATE VIEW single_full_view AS\nSELECT\n    date(ed.DATE) AS DATE,\n    ms.jbout,\n    ms.jevent,\n    ms.jfighter,\n    ms.EVENT,\n    ms.BOUT,\n    ms.FIGHTER,\n    w.fight_time_minutes,\n    IFNULL(SUM(fight_time_minutes) OVER wu1, 0) AS precomp_tot_time_in_cage,\n    IFNULL(SUM(fight_time_minutes) OVER wu0, 0) AS postcomp_tot_time_in_cage,\n    (julianday(DATE(ed.DATE)) - julianday(DATE(t.DOB))) / 365.25 AS age,\n    --(julianday(date(ed.DATE)) - julianday(date(t.DOB))) / 365 AS age,\n    t.HEIGHT,\n    t.WEIGHT,\n    t.REACH,\n    date(t.DOB) AS DOB,\n    t.sex,\n    t.weightindex,\n    t.weight_stat,\n    r.weightindex AS weight_of_fight,\n    IFNULL(AVG(r.weightindex)  OVER w31, 0) AS precomp_weight_avg3,\n    IFNULL(AVG(r.weightindex) OVER w20, 1) AS postcomp_weight_avg3,\n    w.win,\n    w.loss,\n    w.udec,\n    w.udecd,\n    w.mdec,\n    w.mdecd,\n    w.sdec,\n    w.sdecd,\n    w.subw,\n    w.subwd,\n    w.ko,\n    w.kod,\n    ms.subatt,\n    IFNULL(SUM(fight_time_minutes) OVER w20, 0) AS postcomp_tot_time_in_cage_3,\n    IFNULL(SUM(fight_time_minutes) OVER w31, 0) AS precomp_tot_time_in_cage_3,\n    IFNULL(SUM(fight_time_minutes) OVER w40, 0) AS postcomp_tot_time_in_cage_5,\n    IFNULL(SUM(fight_time_minutes) OVER w51, 0) AS precomp_tot_time_in_cage_5,\n    -- SLpM: Significant Strikes Landed per Minute over 3 and 5 fights\n    CASE \n        WHEN IFNULL(SUM(fight_time_minutes) OVER wu0, 0.0) = 0.0 THEN 0.0\n        ELSE IFNULL(SUM(CAST(sigstracc AS FLOAT)) OVER wu0  , 0.0) / IFNULL(SUM(fight_time_minutes ) OVER wu0 , 0.0) \n    END AS postcomp_sigstr_pm,\n    CASE \n        WHEN IFNULL(SUM(fight_time_minutes) OVER wu1, 0) = 0 THEN 0.0\n        ELSE IFNULL(SUM(CAST(sigstracc AS FLOAT)) OVER wu1, 0) / IFNULL(SUM(fight_time_minutes) OVER wu1, 0)\n    END AS precomp_sigstr_pm,\n    -- 3 fights\n    CASE \n        WHEN IFNULL(SUM(fight_time_minutes) OVER w20, 0) = 0 THEN 0\n        ELSE IFNULL(SUM(CAST(sigstracc AS FLOAT)) OVER w20, 0) / IFNULL(SUM(fight_time_minutes) OVER w20, 0)\n    END AS postcomp_sigstr_pm3,\n    CASE \n        WHEN IFNULL(SUM(fight_time_minutes) OVER w31, 0) = 0 THEN 0\n        ELSE IFNULL(SUM(CAST(sigstracc AS FLOAT)) OVER w31, 0) / IFNULL(SUM(fight_time_minutes) OVER w31, 0)\n    END AS precomp_sigstr_pm3,\n    -- 5 fights\n    CASE \n        WHEN IFNULL(SUM(fight_time_minutes) OVER w40, 0) = 0 THEN 0\n        ELSE IFNULL(SUM(CAST(sigstracc AS FLOAT)) OVER w40, 0) / IFNULL(SUM(fight_time_minutes) OVER w40, 0)\n    END AS postcomp_sigstr_pm5,\n    CASE \n        WHEN IFNULL(SUM(fight_time_minutes) OVER w51, 0) = 0 THEN 0\n        ELSE IFNULL(SUM(CAST(sigstracc AS FLOAT)) OVER w51, 0) / IFNULL(SUM(fight_time_minutes) OVER w51, 0)\n    END AS precomp_sigstr_pm5,\n    -- TDAvg: average take downs landed per 15 minutes over 3 and 5 fights\n    CASE \n        WHEN IFNULL(SUM(fight_time_minutes) OVER wu0, 0) = 0 THEN 0\n        ELSE IFNULL(SUM(CAST(tdacc AS FLOAT)) OVER wu0, 0) * 15 / IFNULL(SUM(fight_time_minutes) OVER wu0, 0)\n    END AS postcomp_tdavg,\n    CASE \n        WHEN IFNULL(SUM(fight_time_minutes) OVER wu1, 0) = 0 THEN 0\n        ELSE IFNULL(SUM(CAST(tdacc AS FLOAT)) OVER wu1, 0) * 15 / IFNULL(SUM(fight_time_minutes) OVER wu1, 0)\n    END AS precomp_tdavg,\n    -- 3 fight average\n    CASE \n        WHEN IFNULL(SUM(fight_time_minutes) OVER w20, 0) = 0 THEN 0\n        ELSE IFNULL(SUM(CAST(tdacc AS FLOAT)) OVER w20, 0) * 15 / IFNULL(SUM(fight_time_minutes) OVER w20, 0)\n    END AS postcomp_tdavg3,\n    CASE \n        WHEN IFNULL(SUM(fight_time_minutes) OVER w31, 0) = 0 THEN 0\n        ELSE IFNULL(SUM(CAST(tdacc AS FLOAT)) OVER w31, 0) * 15 / IFNULL(SUM(fight_time_minutes) OVER w31, 0)\n    END AS precomp_tdavg3,\n    -- 5 fights\n    CASE \n        WHEN IFNULL(SUM(fight_time_minutes) OVER w40, 0) = 0 THEN 0\n        ELSE IFNULL(SUM(CAST(tdacc AS FLOAT)) OVER w40, 0) * 15 / IFNULL(SUM(fight_time_minutes) OVER w40, 0)\n    END AS postcomp_tdavg5,\n    CASE \n        WHEN IFNULL(SUM(fight_time_minutes) OVER w51, 0) = 0 THEN 0\n        ELSE IFNULL(SUM(CAST(tdacc AS FLOAT)) OVER w51, 0) * 15 / IFNULL(SUM(fight_time_minutes) OVER w51, 0)\n    END AS precomp_tdavg5,\n    -- SApM: Significant Strikes Absorbed per Minute over 3 and 5 fights\n    sa.sigstrabs,\n    CASE \n        WHEN IFNULL(SUM(fight_time_minutes) OVER wu0, 0) = 0 THEN 0\n        ELSE IFNULL(SUM(CAST(sigstrabs AS FLOAT)) OVER wu0, 0) / IFNULL(SUM(fight_time_minutes) OVER wu0, 0)\n    END AS postcomp_sapm,\n    CASE \n        WHEN IFNULL(SUM(fight_time_minutes) OVER wu1, 0) = 0 THEN 0\n        ELSE IFNULL(SUM(CAST(sigstrabs AS FLOAT)) OVER wu1, 0) / IFNULL(SUM(fight_time_minutes) OVER wu1, 0)\n    END AS precomp_sapm,\n    -- 3 fights\n    CASE \n        WHEN IFNULL(SUM(fight_time_minutes) OVER w31, 0) = 0 THEN 0\n        ELSE IFNULL(SUM(CAST(sigstrabs AS FLOAT)) OVER w31, 0) / IFNULL(SUM(fight_time_minutes) OVER w31, 0)\n    END AS precomp_sapm3,\n    CASE \n        WHEN IFNULL(SUM(fight_time_minutes) OVER w20, 0) = 0 THEN 0\n        ELSE IFNULL(SUM(CAST(sigstrabs AS FLOAT)) OVER w20, 0) / IFNULL(SUM(fight_time_minutes) OVER w20, 0)\n    END AS postcomp_sapm3,\n    -- 5 fights\n    CASE \n        WHEN IFNULL(SUM(fight_time_minutes) OVER w51, 0) = 0 THEN 0\n        ELSE IFNULL(SUM(CAST(sigstrabs AS FLOAT)) OVER w51, 0) / IFNULL(SUM(fight_time_minutes) OVER w51, 0)\n    END AS precomp_sapm5,\n    CASE \n        WHEN IFNULL(SUM(fight_time_minutes) OVER w40, 0) = 0 THEN 0\n        ELSE IFNULL(SUM(CAST(sigstrabs AS FLOAT)) OVER w40, 0) / IFNULL(SUM(fight_time_minutes) OVER w40, 0)\n    END AS postcomp_sapm5,\n    -- SubAvg: average submission attempts per 15 minutes over 3 and 5 fights\n    CASE \n        WHEN IFNULL(SUM(fight_time_minutes) OVER wu0, 0) = 0 THEN 0\n        ELSE IFNULL(SUM(CAST(subatt AS FLOAT)) OVER wu0, 0) * 15 / IFNULL(SUM(fight_time_minutes) OVER wu0, 0)\n    END AS postcomp_subavg,\n    CASE \n        WHEN IFNULL(SUM(fight_time_minutes) OVER wu1, 0) = 0 THEN 0\n        ELSE IFNULL(SUM(CAST(subatt AS FLOAT)) OVER wu1, 0) * 15 / IFNULL(SUM(fight_time_minutes) OVER wu1, 0)\n    END AS precomp_subavg,\n    -- 3 fight average\n    CASE \n        WHEN IFNULL(SUM(fight_time_minutes) OVER w20, 0) = 0 THEN 0\n        ELSE IFNULL(SUM(CAST(subatt AS FLOAT)) OVER w20, 0) * 15 / IFNULL(SUM(fight_time_minutes) OVER w20, 0)\n    END AS postcomp_subavg3,\n    CASE \n        WHEN IFNULL(SUM(fight_time_minutes) OVER w31, 0) = 0 THEN 0\n        ELSE IFNULL(SUM(CAST(subatt AS FLOAT)) OVER w31, 0) * 15 / IFNULL(SUM(fight_time_minutes) OVER w31, 0)\n    END AS precomp_subavg3,\n    -- 5 fights\n    CASE \n        WHEN IFNULL(SUM(fight_time_minutes) OVER w40, 0) = 0 THEN 0\n        ELSE IFNULL(SUM(CAST(subatt AS FLOAT)) OVER w40, 0) * 15 / IFNULL(SUM(fight_time_minutes) OVER w40, 0)\n    END AS postcomp_subavg5,\n    CASE \n        WHEN IFNULL(SUM(fight_time_minutes) OVER w51, 0) = 0 THEN 0\n        ELSE IFNULL(SUM(CAST(subatt AS FLOAT)) OVER w51, 0) * 15 / IFNULL(SUM(fight_time_minutes) OVER w51, 0)\n    END AS precomp_subavg5,\n    -- TdDef: Takedown Defense\n    sa.tdabs,\n    sa.tdattfromopp,\n    CASE \n        WHEN IFNULL(SUM(tdattfromopp) OVER wu0, 0) = 0 THEN 0\n        ELSE 1 - (IFNULL(SUM(CAST(tdabs AS FLOAT)) OVER wu0, 0) / IFNULL(SUM(tdattfromopp) OVER wu0, 0))\n    END AS postcomp_tddef,\n    CASE \n        WHEN IFNULL(SUM(tdattfromopp) OVER wu1, 0) = 0 THEN 0\n        ELSE 1 - (IFNULL(SUM(CAST(tdabs AS FLOAT)) OVER wu1, 0) / IFNULL(SUM(tdattfromopp) OVER wu1, 0))\n    END AS precomp_tddef,\n    -- 3 fights\n    CASE \n        WHEN IFNULL(SUM(tdattfromopp) OVER w20, 0) = 0 THEN 0\n        ELSE 1 - (IFNULL(SUM(CAST(tdabs AS FLOAT)) OVER w20, 0) / IFNULL(SUM(tdattfromopp) OVER w20, 0))\n    END AS postcomp_tddef3,\n    CASE \n        WHEN IFNULL(SUM(tdattfromopp) OVER w31, 0) = 0 THEN 0\n        ELSE 1 - (IFNULL(SUM(CAST(tdabs AS FLOAT)) OVER w31, 0) / IFNULL(SUM(tdattfromopp) OVER w31, 0))\n    END AS precomp_tddef3,\n    -- 5 fights\n    CASE \n        WHEN IFNULL(SUM(tdattfromopp) OVER w40, 0) = 0 THEN 0\n        ELSE 1 - (IFNULL(SUM(CAST(tdabs AS FLOAT)) OVER w40, 0) / IFNULL(SUM(tdattfromopp) OVER w40, 0))\n    END AS postcomp_tddef5,\n    CASE \n        WHEN IFNULL(SUM(tdattfromopp) OVER w51, 0) = 0 THEN 0\n        ELSE 1 - (IFNULL(SUM(CAST(tdabs AS FLOAT)) OVER w51, 0) / IFNULL(SUM(tdattfromopp) OVER w51, 0))\n    END AS precomp_tddef5,\n    -- Str. Acc. Significant Striking Accuracy with average of 3 and 5 fights\n    ms.sigstracc AS ostrabs,\n    IFNULL(SUM(sigstracc) OVER wu0, 0) AS postcomp_ostrabssum,\n    ms.sigstracc,\n    ms.sigstratt,\n    IFNULL(SUM(sigstracc) OVER wu1, 0) AS precomp_sigstraccsum,\n    IFNULL(SUM(sigstracc) OVER wu0, 0) AS postcomp_sigstraccsum,\n    CASE \n        WHEN IFNULL(SUM(sigstratt) OVER wu0, 0) = 0 THEN 0\n        ELSE IFNULL(SUM(CAST(sigstracc AS FLOAT)) OVER wu0, 0) / IFNULL(SUM(sigstratt) OVER wu0, 0)\n    END AS postcomp_sigstr_perc,\n    CASE \n        WHEN IFNULL(SUM(sigstratt) OVER wu1, 0) = 0 THEN 0\n        ELSE IFNULL(SUM(CAST(sigstracc AS FLOAT)) OVER wu1, 0) / IFNULL(SUM(sigstratt) OVER wu1, 0)\n    END AS precomp_sigstr_perc,\n    -- 3 fight average\n    CASE \n        WHEN IFNULL(SUM(sigstratt) OVER w31, 0) = 0 THEN 0\n        ELSE IFNULL(SUM(CAST(sigstracc AS FLOAT)) OVER w31, 0) / IFNULL(SUM(sigstratt) OVER w31, 0)\n    END AS precomp_sigstr_perc3,\n    CASE \n        WHEN IFNULL(SUM(sigstratt) OVER w20, 0) = 0 THEN 0\n        ELSE IFNULL(SUM(CAST(sigstracc AS FLOAT)) OVER w20, 0) / IFNULL(SUM(sigstratt) OVER w20, 0)\n    END AS postcomp_sigstr_perc3,\n    -- 5 fight average\n    CASE \n        WHEN IFNULL(SUM(sigstratt) OVER w51, 0) = 0 THEN 0\n        ELSE IFNULL(SUM(CAST(sigstracc AS FLOAT)) OVER w51, 0) / IFNULL(SUM(sigstratt) OVER w51, 0)\n    END AS precomp_sigstr_perc5,\n    CASE \n        WHEN IFNULL(SUM(sigstratt) OVER w40, 0) = 0 THEN 0\n        ELSE IFNULL(SUM(CAST(sigstracc AS FLOAT)) OVER w40, 0) / IFNULL(SUM(sigstratt) OVER w40, 0)\n    END AS postcomp_sigstr_perc5,\n    -- StrDef: Striking Defense \n    sa.sigstrattfromopp,\n    CASE \n        WHEN IFNULL(SUM(sa.sigstrattfromopp) OVER wu0, 0) = 0 THEN 0\n        ELSE 1 - (IFNULL(SUM(CAST(sigstrabs AS FLOAT)) OVER wu0, 0) / IFNULL(SUM(sigstrattfromopp) OVER wu0, 0))\n    END AS postcomp_strdef,\n    CASE \n        WHEN IFNULL(SUM(sa.sigstrattfromopp) OVER wu1, 0) = 0 THEN 0\n        ELSE 1 - (IFNULL(SUM(CAST(sigstrabs AS FLOAT)) OVER wu1, 0) / IFNULL(SUM(sigstrattfromopp) OVER wu1, 0))\n    END AS precomp_strdef,\n    -- 3 fights\n    CASE \n        WHEN IFNULL(SUM(sa.sigstrattfromopp) OVER w20, 0) = 0 THEN 0\n        ELSE 1 - (IFNULL(SUM(CAST(sigstrabs AS FLOAT)) OVER w20, 0) / IFNULL(SUM(sigstrattfromopp) OVER w20, 0))\n    END AS postcomp_strdef3,\n    CASE \n        WHEN IFNULL(SUM(sa.sigstrattfromopp) OVER w31, 0) = 0 THEN 0\n        ELSE 1 - (IFNULL(SUM(CAST(sigstrabs AS FLOAT)) OVER w31, 0) / IFNULL(SUM(sigstrattfromopp) OVER w31, 0))\n    END AS precomp_strdef3,\n    -- 5 fights\n    CASE \n        WHEN IFNULL(SUM(sa.sigstrattfromopp) OVER w40, 0) = 0 THEN 0\n        ELSE 1 - (IFNULL(SUM(CAST(sigstrabs AS FLOAT)) OVER w40, 0) / IFNULL(SUM(sigstrattfromopp) OVER w40, 0))\n    END AS postcomp_strdef5,\n    CASE \n        WHEN IFNULL(SUM(sa.sigstrattfromopp) OVER w51, 0) = 0 THEN 0\n        ELSE 1 - (IFNULL(SUM(CAST(sigstrabs AS FLOAT)) OVER w51, 0) / IFNULL(SUM(sigstrattfromopp) OVER w51, 0))\n    END AS precomp_strdef5,\n    -- TD Acc. Take Down Accuracy with average of 3 and 5 fights\n    ms.tdacc,\n    ms.tdatt,\n    CASE \n        WHEN IFNULL(SUM(tdatt) OVER wu0, 0) = 0 THEN 0\n        ELSE IFNULL(SUM(CAST(tdacc AS FLOAT)) OVER wu0, 0) / IFNULL(SUM(tdatt) OVER wu0, 0)\n    END AS postcomp_tdacc_perc,\n    CASE \n        WHEN IFNULL(SUM(tdatt) OVER wu1, 0) = 0 THEN 0\n        ELSE IFNULL(SUM(CAST(tdacc AS FLOAT)) OVER wu1, 0) / IFNULL(SUM(tdatt) OVER wu1, 0)\n    END AS precomp_tdacc_perc,\n    -- 3 fight average\n    CASE \n        WHEN IFNULL(SUM(tdatt) OVER w31, 0) = 0 THEN 0\n        ELSE IFNULL(SUM(CAST(tdacc AS FLOAT)) OVER w31, 0) / IFNULL(SUM(tdatt) OVER w31, 0)\n    END AS precomp_tdacc_perc3,\n    CASE \n        WHEN IFNULL(SUM(tdatt) OVER w20, 0) = 0 THEN 0\n        ELSE IFNULL(SUM(CAST(tdacc AS FLOAT)) OVER w20, 0) / IFNULL(SUM(tdatt) OVER w20, 0)\n    END AS postcomp_tdacc_perc3,\n    -- 5 fight average\n    CASE \n        WHEN IFNULL(SUM(tdatt) OVER w51, 0) = 0 THEN 0\n        ELSE IFNULL(SUM(CAST(tdacc AS FLOAT)) OVER w51, 0) / IFNULL(SUM(tdatt) OVER w51, 0)\n    END AS precomp_tdacc_perc5,\n    CASE \n        WHEN IFNULL(SUM(tdatt) OVER w40, 0) = 0 THEN 0\n        ELSE IFNULL(SUM(CAST(tdacc AS FLOAT)) OVER w40, 0) / IFNULL(SUM(tdatt) OVER w40, 0)\n    END AS postcomp_tdacc_perc5,\n    -- Total strike accuracy over 3 and 5 fights\n    ms.totalacc,\n    ms.totalatt,\n    CASE \n        WHEN IFNULL(SUM(totalatt) OVER wu0, 0) = 0 THEN 0\n        ELSE IFNULL(SUM(CAST(totalacc AS FLOAT)) OVER wu0, 0) / IFNULL(SUM(totalatt) OVER wu0, 0)\n    END AS postcomp_totalacc_perc,\n    CASE \n        WHEN IFNULL(SUM(totalatt) OVER wu1, 0) = 0 THEN 0\n        ELSE IFNULL(SUM(CAST(totalacc AS FLOAT)) OVER wu1, 0) / IFNULL(SUM(totalatt) OVER wu1, 0)\n    END AS precomp_totalacc_perc,\n    -- 3 fight average\n    CASE \n        WHEN IFNULL(SUM(totalatt) OVER w31, 0) = 0 THEN 0\n        ELSE IFNULL(SUM(CAST(totalacc AS FLOAT)) OVER w31, 0) / IFNULL(SUM(totalatt) OVER w31, 0)\n    END AS precomp_totalacc_perc3,\n    CASE \n        WHEN IFNULL(SUM(totalatt) OVER w20, 0) = 0 THEN 0\n        ELSE IFNULL(SUM(CAST(totalacc AS FLOAT)) OVER w20, 0) / IFNULL(SUM(totalatt) OVER w20, 0)\n    END AS postcomp_totalacc_perc3,\n    -- 5 fight average\n    CASE \n        WHEN IFNULL(SUM(totalatt) OVER w51, 0) = 0 THEN 0\n        ELSE IFNULL(SUM(CAST(totalacc AS FLOAT)) OVER w51, 0) / IFNULL(SUM(totalatt) OVER w51, 0)\n    END AS precomp_totalacc_perc5,\n    CASE \n        WHEN IFNULL(SUM(totalatt) OVER w40, 0) = 0 THEN 0\n        ELSE IFNULL(SUM(CAST(totalacc AS FLOAT)) OVER w40, 0) / IFNULL(SUM(totalatt) OVER w40, 0)\n    END AS postcomp_totalacc_perc5,\n    -- average head strike accuracy over 3 and 5 fights\n    ms.headacc,\n    ms.headatt,\n    CASE \n        WHEN IFNULL(SUM(headatt) OVER wu0, 0) = 0 THEN 0\n        ELSE IFNULL(SUM(CAST(headacc AS FLOAT)) OVER wu0, 0) / IFNULL(SUM(headatt) OVER wu0, 0)\n    END AS postcomp_headacc_perc,\n    CASE \n        WHEN IFNULL(SUM(headatt) OVER wu1, 0) = 0 THEN 0\n        ELSE IFNULL(SUM(CAST(headacc AS FLOAT)) OVER wu1, 0) / IFNULL(SUM(headatt) OVER wu1, 0)\n    END AS precomp_headacc_perc,\n    -- 3 fight average\n    CASE \n        WHEN IFNULL(SUM(headatt) OVER w31, 0) = 0 THEN 0\n        ELSE IFNULL(SUM(CAST(headacc AS FLOAT)) OVER w31, 0) / IFNULL(SUM(headatt) OVER w31, 0)\n    END AS precomp_headacc_perc3,\n    CASE \n        WHEN IFNULL(SUM(headatt) OVER w20, 0) = 0 THEN 0\n        ELSE IFNULL(SUM(CAST(headacc AS FLOAT)) OVER w20, 0) / IFNULL(SUM(headatt) OVER w20, 0)\n    END AS postcomp_headacc_perc3,\n    -- 5 fight average\n    CASE \n        WHEN IFNULL(SUM(headatt) OVER w51, 0) = 0 THEN 0\n        ELSE IFNULL(SUM(CAST(headacc AS FLOAT)) OVER w51, 0) / IFNULL(SUM(headatt) OVER w51, 0)\n    END AS precomp_headacc_perc5,\n    CASE \n        WHEN IFNULL(SUM(headatt) OVER w40, 0) = 0 THEN 0\n        ELSE IFNULL(SUM(CAST(headacc AS FLOAT)) OVER w40, 0) / IFNULL(SUM(headatt) OVER w40, 0)\n    END AS postcomp_headacc_perc5,\n    -- average body strike accuracy over 3 and 5 fights\n    ms.bodyacc,\n    ms.bodyatt,\n    CASE \n        WHEN IFNULL(SUM(bodyatt) OVER wu0, 0) = 0 THEN 0\n        ELSE IFNULL(SUM(CAST(bodyacc AS FLOAT)) OVER wu0, 0) / IFNULL(SUM(bodyatt) OVER wu0, 0)\n    END AS postcomp_bodyacc_perc,\n    CASE \n        WHEN IFNULL(SUM(bodyatt) OVER wu1, 0) = 0 THEN 0\n        ELSE IFNULL(SUM(CAST(bodyacc AS FLOAT)) OVER wu1, 0) / IFNULL(SUM(bodyatt) OVER wu1, 0)\n    END AS precomp_bodyacc_perc,\n    -- 3 fight average\n    CASE \n        WHEN IFNULL(SUM(bodyatt) OVER w31, 0) = 0 THEN 0\n        ELSE IFNULL(SUM(CAST(bodyacc AS FLOAT)) OVER w31, 0) / IFNULL(SUM(bodyatt) OVER w31, 0)\n    END AS precomp_bodyacc_perc3,\n    CASE \n        WHEN IFNULL(SUM(bodyatt) OVER w20, 0) = 0 THEN 0\n        ELSE IFNULL(SUM(CAST(bodyacc AS FLOAT)) OVER w20, 0) / IFNULL(SUM(bodyatt) OVER w20, 0)\n    END AS postcomp_bodyacc_perc3,\n    -- 5 fight average\n    CASE \n        WHEN IFNULL(SUM(bodyatt) OVER w51, 0) = 0 THEN 0\n        ELSE IFNULL(SUM(CAST(bodyacc AS FLOAT)) OVER w51, 0) / IFNULL(SUM(bodyatt) OVER w51, 0)\n    END AS precomp_bodyacc_perc5,\n    CASE \n        WHEN IFNULL(SUM(bodyatt) OVER w40, 0) = 0 THEN 0\n        ELSE IFNULL(SUM(CAST(bodyacc AS FLOAT)) OVER w40, 0) / IFNULL(SUM(bodyatt) OVER w40, 0)\n    END AS postcomp_bodyacc_perc5,\n    -- average leg strike accuracy over 3 and 5 fights\n    ms.legacc,\n    ms.legatt,\n    CASE \n        WHEN IFNULL(SUM(legatt) OVER wu0, 0) = 0 THEN 0\n        ELSE IFNULL(SUM(CAST(legacc AS FLOAT)) OVER wu0, 0) / IFNULL(SUM(legatt) OVER wu0, 0)\n    END AS postcomp_legacc_perc,\n    CASE \n        WHEN IFNULL(SUM(legatt) OVER wu1, 0) = 0 THEN 0\n        ELSE IFNULL(SUM(CAST(legacc AS FLOAT)) OVER wu1, 0) / IFNULL(SUM(legatt) OVER wu1, 0)\n    END AS precomp_legacc_perc,\n    -- 3 fight average\n    CASE \n        WHEN IFNULL(SUM(legatt) OVER w31, 0) = 0 THEN 0\n        ELSE IFNULL(SUM(CAST(legacc AS FLOAT)) OVER w31, 0) / IFNULL(SUM(legatt) OVER w31, 0)\n    END AS precomp_legacc_perc3,\n    CASE \n        WHEN IFNULL(SUM(legatt) OVER w20, 0) = 0 THEN 0\n        ELSE IFNULL(SUM(CAST(legacc AS FLOAT)) OVER w20, 0) / IFNULL(SUM(legatt) OVER w20, 0)\n    END AS postcomp_legacc_perc3,\n    -- 5 fight average\n    CASE \n        WHEN IFNULL(SUM(legatt) OVER w51, 0) = 0 THEN 0\n        ELSE IFNULL(SUM(CAST(legacc AS FLOAT)) OVER w51, 0) / IFNULL(SUM(legatt) OVER w51, 0)\n    END AS precomp_legacc_perc5,\n    CASE \n        WHEN IFNULL(SUM(legatt) OVER w40, 0) = 0 THEN 0\n        ELSE IFNULL(SUM(CAST(legacc AS FLOAT)) OVER w40, 0) / IFNULL(SUM(legatt) OVER w40, 0)\n    END AS postcomp_legacc_perc5,\n    -- average distance strike accuracy over 3 and 5 fights\n    ms.distacc,\n    ms.distatt,\n    CASE \n        WHEN IFNULL(SUM(distatt) OVER wu0, 0) = 0 THEN 0\n        ELSE IFNULL(SUM(CAST(distacc AS FLOAT)) OVER wu0, 0) / IFNULL(SUM(distatt) OVER wu0, 0)\n    END AS postcomp_distacc_perc,\n    CASE \n        WHEN IFNULL(SUM(distatt) OVER wu1, 0) = 0 THEN 0\n        ELSE IFNULL(SUM(CAST(distacc AS FLOAT)) OVER wu1, 0) / IFNULL(SUM(distatt) OVER wu1, 0)\n    END AS precomp_distacc_perc,\n    -- 3 fight average\n    CASE \n        WHEN IFNULL(SUM(distatt) OVER w31, 0) = 0 THEN 0\n        ELSE IFNULL(SUM(CAST(distacc AS FLOAT)) OVER w31, 0) / IFNULL(SUM(distatt) OVER w31, 0)\n    END AS precomp_distacc_perc3,\n    CASE \n        WHEN IFNULL(SUM(distatt) OVER w20, 0) = 0 THEN 0\n        ELSE IFNULL(SUM(CAST(distacc AS FLOAT)) OVER w20, 0) / IFNULL(SUM(distatt) OVER w20, 0)\n    END AS postcomp_distacc_perc3,\n    -- 5 fight average\n    CASE \n        WHEN IFNULL(SUM(distatt) OVER w51, 0) = 0 THEN 0\n        ELSE IFNULL(SUM(CAST(distacc AS FLOAT)) OVER w51, 0) / IFNULL(SUM(distatt) OVER w51, 0)\n    END AS precomp_distacc_perc5,\n    CASE \n        WHEN IFNULL(SUM(distatt) OVER w40, 0) = 0 THEN 0\n        ELSE IFNULL(SUM(CAST(distacc AS FLOAT)) OVER w40, 0) / IFNULL(SUM(distatt) OVER w40, 0)\n    END AS postcomp_distacc_perc5,\n    -- average clinch strike accuracy over 3 and 5 fights\n    ms.clinchacc,\n    ms.clinchatt,\n    CASE \n        WHEN IFNULL(SUM(clinchatt) OVER wu0, 0) = 0 THEN 0\n        ELSE IFNULL(SUM(CAST(clinchacc AS FLOAT)) OVER wu0, 0) / IFNULL(SUM(clinchatt) OVER wu0, 0)\n    END AS postcomp_clinchacc_perc,\n    CASE \n        WHEN IFNULL(SUM(clinchatt) OVER wu1, 0) = 0 THEN 0\n        ELSE IFNULL(SUM(CAST(clinchacc AS FLOAT)) OVER wu1, 0) / IFNULL(SUM(clinchatt) OVER wu1, 0)\n    END AS precomp_clinchacc_perc,\n    -- 3 fight average\n    CASE \n        WHEN IFNULL(SUM(clinchatt) OVER w31, 0) = 0 THEN 0\n        ELSE IFNULL(SUM(CAST(clinchacc AS FLOAT)) OVER w31, 0) / IFNULL(SUM(clinchatt) OVER w31, 0)\n    END AS precomp_clinchacc_perc3,\n    CASE \n        WHEN IFNULL(SUM(clinchatt) OVER w20, 0) = 0 THEN 0\n        ELSE IFNULL(SUM(CAST(clinchacc AS FLOAT)) OVER w20, 0) / IFNULL(SUM(clinchatt) OVER w20, 0)\n    END AS postcomp_clinchacc_perc3,\n    -- 5 fight average\n    CASE \n        WHEN IFNULL(SUM(clinchatt) OVER w51, 0) = 0 THEN 0\n        ELSE IFNULL(SUM(CAST(clinchacc AS FLOAT)) OVER w51, 0) / IFNULL(SUM(clinchatt) OVER w51, 0)\n    END AS precomp_clinchacc_perc5,\n    CASE \n        WHEN IFNULL(SUM(clinchatt) OVER w40, 0) = 0 THEN 0\n        ELSE IFNULL(SUM(CAST(clinchacc AS FLOAT)) OVER w40, 0) / IFNULL(SUM(clinchatt) OVER w40, 0)\n    END AS postcomp_clinchacc_perc5,\n    -- average ground strike accuracy over 3 and 5 fights\n    ms.groundacc,\n    ms.groundatt,\n    CASE \n        WHEN IFNULL(SUM(groundatt) OVER wu0, 0) = 0 THEN 0\n        ELSE IFNULL(SUM(CAST(groundacc AS FLOAT)) OVER wu0, 0) / IFNULL(SUM(groundatt) OVER wu0, 0)\n    END AS postcomp_groundacc_perc,\n    CASE \n        WHEN IFNULL(SUM(groundatt) OVER wu1, 0) = 0 THEN 0\n        ELSE IFNULL(SUM(CAST(groundacc AS FLOAT)) OVER wu1, 0) / IFNULL(SUM(groundatt) OVER wu1, 0)\n    END AS precomp_groundacc_perc,\n    -- 3 fight average\n    CASE \n        WHEN IFNULL(SUM(groundatt) OVER w20, 0) = 0 THEN 0\n        ELSE IFNULL(SUM(CAST(groundacc AS FLOAT)) OVER w20, 0) / IFNULL(SUM(groundatt) OVER w20, 0)\n    END AS postcomp_groundacc_perc3,\n    CASE \n        WHEN IFNULL(SUM(groundatt) OVER w31, 0) = 0 THEN 0\n        ELSE IFNULL(SUM(CAST(groundacc AS FLOAT)) OVER w31, 0) / IFNULL(SUM(groundatt) OVER w31, 0)\n    END AS precomp_groundacc_perc3,\n    -- 5 fight average\n    CASE \n        WHEN IFNULL(SUM(groundatt) OVER w40, 0) = 0 THEN 0\n        ELSE IFNULL(SUM(CAST(groundacc AS FLOAT)) OVER w40, 0) / IFNULL(SUM(groundatt) OVER w40, 0)\n    END AS postcomp_groundacc_perc5,\n    CASE \n        WHEN IFNULL(SUM(groundatt) OVER w51, 0) = 0 THEN 0\n        ELSE IFNULL(SUM(CAST(groundacc AS FLOAT)) OVER w51, 0) / IFNULL(SUM(groundatt) OVER w51, 0)\n    END AS precomp_groundacc_perc5,\n    -- win/loss/ko/kdo over 3 and 5 fights\n    IFNULL(SUM(win) OVER wu0, 0) AS postcomp_winsum,\n    IFNULL(SUM(win) OVER wu1, 0) AS precomp_winsum,\n    IFNULL(COUNT(*) OVER wu0, 0) AS postcomp_boutcount,\n    IFNULL(COUNT(*) OVER wu1, 0) AS precomp_boutcount,\n    IFNULL(AVG(win) OVER wu0, 0) AS postcomp_winavg,\n    IFNULL(AVG(win) OVER wu1, 0) AS precomp_winavg,\n    IFNULL(SUM(win) OVER w20, 0) AS postcomp_winsum3,\n    IFNULL(SUM(win) OVER w31, 0) AS precomp_winsum3,\n    IFNULL(AVG(win) OVER w20, 0) AS postcomp_winavg3,\n    IFNULL(AVG(win) OVER w31, 0) AS precomp_winavg3,\n    IFNULL(SUM(win) OVER w40, 0) AS postcomp_winsum5,\n    IFNULL(SUM(win) OVER w51, 0) AS precomp_winsum5,\n    IFNULL(AVG(win) OVER w40, 0) AS postcomp_winavg5,\n    IFNULL(AVG(win) OVER w51, 0) AS precomp_winavg5,\n    IFNULL(SUM(loss) OVER wu0, 0) AS postcomp_losssum,\n    IFNULL(SUM(loss) OVER wu1, 0) AS precomp_losssum,\n    IFNULL(AVG(loss) OVER wu0, 0) AS postcomp_lossavg,\n    IFNULL(AVG(loss) OVER wu1, 0) AS precomp_lossavg,\n    IFNULL(SUM(loss) OVER w20, 0) AS postcomp_losssum3,\n    IFNULL(SUM(loss) OVER w31, 0) AS precomp_losssum3,\n    IFNULL(AVG(loss) OVER w20, 0) AS postcomp_lossavg3,\n    IFNULL(AVG(loss) OVER w31, 0) AS precomp_lossavg3,\n    IFNULL(SUM(loss) OVER w40, 0) AS postcomp_losssum5,\n    IFNULL(SUM(loss) OVER w51, 0) AS precomp_losssum5,\n    IFNULL(AVG(loss) OVER w40, 0) AS postcomp_lossavg5,\n    IFNULL(AVG(loss) OVER w51, 0) AS precomp_lossavg5,\n    IFNULL(SUM(ko) OVER wu0, 0) AS postcomp_kosum,\n    IFNULL(SUM(ko) OVER wu1, 0) AS precomp_kosum,\n    IFNULL(AVG(ko) OVER wu0, 0) AS postcomp_koavg,\n    IFNULL(AVG(ko) OVER wu1, 0) AS precomp_koavg,\n    IFNULL(SUM(ko) OVER w20, 0) AS postcomp_kosum3,\n    IFNULL(SUM(ko) OVER w31, 0) AS precomp_kosum3,\n    IFNULL(AVG(ko) OVER w20, 0) AS postcomp_koavg3,\n    IFNULL(AVG(ko) OVER w31, 0) AS precomp_koavg3,\n    IFNULL(SUM(ko) OVER w40, 0) AS postcomp_kosum5,\n    IFNULL(SUM(ko) OVER w51, 0) AS precomp_kosum5,\n    IFNULL(AVG(ko) OVER w40, 0) AS postcomp_koavg5,\n    IFNULL(AVG(ko) OVER w51, 0) AS precomp_koavg5,\n    IFNULL(SUM(kod) OVER wu0, 0) AS postcomp_kodsum,\n    IFNULL(SUM(kod) OVER wu1, 0) AS precomp_kodsum,\n    IFNULL(AVG(kod) OVER wu0, 0) AS postcomp_kodavg,\n    IFNULL(AVG(kod) OVER wu1, 0) AS precomp_kodavg,\n    IFNULL(SUM(kod) OVER w20, 0) AS postcomp_kodsum3,\n    IFNULL(SUM(kod) OVER w31, 0) AS precomp_kodsum3,\n    IFNULL(AVG(kod) OVER w20, 0) AS postcomp_kodavg3,\n    IFNULL(AVG(kod) OVER w31, 0) AS precomp_kodavg3,\n    IFNULL(SUM(kod) OVER w40, 0) AS postcomp_kodsum5,\n    IFNULL(SUM(kod) OVER w51, 0) AS precomp_kodsum5,\n    IFNULL(AVG(kod) OVER w40, 0) AS postcomp_kodavg5,\n    IFNULL(AVG(kod) OVER w51, 0) AS precomp_kodavg5,\n    IFNULL(SUM(subw) OVER wu0, 0) AS postcomp_subwsum,\n    IFNULL(SUM(subw) OVER wu1, 0) AS precomp_subwsum,\n    IFNULL(AVG(subw) OVER wu0, 0) AS postcomp_subwavg,\n    IFNULL(AVG(subw) OVER wu1, 0) AS precomp_subwavg,\n    IFNULL(SUM(subw) OVER w20, 0) AS postcomp_subwsum3,\n    IFNULL(SUM(subw) OVER w31, 0) AS precomp_subwsum3,\n    IFNULL(AVG(subw) OVER w20, 0) AS postcomp_subwavg3,\n    IFNULL(AVG(subw) OVER w31, 0) AS precomp_subwavg3,\n    IFNULL(SUM(subw) OVER w40, 0) AS postcomp_subwsum5,\n    IFNULL(SUM(subw) OVER w51, 0) AS precomp_subwsum5,\n    IFNULL(AVG(subw) OVER w40, 0) AS postcomp_subwavg5,\n    IFNULL(AVG(subw) OVER w51, 0) AS precomp_subwavg5,\n    IFNULL(SUM(subwd) OVER wu0, 0) AS postcomp_subwdsum,\n    IFNULL(SUM(subwd) OVER wu1, 0) AS precomp_subwdsum,\n    IFNULL(AVG(subwd) OVER wu0, 0) AS postcomp_subwdavg,\n    IFNULL(AVG(subwd) OVER wu1, 0) AS precomp_subwdavg,\n    IFNULL(SUM(subwd) OVER w20, 0) AS postcomp_subwdsum3,\n    IFNULL(SUM(subwd) OVER w31, 0) AS precomp_subwdsum3,\n    IFNULL(AVG(subwd) OVER w20, 0) AS postcomp_subwdavg3,\n    IFNULL(AVG(subwd) OVER w31, 0) AS precomp_subwdavg3,\n    IFNULL(SUM(subwd) OVER w40, 0) AS postcomp_subwdsum5,\n    IFNULL(SUM(subwd) OVER w51, 0) AS precomp_subwdsum5,\n    IFNULL(AVG(subwd) OVER w40, 0) AS postcomp_subwdavg5,\n    IFNULL(AVG(subwd) OVER w51, 0) AS precomp_subwdavg5,\n    IFNULL(SUM(udec) OVER wu0, 0) AS postcomp_udecsum,\n    IFNULL(SUM(udec) OVER wu1, 0) AS precomp_udecsum,\n    IFNULL(AVG(udec) OVER wu0, 0) AS postcomp_udecavg,\n    IFNULL(AVG(udec) OVER wu1, 0) AS precomp_udecavg,\n    IFNULL(SUM(udec) OVER w20, 0) AS postcomp_udecsum3,\n    IFNULL(SUM(udec) OVER w31, 0) AS precomp_udecsum3,\n    IFNULL(AVG(udec) OVER w20, 0) AS postcomp_udecavg3,\n    IFNULL(AVG(udec) OVER w31, 0) AS precomp_udecavg3,\n    IFNULL(SUM(udec) OVER w40, 0) AS postcomp_udecsum5,\n    IFNULL(SUM(udec) OVER w51, 0) AS precomp_udecsum5,\n    IFNULL(AVG(udec) OVER w40, 0) AS postcomp_udecavg5,\n    IFNULL(AVG(udec) OVER w51, 0) AS precomp_udecavg5,\n    IFNULL(SUM(udecd) OVER wu0, 0) AS postcomp_udecdsum,\n    IFNULL(SUM(udecd) OVER wu1, 0) AS precomp_udecdsum,\n    IFNULL(AVG(udecd) OVER wu0, 0) AS postcomp_udecdavg,\n    IFNULL(AVG(udecd) OVER wu1, 0) AS precomp_udecdavg,\n    IFNULL(SUM(udecd) OVER w20, 0) AS postcomp_udecdsum3,\n    IFNULL(SUM(udecd) OVER w31, 0) AS precomp_udecdsum3,\n    IFNULL(AVG(udecd) OVER w20, 0) AS postcomp_udecdavg3,\n    IFNULL(AVG(udecd) OVER w31, 0) AS precomp_udecdavg3,\n    IFNULL(SUM(udecd) OVER w40, 0) AS postcomp_udecdsum5,\n    IFNULL(SUM(udecd) OVER w51, 0) AS precomp_udecdsum5,\n    IFNULL(AVG(udecd) OVER w40, 0) AS postcomp_udecdavg5,\n    IFNULL(AVG(udecd) OVER w51, 0) AS precomp_udecdavg5,\n    IFNULL(SUM(sdec) OVER wu0, 0) AS postcomp_sdecsum,\n    IFNULL(SUM(sdec) OVER wu1, 0) AS precomp_sdecsum,\n    IFNULL(AVG(sdec) OVER wu0, 0) AS postcomp_sdecavg,\n    IFNULL(AVG(sdec) OVER wu1, 0) AS precomp_sdecavg,\n    IFNULL(SUM(sdec) OVER w20, 0) AS postcomp_sdecsum3,\n    IFNULL(SUM(sdec) OVER w31, 0) AS precomp_sdecsum3,\n    IFNULL(AVG(sdec) OVER w20, 0) AS postcomp_sdecavg3,\n    IFNULL(AVG(sdec) OVER w31, 0) AS precomp_sdecavg3,\n    IFNULL(SUM(sdec) OVER w40, 0) AS postcomp_sdecsum5,\n    IFNULL(SUM(sdec) OVER w51, 0) AS precomp_sdecsum5,\n    IFNULL(AVG(sdec) OVER w40, 0) AS postcomp_sdecavg5,\n    IFNULL(AVG(sdec) OVER w51, 0) AS precomp_sdecavg5,\n    IFNULL(SUM(sdecd) OVER wu0, 0) AS postcomp_sdecdsum,\n    IFNULL(SUM(sdecd) OVER wu1, 0) AS precomp_sdecdsum,\n    IFNULL(AVG(sdecd) OVER wu0, 0) AS postcomp_sdecdavg,\n    IFNULL(AVG(sdecd) OVER wu1, 0) AS precomp_sdecdavg,\n    IFNULL(SUM(sdecd) OVER w20, 0) AS postcomp_sdecdsum3,\n    IFNULL(SUM(sdecd) OVER w31, 0) AS precomp_sdecdsum3,\n    IFNULL(AVG(sdecd) OVER w20, 0) AS postcomp_sdecdavg3,\n    IFNULL(AVG(sdecd) OVER w31, 0) AS precomp_sdecdavg3,\n    IFNULL(SUM(sdecd) OVER w40, 0) AS postcomp_sdecdsum5,\n    IFNULL(SUM(sdecd) OVER w51, 0) AS precomp_sdecdsum5,\n    IFNULL(AVG(sdecd) OVER w40, 0) AS postcomp_sdecdavg5,\n    IFNULL(AVG(sdecd) OVER w51, 0) AS precomp_sdecdavg5,\n    IFNULL(SUM(mdec) OVER wu0, 0) AS postcomp_mdecsum,\n    IFNULL(SUM(mdec) OVER wu1, 0) AS precomp_mdecsum,\n    IFNULL(AVG(mdec) OVER wu0, 0) AS postcomp_mdecavg,\n    IFNULL(AVG(mdec) OVER wu1, 0) AS precomp_mdecavg,\n    IFNULL(SUM(mdec) OVER w20, 0) AS postcomp_mdecsum3,\n    IFNULL(SUM(mdec) OVER w31, 0) AS precomp_mdecsum3,\n    IFNULL(AVG(mdec) OVER w20, 0) AS postcomp_mdecavg3,\n    IFNULL(AVG(mdec) OVER w31, 0) AS precomp_mdecavg3,\n    IFNULL(SUM(mdec) OVER w40, 0) AS postcomp_mdecsum5,\n    IFNULL(SUM(mdec) OVER w51, 0) AS precomp_mdecsum5,\n    IFNULL(AVG(mdec) OVER w40, 0) AS postcomp_mdecavg5,\n    IFNULL(AVG(mdec) OVER w51, 0) AS precomp_mdecavg5,\n    IFNULL(SUM(mdecd) OVER wu0, 0) AS postcomp_mdecdsum,\n    IFNULL(SUM(mdecd) OVER wu1, 0) AS precomp_mdecdsum,\n    IFNULL(AVG(mdecd) OVER wu0, 0) AS postcomp_mdecdavg,\n    IFNULL(AVG(mdecd) OVER wu1, 0) AS precomp_mdecdavg,\n    IFNULL(SUM(mdecd) OVER w20, 0) AS postcomp_mdecdsum3,\n    IFNULL(SUM(mdecd) OVER w31, 0) AS precomp_mdecdsum3,\n    IFNULL(AVG(mdecd) OVER w20, 0) AS postcomp_mdecdavg3,\n    IFNULL(AVG(mdecd) OVER w31, 0) AS precomp_mdecdavg3,\n    IFNULL(SUM(mdecd) OVER w40, 0) AS postcomp_mdecdsum5,\n    IFNULL(SUM(mdecd) OVER w51, 0) AS precomp_mdecdsum5,\n    IFNULL(AVG(mdecd) OVER w40, 0) AS postcomp_mdecdavg5,\n    IFNULL(AVG(mdecd) OVER w51, 0) AS precomp_mdecdavg5\nFROM\n    ufc_fighter_match_stats ms,\n    ufc_event_details ed,\n    ufc_winlossko w,\n    ufc_fighter_tott t,\n    ufc_fight_results r,\n    (\n        SELECT\n            DISTINCT\n            TRIM(REPLACE(fighter_stats.EVENT, ' ', '')) AS jfs_event,\n            TRIM(REPLACE(fighter_stats.FIGHTER, ' ', '')) AS jfs_fighter,\n            TRIM(REPLACE(fighter_stats.BOUT, ' ', '')) AS jfs_bout,\n            opponent_stats.sigstracc AS sigstrabs,\n            opponent_stats.sigstratt AS sigstrattfromopp,\n            opponent_stats.tdacc AS tdabs,\n            opponent_stats.tdatt AS tdattfromopp\n        FROM\n            ufc_fighter_match_stats fighter_stats\n        JOIN\n            ufc_fighter_match_stats opponent_stats\n        ON\n            fighter_stats.jbout = opponent_stats.jbout\n            AND LOWER(fighter_stats.jfighter) != LOWER(opponent_stats.jfighter)\n            AND fighter_stats.jevent = opponent_stats.jevent\n    ) sa\nWHERE\n    ms.jevent = ed.jevent\n    AND ms.jevent = w.jevent\n    AND ms.jfighter = w.jfighter\n    AND ms.jfighter = t.jfighter\n    AND ms.jevent = r.jevent\n    AND ms.jbout = r.jbout\n    AND ms.jevent = sa.jfs_event\n    AND ms.jfighter = sa.jfs_fighter\n    AND ms.jbout = sa.jfs_bout\n    AND instr(ms.jbout,ms.jfighter) > 0\nWINDOW\n    w20 AS (PARTITION BY ms.jfighter ORDER BY date(ed.DATE) ROWS BETWEEN 2 PRECEDING AND 0 PRECEDING),\n    w31 AS (PARTITION BY ms.jfighter ORDER BY date(ed.DATE) ROWS BETWEEN 3 PRECEDING AND 1 PRECEDING),\n    w40 AS (PARTITION BY ms.jfighter ORDER BY date(ed.DATE) ROWS BETWEEN 4 PRECEDING AND 0 PRECEDING),\n    w51 AS (PARTITION BY ms.jfighter ORDER BY date(ed.DATE) ROWS BETWEEN 5 PRECEDING AND 1 PRECEDING),\n    wu AS (PARTITION BY ms.jfighter ORDER BY date(ed.DATE) ROWS UNBOUNDED PRECEDING),\n    wu0 AS (PARTITION BY ms.jfighter ORDER BY date(ed.DATE) ROWS BETWEEN UNBOUNDED PRECEDING AND 0 PRECEDING),\n    wu1 AS (PARTITION BY ms.jfighter ORDER BY date(ed.DATE) ROWS BETWEEN UNBOUNDED PRECEDING AND 1 PRECEDING);\n\n\n/* JOIN and pull over Weigth Reach,reach from ufc_fighter_tott. */\nDROP VIEW IF EXISTS single_fighter_view;\nDROP VIEW IF EXISTS single_opponent_view;\nCREATE VIEW single_fighter_view AS\nSELECT * from single_full_view\nWHERE INSTR(jbout,jfighter) = 1\nORDER BY DATE DESC;\nCREATE VIEW single_opponent_view AS\nSELECT * from single_full_view\nWHERE INSTR(jbout,jfighter) > 1\nORDER BY DATE DESC;\n\nDROP VIEW IF EXISTS pre_final;\nCreate View pre_final as\nSELECT\n'DATE',\n'jbout',\n'jevent',\n'jfighter',\n'EVENT',\n'BOUT',\n'FIGHTER',\n'fight_time_minutes',\n'precomp_tot_time_in_cage',\n'postcomp_tot_time_in_cage',\n'age',\n'HEIGHT',\n'WEIGHT',\n'REACH',\n'DOB',\n'sex',\n'weightindex',\n'weight_stat',\n'weight_of_fight',\n'precomp_weight_avg3',\n'postcomp_weight_avg3',\n'win',\n'loss',\n'ko',\n'kod',\n'sub',\n'subd',\n'udec',\n'udecd',\n'sdec',\n'sdecd',\n'mdec',\n'mdecd',\n'subatt',\n'postcomp_tot_time_in_cage_3',\n'precomp_tot_time_in_cage_3',\n'postcomp_tot_time_in_cage_5',\n'precomp_tot_time_in_cage_5',\n'postcomp_sigstr_pm',\n'precomp_sigstr_pm',\n'postcomp_sigstr_pm3',\n'precomp_sigstr_pm3',\n'postcomp_sigstr_pm5',\n'precomp_sigstr_pm5',\n'postcomp_tdavg',\n'precomp_tdavg',\n'postcomp_tdavg3',\n'precomp_tdavg3',\n'postcomp_tdavg5',\n'precomp_tdavg5',\n'sigstrabs',\n'postcomp_sapm',\n'precomp_sapm',\n'precomp_sapm3',\n'postcomp_sapm3',\n'precomp_sapm5',\n'postcomp_sapm5',\n'postcomp_subavg',\n'precomp_subavg',\n'postcomp_subavg3',\n'precomp_subavg3',\n'postcomp_subavg5',\n'precomp_subavg5',\n'tdabs',\n'tdattfromopp',\n'postcomp_tddef',\n'precomp_tddef',\n'postcomp_tddef3',\n'precomp_tddef3',\n'postcomp_tddef5',\n'precomp_tddef5',\n'ostrabs',\n'postcomp_ostrabssum',\n'sigstracc',\n'sigstratt',\n'precomp_sigstraccsum',\n'postcomp_sigstraccsum',\n'postcomp_sigstr_perc',\n'precomp_sigstr_perc',\n'precomp_sigstr_perc3',\n'postcomp_sigstr_perc3',\n'precomp_sigstr_perc5',\n'postcomp_sigstr_perc5',\n'sigstrattfromopp',\n'postcomp_strdef',\n'precomp_strdef',\n'postcomp_strdef3',\n'precomp_strdef3',\n'postcomp_strdef5',\n'precomp_strdef5',\n'tdacc',\n'tdatt',\n'postcomp_tdacc_perc',\n'precomp_tdacc_perc',\n'postcomp_tdacc_perc3',\n'precomp_tdacc_perc3',\n'postcomp_tdacc_perc5',\n'precomp_tdacc_perc5',\n'totalacc',\n'totalatt',\n'postcomp_totalacc_perc',\n'precomp_totalacc_perc',\n'postcomp_totalacc_perc3',\n'precomp_totalacc_perc3',\n'postcomp_totalacc_perc5',\n'precomp_totalacc_perc5',\n'headacc',\n'headatt',\n'postcomp_headacc_perc',\n'precomp_headacc_perc',\n'postcomp_headacc_perc3',\n'precomp_headacc_perc3',\n'postcomp_headacc_perc5',\n'precomp_headacc_perc5',\n'bodyacc',\n'bodyatt',\n'postcomp_bodyacc_perc',\n'precomp_bodyacc_perc',\n'postcomp_bodyacc_perc3',\n'precomp_bodyacc_perc3',\n'postcomp_bodyacc_perc5',\n'precomp_bodyacc_perc5',\n'legacc',\n'legatt',\n'postcomp_legacc_perc',\n'precomp_legacc_perc',\n'postcomp_legacc_perc3',\n'precomp_legacc_perc3',\n'postcomp_legacc_perc5',\n'precomp_legacc_perc5',\n'distacc',\n'distatt',\n'postcomp_distacc_perc',\n'precomp_distacc_perc',\n'postcomp_distacc_perc3',\n'precomp_distacc_perc3',\n'postcomp_distacc_perc5',\n'precomp_distacc_perc5',\n'clinchacc',\n'clinchatt',\n'postcomp_clinchacc_perc',\n'precomp_clinchacc_perc',\n'postcomp_clinchacc_perc3',\n'precomp_clinchacc_perc3',\n'postcomp_clinchacc_perc5',\n'precomp_clinchacc_perc5',\n'groundacc',\n'groundatt',\n'postcomp_groundacc_perc',\n'precomp_groundacc_perc',\n'postcomp_groundacc_perc3',\n'precomp_groundacc_perc3',\n'postcomp_groundacc_perc5',\n'precomp_groundacc_perc5',\n'postcomp_winsum',\n'precomp_winsum',\n'postcomp_boutcount',\n'precomp_boutcount',\n'postcomp_winavg',\n'precomp_winavg',\n'postcomp_winsum3',\n'precomp_winsum3',\n'postcomp_winavg3',\n'precomp_winavg3',\n'postcomp_winsum5',\n'precomp_winsum5',\n'postcomp_winavg5',\n'precomp_winavg5',\n'postcomp_losssum',\n'precomp_losssum',\n'postcomp_lossavg',\n'precomp_lossavg',\n'postcomp_losssum3',\n'precomp_losssum3',\n'postcomp_lossavg3',\n'precomp_lossavg3',\n'postcomp_losssum5',\n'precomp_losssum5',\n'postcomp_lossavg5',\n'precomp_lossavg5',\n'postcomp_kosum',\n'precomp_kosum',\n'postcomp_koavg',\n'precomp_koavg',\n'postcomp_kosum3',\n'precomp_kosum3',\n'postcomp_koavg3',\n'precomp_koavg3',\n'postcomp_kosum5',\n'precomp_kosum5',\n'postcomp_koavg5',\n'precomp_koavg5',\n'postcomp_kodsum',\n'precomp_kodsum',\n'postcomp_kodavg',\n'precomp_kodavg',\n'postcomp_kodsum3',\n'precomp_kodsum3',\n'postcomp_kodavg3',\n'precomp_kodavg3',\n'postcomp_kodsum5',\n'precomp_kodsum5',\n'postcomp_kodavg5',\n'precomp_kodavg5',\n'postcomp_subwsum',\n'precomp_subwsum',\n'postcomp_subwavg',\n'precomp_subwavg',\n'postcomp_subwsum3',\n'precomp_subwsum3',\n'postcomp_subwavg3',\n'precomp_subwavg3',\n'postcomp_subwsum5',\n'precomp_subsum5',\n'postcomp_subwavg5',\n'precomp_subwavg5',\n'postcomp_subwdsum',\n'precomp_subwdsum',\n'postcomp_subwdavg',\n'precomp_subwdavg',\n'postcomp_subwdsum3',\n'precomp_subdsum3',\n'postcomp_subwdavg3',\n'precomp_subwdavg3',\n'postcomp_subwdsum5',\n'precomp_subwdsum5',\n'postcomp_subwdavg5',\n'precomp_subwdavg5',\n'postcomp_udecsum',\n'precomp_udecsum',\n'postcomp_udecavg',\n'precomp_udecavg',\n'postcomp_udecsum3',\n'precomp_udecsum3',\n'postcomp_udecavg3',\n'precomp_udecavg3',\n'postcomp_udecsum5',\n'precomp_udecsum5',\n'postcomp_udecavg5',\n'precomp_udecavg5',\n'postcomp_udecdsum',\n'precomp_udecdsum',\n'postcomp_udecdavg',\n'precomp_udecdavg',\n'postcomp_udecdsum3',\n'precomp_udecdsum3',\n'postcomp_udecdavg3',\n'precomp_udecdavg3',\n'postcomp_udecdsum5',\n'precomp_udecdsum5',\n'postcomp_udecdavg5',\n'precomp_udecdavg5',\n'postcomp_sdecsum',\n'precomp_sdecsum',\n'postcomp_sdecavg',\n'precomp_sdecavg',\n'postcomp_sdecsum3',\n'precomp_sdecsum3',\n'postcomp_sdecavg3',\n'precomp_sdecavg3',\n'postcomp_sdecsum5',\n'precomp_sdecsum5',\n'postcomp_sdecavg5',\n'precomp_sdecavg5',\n'postcomp_sdecdsum',\n'precomp_sdecdsum',\n'postcomp_sdecdavg',\n'precomp_sdecdavg',\n'postcomp_sdecdsum3',\n'precomp_sdecdsum3',\n'postcomp_sdecdavg3',\n'precomp_sdecdavg3',\n'postcomp_sdecdsum5',\n'precomp_sdecdsum5',\n'postcomp_sdecdavg5',\n'precomp_sdecdavg5',\n'postcomp_mdecsum',\n'precomp_mdecsum',\n'postcomp_mdecavg',\n'precomp_mdecavg',\n'postcomp_mdecsum3',\n'precomp_mdecsum3',\n'postcomp_mdecavg3',\n'precomp_mdecavg3',\n'postcomp_mdecsum5',\n'precomp_mdecsum5',\n'postcomp_mdecavg5',\n'precomp_mdecavg5',\n'postcomp_mdecdsum',\n'precomp_mdecdsum',\n'postcomp_mdecdavg',\n'precomp_mdecdavg',\n'postcomp_mdecdsum3',\n'precomp_mdecdsum3',\n'postcomp_mdecdavg3',\n'precomp_mdecdavg3',\n'postcomp_mdecdsum5',\n'precomp_mdecdsum5',\n'postcomp_mdecdavg5',\n'precomp_mdecdavg5',\n'opp_DATE',\n'opp_jbout',\n'opp_jevent',\n'opp_jfighter',\n'opp_EVENT',\n'opp_BOUT',\n'opp_FIGHTER',\n'opp_fight_time_minutes',\n'opp_precomp_tot_time_in_cage',\n'opp_postcomp_tot_time_in_cage',\n'opp_age',\n'opp_HEIGHT',\n'opp_WEIGHT',\n'opp_REACH',\n'opp_DOB',\n'opp_sex',\n'opp_weightindex',\n'opp_weight_stat',\n'opp_weight_of_fight',\n'opp_precomp_weight_avg3',\n'opp_postcomp_weight_avg3',\n'opp_win',\n'opp_loss',\n'opp_ko',\n'opp_kod',\n'opp_subw',\n'opp_subwd',\n'opp_udec',\n'opp_udecd',\n'opp_sdec',\n'opp_sdecd',\n'opp_mdec',\n'opp_mdecd',\n'opp_subatt',\n'opp_postcomp_tot_time_in_cage_3',\n'opp_precomp_tot_time_in_cage_3',\n'opp_postcomp_tot_time_in_cage_5',\n'opp_precomp_tot_time_in_cage_5',\n'opp_postcomp_sigstr_pm',\n'opp_precomp_sigstr_pm',\n'opp_postcomp_sigstr_pm3',\n'opp_precomp_sigstr_pm3',\n'opp_postcomp_sigstr_pm5',\n'opp_precomp_sigstr_pm5',\n'opp_postcomp_tdavg',\n'opp_precomp_tdavg',\n'opp_postcomp_tdavg3',\n'opp_precomp_tdavg3',\n'opp_postcomp_tdavg5',\n'opp_precomp_tdavg5',\n'opp_sigstrabs',\n'opp_postcomp_sapm',\n'opp_precomp_sapm',\n'opp_precomp_sapm3',\n'opp_postcomp_sapm3',\n'opp_precomp_sapm5',\n'opp_postcomp_sapm5',\n'opp_postcomp_subavg',\n'opp_precomp_subavg',\n'opp_postcomp_subavg3',\n'opp_precomp_subavg3',\n'opp_postcomp_subavg5',\n'opp_precomp_subavg5',\n'opp_tdabs',\n'opp_tdattfromopp',\n'opp_postcomp_tddef',\n'opp_precomp_tddef',\n'opp_postcomp_tddef3',\n'opp_precomp_tddef3',\n'opp_postcomp_tddef5',\n'opp_precomp_tddef5',\n'opp_ostrabs',\n'opp_postcomp_ostrabssum',\n'opp_sigstracc',\n'opp_sigstratt',\n'opp_precomp_sigstraccsum',\n'opp_postcomp_sigstraccsum',\n'opp_postcomp_sigstr_perc',\n'opp_precomp_sigstr_perc',\n'opp_precomp_sigstr_perc3',\n'opp_postcomp_sigstr_perc3',\n'opp_precomp_sigstr_perc5',\n'opp_postcomp_sigstr_perc5',\n'opp_sigstrattfromopp',\n'opp_postcomp_strdef',\n'opp_precomp_strdef',\n'opp_postcomp_strdef3',\n'opp_precomp_strdef3',\n'opp_postcomp_strdef5',\n'opp_precomp_strdef5',\n'opp_tdacc',\n'opp_tdatt',\n'opp_postcomp_tdacc_perc',\n'opp_precomp_tdacc_perc',\n'opp_postcomp_tdacc_perc3',\n'opp_precomp_tdacc_perc3',\n'opp_postcomp_tdacc_perc5',\n'opp_precomp_tdacc_perc5',\n'opp_totalacc',\n'opp_totalatt',\n'opp_postcomp_totalacc_perc',\n'opp_precomp_totalacc_perc',\n'opp_postcomp_totalacc_perc3',\n'opp_precomp_totalacc_perc3',\n'opp_postcomp_totalacc_perc5',\n'opp_precomp_totalacc_perc5',\n'opp_headacc',\n'opp_headatt',\n'opp_postcomp_headacc_perc',\n'opp_precomp_headacc_perc',\n'opp_postcomp_headacc_perc3',\n'opp_precomp_headacc_perc3',\n'opp_postcomp_headacc_perc5',\n'opp_precomp_headacc_perc5',\n'opp_bodyacc',\n'opp_bodyatt',\n'opp_postcomp_bodyacc_perc',\n'opp_precomp_bodyacc_perc',\n'opp_postcomp_bodyacc_perc3',\n'opp_precomp_bodyacc_perc3',\n'opp_postcomp_bodyacc_perc5',\n'opp_precomp_bodyacc_perc5',\n'opp_legacc',\n'opp_legatt',\n'opp_postcomp_legacc_perc',\n'opp_precomp_legacc_perc',\n'opp_postcomp_legacc_perc3',\n'opp_precomp_legacc_perc3',\n'opp_postcomp_legacc_perc5',\n'opp_precomp_legacc_perc5',\n'opp_distacc',\n'opp_distatt',\n'opp_postcomp_distacc_perc',\n'opp_precomp_distacc_perc',\n'opp_postcomp_distacc_perc3',\n'opp_precomp_distacc_perc3',\n'opp_postcomp_distacc_perc5',\n'opp_precomp_distacc_perc5',\n'opp_clinchacc',\n'opp_clinchatt',\n'opp_postcomp_clinchacc_perc',\n'opp_precomp_clinchacc_perc',\n'opp_postcomp_clinchacc_perc3',\n'opp_precomp_clinchacc_perc3',\n'opp_postcomp_clinchacc_perc5',\n'opp_precomp_clinchacc_perc5',\n'opp_groundacc',\n'opp_groundatt',\n'opp_postcomp_groundacc_perc',\n'opp_precomp_groundacc_perc',\n'opp_postcomp_groundacc_perc3',\n'opp_precomp_groundacc_perc3',\n'opp_postcomp_groundacc_perc5',\n'opp_precomp_groundacc_perc5',\n'opp_postcomp_winsum',\n'opp_precomp_winsum',\n'opp_postcomp_boutcount',\n'opp_precomp_boutcount',\n'opp_postcomp_winavg',\n'opp_precomp_winavg',\n'opp_postcomp_winsum3',\n'opp_precomp_winsum3',\n'opp_postcomp_winavg3',\n'opp_precomp_winavg3',\n'opp_postcomp_winsum5',\n'opp_precomp_winsum5',\n'opp_postcomp_winavg5',\n'opp_precomp_winavg5',\n'opp_postcomp_losssum',\n'opp_precomp_losssum',\n'opp_postcomp_lossavg',\n'opp_precomp_lossavg',\n'opp_postcomp_losssum3',\n'opp_precomp_losssum3',\n'opp_postcomp_lossavg3',\n'opp_precomp_lossavg3',\n'opp_postcomp_losssum5',\n'opp_precomp_losssum5',\n'opp_postcomp_lossavg5',\n'opp_precomp_lossavg5',\n'opp_postcomp_kosum',\n'opp_precomp_kosum',\n'opp_postcomp_koavg',\n'opp_precomp_koavg',\n'opp_postcomp_kosum3',\n'opp_precomp_kosum3',\n'opp_postcomp_koavg3',\n'opp_precomp_koavg3',\n'opp_postcomp_kosum5',\n'opp_precomp_kosum5',\n'opp_postcomp_koavg5',\n'opp_precomp_koavg5',\n'opp_postcomp_kodsum',\n'opp_precomp_kodsum',\n'opp_postcomp_kodavg',\n'opp_precomp_kodavg',\n'opp_postcomp_kodsum3',\n'opp_precomp_kodsum3',\n'opp_postcomp_kodavg3',\n'opp_precomp_kodavg3',\n'opp_postcomp_kodsum5',\n'opp_precomp_kodsum5',\n'opp_postcomp_kodavg5',\n'opp_precomp_kodavg5',\n'opp_postcomp_subwsum',\n'opp_precomp_subwsum',\n'opp_postcomp_subwavg',\n'opp_precomp_suwbavg',\n'opp_postcomp_subwsum3',\n'opp_precomp_subwsum3',\n'opp_postcomp_subwavg3',\n'opp_precomp_subwavg3',\n'opp_postcomp_subwsum5',\n'opp_precomp_subwsum5',\n'opp_postcomp_subwavg5',\n'opp_precomp_subwavg5',\n'opp_postcomp_subwdsum',\n'opp_precomp_subwdsum',\n'opp_postcomp_subwdavg',\n'opp_precomp_subwdavg',\n'opp_postcomp_subwdsum3',\n'opp_precomp_subwdsum3',\n'opp_postcomp_subwdavg3',\n'opp_precomp_subwdavg3',\n'opp_postcomp_subwdsum5',\n'opp_precomp_subwdsum5',\n'opp_postcomp_subwdavg5',\n'opp_precomp_subwdavg5',\n'opp_postcomp_udecsum',\n'opp_precomp_udecsum',\n'opp_postcomp_udecavg',\n'opp_precomp_udecavg',\n'opp_postcomp_udecsum3',\n'opp_precomp_udecsum3',\n'opp_postcomp_udecavg3',\n'opp_precomp_udecavg3',\n'opp_postcomp_udecsum5',\n'opp_precomp_udecsum5',\n'opp_postcomp_udecavg5',\n'opp_precomp_udecavg5',\n'opp_postcomp_udecdsum',\n'opp_precomp_udecdsum',\n'opp_postcomp_udecdavg',\n'opp_precomp_udecdavg',\n'opp_postcomp_udecdsum3',\n'opp_precomp_udecdsum3',\n'opp_postcomp_udecdavg3',\n'opp_precomp_udecdavg3',\n'opp_postcomp_udecdsum5',\n'opp_precomp_udecdsum5',\n'opp_postcomp_udecdavg5',\n'opp_precomp_udecdavg5',\n'opp_postcomp_sdecsum',\n'opp_precomp_sdecsum',\n'opp_postcomp_sdecavg',\n'opp_precomp_sdecavg',\n'opp_postcomp_sdecsum3',\n'opp_precomp_sdecsum3',\n'opp_postcomp_sdecavg3',\n'opp_precomp_sdecavg3',\n'opp_postcomp_sdecsum5',\n'opp_precomp_sdecsum5',\n'opp_postcomp_sdecavg5',\n'opp_precomp_sdecavg5',\n'opp_postcomp_sdecdsum',\n'opp_precomp_sdecdsum',\n'opp_postcomp_sdecdavg',\n'opp_precomp_sdecdavg',\n'opp_postcomp_sdecdsum3',\n'opp_precomp_sdecdsum3',\n'opp_postcomp_sdecdavg3',\n'opp_precomp_sdecdavg3',\n'opp_postcomp_sdecdsum5',\n'opp_precomp_sdecdsum5',\n'opp_postcomp_sdecdavg5',\n'opp_precomp_sdecdavg5',\n'opp_postcomp_mdecsum',\n'opp_precomp_mdecsum',\n'opp_postcomp_mdecavg',\n'opp_precomp_mdecavg',\n'opp_postcomp_mdecsum3',\n'opp_precomp_mdecsum3',\n'opp_postcomp_mdecavg3',\n'opp_precomp_mdecavg3',\n'opp_postcomp_mdecsum5',\n'opp_precomp_mdecsum5',\n'opp_postcomp_mdecavg5',\n'opp_precomp_mdecavg5',\n'opp_postcomp_mdecdsum',\n'opp_precomp_mdecdsum',\n'opp_postcomp_mdecdavg',\n'opp_precomp_mdecdavg',\n'opp_postcomp_mdecdsum3',\n'opp_precomp_mdecdsum3',\n'opp_postcomp_mdecdavg3',\n'opp_precomp_mdecdavg3',\n'opp_postcomp_mdecdsum5',\n'opp_precomp_mdecdsum5',\n'opp_postcomp_mdecdavg5',\n'opp_precomp_mdecdavg5'\n  UNION ALL\nSELECT\n-- SApM : SApM - Significant Strikes Absorbed per Minute\n-- Post Competition\nsingle_fighter_view.DATE,\n    single_fighter_view.jbout,\n    single_fighter_view.jevent,\n    single_fighter_view.jfighter,\n    single_fighter_view.EVENT,\n    single_fighter_view.BOUT,\n    single_fighter_view.FIGHTER,\n    single_fighter_view.fight_time_minutes,\n    single_fighter_view.precomp_tot_time_in_cage,\n    single_fighter_view.postcomp_tot_time_in_cage,\n    single_fighter_view.age,\n    single_fighter_view.HEIGHT,\n    single_fighter_view.WEIGHT,\n    single_fighter_view.REACH,\n    single_fighter_view.DOB,\n    single_fighter_view.sex,\n    single_fighter_view.weightindex,\n    single_fighter_view.weight_stat,\n    single_fighter_view.weight_of_fight,\n    single_fighter_view.precomp_weight_avg3,\n    single_fighter_view.postcomp_weight_avg3,\n    single_fighter_view.win,\n    single_fighter_view.loss,\n    single_fighter_view.ko,\n    single_fighter_view.kod,\n    single_fighter_view.subw,\n    single_fighter_view.subwd,\n    single_fighter_view.udec,\n    single_fighter_view.udecd,\n    single_fighter_view.sdec,\n    single_fighter_view.sdecd,\n    single_fighter_view.mdec,\n    single_fighter_view.mdecd,\n    single_fighter_view.subatt,\n    single_fighter_view.postcomp_tot_time_in_cage_3,\n    single_fighter_view.precomp_tot_time_in_cage_3,\n    single_fighter_view.postcomp_tot_time_in_cage_5,\n    single_fighter_view.precomp_tot_time_in_cage_5,\n    single_fighter_view.postcomp_sigstr_pm,\n    single_fighter_view.precomp_sigstr_pm,\n    single_fighter_view.postcomp_sigstr_pm3,\n    single_fighter_view.precomp_sigstr_pm3,\n    single_fighter_view.postcomp_sigstr_pm5,\n    single_fighter_view.precomp_sigstr_pm5,\n    single_fighter_view.postcomp_tdavg,\n    single_fighter_view.precomp_tdavg,\n    single_fighter_view.postcomp_tdavg3,\n    single_fighter_view.precomp_tdavg3,\n    single_fighter_view.postcomp_tdavg5,\n    single_fighter_view.precomp_tdavg5,\n    single_fighter_view.sigstrabs,\n    single_fighter_view.postcomp_sapm,\n    single_fighter_view.precomp_sapm,\n    single_fighter_view.precomp_sapm3,\n    single_fighter_view.postcomp_sapm3,\n    single_fighter_view.precomp_sapm5,\n    single_fighter_view.postcomp_sapm5,\n    single_fighter_view.postcomp_subavg,\n    single_fighter_view.precomp_subavg,\n    single_fighter_view.postcomp_subavg3,\n    single_fighter_view.precomp_subavg3,\n    single_fighter_view.postcomp_subavg5,\n    single_fighter_view.precomp_subavg5,\n    single_fighter_view.tdabs,\n    single_fighter_view.tdattfromopp,\n    single_fighter_view.postcomp_tddef,\n    single_fighter_view.precomp_tddef,\n    single_fighter_view.postcomp_tddef3,\n    single_fighter_view.precomp_tddef3,\n    single_fighter_view.postcomp_tddef5,\n    single_fighter_view.precomp_tddef5,\n    single_fighter_view.ostrabs,\n    single_fighter_view.postcomp_ostrabssum,\n    single_fighter_view.sigstracc,\n    single_fighter_view.sigstratt,\n    single_fighter_view.precomp_sigstraccsum,\n    single_fighter_view.postcomp_sigstraccsum,\n    single_fighter_view.postcomp_sigstr_perc,\n    single_fighter_view.precomp_sigstr_perc,\n    single_fighter_view.precomp_sigstr_perc3,\n    single_fighter_view.postcomp_sigstr_perc3,\n    single_fighter_view.precomp_sigstr_perc5,\n    single_fighter_view.postcomp_sigstr_perc5,\n    single_fighter_view.sigstrattfromopp,\n    single_fighter_view.postcomp_strdef,\n    single_fighter_view.precomp_strdef,\n    single_fighter_view.postcomp_strdef3,\n    single_fighter_view.precomp_strdef3,\n    single_fighter_view.postcomp_strdef5,\n    single_fighter_view.precomp_strdef5,\n    single_fighter_view.tdacc,\n    single_fighter_view.tdatt,\n    single_fighter_view.postcomp_tdacc_perc,\n    single_fighter_view.precomp_tdacc_perc,\n    single_fighter_view.postcomp_tdacc_perc3,\n    single_fighter_view.precomp_tdacc_perc3,\n    single_fighter_view.postcomp_tdacc_perc5,\n    single_fighter_view.precomp_tdacc_perc5,\n    single_fighter_view.totalacc,\n    single_fighter_view.totalatt,\n    single_fighter_view.postcomp_totalacc_perc,\n    single_fighter_view.precomp_totalacc_perc,\n    single_fighter_view.postcomp_totalacc_perc3,\n    single_fighter_view.precomp_totalacc_perc3,\n    single_fighter_view.postcomp_totalacc_perc5,\n    single_fighter_view.precomp_totalacc_perc5,\n    single_fighter_view.headacc,\n    single_fighter_view.headatt,\n    single_fighter_view.postcomp_headacc_perc,\n    single_fighter_view.precomp_headacc_perc,\n    single_fighter_view.postcomp_headacc_perc3,\n    single_fighter_view.precomp_headacc_perc3,\n    single_fighter_view.postcomp_headacc_perc5,\n    single_fighter_view.precomp_headacc_perc5,\n    single_fighter_view.bodyacc,\n    single_fighter_view.bodyatt,\n    single_fighter_view.postcomp_bodyacc_perc,\n    single_fighter_view.precomp_bodyacc_perc,\n    single_fighter_view.postcomp_bodyacc_perc3,\n    single_fighter_view.precomp_bodyacc_perc3,\n    single_fighter_view.postcomp_bodyacc_perc5,\n    single_fighter_view.precomp_bodyacc_perc5,\n    single_fighter_view.legacc,\n    single_fighter_view.legatt,\n    single_fighter_view.postcomp_legacc_perc,\n    single_fighter_view.precomp_legacc_perc,\n    single_fighter_view.postcomp_legacc_perc3,\n    single_fighter_view.precomp_legacc_perc3,\n    single_fighter_view.postcomp_legacc_perc5,\n    single_fighter_view.precomp_legacc_perc5,\n    single_fighter_view.distacc,\n    single_fighter_view.distatt,\n    single_fighter_view.postcomp_distacc_perc,\n    single_fighter_view.precomp_distacc_perc,\n    single_fighter_view.postcomp_distacc_perc3,\n    single_fighter_view.precomp_distacc_perc3,\n    single_fighter_view.postcomp_distacc_perc5,\n    single_fighter_view.precomp_distacc_perc5,\n    single_fighter_view.clinchacc,\n    single_fighter_view.clinchatt,\n    single_fighter_view.postcomp_clinchacc_perc,\n    single_fighter_view.precomp_clinchacc_perc,\n    single_fighter_view.postcomp_clinchacc_perc3,\n    single_fighter_view.precomp_clinchacc_perc3,\n    single_fighter_view.postcomp_clinchacc_perc5,\n    single_fighter_view.precomp_clinchacc_perc5,\n    single_fighter_view.groundacc,\n    single_fighter_view.groundatt,\n    single_fighter_view.postcomp_groundacc_perc,\n    single_fighter_view.precomp_groundacc_perc,\n    single_fighter_view.postcomp_groundacc_perc3,\n    single_fighter_view.precomp_groundacc_perc3,\n    single_fighter_view.postcomp_groundacc_perc5,\n    single_fighter_view.precomp_groundacc_perc5,\n    single_fighter_view.postcomp_winsum,\n    single_fighter_view.precomp_winsum,\n    single_fighter_view.postcomp_boutcount,\n    single_fighter_view.precomp_boutcount,\n    single_fighter_view.postcomp_winavg,\n    single_fighter_view.precomp_winavg,\n    single_fighter_view.postcomp_winsum3,\n    single_fighter_view.precomp_winsum3,\n    single_fighter_view.postcomp_winavg3,\n    single_fighter_view.precomp_winavg3,\n    single_fighter_view.postcomp_winsum5,\n    single_fighter_view.precomp_winsum5,\n    single_fighter_view.postcomp_winavg5,\n    single_fighter_view.precomp_winavg5,\n    single_fighter_view.postcomp_losssum,\n    single_fighter_view.precomp_losssum,\n    single_fighter_view.postcomp_lossavg,\n    single_fighter_view.precomp_lossavg,\n    single_fighter_view.postcomp_losssum3,\n    single_fighter_view.precomp_losssum3,\n    single_fighter_view.postcomp_lossavg3,\n    single_fighter_view.precomp_lossavg3,\n    single_fighter_view.postcomp_losssum5,\n    single_fighter_view.precomp_losssum5,\n    single_fighter_view.postcomp_lossavg5,\n    single_fighter_view.precomp_lossavg5,\n    single_fighter_view.postcomp_kosum,\n    single_fighter_view.precomp_kosum,\n    single_fighter_view.postcomp_koavg,\n    single_fighter_view.precomp_koavg,\n    single_fighter_view.postcomp_kosum3,\n    single_fighter_view.precomp_kosum3,\n    single_fighter_view.postcomp_koavg3,\n    single_fighter_view.precomp_koavg3,\n    single_fighter_view.postcomp_kosum5,\n    single_fighter_view.precomp_kosum5,\n    single_fighter_view.postcomp_koavg5,\n    single_fighter_view.precomp_koavg5,\n    single_fighter_view.postcomp_kodsum,\n    single_fighter_view.precomp_kodsum,\n    single_fighter_view.postcomp_kodavg,\n    single_fighter_view.precomp_kodavg,\n    single_fighter_view.postcomp_kodsum3,\n    single_fighter_view.precomp_kodsum3,\n    single_fighter_view.postcomp_kodavg3,\n    single_fighter_view.precomp_kodavg3,\n    single_fighter_view.postcomp_kodsum5,\n    single_fighter_view.precomp_kodsum5,\n    single_fighter_view.postcomp_kodavg5,\n    single_fighter_view.precomp_kodavg5,\n    single_fighter_view.postcomp_subwsum,\n    single_fighter_view.precomp_subwsum,\n    single_fighter_view.postcomp_subwavg,\n    single_fighter_view.precomp_subwavg,\n    single_fighter_view.postcomp_subwsum3,\n    single_fighter_view.precomp_subwsum3,\n    single_fighter_view.postcomp_subwavg3,\n    single_fighter_view.precomp_subwavg3,\n    single_fighter_view.postcomp_subwsum5,\n    single_fighter_view.precomp_subwsum5,\n    single_fighter_view.postcomp_subwavg5,\n    single_fighter_view.precomp_subwavg5,\n    single_fighter_view.postcomp_subwdsum,\n    single_fighter_view.precomp_subwdsum,\n    single_fighter_view.postcomp_subwdavg,\n    single_fighter_view.precomp_subwdavg,\n    single_fighter_view.postcomp_subwdsum3,\n    single_fighter_view.precomp_subwdsum3,\n    single_fighter_view.postcomp_subwdavg3,\n    single_fighter_view.precomp_subwdavg3,\n    single_fighter_view.postcomp_subwdsum5,\n    single_fighter_view.precomp_subwdsum5,\n    single_fighter_view.postcomp_subwdavg5,\n    single_fighter_view.precomp_subwdavg5,\n    single_fighter_view.postcomp_udecsum,\n    single_fighter_view.precomp_udecsum,\n    single_fighter_view.postcomp_udecavg,\n    single_fighter_view.precomp_udecavg,\n    single_fighter_view.postcomp_udecsum3,\n    single_fighter_view.precomp_udecsum3,\n    single_fighter_view.postcomp_udecavg3,\n    single_fighter_view.precomp_udecavg3,\n    single_fighter_view.postcomp_udecsum5,\n    single_fighter_view.precomp_udecsum5,\n    single_fighter_view.postcomp_udecavg5,\n    single_fighter_view.precomp_udecavg5,\n    single_fighter_view.postcomp_udecdsum,\n    single_fighter_view.precomp_udecdsum,\n    single_fighter_view.postcomp_udecdavg,\n    single_fighter_view.precomp_udecdavg,\n    single_fighter_view.postcomp_udecdsum3,\n    single_fighter_view.precomp_udecdsum3,\n    single_fighter_view.postcomp_udecdavg3,\n    single_fighter_view.precomp_udecdavg3,\n    single_fighter_view.postcomp_udecdsum5,\n    single_fighter_view.precomp_udecdsum5,\n    single_fighter_view.postcomp_udecdavg5,\n    single_fighter_view.precomp_udecdavg5,\n    single_fighter_view.postcomp_sdecsum,\n    single_fighter_view.precomp_sdecsum,\n    single_fighter_view.postcomp_sdecavg,\n    single_fighter_view.precomp_sdecavg,\n    single_fighter_view.postcomp_sdecsum3,\n    single_fighter_view.precomp_sdecsum3,\n    single_fighter_view.postcomp_sdecavg3,\n    single_fighter_view.precomp_sdecavg3,\n    single_fighter_view.postcomp_sdecsum5,\n    single_fighter_view.precomp_sdecsum5,\n    single_fighter_view.postcomp_sdecavg5,\n    single_fighter_view.precomp_sdecavg5,\n    single_fighter_view.postcomp_sdecdsum,\n    single_fighter_view.precomp_sdecdsum,\n    single_fighter_view.postcomp_sdecdavg,\n    single_fighter_view.precomp_sdecdavg,\n    single_fighter_view.postcomp_sdecdsum3,\n    single_fighter_view.precomp_sdecdsum3,\n    single_fighter_view.postcomp_sdecdavg3,\n    single_fighter_view.precomp_sdecdavg3,\n    single_fighter_view.postcomp_sdecdsum5,\n    single_fighter_view.precomp_sdecdsum5,\n    single_fighter_view.postcomp_sdecdavg5,\n    single_fighter_view.precomp_sdecdavg5,\n    single_fighter_view.postcomp_mdecsum,\n    single_fighter_view.precomp_mdecsum,\n    single_fighter_view.postcomp_mdecavg,\n    single_fighter_view.precomp_mdecavg,\n    single_fighter_view.postcomp_mdecsum3,\n    single_fighter_view.precomp_mdecsum3,\n    single_fighter_view.postcomp_mdecavg3,\n    single_fighter_view.precomp_mdecavg3,\n    single_fighter_view.postcomp_mdecsum5,\n    single_fighter_view.precomp_mdecsum5,\n    single_fighter_view.postcomp_mdecavg5,\n    single_fighter_view.precomp_mdecavg5,\n    single_fighter_view.postcomp_mdecdsum,\n    single_fighter_view.precomp_mdecdsum,\n    single_fighter_view.postcomp_mdecdavg,\n    single_fighter_view.precomp_mdecdavg,\n    single_fighter_view.postcomp_mdecdsum3,\n    single_fighter_view.precomp_mdecdsum3,\n    single_fighter_view.postcomp_mdecdavg3,\n    single_fighter_view.precomp_mdecdavg3,\n    single_fighter_view.postcomp_mdecdsum5,\n    single_fighter_view.precomp_mdecdsum5,\n    single_fighter_view.postcomp_mdecdavg5,\n    single_fighter_view.precomp_mdecdavg5,\n    single_opponent_view.DATE as opp_DATE,\n    single_opponent_view.jbout as opp_jbout,\n    single_opponent_view.jevent as opp_jevent,\n    single_opponent_view.jfighter as opp_jfighter,\n    single_opponent_view.EVENT as opp_EVENT,\n    single_opponent_view.BOUT as opp_BOUT,\n    single_opponent_view.FIGHTER as opp_FIGHTER,\n    single_opponent_view.fight_time_minutes as opp_fight_time_minutes,\n    single_opponent_view.precomp_tot_time_in_cage as opp_precomp_tot_time_in_cage,\n    single_opponent_view.postcomp_tot_time_in_cage as opp_postcomp_tot_time_in_cage,\n    single_opponent_view.age as opp_age,\n    single_opponent_view.HEIGHT as opp_HEIGHT,\n    single_opponent_view.WEIGHT as opp_WEIGHT,\n    single_opponent_view.REACH as opp_REACH,\n    single_opponent_view.DOB as opp_DOB,\n    single_opponent_view.sex as opp_sex,\n    single_opponent_view.weightindex as opp_weightindex,\n    single_opponent_view.weight_stat as opp_weight_stat,\n    single_opponent_view.weight_of_fight as opp_weight_of_fight,\n    single_opponent_view.precomp_weight_avg3 as opp_precomp_weight_avg3,\n    single_opponent_view.postcomp_weight_avg3 as opp_postcomp_weight_avg3,\n    single_opponent_view.win as opp_win,\n    single_opponent_view.loss as opp_loss,\n    single_opponent_view.ko as opp_ko,\n    single_opponent_view.kod as opp_kod,\n    single_opponent_view.subw as opp_subw,\n    single_opponent_view.subwd as opp_subwd,\n    single_opponent_view.udec as opp_udec,\n    single_opponent_view.udecd as opp_udecd,\n    single_opponent_view.sdec as opp_sdec,\n    single_opponent_view.sdecd as opp_sdecd,\n    single_opponent_view.mdec as opp_mdec,\n    single_opponent_view.mdecd as opp_mdecd,\n    single_opponent_view.subatt as opp_subatt,\n    single_opponent_view.postcomp_tot_time_in_cage_3 as opp_postcomp_tot_time_in_cage_3,\n    single_opponent_view.precomp_tot_time_in_cage_3 as opp_precomp_tot_time_in_cage_3,\n    single_opponent_view.postcomp_tot_time_in_cage_5 as opp_postcomp_tot_time_in_cage_5,\n    single_opponent_view.precomp_tot_time_in_cage_5 as opp_precomp_tot_time_in_cage_5,\n    single_opponent_view.postcomp_sigstr_pm as opp_postcomp_sigstr_pm,\n    single_opponent_view.precomp_sigstr_pm as opp_precomp_sigstr_pm,\n    single_opponent_view.postcomp_sigstr_pm3 as opp_postcomp_sigstr_pm3,\n    single_opponent_view.precomp_sigstr_pm3 as opp_precomp_sigstr_pm3,\n    single_opponent_view.postcomp_sigstr_pm5 as opp_postcomp_sigstr_pm5,\n    single_opponent_view.precomp_sigstr_pm5 as opp_precomp_sigstr_pm5,\n    single_opponent_view.postcomp_tdavg as opp_postcomp_tdavg,\n    single_opponent_view.precomp_tdavg as opp_precomp_tdavg,\n    single_opponent_view.postcomp_tdavg3 as opp_postcomp_tdavg3,\n    single_opponent_view.precomp_tdavg3 as opp_precomp_tdavg3,\n    single_opponent_view.postcomp_tdavg5 as opp_postcomp_tdavg5,\n    single_opponent_view.precomp_tdavg5 as opp_precomp_tdavg5,\n    single_opponent_view.sigstrabs as opp_sigstrabs,\n    single_opponent_view.postcomp_sapm as opp_postcomp_sapm,\n    single_opponent_view.precomp_sapm as opp_precomp_sapm,\n    single_opponent_view.precomp_sapm3 as opp_precomp_sapm3,\n    single_opponent_view.postcomp_sapm3 as opp_postcomp_sapm3,\n    single_opponent_view.precomp_sapm5 as opp_precomp_sapm5,\n    single_opponent_view.postcomp_sapm5 as opp_postcomp_sapm5,\n    single_opponent_view.postcomp_subavg as opp_postcomp_subavg,\n    single_opponent_view.precomp_subavg as opp_precomp_subavg,\n    single_opponent_view.postcomp_subavg3 as opp_postcomp_subavg3,\n    single_opponent_view.precomp_subavg3 as opp_precomp_subavg3,\n    single_opponent_view.postcomp_subavg5 as opp_postcomp_subavg5,\n    single_opponent_view.precomp_subavg5 as opp_precomp_subavg5,\n    single_opponent_view.tdabs as opp_tdabs,\n    single_opponent_view.tdattfromopp as opp_tdattfromopp,\n    single_opponent_view.postcomp_tddef as opp_postcomp_tddef,\n    single_opponent_view.precomp_tddef as opp_precomp_tddef,\n    single_opponent_view.postcomp_tddef3 as opp_postcomp_tddef3,\n    single_opponent_view.precomp_tddef3 as opp_precomp_tddef3,\n    single_opponent_view.postcomp_tddef5 as opp_postcomp_tddef5,\n    single_opponent_view.precomp_tddef5 as opp_precomp_tddef5,\n    single_opponent_view.ostrabs as opp_ostrabs,\n    single_opponent_view.postcomp_ostrabssum as opp_postcomp_ostrabssum,\n    single_opponent_view.sigstracc as opp_sigstracc,\n    single_opponent_view.sigstratt as opp_sigstratt,\n    single_opponent_view.precomp_sigstraccsum as opp_precomp_sigstraccsum,\n    single_opponent_view.postcomp_sigstraccsum as opp_postcomp_sigstraccsum,\n    single_opponent_view.postcomp_sigstr_perc as opp_postcomp_sigstr_perc,\n    single_opponent_view.precomp_sigstr_perc as opp_precomp_sigstr_perc,\n    single_opponent_view.precomp_sigstr_perc3 as opp_precomp_sigstr_perc3,\n    single_opponent_view.postcomp_sigstr_perc3 as opp_postcomp_sigstr_perc3,\n    single_opponent_view.precomp_sigstr_perc5 as opp_precomp_sigstr_perc5,\n    single_opponent_view.postcomp_sigstr_perc5 as opp_postcomp_sigstr_perc5,\n    single_opponent_view.sigstrattfromopp as opp_sigstrattfromopp,\n    single_opponent_view.postcomp_strdef as opp_postcomp_strdef,\n    single_opponent_view.precomp_strdef as opp_precomp_strdef,\n    single_opponent_view.postcomp_strdef3 as opp_postcomp_strdef3,\n    single_opponent_view.precomp_strdef3 as opp_precomp_strdef3,\n    single_opponent_view.postcomp_strdef5 as opp_postcomp_strdef5,\n    single_opponent_view.precomp_strdef5 as opp_precomp_strdef5,\n    single_opponent_view.tdacc as opp_tdacc,\n    single_opponent_view.tdatt as opp_tdatt,\n    single_opponent_view.postcomp_tdacc_perc as opp_postcomp_tdacc_perc,\n    single_opponent_view.precomp_tdacc_perc as opp_precomp_tdacc_perc,\n    single_opponent_view.postcomp_tdacc_perc3 as opp_postcomp_tdacc_perc3,\n    single_opponent_view.precomp_tdacc_perc3 as opp_precomp_tdacc_perc3,\n    single_opponent_view.postcomp_tdacc_perc5 as opp_postcomp_tdacc_perc5,\n    single_opponent_view.precomp_tdacc_perc5 as opp_precomp_tdacc_perc5,\n    single_opponent_view.totalacc as opp_totalacc,\n    single_opponent_view.totalatt as opp_totalatt,\n    single_opponent_view.postcomp_totalacc_perc as opp_postcomp_totalacc_perc,\n    single_opponent_view.precomp_totalacc_perc as opp_precomp_totalacc_perc,\n    single_opponent_view.postcomp_totalacc_perc3 as opp_postcomp_totalacc_perc3,\n    single_opponent_view.precomp_totalacc_perc3 as opp_precomp_totalacc_perc3,\n    single_opponent_view.postcomp_totalacc_perc5 as opp_postcomp_totalacc_perc5,\n    single_opponent_view.precomp_totalacc_perc5 as opp_precomp_totalacc_perc5,\n    single_opponent_view.headacc as opp_headacc,\n    single_opponent_view.headatt as opp_headatt,\n    single_opponent_view.postcomp_headacc_perc as opp_postcomp_headacc_perc,\n    single_opponent_view.precomp_headacc_perc as opp_precomp_headacc_perc,\n    single_opponent_view.postcomp_headacc_perc3 as opp_postcomp_headacc_perc3,\n    single_opponent_view.precomp_headacc_perc3 as opp_precomp_headacc_perc3,\n    single_opponent_view.postcomp_headacc_perc5 as opp_postcomp_headacc_perc5,\n    single_opponent_view.precomp_headacc_perc5 as opp_precomp_headacc_perc5,\n    single_opponent_view.bodyacc as opp_bodyacc,\n    single_opponent_view.bodyatt as opp_bodyatt,\n    single_opponent_view.postcomp_bodyacc_perc as opp_postcomp_bodyacc_perc,\n    single_opponent_view.precomp_bodyacc_perc as opp_precomp_bodyacc_perc,\n    single_opponent_view.postcomp_bodyacc_perc3 as opp_postcomp_bodyacc_perc3,\n    single_opponent_view.precomp_bodyacc_perc3 as opp_precomp_bodyacc_perc3,\n    single_opponent_view.postcomp_bodyacc_perc5 as opp_postcomp_bodyacc_perc5,\n    single_opponent_view.precomp_bodyacc_perc5 as opp_precomp_bodyacc_perc5,\n    single_opponent_view.legacc as opp_legacc,\n    single_opponent_view.legatt as opp_legatt,\n    single_opponent_view.postcomp_legacc_perc as opp_postcomp_legacc_perc,\n    single_opponent_view.precomp_legacc_perc as opp_precomp_legacc_perc,\n    single_opponent_view.postcomp_legacc_perc3 as opp_postcomp_legacc_perc3,\n    single_opponent_view.precomp_legacc_perc3 as opp_precomp_legacc_perc3,\n    single_opponent_view.postcomp_legacc_perc5 as opp_postcomp_legacc_perc5,\n    single_opponent_view.precomp_legacc_perc5 as opp_precomp_legacc_perc5,\n    single_opponent_view.distacc as opp_distacc,\n    single_opponent_view.distatt as opp_distatt,\n    single_opponent_view.postcomp_distacc_perc as opp_postcomp_distacc_perc,\n    single_opponent_view.precomp_distacc_perc as opp_precomp_distacc_perc,\n    single_opponent_view.postcomp_distacc_perc3 as opp_postcomp_distacc_perc3,\n    single_opponent_view.precomp_distacc_perc3 as opp_precomp_distacc_perc3,\n    single_opponent_view.postcomp_distacc_perc5 as opp_postcomp_distacc_perc5,\n    single_opponent_view.precomp_distacc_perc5 as opp_precomp_distacc_perc5,\n    single_opponent_view.clinchacc as opp_clinchacc,\n    single_opponent_view.clinchatt as opp_clinchatt,\n    single_opponent_view.postcomp_clinchacc_perc as opp_postcomp_clinchacc_perc,\n    single_opponent_view.precomp_clinchacc_perc as opp_precomp_clinchacc_perc,\n    single_opponent_view.postcomp_clinchacc_perc3 as opp_postcomp_clinchacc_perc3,\n    single_opponent_view.precomp_clinchacc_perc3 as opp_precomp_clinchacc_perc3,\n    single_opponent_view.postcomp_clinchacc_perc5 as opp_postcomp_clinchacc_perc5,\n    single_opponent_view.precomp_clinchacc_perc5 as opp_precomp_clinchacc_perc5,\n    single_opponent_view.groundacc as opp_groundacc,\n    single_opponent_view.groundatt as opp_groundatt,\n    single_opponent_view.postcomp_groundacc_perc as opp_postcomp_groundacc_perc,\n    single_opponent_view.precomp_groundacc_perc as opp_precomp_groundacc_perc,\n    single_opponent_view.postcomp_groundacc_perc3 as opp_postcomp_groundacc_perc3,\n    single_opponent_view.precomp_groundacc_perc3 as opp_precomp_groundacc_perc3,\n    single_opponent_view.postcomp_groundacc_perc5 as opp_postcomp_groundacc_perc5,\n    single_opponent_view.precomp_groundacc_perc5 as opp_precomp_groundacc_perc5,\n    single_opponent_view.postcomp_winsum as opp_postcomp_winsum,\n    single_opponent_view.precomp_winsum as opp_precomp_winsum,\n    single_opponent_view.postcomp_boutcount as opp_postcomp_boutcount,\n    single_opponent_view.precomp_boutcount as opp_precomp_boutcount,\n    single_opponent_view.postcomp_winavg as opp_postcomp_winavg,\n    single_opponent_view.precomp_winavg as opp_precomp_winavg,\n    single_opponent_view.postcomp_winsum3 as opp_postcomp_winsum3,\n    single_opponent_view.precomp_winsum3 as opp_precomp_winsum3,\n    single_opponent_view.postcomp_winavg3 as opp_postcomp_winavg3,\n    single_opponent_view.precomp_winavg3 as opp_precomp_winavg3,\n    single_opponent_view.postcomp_winsum5 as opp_postcomp_winsum5,\n    single_opponent_view.precomp_winsum5 as opp_precomp_winsum5,\n    single_opponent_view.postcomp_winavg5 as opp_postcomp_winavg5,\n    single_opponent_view.precomp_winavg5 as opp_precomp_winavg5,\n    single_opponent_view.postcomp_losssum as opp_postcomp_losssum,\n    single_opponent_view.precomp_losssum as opp_precomp_losssum,\n    single_opponent_view.postcomp_lossavg as opp_postcomp_lossavg,\n    single_opponent_view.precomp_lossavg as opp_precomp_lossavg,\n    single_opponent_view.postcomp_losssum3 as opp_postcomp_losssum3,\n    single_opponent_view.precomp_losssum3 as opp_precomp_losssum3,\n    single_opponent_view.postcomp_lossavg3 as opp_postcomp_lossavg3,\n    single_opponent_view.precomp_lossavg3 as opp_precomp_lossavg3,\n    single_opponent_view.postcomp_losssum5 as opp_postcomp_losssum5,\n    single_opponent_view.precomp_losssum5 as opp_precomp_losssum5,\n    single_opponent_view.postcomp_lossavg5 as opp_postcomp_lossavg5,\n    single_opponent_view.precomp_lossavg5 as opp_precomp_lossavg5,\n    single_opponent_view.postcomp_kosum as opp_postcomp_kosum,\n    single_opponent_view.precomp_kosum as opp_precomp_kosum,\n    single_opponent_view.postcomp_koavg as opp_postcomp_koavg,\n    single_opponent_view.precomp_koavg as opp_precomp_koavg,\n    single_opponent_view.postcomp_kosum3 as opp_postcomp_kosum3,\n    single_opponent_view.precomp_kosum3 as opp_precomp_kosum3,\n    single_opponent_view.postcomp_koavg3 as opp_postcomp_koavg3,\n    single_opponent_view.precomp_koavg3 as opp_precomp_koavg3,\n    single_opponent_view.postcomp_kosum5 as opp_postcomp_kosum5,\n    single_opponent_view.precomp_kosum5 as opp_precomp_kosum5,\n    single_opponent_view.postcomp_koavg5 as opp_postcomp_koavg5,\n    single_opponent_view.precomp_koavg5 as opp_precomp_koavg5,\n    single_opponent_view.postcomp_kodsum as opp_postcomp_kodsum,\n    single_opponent_view.precomp_kodsum as opp_precomp_kodsum,\n    single_opponent_view.postcomp_kodavg as opp_postcomp_kodavg,\n    single_opponent_view.precomp_kodavg as opp_precomp_kodavg,\n    single_opponent_view.postcomp_kodsum3 as opp_postcomp_kodsum3,\n    single_opponent_view.precomp_kodsum3 as opp_precomp_kodsum3,\n    single_opponent_view.postcomp_kodavg3 as opp_postcomp_kodavg3,\n    single_opponent_view.precomp_kodavg3 as opp_precomp_kodavg3,\n    single_opponent_view.postcomp_kodsum5 as opp_postcomp_kodsum5,\n    single_opponent_view.precomp_kodsum5 as opp_precomp_kodsum5,\n    single_opponent_view.postcomp_kodavg5 as opp_postcomp_kodavg5,\n    single_opponent_view.precomp_kodavg5 as opp_precomp_kodavg5,\n    single_opponent_view.postcomp_subwsum as opp_postcomp_subwsum,\n    single_opponent_view.precomp_subwsum as opp_precomp_subwsum,\n    single_opponent_view.postcomp_subwavg as opp_postcomp_subwavg,\n    single_opponent_view.precomp_subwavg as opp_precomp_subwavg,\n    single_opponent_view.postcomp_subwsum3 as opp_postcomp_subwsum3,\n    single_opponent_view.precomp_subwsum3 as opp_precomp_subwsum3,\n    single_opponent_view.postcomp_subwavg3 as opp_postcomp_subwavg3,\n    single_opponent_view.precomp_subwavg3 as opp_precomp_subwavg3,\n    single_opponent_view.postcomp_subwsum5 as opp_postcomp_subwsum5,\n    single_opponent_view.precomp_subwsum5 as opp_precomp_subsum5,\n    single_opponent_view.postcomp_subwavg5 as opp_postcomp_subwavg5,\n    single_opponent_view.precomp_subwavg5 as opp_precomp_subwavg5,\n    single_opponent_view.postcomp_subwdsum as opp_postcomp_subwdsum,\n    single_opponent_view.precomp_subwdsum as opp_precomp_subwdsum,\n    single_opponent_view.postcomp_subwdavg as opp_postcomp_subwdavg,\n    single_opponent_view.precomp_subwdavg as opp_precomp_subwdavg,\n    single_opponent_view.postcomp_subwdsum3 as opp_postcomp_subwdsum3,\n    single_opponent_view.precomp_subwdsum3 as opp_precomp_subwdsum3,\n    single_opponent_view.postcomp_subwdavg3 as opp_postcomp_subwdavg3,\n    single_opponent_view.precomp_subwdavg3 as opp_precomp_subwdavg3,\n    single_opponent_view.postcomp_subwdsum5 as opp_postcomp_subwdsum5,\n    single_opponent_view.precomp_subwdsum5 as opp_precomp_subwdsum5,\n    single_opponent_view.postcomp_subwdavg5 as opp_postcomp_subwdavg5,\n    single_opponent_view.precomp_subwdavg5 as opp_precomp_subwdavg5,\n    single_opponent_view.postcomp_udecsum as opp_postcomp_udecsum,\n    single_opponent_view.precomp_udecsum as opp_precomp_udecsum,\n    single_opponent_view.postcomp_udecavg as opp_postcomp_udecavg,\n    single_opponent_view.precomp_udecavg as opp_precomp_udecavg,\n    single_opponent_view.postcomp_udecsum3 as opp_postcomp_udecsum3,\n    single_opponent_view.precomp_udecsum3 as opp_precomp_udecsum3,\n    single_opponent_view.postcomp_udecavg3 as opp_postcomp_udecavg3,\n    single_opponent_view.precomp_udecavg3 as opp_precomp_udecavg3,\n    single_opponent_view.postcomp_udecsum5 as opp_postcomp_udecsum5,\n    single_opponent_view.precomp_udecsum5 as opp_precomp_udecsum5,\n    single_opponent_view.postcomp_udecavg5 as opp_postcomp_udecavg5,\n    single_opponent_view.precomp_udecavg5 as opp_precomp_udecavg5,\n    single_opponent_view.postcomp_udecdsum as opp_postcomp_udecdsum,\n    single_opponent_view.precomp_udecdsum as opp_precomp_udecdsum,\n    single_opponent_view.postcomp_udecdavg as opp_postcomp_udecdavg,\n    single_opponent_view.precomp_udecdavg as opp_precomp_udecdavg,\n    single_opponent_view.postcomp_udecdsum3 as opp_postcomp_udecdsum3,\n    single_opponent_view.precomp_udecdsum3 as opp_precomp_udecdsum3,\n    single_opponent_view.postcomp_udecdavg3 as opp_postcomp_udecdavg3,\n    single_opponent_view.precomp_udecdavg3 as opp_precomp_udecdavg3,\n    single_opponent_view.postcomp_udecdsum5 as opp_postcomp_udecdsum5,\n    single_opponent_view.precomp_udecdsum5 as opp_precomp_udecdsum5,\n    single_opponent_view.postcomp_udecdavg5 as opp_postcomp_udecdavg5,\n    single_opponent_view.precomp_udecdavg5 as opp_precomp_udecdavg5,\n    single_opponent_view.postcomp_sdecsum as opp_postcomp_sdecsum,\n    single_opponent_view.precomp_sdecsum as opp_precomp_sdecsum,\n    single_opponent_view.postcomp_sdecavg as opp_postcomp_sdecavg,\n    single_opponent_view.precomp_sdecavg as opp_precomp_sdecavg,\n    single_opponent_view.postcomp_sdecsum3 as opp_postcomp_sdecsum3,\n    single_opponent_view.precomp_sdecsum3 as opp_precomp_sdecsum3,\n    single_opponent_view.postcomp_sdecavg3 as opp_postcomp_sdecavg3,\n    single_opponent_view.precomp_sdecavg3 as opp_precomp_sdecavg3,\n    single_opponent_view.postcomp_sdecsum5 as opp_postcomp_sdecsum5,\n    single_opponent_view.precomp_sdecsum5 as opp_precomp_sdecsum5,\n    single_opponent_view.postcomp_sdecavg5 as opp_postcomp_sdecavg5,\n    single_opponent_view.precomp_sdecavg5 as opp_precomp_sdecavg5,\n    single_opponent_view.postcomp_sdecdsum as opp_postcomp_sdecdsum,\n    single_opponent_view.precomp_sdecdsum as opp_precomp_sdecdsum,\n    single_opponent_view.postcomp_sdecdavg as opp_postcomp_sdecdavg,\n    single_opponent_view.precomp_sdecdavg as opp_precomp_sdecdavg,\n    single_opponent_view.postcomp_sdecdsum3 as opp_postcomp_sdecdsum3,\n    single_opponent_view.precomp_sdecdsum3 as opp_precomp_sdecdsum3,\n    single_opponent_view.postcomp_sdecdavg3 as opp_postcomp_sdecdavg3,\n    single_opponent_view.precomp_sdecdavg3 as opp_precomp_sdecdavg3,\n    single_opponent_view.postcomp_sdecdsum5 as opp_postcomp_sdecdsum5,\n    single_opponent_view.precomp_sdecdsum5 as opp_precomp_sdecdsum5,\n    single_opponent_view.postcomp_sdecdavg5 as opp_postcomp_sdecdavg5,\n    single_opponent_view.precomp_sdecdavg5 as opp_precomp_sdecdavg5,\n    single_opponent_view.postcomp_mdecsum as opp_postcomp_mdecsum,\n    single_opponent_view.precomp_mdecsum as opp_precomp_mdecsum,\n    single_opponent_view.postcomp_mdecavg as opp_postcomp_mdecavg,\n    single_opponent_view.precomp_mdecavg as opp_precomp_mdecavg,\n    single_opponent_view.postcomp_mdecsum3 as opp_postcomp_mdecsum3,\n    single_opponent_view.precomp_mdecsum3 as opp_precomp_mdecsum3,\n    single_opponent_view.postcomp_mdecavg3 as opp_postcomp_mdecavg3,\n    single_opponent_view.precomp_mdecavg3 as opp_precomp_mdecavg3,\n    single_opponent_view.postcomp_mdecsum5 as opp_postcomp_mdecsum5,\n    single_opponent_view.precomp_mdecsum5 as opp_precomp_mdecsum5,\n    single_opponent_view.postcomp_mdecavg5 as opp_postcomp_mdecavg5,\n    single_opponent_view.precomp_mdecavg5 as opp_precomp_mdecavg5,\n    single_opponent_view.postcomp_mdecdsum as opp_postcomp_mdecdsum,\n    single_opponent_view.precomp_mdecdsum as opp_precomp_mdecdsum,\n    single_opponent_view.postcomp_mdecdavg as opp_postcomp_mdecdavg,\n    single_opponent_view.precomp_mdecdavg as opp_precomp_mdecdavg,\n    single_opponent_view.postcomp_mdecdsum3 as opp_postcomp_mdecdsum3,\n    single_opponent_view.precomp_mdecdsum3 as opp_precomp_mdecdsum3,\n    single_opponent_view.postcomp_mdecdavg3 as opp_postcomp_mdecdavg3,\n    single_opponent_view.precomp_mdecdavg3 as opp_precomp_mdecdavg3,\n    single_opponent_view.postcomp_mdecdsum5 as opp_postcomp_mdecdsum5,\n    single_opponent_view.precomp_mdecdsum5 as opp_precomp_mdecdsum5,\n    single_opponent_view.postcomp_mdecdavg5 as opp_postcomp_mdecdavg5,\n    single_opponent_view.precomp_mdecdavg5 as opp_precomp_mdecdavg5\nFROM single_fighter_view JOIN single_opponent_view\nON single_fighter_view.jbout = single_opponent_view.jbout AND\n   single_fighter_view.jevent = single_opponent_view.jevent;\n': You can only execute one statement at a time.",
     "output_type": "error",
     "traceback": [
      "\u001b[0;31m---------------------------------------------------------------------------\u001b[0m",
      "\u001b[0;31mWarning\u001b[0m                                   Traceback (most recent call last)",
      "File \u001b[0;32m~/Desktop/UFC_fight_predictor/ufc_env/lib/python3.9/site-packages/pandas/io/sql.py:2674\u001b[0m, in \u001b[0;36mSQLiteDatabase.execute\u001b[0;34m(self, sql, params)\u001b[0m\n\u001b[1;32m   2673\u001b[0m \u001b[38;5;28;01mtry\u001b[39;00m:\n\u001b[0;32m-> 2674\u001b[0m     \u001b[43mcur\u001b[49m\u001b[38;5;241;43m.\u001b[39;49m\u001b[43mexecute\u001b[49m\u001b[43m(\u001b[49m\u001b[43msql\u001b[49m\u001b[43m,\u001b[49m\u001b[43m \u001b[49m\u001b[38;5;241;43m*\u001b[39;49m\u001b[43margs\u001b[49m\u001b[43m)\u001b[49m\n\u001b[1;32m   2675\u001b[0m     \u001b[38;5;28;01mreturn\u001b[39;00m cur\n",
      "\u001b[0;31mWarning\u001b[0m: You can only execute one statement at a time.",
      "\nThe above exception was the direct cause of the following exception:\n",
      "\u001b[0;31mDatabaseError\u001b[0m                             Traceback (most recent call last)",
      "Cell \u001b[0;32mIn[8], line 3\u001b[0m\n\u001b[1;32m      1\u001b[0m \u001b[38;5;28;01mwith\u001b[39;00m \u001b[38;5;28mopen\u001b[39m(\u001b[38;5;124m'\u001b[39m\u001b[38;5;124m../src/sql_scripts/test.sql\u001b[39m\u001b[38;5;124m'\u001b[39m, \u001b[38;5;124m'\u001b[39m\u001b[38;5;124mr\u001b[39m\u001b[38;5;124m'\u001b[39m) \u001b[38;5;28;01mas\u001b[39;00m f:\n\u001b[1;32m      2\u001b[0m   sql_final_views \u001b[38;5;241m=\u001b[39m f\u001b[38;5;241m.\u001b[39mread()\n\u001b[0;32m----> 3\u001b[0m df \u001b[38;5;241m=\u001b[39m \u001b[43mpd\u001b[49m\u001b[38;5;241;43m.\u001b[39;49m\u001b[43mread_sql_query\u001b[49m\u001b[43m(\u001b[49m\u001b[43msql_final_views\u001b[49m\u001b[43m,\u001b[49m\u001b[43m \u001b[49m\u001b[43mdb_conn\u001b[49m\u001b[43m)\u001b[49m\n\u001b[1;32m      5\u001b[0m cursor\u001b[38;5;241m.\u001b[39mexecutescript(sql_final_views)\n\u001b[1;32m      6\u001b[0m db_conn\u001b[38;5;241m.\u001b[39mcommit()\n",
      "File \u001b[0;32m~/Desktop/UFC_fight_predictor/ufc_env/lib/python3.9/site-packages/pandas/io/sql.py:526\u001b[0m, in \u001b[0;36mread_sql_query\u001b[0;34m(sql, con, index_col, coerce_float, params, parse_dates, chunksize, dtype, dtype_backend)\u001b[0m\n\u001b[1;32m    523\u001b[0m \u001b[38;5;28;01massert\u001b[39;00m dtype_backend \u001b[38;5;129;01mis\u001b[39;00m \u001b[38;5;129;01mnot\u001b[39;00m lib\u001b[38;5;241m.\u001b[39mno_default\n\u001b[1;32m    525\u001b[0m \u001b[38;5;28;01mwith\u001b[39;00m pandasSQL_builder(con) \u001b[38;5;28;01mas\u001b[39;00m pandas_sql:\n\u001b[0;32m--> 526\u001b[0m     \u001b[38;5;28;01mreturn\u001b[39;00m \u001b[43mpandas_sql\u001b[49m\u001b[38;5;241;43m.\u001b[39;49m\u001b[43mread_query\u001b[49m\u001b[43m(\u001b[49m\n\u001b[1;32m    527\u001b[0m \u001b[43m        \u001b[49m\u001b[43msql\u001b[49m\u001b[43m,\u001b[49m\n\u001b[1;32m    528\u001b[0m \u001b[43m        \u001b[49m\u001b[43mindex_col\u001b[49m\u001b[38;5;241;43m=\u001b[39;49m\u001b[43mindex_col\u001b[49m\u001b[43m,\u001b[49m\n\u001b[1;32m    529\u001b[0m \u001b[43m        \u001b[49m\u001b[43mparams\u001b[49m\u001b[38;5;241;43m=\u001b[39;49m\u001b[43mparams\u001b[49m\u001b[43m,\u001b[49m\n\u001b[1;32m    530\u001b[0m \u001b[43m        \u001b[49m\u001b[43mcoerce_float\u001b[49m\u001b[38;5;241;43m=\u001b[39;49m\u001b[43mcoerce_float\u001b[49m\u001b[43m,\u001b[49m\n\u001b[1;32m    531\u001b[0m \u001b[43m        \u001b[49m\u001b[43mparse_dates\u001b[49m\u001b[38;5;241;43m=\u001b[39;49m\u001b[43mparse_dates\u001b[49m\u001b[43m,\u001b[49m\n\u001b[1;32m    532\u001b[0m \u001b[43m        \u001b[49m\u001b[43mchunksize\u001b[49m\u001b[38;5;241;43m=\u001b[39;49m\u001b[43mchunksize\u001b[49m\u001b[43m,\u001b[49m\n\u001b[1;32m    533\u001b[0m \u001b[43m        \u001b[49m\u001b[43mdtype\u001b[49m\u001b[38;5;241;43m=\u001b[39;49m\u001b[43mdtype\u001b[49m\u001b[43m,\u001b[49m\n\u001b[1;32m    534\u001b[0m \u001b[43m        \u001b[49m\u001b[43mdtype_backend\u001b[49m\u001b[38;5;241;43m=\u001b[39;49m\u001b[43mdtype_backend\u001b[49m\u001b[43m,\u001b[49m\n\u001b[1;32m    535\u001b[0m \u001b[43m    \u001b[49m\u001b[43m)\u001b[49m\n",
      "File \u001b[0;32m~/Desktop/UFC_fight_predictor/ufc_env/lib/python3.9/site-packages/pandas/io/sql.py:2738\u001b[0m, in \u001b[0;36mSQLiteDatabase.read_query\u001b[0;34m(self, sql, index_col, coerce_float, parse_dates, params, chunksize, dtype, dtype_backend)\u001b[0m\n\u001b[1;32m   2727\u001b[0m \u001b[38;5;28;01mdef\u001b[39;00m \u001b[38;5;21mread_query\u001b[39m(\n\u001b[1;32m   2728\u001b[0m     \u001b[38;5;28mself\u001b[39m,\n\u001b[1;32m   2729\u001b[0m     sql,\n\u001b[0;32m   (...)\u001b[0m\n\u001b[1;32m   2736\u001b[0m     dtype_backend: DtypeBackend \u001b[38;5;241m|\u001b[39m Literal[\u001b[38;5;124m\"\u001b[39m\u001b[38;5;124mnumpy\u001b[39m\u001b[38;5;124m\"\u001b[39m] \u001b[38;5;241m=\u001b[39m \u001b[38;5;124m\"\u001b[39m\u001b[38;5;124mnumpy\u001b[39m\u001b[38;5;124m\"\u001b[39m,\n\u001b[1;32m   2737\u001b[0m ) \u001b[38;5;241m-\u001b[39m\u001b[38;5;241m>\u001b[39m DataFrame \u001b[38;5;241m|\u001b[39m Iterator[DataFrame]:\n\u001b[0;32m-> 2738\u001b[0m     cursor \u001b[38;5;241m=\u001b[39m \u001b[38;5;28;43mself\u001b[39;49m\u001b[38;5;241;43m.\u001b[39;49m\u001b[43mexecute\u001b[49m\u001b[43m(\u001b[49m\u001b[43msql\u001b[49m\u001b[43m,\u001b[49m\u001b[43m \u001b[49m\u001b[43mparams\u001b[49m\u001b[43m)\u001b[49m\n\u001b[1;32m   2739\u001b[0m     columns \u001b[38;5;241m=\u001b[39m [col_desc[\u001b[38;5;241m0\u001b[39m] \u001b[38;5;28;01mfor\u001b[39;00m col_desc \u001b[38;5;129;01min\u001b[39;00m cursor\u001b[38;5;241m.\u001b[39mdescription]\n\u001b[1;32m   2741\u001b[0m     \u001b[38;5;28;01mif\u001b[39;00m chunksize \u001b[38;5;129;01mis\u001b[39;00m \u001b[38;5;129;01mnot\u001b[39;00m \u001b[38;5;28;01mNone\u001b[39;00m:\n",
      "File \u001b[0;32m~/Desktop/UFC_fight_predictor/ufc_env/lib/python3.9/site-packages/pandas/io/sql.py:2686\u001b[0m, in \u001b[0;36mSQLiteDatabase.execute\u001b[0;34m(self, sql, params)\u001b[0m\n\u001b[1;32m   2683\u001b[0m     \u001b[38;5;28;01mraise\u001b[39;00m ex \u001b[38;5;28;01mfrom\u001b[39;00m \u001b[38;5;21;01minner_exc\u001b[39;00m\n\u001b[1;32m   2685\u001b[0m ex \u001b[38;5;241m=\u001b[39m DatabaseError(\u001b[38;5;124mf\u001b[39m\u001b[38;5;124m\"\u001b[39m\u001b[38;5;124mExecution failed on sql \u001b[39m\u001b[38;5;124m'\u001b[39m\u001b[38;5;132;01m{\u001b[39;00msql\u001b[38;5;132;01m}\u001b[39;00m\u001b[38;5;124m'\u001b[39m\u001b[38;5;124m: \u001b[39m\u001b[38;5;132;01m{\u001b[39;00mexc\u001b[38;5;132;01m}\u001b[39;00m\u001b[38;5;124m\"\u001b[39m)\n\u001b[0;32m-> 2686\u001b[0m \u001b[38;5;28;01mraise\u001b[39;00m ex \u001b[38;5;28;01mfrom\u001b[39;00m \u001b[38;5;21;01mexc\u001b[39;00m\n",
      "\u001b[0;31mDatabaseError\u001b[0m: Execution failed on sql 'DROP VIEW IF EXISTS single_full_view;\n\n\nCREATE VIEW single_full_view AS\nSELECT\n    date(ed.DATE) AS DATE,\n    ms.jbout,\n    ms.jevent,\n    ms.jfighter,\n    ms.EVENT,\n    ms.BOUT,\n    ms.FIGHTER,\n    w.fight_time_minutes,\n    IFNULL(SUM(fight_time_minutes) OVER wu1, 0) AS precomp_tot_time_in_cage,\n    IFNULL(SUM(fight_time_minutes) OVER wu0, 0) AS postcomp_tot_time_in_cage,\n    (julianday(DATE(ed.DATE)) - julianday(DATE(t.DOB))) / 365.25 AS age,\n    --(julianday(date(ed.DATE)) - julianday(date(t.DOB))) / 365 AS age,\n    t.HEIGHT,\n    t.WEIGHT,\n    t.REACH,\n    date(t.DOB) AS DOB,\n    t.sex,\n    t.weightindex,\n    t.weight_stat,\n    r.weightindex AS weight_of_fight,\n    IFNULL(AVG(r.weightindex)  OVER w31, 0) AS precomp_weight_avg3,\n    IFNULL(AVG(r.weightindex) OVER w20, 1) AS postcomp_weight_avg3,\n    w.win,\n    w.loss,\n    w.udec,\n    w.udecd,\n    w.mdec,\n    w.mdecd,\n    w.sdec,\n    w.sdecd,\n    w.subw,\n    w.subwd,\n    w.ko,\n    w.kod,\n    ms.subatt,\n    IFNULL(SUM(fight_time_minutes) OVER w20, 0) AS postcomp_tot_time_in_cage_3,\n    IFNULL(SUM(fight_time_minutes) OVER w31, 0) AS precomp_tot_time_in_cage_3,\n    IFNULL(SUM(fight_time_minutes) OVER w40, 0) AS postcomp_tot_time_in_cage_5,\n    IFNULL(SUM(fight_time_minutes) OVER w51, 0) AS precomp_tot_time_in_cage_5,\n    -- SLpM: Significant Strikes Landed per Minute over 3 and 5 fights\n    CASE \n        WHEN IFNULL(SUM(fight_time_minutes) OVER wu0, 0.0) = 0.0 THEN 0.0\n        ELSE IFNULL(SUM(CAST(sigstracc AS FLOAT)) OVER wu0  , 0.0) / IFNULL(SUM(fight_time_minutes ) OVER wu0 , 0.0) \n    END AS postcomp_sigstr_pm,\n    CASE \n        WHEN IFNULL(SUM(fight_time_minutes) OVER wu1, 0) = 0 THEN 0.0\n        ELSE IFNULL(SUM(CAST(sigstracc AS FLOAT)) OVER wu1, 0) / IFNULL(SUM(fight_time_minutes) OVER wu1, 0)\n    END AS precomp_sigstr_pm,\n    -- 3 fights\n    CASE \n        WHEN IFNULL(SUM(fight_time_minutes) OVER w20, 0) = 0 THEN 0\n        ELSE IFNULL(SUM(CAST(sigstracc AS FLOAT)) OVER w20, 0) / IFNULL(SUM(fight_time_minutes) OVER w20, 0)\n    END AS postcomp_sigstr_pm3,\n    CASE \n        WHEN IFNULL(SUM(fight_time_minutes) OVER w31, 0) = 0 THEN 0\n        ELSE IFNULL(SUM(CAST(sigstracc AS FLOAT)) OVER w31, 0) / IFNULL(SUM(fight_time_minutes) OVER w31, 0)\n    END AS precomp_sigstr_pm3,\n    -- 5 fights\n    CASE \n        WHEN IFNULL(SUM(fight_time_minutes) OVER w40, 0) = 0 THEN 0\n        ELSE IFNULL(SUM(CAST(sigstracc AS FLOAT)) OVER w40, 0) / IFNULL(SUM(fight_time_minutes) OVER w40, 0)\n    END AS postcomp_sigstr_pm5,\n    CASE \n        WHEN IFNULL(SUM(fight_time_minutes) OVER w51, 0) = 0 THEN 0\n        ELSE IFNULL(SUM(CAST(sigstracc AS FLOAT)) OVER w51, 0) / IFNULL(SUM(fight_time_minutes) OVER w51, 0)\n    END AS precomp_sigstr_pm5,\n    -- TDAvg: average take downs landed per 15 minutes over 3 and 5 fights\n    CASE \n        WHEN IFNULL(SUM(fight_time_minutes) OVER wu0, 0) = 0 THEN 0\n        ELSE IFNULL(SUM(CAST(tdacc AS FLOAT)) OVER wu0, 0) * 15 / IFNULL(SUM(fight_time_minutes) OVER wu0, 0)\n    END AS postcomp_tdavg,\n    CASE \n        WHEN IFNULL(SUM(fight_time_minutes) OVER wu1, 0) = 0 THEN 0\n        ELSE IFNULL(SUM(CAST(tdacc AS FLOAT)) OVER wu1, 0) * 15 / IFNULL(SUM(fight_time_minutes) OVER wu1, 0)\n    END AS precomp_tdavg,\n    -- 3 fight average\n    CASE \n        WHEN IFNULL(SUM(fight_time_minutes) OVER w20, 0) = 0 THEN 0\n        ELSE IFNULL(SUM(CAST(tdacc AS FLOAT)) OVER w20, 0) * 15 / IFNULL(SUM(fight_time_minutes) OVER w20, 0)\n    END AS postcomp_tdavg3,\n    CASE \n        WHEN IFNULL(SUM(fight_time_minutes) OVER w31, 0) = 0 THEN 0\n        ELSE IFNULL(SUM(CAST(tdacc AS FLOAT)) OVER w31, 0) * 15 / IFNULL(SUM(fight_time_minutes) OVER w31, 0)\n    END AS precomp_tdavg3,\n    -- 5 fights\n    CASE \n        WHEN IFNULL(SUM(fight_time_minutes) OVER w40, 0) = 0 THEN 0\n        ELSE IFNULL(SUM(CAST(tdacc AS FLOAT)) OVER w40, 0) * 15 / IFNULL(SUM(fight_time_minutes) OVER w40, 0)\n    END AS postcomp_tdavg5,\n    CASE \n        WHEN IFNULL(SUM(fight_time_minutes) OVER w51, 0) = 0 THEN 0\n        ELSE IFNULL(SUM(CAST(tdacc AS FLOAT)) OVER w51, 0) * 15 / IFNULL(SUM(fight_time_minutes) OVER w51, 0)\n    END AS precomp_tdavg5,\n    -- SApM: Significant Strikes Absorbed per Minute over 3 and 5 fights\n    sa.sigstrabs,\n    CASE \n        WHEN IFNULL(SUM(fight_time_minutes) OVER wu0, 0) = 0 THEN 0\n        ELSE IFNULL(SUM(CAST(sigstrabs AS FLOAT)) OVER wu0, 0) / IFNULL(SUM(fight_time_minutes) OVER wu0, 0)\n    END AS postcomp_sapm,\n    CASE \n        WHEN IFNULL(SUM(fight_time_minutes) OVER wu1, 0) = 0 THEN 0\n        ELSE IFNULL(SUM(CAST(sigstrabs AS FLOAT)) OVER wu1, 0) / IFNULL(SUM(fight_time_minutes) OVER wu1, 0)\n    END AS precomp_sapm,\n    -- 3 fights\n    CASE \n        WHEN IFNULL(SUM(fight_time_minutes) OVER w31, 0) = 0 THEN 0\n        ELSE IFNULL(SUM(CAST(sigstrabs AS FLOAT)) OVER w31, 0) / IFNULL(SUM(fight_time_minutes) OVER w31, 0)\n    END AS precomp_sapm3,\n    CASE \n        WHEN IFNULL(SUM(fight_time_minutes) OVER w20, 0) = 0 THEN 0\n        ELSE IFNULL(SUM(CAST(sigstrabs AS FLOAT)) OVER w20, 0) / IFNULL(SUM(fight_time_minutes) OVER w20, 0)\n    END AS postcomp_sapm3,\n    -- 5 fights\n    CASE \n        WHEN IFNULL(SUM(fight_time_minutes) OVER w51, 0) = 0 THEN 0\n        ELSE IFNULL(SUM(CAST(sigstrabs AS FLOAT)) OVER w51, 0) / IFNULL(SUM(fight_time_minutes) OVER w51, 0)\n    END AS precomp_sapm5,\n    CASE \n        WHEN IFNULL(SUM(fight_time_minutes) OVER w40, 0) = 0 THEN 0\n        ELSE IFNULL(SUM(CAST(sigstrabs AS FLOAT)) OVER w40, 0) / IFNULL(SUM(fight_time_minutes) OVER w40, 0)\n    END AS postcomp_sapm5,\n    -- SubAvg: average submission attempts per 15 minutes over 3 and 5 fights\n    CASE \n        WHEN IFNULL(SUM(fight_time_minutes) OVER wu0, 0) = 0 THEN 0\n        ELSE IFNULL(SUM(CAST(subatt AS FLOAT)) OVER wu0, 0) * 15 / IFNULL(SUM(fight_time_minutes) OVER wu0, 0)\n    END AS postcomp_subavg,\n    CASE \n        WHEN IFNULL(SUM(fight_time_minutes) OVER wu1, 0) = 0 THEN 0\n        ELSE IFNULL(SUM(CAST(subatt AS FLOAT)) OVER wu1, 0) * 15 / IFNULL(SUM(fight_time_minutes) OVER wu1, 0)\n    END AS precomp_subavg,\n    -- 3 fight average\n    CASE \n        WHEN IFNULL(SUM(fight_time_minutes) OVER w20, 0) = 0 THEN 0\n        ELSE IFNULL(SUM(CAST(subatt AS FLOAT)) OVER w20, 0) * 15 / IFNULL(SUM(fight_time_minutes) OVER w20, 0)\n    END AS postcomp_subavg3,\n    CASE \n        WHEN IFNULL(SUM(fight_time_minutes) OVER w31, 0) = 0 THEN 0\n        ELSE IFNULL(SUM(CAST(subatt AS FLOAT)) OVER w31, 0) * 15 / IFNULL(SUM(fight_time_minutes) OVER w31, 0)\n    END AS precomp_subavg3,\n    -- 5 fights\n    CASE \n        WHEN IFNULL(SUM(fight_time_minutes) OVER w40, 0) = 0 THEN 0\n        ELSE IFNULL(SUM(CAST(subatt AS FLOAT)) OVER w40, 0) * 15 / IFNULL(SUM(fight_time_minutes) OVER w40, 0)\n    END AS postcomp_subavg5,\n    CASE \n        WHEN IFNULL(SUM(fight_time_minutes) OVER w51, 0) = 0 THEN 0\n        ELSE IFNULL(SUM(CAST(subatt AS FLOAT)) OVER w51, 0) * 15 / IFNULL(SUM(fight_time_minutes) OVER w51, 0)\n    END AS precomp_subavg5,\n    -- TdDef: Takedown Defense\n    sa.tdabs,\n    sa.tdattfromopp,\n    CASE \n        WHEN IFNULL(SUM(tdattfromopp) OVER wu0, 0) = 0 THEN 0\n        ELSE 1 - (IFNULL(SUM(CAST(tdabs AS FLOAT)) OVER wu0, 0) / IFNULL(SUM(tdattfromopp) OVER wu0, 0))\n    END AS postcomp_tddef,\n    CASE \n        WHEN IFNULL(SUM(tdattfromopp) OVER wu1, 0) = 0 THEN 0\n        ELSE 1 - (IFNULL(SUM(CAST(tdabs AS FLOAT)) OVER wu1, 0) / IFNULL(SUM(tdattfromopp) OVER wu1, 0))\n    END AS precomp_tddef,\n    -- 3 fights\n    CASE \n        WHEN IFNULL(SUM(tdattfromopp) OVER w20, 0) = 0 THEN 0\n        ELSE 1 - (IFNULL(SUM(CAST(tdabs AS FLOAT)) OVER w20, 0) / IFNULL(SUM(tdattfromopp) OVER w20, 0))\n    END AS postcomp_tddef3,\n    CASE \n        WHEN IFNULL(SUM(tdattfromopp) OVER w31, 0) = 0 THEN 0\n        ELSE 1 - (IFNULL(SUM(CAST(tdabs AS FLOAT)) OVER w31, 0) / IFNULL(SUM(tdattfromopp) OVER w31, 0))\n    END AS precomp_tddef3,\n    -- 5 fights\n    CASE \n        WHEN IFNULL(SUM(tdattfromopp) OVER w40, 0) = 0 THEN 0\n        ELSE 1 - (IFNULL(SUM(CAST(tdabs AS FLOAT)) OVER w40, 0) / IFNULL(SUM(tdattfromopp) OVER w40, 0))\n    END AS postcomp_tddef5,\n    CASE \n        WHEN IFNULL(SUM(tdattfromopp) OVER w51, 0) = 0 THEN 0\n        ELSE 1 - (IFNULL(SUM(CAST(tdabs AS FLOAT)) OVER w51, 0) / IFNULL(SUM(tdattfromopp) OVER w51, 0))\n    END AS precomp_tddef5,\n    -- Str. Acc. Significant Striking Accuracy with average of 3 and 5 fights\n    ms.sigstracc AS ostrabs,\n    IFNULL(SUM(sigstracc) OVER wu0, 0) AS postcomp_ostrabssum,\n    ms.sigstracc,\n    ms.sigstratt,\n    IFNULL(SUM(sigstracc) OVER wu1, 0) AS precomp_sigstraccsum,\n    IFNULL(SUM(sigstracc) OVER wu0, 0) AS postcomp_sigstraccsum,\n    CASE \n        WHEN IFNULL(SUM(sigstratt) OVER wu0, 0) = 0 THEN 0\n        ELSE IFNULL(SUM(CAST(sigstracc AS FLOAT)) OVER wu0, 0) / IFNULL(SUM(sigstratt) OVER wu0, 0)\n    END AS postcomp_sigstr_perc,\n    CASE \n        WHEN IFNULL(SUM(sigstratt) OVER wu1, 0) = 0 THEN 0\n        ELSE IFNULL(SUM(CAST(sigstracc AS FLOAT)) OVER wu1, 0) / IFNULL(SUM(sigstratt) OVER wu1, 0)\n    END AS precomp_sigstr_perc,\n    -- 3 fight average\n    CASE \n        WHEN IFNULL(SUM(sigstratt) OVER w31, 0) = 0 THEN 0\n        ELSE IFNULL(SUM(CAST(sigstracc AS FLOAT)) OVER w31, 0) / IFNULL(SUM(sigstratt) OVER w31, 0)\n    END AS precomp_sigstr_perc3,\n    CASE \n        WHEN IFNULL(SUM(sigstratt) OVER w20, 0) = 0 THEN 0\n        ELSE IFNULL(SUM(CAST(sigstracc AS FLOAT)) OVER w20, 0) / IFNULL(SUM(sigstratt) OVER w20, 0)\n    END AS postcomp_sigstr_perc3,\n    -- 5 fight average\n    CASE \n        WHEN IFNULL(SUM(sigstratt) OVER w51, 0) = 0 THEN 0\n        ELSE IFNULL(SUM(CAST(sigstracc AS FLOAT)) OVER w51, 0) / IFNULL(SUM(sigstratt) OVER w51, 0)\n    END AS precomp_sigstr_perc5,\n    CASE \n        WHEN IFNULL(SUM(sigstratt) OVER w40, 0) = 0 THEN 0\n        ELSE IFNULL(SUM(CAST(sigstracc AS FLOAT)) OVER w40, 0) / IFNULL(SUM(sigstratt) OVER w40, 0)\n    END AS postcomp_sigstr_perc5,\n    -- StrDef: Striking Defense \n    sa.sigstrattfromopp,\n    CASE \n        WHEN IFNULL(SUM(sa.sigstrattfromopp) OVER wu0, 0) = 0 THEN 0\n        ELSE 1 - (IFNULL(SUM(CAST(sigstrabs AS FLOAT)) OVER wu0, 0) / IFNULL(SUM(sigstrattfromopp) OVER wu0, 0))\n    END AS postcomp_strdef,\n    CASE \n        WHEN IFNULL(SUM(sa.sigstrattfromopp) OVER wu1, 0) = 0 THEN 0\n        ELSE 1 - (IFNULL(SUM(CAST(sigstrabs AS FLOAT)) OVER wu1, 0) / IFNULL(SUM(sigstrattfromopp) OVER wu1, 0))\n    END AS precomp_strdef,\n    -- 3 fights\n    CASE \n        WHEN IFNULL(SUM(sa.sigstrattfromopp) OVER w20, 0) = 0 THEN 0\n        ELSE 1 - (IFNULL(SUM(CAST(sigstrabs AS FLOAT)) OVER w20, 0) / IFNULL(SUM(sigstrattfromopp) OVER w20, 0))\n    END AS postcomp_strdef3,\n    CASE \n        WHEN IFNULL(SUM(sa.sigstrattfromopp) OVER w31, 0) = 0 THEN 0\n        ELSE 1 - (IFNULL(SUM(CAST(sigstrabs AS FLOAT)) OVER w31, 0) / IFNULL(SUM(sigstrattfromopp) OVER w31, 0))\n    END AS precomp_strdef3,\n    -- 5 fights\n    CASE \n        WHEN IFNULL(SUM(sa.sigstrattfromopp) OVER w40, 0) = 0 THEN 0\n        ELSE 1 - (IFNULL(SUM(CAST(sigstrabs AS FLOAT)) OVER w40, 0) / IFNULL(SUM(sigstrattfromopp) OVER w40, 0))\n    END AS postcomp_strdef5,\n    CASE \n        WHEN IFNULL(SUM(sa.sigstrattfromopp) OVER w51, 0) = 0 THEN 0\n        ELSE 1 - (IFNULL(SUM(CAST(sigstrabs AS FLOAT)) OVER w51, 0) / IFNULL(SUM(sigstrattfromopp) OVER w51, 0))\n    END AS precomp_strdef5,\n    -- TD Acc. Take Down Accuracy with average of 3 and 5 fights\n    ms.tdacc,\n    ms.tdatt,\n    CASE \n        WHEN IFNULL(SUM(tdatt) OVER wu0, 0) = 0 THEN 0\n        ELSE IFNULL(SUM(CAST(tdacc AS FLOAT)) OVER wu0, 0) / IFNULL(SUM(tdatt) OVER wu0, 0)\n    END AS postcomp_tdacc_perc,\n    CASE \n        WHEN IFNULL(SUM(tdatt) OVER wu1, 0) = 0 THEN 0\n        ELSE IFNULL(SUM(CAST(tdacc AS FLOAT)) OVER wu1, 0) / IFNULL(SUM(tdatt) OVER wu1, 0)\n    END AS precomp_tdacc_perc,\n    -- 3 fight average\n    CASE \n        WHEN IFNULL(SUM(tdatt) OVER w31, 0) = 0 THEN 0\n        ELSE IFNULL(SUM(CAST(tdacc AS FLOAT)) OVER w31, 0) / IFNULL(SUM(tdatt) OVER w31, 0)\n    END AS precomp_tdacc_perc3,\n    CASE \n        WHEN IFNULL(SUM(tdatt) OVER w20, 0) = 0 THEN 0\n        ELSE IFNULL(SUM(CAST(tdacc AS FLOAT)) OVER w20, 0) / IFNULL(SUM(tdatt) OVER w20, 0)\n    END AS postcomp_tdacc_perc3,\n    -- 5 fight average\n    CASE \n        WHEN IFNULL(SUM(tdatt) OVER w51, 0) = 0 THEN 0\n        ELSE IFNULL(SUM(CAST(tdacc AS FLOAT)) OVER w51, 0) / IFNULL(SUM(tdatt) OVER w51, 0)\n    END AS precomp_tdacc_perc5,\n    CASE \n        WHEN IFNULL(SUM(tdatt) OVER w40, 0) = 0 THEN 0\n        ELSE IFNULL(SUM(CAST(tdacc AS FLOAT)) OVER w40, 0) / IFNULL(SUM(tdatt) OVER w40, 0)\n    END AS postcomp_tdacc_perc5,\n    -- Total strike accuracy over 3 and 5 fights\n    ms.totalacc,\n    ms.totalatt,\n    CASE \n        WHEN IFNULL(SUM(totalatt) OVER wu0, 0) = 0 THEN 0\n        ELSE IFNULL(SUM(CAST(totalacc AS FLOAT)) OVER wu0, 0) / IFNULL(SUM(totalatt) OVER wu0, 0)\n    END AS postcomp_totalacc_perc,\n    CASE \n        WHEN IFNULL(SUM(totalatt) OVER wu1, 0) = 0 THEN 0\n        ELSE IFNULL(SUM(CAST(totalacc AS FLOAT)) OVER wu1, 0) / IFNULL(SUM(totalatt) OVER wu1, 0)\n    END AS precomp_totalacc_perc,\n    -- 3 fight average\n    CASE \n        WHEN IFNULL(SUM(totalatt) OVER w31, 0) = 0 THEN 0\n        ELSE IFNULL(SUM(CAST(totalacc AS FLOAT)) OVER w31, 0) / IFNULL(SUM(totalatt) OVER w31, 0)\n    END AS precomp_totalacc_perc3,\n    CASE \n        WHEN IFNULL(SUM(totalatt) OVER w20, 0) = 0 THEN 0\n        ELSE IFNULL(SUM(CAST(totalacc AS FLOAT)) OVER w20, 0) / IFNULL(SUM(totalatt) OVER w20, 0)\n    END AS postcomp_totalacc_perc3,\n    -- 5 fight average\n    CASE \n        WHEN IFNULL(SUM(totalatt) OVER w51, 0) = 0 THEN 0\n        ELSE IFNULL(SUM(CAST(totalacc AS FLOAT)) OVER w51, 0) / IFNULL(SUM(totalatt) OVER w51, 0)\n    END AS precomp_totalacc_perc5,\n    CASE \n        WHEN IFNULL(SUM(totalatt) OVER w40, 0) = 0 THEN 0\n        ELSE IFNULL(SUM(CAST(totalacc AS FLOAT)) OVER w40, 0) / IFNULL(SUM(totalatt) OVER w40, 0)\n    END AS postcomp_totalacc_perc5,\n    -- average head strike accuracy over 3 and 5 fights\n    ms.headacc,\n    ms.headatt,\n    CASE \n        WHEN IFNULL(SUM(headatt) OVER wu0, 0) = 0 THEN 0\n        ELSE IFNULL(SUM(CAST(headacc AS FLOAT)) OVER wu0, 0) / IFNULL(SUM(headatt) OVER wu0, 0)\n    END AS postcomp_headacc_perc,\n    CASE \n        WHEN IFNULL(SUM(headatt) OVER wu1, 0) = 0 THEN 0\n        ELSE IFNULL(SUM(CAST(headacc AS FLOAT)) OVER wu1, 0) / IFNULL(SUM(headatt) OVER wu1, 0)\n    END AS precomp_headacc_perc,\n    -- 3 fight average\n    CASE \n        WHEN IFNULL(SUM(headatt) OVER w31, 0) = 0 THEN 0\n        ELSE IFNULL(SUM(CAST(headacc AS FLOAT)) OVER w31, 0) / IFNULL(SUM(headatt) OVER w31, 0)\n    END AS precomp_headacc_perc3,\n    CASE \n        WHEN IFNULL(SUM(headatt) OVER w20, 0) = 0 THEN 0\n        ELSE IFNULL(SUM(CAST(headacc AS FLOAT)) OVER w20, 0) / IFNULL(SUM(headatt) OVER w20, 0)\n    END AS postcomp_headacc_perc3,\n    -- 5 fight average\n    CASE \n        WHEN IFNULL(SUM(headatt) OVER w51, 0) = 0 THEN 0\n        ELSE IFNULL(SUM(CAST(headacc AS FLOAT)) OVER w51, 0) / IFNULL(SUM(headatt) OVER w51, 0)\n    END AS precomp_headacc_perc5,\n    CASE \n        WHEN IFNULL(SUM(headatt) OVER w40, 0) = 0 THEN 0\n        ELSE IFNULL(SUM(CAST(headacc AS FLOAT)) OVER w40, 0) / IFNULL(SUM(headatt) OVER w40, 0)\n    END AS postcomp_headacc_perc5,\n    -- average body strike accuracy over 3 and 5 fights\n    ms.bodyacc,\n    ms.bodyatt,\n    CASE \n        WHEN IFNULL(SUM(bodyatt) OVER wu0, 0) = 0 THEN 0\n        ELSE IFNULL(SUM(CAST(bodyacc AS FLOAT)) OVER wu0, 0) / IFNULL(SUM(bodyatt) OVER wu0, 0)\n    END AS postcomp_bodyacc_perc,\n    CASE \n        WHEN IFNULL(SUM(bodyatt) OVER wu1, 0) = 0 THEN 0\n        ELSE IFNULL(SUM(CAST(bodyacc AS FLOAT)) OVER wu1, 0) / IFNULL(SUM(bodyatt) OVER wu1, 0)\n    END AS precomp_bodyacc_perc,\n    -- 3 fight average\n    CASE \n        WHEN IFNULL(SUM(bodyatt) OVER w31, 0) = 0 THEN 0\n        ELSE IFNULL(SUM(CAST(bodyacc AS FLOAT)) OVER w31, 0) / IFNULL(SUM(bodyatt) OVER w31, 0)\n    END AS precomp_bodyacc_perc3,\n    CASE \n        WHEN IFNULL(SUM(bodyatt) OVER w20, 0) = 0 THEN 0\n        ELSE IFNULL(SUM(CAST(bodyacc AS FLOAT)) OVER w20, 0) / IFNULL(SUM(bodyatt) OVER w20, 0)\n    END AS postcomp_bodyacc_perc3,\n    -- 5 fight average\n    CASE \n        WHEN IFNULL(SUM(bodyatt) OVER w51, 0) = 0 THEN 0\n        ELSE IFNULL(SUM(CAST(bodyacc AS FLOAT)) OVER w51, 0) / IFNULL(SUM(bodyatt) OVER w51, 0)\n    END AS precomp_bodyacc_perc5,\n    CASE \n        WHEN IFNULL(SUM(bodyatt) OVER w40, 0) = 0 THEN 0\n        ELSE IFNULL(SUM(CAST(bodyacc AS FLOAT)) OVER w40, 0) / IFNULL(SUM(bodyatt) OVER w40, 0)\n    END AS postcomp_bodyacc_perc5,\n    -- average leg strike accuracy over 3 and 5 fights\n    ms.legacc,\n    ms.legatt,\n    CASE \n        WHEN IFNULL(SUM(legatt) OVER wu0, 0) = 0 THEN 0\n        ELSE IFNULL(SUM(CAST(legacc AS FLOAT)) OVER wu0, 0) / IFNULL(SUM(legatt) OVER wu0, 0)\n    END AS postcomp_legacc_perc,\n    CASE \n        WHEN IFNULL(SUM(legatt) OVER wu1, 0) = 0 THEN 0\n        ELSE IFNULL(SUM(CAST(legacc AS FLOAT)) OVER wu1, 0) / IFNULL(SUM(legatt) OVER wu1, 0)\n    END AS precomp_legacc_perc,\n    -- 3 fight average\n    CASE \n        WHEN IFNULL(SUM(legatt) OVER w31, 0) = 0 THEN 0\n        ELSE IFNULL(SUM(CAST(legacc AS FLOAT)) OVER w31, 0) / IFNULL(SUM(legatt) OVER w31, 0)\n    END AS precomp_legacc_perc3,\n    CASE \n        WHEN IFNULL(SUM(legatt) OVER w20, 0) = 0 THEN 0\n        ELSE IFNULL(SUM(CAST(legacc AS FLOAT)) OVER w20, 0) / IFNULL(SUM(legatt) OVER w20, 0)\n    END AS postcomp_legacc_perc3,\n    -- 5 fight average\n    CASE \n        WHEN IFNULL(SUM(legatt) OVER w51, 0) = 0 THEN 0\n        ELSE IFNULL(SUM(CAST(legacc AS FLOAT)) OVER w51, 0) / IFNULL(SUM(legatt) OVER w51, 0)\n    END AS precomp_legacc_perc5,\n    CASE \n        WHEN IFNULL(SUM(legatt) OVER w40, 0) = 0 THEN 0\n        ELSE IFNULL(SUM(CAST(legacc AS FLOAT)) OVER w40, 0) / IFNULL(SUM(legatt) OVER w40, 0)\n    END AS postcomp_legacc_perc5,\n    -- average distance strike accuracy over 3 and 5 fights\n    ms.distacc,\n    ms.distatt,\n    CASE \n        WHEN IFNULL(SUM(distatt) OVER wu0, 0) = 0 THEN 0\n        ELSE IFNULL(SUM(CAST(distacc AS FLOAT)) OVER wu0, 0) / IFNULL(SUM(distatt) OVER wu0, 0)\n    END AS postcomp_distacc_perc,\n    CASE \n        WHEN IFNULL(SUM(distatt) OVER wu1, 0) = 0 THEN 0\n        ELSE IFNULL(SUM(CAST(distacc AS FLOAT)) OVER wu1, 0) / IFNULL(SUM(distatt) OVER wu1, 0)\n    END AS precomp_distacc_perc,\n    -- 3 fight average\n    CASE \n        WHEN IFNULL(SUM(distatt) OVER w31, 0) = 0 THEN 0\n        ELSE IFNULL(SUM(CAST(distacc AS FLOAT)) OVER w31, 0) / IFNULL(SUM(distatt) OVER w31, 0)\n    END AS precomp_distacc_perc3,\n    CASE \n        WHEN IFNULL(SUM(distatt) OVER w20, 0) = 0 THEN 0\n        ELSE IFNULL(SUM(CAST(distacc AS FLOAT)) OVER w20, 0) / IFNULL(SUM(distatt) OVER w20, 0)\n    END AS postcomp_distacc_perc3,\n    -- 5 fight average\n    CASE \n        WHEN IFNULL(SUM(distatt) OVER w51, 0) = 0 THEN 0\n        ELSE IFNULL(SUM(CAST(distacc AS FLOAT)) OVER w51, 0) / IFNULL(SUM(distatt) OVER w51, 0)\n    END AS precomp_distacc_perc5,\n    CASE \n        WHEN IFNULL(SUM(distatt) OVER w40, 0) = 0 THEN 0\n        ELSE IFNULL(SUM(CAST(distacc AS FLOAT)) OVER w40, 0) / IFNULL(SUM(distatt) OVER w40, 0)\n    END AS postcomp_distacc_perc5,\n    -- average clinch strike accuracy over 3 and 5 fights\n    ms.clinchacc,\n    ms.clinchatt,\n    CASE \n        WHEN IFNULL(SUM(clinchatt) OVER wu0, 0) = 0 THEN 0\n        ELSE IFNULL(SUM(CAST(clinchacc AS FLOAT)) OVER wu0, 0) / IFNULL(SUM(clinchatt) OVER wu0, 0)\n    END AS postcomp_clinchacc_perc,\n    CASE \n        WHEN IFNULL(SUM(clinchatt) OVER wu1, 0) = 0 THEN 0\n        ELSE IFNULL(SUM(CAST(clinchacc AS FLOAT)) OVER wu1, 0) / IFNULL(SUM(clinchatt) OVER wu1, 0)\n    END AS precomp_clinchacc_perc,\n    -- 3 fight average\n    CASE \n        WHEN IFNULL(SUM(clinchatt) OVER w31, 0) = 0 THEN 0\n        ELSE IFNULL(SUM(CAST(clinchacc AS FLOAT)) OVER w31, 0) / IFNULL(SUM(clinchatt) OVER w31, 0)\n    END AS precomp_clinchacc_perc3,\n    CASE \n        WHEN IFNULL(SUM(clinchatt) OVER w20, 0) = 0 THEN 0\n        ELSE IFNULL(SUM(CAST(clinchacc AS FLOAT)) OVER w20, 0) / IFNULL(SUM(clinchatt) OVER w20, 0)\n    END AS postcomp_clinchacc_perc3,\n    -- 5 fight average\n    CASE \n        WHEN IFNULL(SUM(clinchatt) OVER w51, 0) = 0 THEN 0\n        ELSE IFNULL(SUM(CAST(clinchacc AS FLOAT)) OVER w51, 0) / IFNULL(SUM(clinchatt) OVER w51, 0)\n    END AS precomp_clinchacc_perc5,\n    CASE \n        WHEN IFNULL(SUM(clinchatt) OVER w40, 0) = 0 THEN 0\n        ELSE IFNULL(SUM(CAST(clinchacc AS FLOAT)) OVER w40, 0) / IFNULL(SUM(clinchatt) OVER w40, 0)\n    END AS postcomp_clinchacc_perc5,\n    -- average ground strike accuracy over 3 and 5 fights\n    ms.groundacc,\n    ms.groundatt,\n    CASE \n        WHEN IFNULL(SUM(groundatt) OVER wu0, 0) = 0 THEN 0\n        ELSE IFNULL(SUM(CAST(groundacc AS FLOAT)) OVER wu0, 0) / IFNULL(SUM(groundatt) OVER wu0, 0)\n    END AS postcomp_groundacc_perc,\n    CASE \n        WHEN IFNULL(SUM(groundatt) OVER wu1, 0) = 0 THEN 0\n        ELSE IFNULL(SUM(CAST(groundacc AS FLOAT)) OVER wu1, 0) / IFNULL(SUM(groundatt) OVER wu1, 0)\n    END AS precomp_groundacc_perc,\n    -- 3 fight average\n    CASE \n        WHEN IFNULL(SUM(groundatt) OVER w20, 0) = 0 THEN 0\n        ELSE IFNULL(SUM(CAST(groundacc AS FLOAT)) OVER w20, 0) / IFNULL(SUM(groundatt) OVER w20, 0)\n    END AS postcomp_groundacc_perc3,\n    CASE \n        WHEN IFNULL(SUM(groundatt) OVER w31, 0) = 0 THEN 0\n        ELSE IFNULL(SUM(CAST(groundacc AS FLOAT)) OVER w31, 0) / IFNULL(SUM(groundatt) OVER w31, 0)\n    END AS precomp_groundacc_perc3,\n    -- 5 fight average\n    CASE \n        WHEN IFNULL(SUM(groundatt) OVER w40, 0) = 0 THEN 0\n        ELSE IFNULL(SUM(CAST(groundacc AS FLOAT)) OVER w40, 0) / IFNULL(SUM(groundatt) OVER w40, 0)\n    END AS postcomp_groundacc_perc5,\n    CASE \n        WHEN IFNULL(SUM(groundatt) OVER w51, 0) = 0 THEN 0\n        ELSE IFNULL(SUM(CAST(groundacc AS FLOAT)) OVER w51, 0) / IFNULL(SUM(groundatt) OVER w51, 0)\n    END AS precomp_groundacc_perc5,\n    -- win/loss/ko/kdo over 3 and 5 fights\n    IFNULL(SUM(win) OVER wu0, 0) AS postcomp_winsum,\n    IFNULL(SUM(win) OVER wu1, 0) AS precomp_winsum,\n    IFNULL(COUNT(*) OVER wu0, 0) AS postcomp_boutcount,\n    IFNULL(COUNT(*) OVER wu1, 0) AS precomp_boutcount,\n    IFNULL(AVG(win) OVER wu0, 0) AS postcomp_winavg,\n    IFNULL(AVG(win) OVER wu1, 0) AS precomp_winavg,\n    IFNULL(SUM(win) OVER w20, 0) AS postcomp_winsum3,\n    IFNULL(SUM(win) OVER w31, 0) AS precomp_winsum3,\n    IFNULL(AVG(win) OVER w20, 0) AS postcomp_winavg3,\n    IFNULL(AVG(win) OVER w31, 0) AS precomp_winavg3,\n    IFNULL(SUM(win) OVER w40, 0) AS postcomp_winsum5,\n    IFNULL(SUM(win) OVER w51, 0) AS precomp_winsum5,\n    IFNULL(AVG(win) OVER w40, 0) AS postcomp_winavg5,\n    IFNULL(AVG(win) OVER w51, 0) AS precomp_winavg5,\n    IFNULL(SUM(loss) OVER wu0, 0) AS postcomp_losssum,\n    IFNULL(SUM(loss) OVER wu1, 0) AS precomp_losssum,\n    IFNULL(AVG(loss) OVER wu0, 0) AS postcomp_lossavg,\n    IFNULL(AVG(loss) OVER wu1, 0) AS precomp_lossavg,\n    IFNULL(SUM(loss) OVER w20, 0) AS postcomp_losssum3,\n    IFNULL(SUM(loss) OVER w31, 0) AS precomp_losssum3,\n    IFNULL(AVG(loss) OVER w20, 0) AS postcomp_lossavg3,\n    IFNULL(AVG(loss) OVER w31, 0) AS precomp_lossavg3,\n    IFNULL(SUM(loss) OVER w40, 0) AS postcomp_losssum5,\n    IFNULL(SUM(loss) OVER w51, 0) AS precomp_losssum5,\n    IFNULL(AVG(loss) OVER w40, 0) AS postcomp_lossavg5,\n    IFNULL(AVG(loss) OVER w51, 0) AS precomp_lossavg5,\n    IFNULL(SUM(ko) OVER wu0, 0) AS postcomp_kosum,\n    IFNULL(SUM(ko) OVER wu1, 0) AS precomp_kosum,\n    IFNULL(AVG(ko) OVER wu0, 0) AS postcomp_koavg,\n    IFNULL(AVG(ko) OVER wu1, 0) AS precomp_koavg,\n    IFNULL(SUM(ko) OVER w20, 0) AS postcomp_kosum3,\n    IFNULL(SUM(ko) OVER w31, 0) AS precomp_kosum3,\n    IFNULL(AVG(ko) OVER w20, 0) AS postcomp_koavg3,\n    IFNULL(AVG(ko) OVER w31, 0) AS precomp_koavg3,\n    IFNULL(SUM(ko) OVER w40, 0) AS postcomp_kosum5,\n    IFNULL(SUM(ko) OVER w51, 0) AS precomp_kosum5,\n    IFNULL(AVG(ko) OVER w40, 0) AS postcomp_koavg5,\n    IFNULL(AVG(ko) OVER w51, 0) AS precomp_koavg5,\n    IFNULL(SUM(kod) OVER wu0, 0) AS postcomp_kodsum,\n    IFNULL(SUM(kod) OVER wu1, 0) AS precomp_kodsum,\n    IFNULL(AVG(kod) OVER wu0, 0) AS postcomp_kodavg,\n    IFNULL(AVG(kod) OVER wu1, 0) AS precomp_kodavg,\n    IFNULL(SUM(kod) OVER w20, 0) AS postcomp_kodsum3,\n    IFNULL(SUM(kod) OVER w31, 0) AS precomp_kodsum3,\n    IFNULL(AVG(kod) OVER w20, 0) AS postcomp_kodavg3,\n    IFNULL(AVG(kod) OVER w31, 0) AS precomp_kodavg3,\n    IFNULL(SUM(kod) OVER w40, 0) AS postcomp_kodsum5,\n    IFNULL(SUM(kod) OVER w51, 0) AS precomp_kodsum5,\n    IFNULL(AVG(kod) OVER w40, 0) AS postcomp_kodavg5,\n    IFNULL(AVG(kod) OVER w51, 0) AS precomp_kodavg5,\n    IFNULL(SUM(subw) OVER wu0, 0) AS postcomp_subwsum,\n    IFNULL(SUM(subw) OVER wu1, 0) AS precomp_subwsum,\n    IFNULL(AVG(subw) OVER wu0, 0) AS postcomp_subwavg,\n    IFNULL(AVG(subw) OVER wu1, 0) AS precomp_subwavg,\n    IFNULL(SUM(subw) OVER w20, 0) AS postcomp_subwsum3,\n    IFNULL(SUM(subw) OVER w31, 0) AS precomp_subwsum3,\n    IFNULL(AVG(subw) OVER w20, 0) AS postcomp_subwavg3,\n    IFNULL(AVG(subw) OVER w31, 0) AS precomp_subwavg3,\n    IFNULL(SUM(subw) OVER w40, 0) AS postcomp_subwsum5,\n    IFNULL(SUM(subw) OVER w51, 0) AS precomp_subwsum5,\n    IFNULL(AVG(subw) OVER w40, 0) AS postcomp_subwavg5,\n    IFNULL(AVG(subw) OVER w51, 0) AS precomp_subwavg5,\n    IFNULL(SUM(subwd) OVER wu0, 0) AS postcomp_subwdsum,\n    IFNULL(SUM(subwd) OVER wu1, 0) AS precomp_subwdsum,\n    IFNULL(AVG(subwd) OVER wu0, 0) AS postcomp_subwdavg,\n    IFNULL(AVG(subwd) OVER wu1, 0) AS precomp_subwdavg,\n    IFNULL(SUM(subwd) OVER w20, 0) AS postcomp_subwdsum3,\n    IFNULL(SUM(subwd) OVER w31, 0) AS precomp_subwdsum3,\n    IFNULL(AVG(subwd) OVER w20, 0) AS postcomp_subwdavg3,\n    IFNULL(AVG(subwd) OVER w31, 0) AS precomp_subwdavg3,\n    IFNULL(SUM(subwd) OVER w40, 0) AS postcomp_subwdsum5,\n    IFNULL(SUM(subwd) OVER w51, 0) AS precomp_subwdsum5,\n    IFNULL(AVG(subwd) OVER w40, 0) AS postcomp_subwdavg5,\n    IFNULL(AVG(subwd) OVER w51, 0) AS precomp_subwdavg5,\n    IFNULL(SUM(udec) OVER wu0, 0) AS postcomp_udecsum,\n    IFNULL(SUM(udec) OVER wu1, 0) AS precomp_udecsum,\n    IFNULL(AVG(udec) OVER wu0, 0) AS postcomp_udecavg,\n    IFNULL(AVG(udec) OVER wu1, 0) AS precomp_udecavg,\n    IFNULL(SUM(udec) OVER w20, 0) AS postcomp_udecsum3,\n    IFNULL(SUM(udec) OVER w31, 0) AS precomp_udecsum3,\n    IFNULL(AVG(udec) OVER w20, 0) AS postcomp_udecavg3,\n    IFNULL(AVG(udec) OVER w31, 0) AS precomp_udecavg3,\n    IFNULL(SUM(udec) OVER w40, 0) AS postcomp_udecsum5,\n    IFNULL(SUM(udec) OVER w51, 0) AS precomp_udecsum5,\n    IFNULL(AVG(udec) OVER w40, 0) AS postcomp_udecavg5,\n    IFNULL(AVG(udec) OVER w51, 0) AS precomp_udecavg5,\n    IFNULL(SUM(udecd) OVER wu0, 0) AS postcomp_udecdsum,\n    IFNULL(SUM(udecd) OVER wu1, 0) AS precomp_udecdsum,\n    IFNULL(AVG(udecd) OVER wu0, 0) AS postcomp_udecdavg,\n    IFNULL(AVG(udecd) OVER wu1, 0) AS precomp_udecdavg,\n    IFNULL(SUM(udecd) OVER w20, 0) AS postcomp_udecdsum3,\n    IFNULL(SUM(udecd) OVER w31, 0) AS precomp_udecdsum3,\n    IFNULL(AVG(udecd) OVER w20, 0) AS postcomp_udecdavg3,\n    IFNULL(AVG(udecd) OVER w31, 0) AS precomp_udecdavg3,\n    IFNULL(SUM(udecd) OVER w40, 0) AS postcomp_udecdsum5,\n    IFNULL(SUM(udecd) OVER w51, 0) AS precomp_udecdsum5,\n    IFNULL(AVG(udecd) OVER w40, 0) AS postcomp_udecdavg5,\n    IFNULL(AVG(udecd) OVER w51, 0) AS precomp_udecdavg5,\n    IFNULL(SUM(sdec) OVER wu0, 0) AS postcomp_sdecsum,\n    IFNULL(SUM(sdec) OVER wu1, 0) AS precomp_sdecsum,\n    IFNULL(AVG(sdec) OVER wu0, 0) AS postcomp_sdecavg,\n    IFNULL(AVG(sdec) OVER wu1, 0) AS precomp_sdecavg,\n    IFNULL(SUM(sdec) OVER w20, 0) AS postcomp_sdecsum3,\n    IFNULL(SUM(sdec) OVER w31, 0) AS precomp_sdecsum3,\n    IFNULL(AVG(sdec) OVER w20, 0) AS postcomp_sdecavg3,\n    IFNULL(AVG(sdec) OVER w31, 0) AS precomp_sdecavg3,\n    IFNULL(SUM(sdec) OVER w40, 0) AS postcomp_sdecsum5,\n    IFNULL(SUM(sdec) OVER w51, 0) AS precomp_sdecsum5,\n    IFNULL(AVG(sdec) OVER w40, 0) AS postcomp_sdecavg5,\n    IFNULL(AVG(sdec) OVER w51, 0) AS precomp_sdecavg5,\n    IFNULL(SUM(sdecd) OVER wu0, 0) AS postcomp_sdecdsum,\n    IFNULL(SUM(sdecd) OVER wu1, 0) AS precomp_sdecdsum,\n    IFNULL(AVG(sdecd) OVER wu0, 0) AS postcomp_sdecdavg,\n    IFNULL(AVG(sdecd) OVER wu1, 0) AS precomp_sdecdavg,\n    IFNULL(SUM(sdecd) OVER w20, 0) AS postcomp_sdecdsum3,\n    IFNULL(SUM(sdecd) OVER w31, 0) AS precomp_sdecdsum3,\n    IFNULL(AVG(sdecd) OVER w20, 0) AS postcomp_sdecdavg3,\n    IFNULL(AVG(sdecd) OVER w31, 0) AS precomp_sdecdavg3,\n    IFNULL(SUM(sdecd) OVER w40, 0) AS postcomp_sdecdsum5,\n    IFNULL(SUM(sdecd) OVER w51, 0) AS precomp_sdecdsum5,\n    IFNULL(AVG(sdecd) OVER w40, 0) AS postcomp_sdecdavg5,\n    IFNULL(AVG(sdecd) OVER w51, 0) AS precomp_sdecdavg5,\n    IFNULL(SUM(mdec) OVER wu0, 0) AS postcomp_mdecsum,\n    IFNULL(SUM(mdec) OVER wu1, 0) AS precomp_mdecsum,\n    IFNULL(AVG(mdec) OVER wu0, 0) AS postcomp_mdecavg,\n    IFNULL(AVG(mdec) OVER wu1, 0) AS precomp_mdecavg,\n    IFNULL(SUM(mdec) OVER w20, 0) AS postcomp_mdecsum3,\n    IFNULL(SUM(mdec) OVER w31, 0) AS precomp_mdecsum3,\n    IFNULL(AVG(mdec) OVER w20, 0) AS postcomp_mdecavg3,\n    IFNULL(AVG(mdec) OVER w31, 0) AS precomp_mdecavg3,\n    IFNULL(SUM(mdec) OVER w40, 0) AS postcomp_mdecsum5,\n    IFNULL(SUM(mdec) OVER w51, 0) AS precomp_mdecsum5,\n    IFNULL(AVG(mdec) OVER w40, 0) AS postcomp_mdecavg5,\n    IFNULL(AVG(mdec) OVER w51, 0) AS precomp_mdecavg5,\n    IFNULL(SUM(mdecd) OVER wu0, 0) AS postcomp_mdecdsum,\n    IFNULL(SUM(mdecd) OVER wu1, 0) AS precomp_mdecdsum,\n    IFNULL(AVG(mdecd) OVER wu0, 0) AS postcomp_mdecdavg,\n    IFNULL(AVG(mdecd) OVER wu1, 0) AS precomp_mdecdavg,\n    IFNULL(SUM(mdecd) OVER w20, 0) AS postcomp_mdecdsum3,\n    IFNULL(SUM(mdecd) OVER w31, 0) AS precomp_mdecdsum3,\n    IFNULL(AVG(mdecd) OVER w20, 0) AS postcomp_mdecdavg3,\n    IFNULL(AVG(mdecd) OVER w31, 0) AS precomp_mdecdavg3,\n    IFNULL(SUM(mdecd) OVER w40, 0) AS postcomp_mdecdsum5,\n    IFNULL(SUM(mdecd) OVER w51, 0) AS precomp_mdecdsum5,\n    IFNULL(AVG(mdecd) OVER w40, 0) AS postcomp_mdecdavg5,\n    IFNULL(AVG(mdecd) OVER w51, 0) AS precomp_mdecdavg5\nFROM\n    ufc_fighter_match_stats ms,\n    ufc_event_details ed,\n    ufc_winlossko w,\n    ufc_fighter_tott t,\n    ufc_fight_results r,\n    (\n        SELECT\n            DISTINCT\n            TRIM(REPLACE(fighter_stats.EVENT, ' ', '')) AS jfs_event,\n            TRIM(REPLACE(fighter_stats.FIGHTER, ' ', '')) AS jfs_fighter,\n            TRIM(REPLACE(fighter_stats.BOUT, ' ', '')) AS jfs_bout,\n            opponent_stats.sigstracc AS sigstrabs,\n            opponent_stats.sigstratt AS sigstrattfromopp,\n            opponent_stats.tdacc AS tdabs,\n            opponent_stats.tdatt AS tdattfromopp\n        FROM\n            ufc_fighter_match_stats fighter_stats\n        JOIN\n            ufc_fighter_match_stats opponent_stats\n        ON\n            fighter_stats.jbout = opponent_stats.jbout\n            AND LOWER(fighter_stats.jfighter) != LOWER(opponent_stats.jfighter)\n            AND fighter_stats.jevent = opponent_stats.jevent\n    ) sa\nWHERE\n    ms.jevent = ed.jevent\n    AND ms.jevent = w.jevent\n    AND ms.jfighter = w.jfighter\n    AND ms.jfighter = t.jfighter\n    AND ms.jevent = r.jevent\n    AND ms.jbout = r.jbout\n    AND ms.jevent = sa.jfs_event\n    AND ms.jfighter = sa.jfs_fighter\n    AND ms.jbout = sa.jfs_bout\n    AND instr(ms.jbout,ms.jfighter) > 0\nWINDOW\n    w20 AS (PARTITION BY ms.jfighter ORDER BY date(ed.DATE) ROWS BETWEEN 2 PRECEDING AND 0 PRECEDING),\n    w31 AS (PARTITION BY ms.jfighter ORDER BY date(ed.DATE) ROWS BETWEEN 3 PRECEDING AND 1 PRECEDING),\n    w40 AS (PARTITION BY ms.jfighter ORDER BY date(ed.DATE) ROWS BETWEEN 4 PRECEDING AND 0 PRECEDING),\n    w51 AS (PARTITION BY ms.jfighter ORDER BY date(ed.DATE) ROWS BETWEEN 5 PRECEDING AND 1 PRECEDING),\n    wu AS (PARTITION BY ms.jfighter ORDER BY date(ed.DATE) ROWS UNBOUNDED PRECEDING),\n    wu0 AS (PARTITION BY ms.jfighter ORDER BY date(ed.DATE) ROWS BETWEEN UNBOUNDED PRECEDING AND 0 PRECEDING),\n    wu1 AS (PARTITION BY ms.jfighter ORDER BY date(ed.DATE) ROWS BETWEEN UNBOUNDED PRECEDING AND 1 PRECEDING);\n\n\n/* JOIN and pull over Weigth Reach,reach from ufc_fighter_tott. */\nDROP VIEW IF EXISTS single_fighter_view;\nDROP VIEW IF EXISTS single_opponent_view;\nCREATE VIEW single_fighter_view AS\nSELECT * from single_full_view\nWHERE INSTR(jbout,jfighter) = 1\nORDER BY DATE DESC;\nCREATE VIEW single_opponent_view AS\nSELECT * from single_full_view\nWHERE INSTR(jbout,jfighter) > 1\nORDER BY DATE DESC;\n\nDROP VIEW IF EXISTS pre_final;\nCreate View pre_final as\nSELECT\n'DATE',\n'jbout',\n'jevent',\n'jfighter',\n'EVENT',\n'BOUT',\n'FIGHTER',\n'fight_time_minutes',\n'precomp_tot_time_in_cage',\n'postcomp_tot_time_in_cage',\n'age',\n'HEIGHT',\n'WEIGHT',\n'REACH',\n'DOB',\n'sex',\n'weightindex',\n'weight_stat',\n'weight_of_fight',\n'precomp_weight_avg3',\n'postcomp_weight_avg3',\n'win',\n'loss',\n'ko',\n'kod',\n'sub',\n'subd',\n'udec',\n'udecd',\n'sdec',\n'sdecd',\n'mdec',\n'mdecd',\n'subatt',\n'postcomp_tot_time_in_cage_3',\n'precomp_tot_time_in_cage_3',\n'postcomp_tot_time_in_cage_5',\n'precomp_tot_time_in_cage_5',\n'postcomp_sigstr_pm',\n'precomp_sigstr_pm',\n'postcomp_sigstr_pm3',\n'precomp_sigstr_pm3',\n'postcomp_sigstr_pm5',\n'precomp_sigstr_pm5',\n'postcomp_tdavg',\n'precomp_tdavg',\n'postcomp_tdavg3',\n'precomp_tdavg3',\n'postcomp_tdavg5',\n'precomp_tdavg5',\n'sigstrabs',\n'postcomp_sapm',\n'precomp_sapm',\n'precomp_sapm3',\n'postcomp_sapm3',\n'precomp_sapm5',\n'postcomp_sapm5',\n'postcomp_subavg',\n'precomp_subavg',\n'postcomp_subavg3',\n'precomp_subavg3',\n'postcomp_subavg5',\n'precomp_subavg5',\n'tdabs',\n'tdattfromopp',\n'postcomp_tddef',\n'precomp_tddef',\n'postcomp_tddef3',\n'precomp_tddef3',\n'postcomp_tddef5',\n'precomp_tddef5',\n'ostrabs',\n'postcomp_ostrabssum',\n'sigstracc',\n'sigstratt',\n'precomp_sigstraccsum',\n'postcomp_sigstraccsum',\n'postcomp_sigstr_perc',\n'precomp_sigstr_perc',\n'precomp_sigstr_perc3',\n'postcomp_sigstr_perc3',\n'precomp_sigstr_perc5',\n'postcomp_sigstr_perc5',\n'sigstrattfromopp',\n'postcomp_strdef',\n'precomp_strdef',\n'postcomp_strdef3',\n'precomp_strdef3',\n'postcomp_strdef5',\n'precomp_strdef5',\n'tdacc',\n'tdatt',\n'postcomp_tdacc_perc',\n'precomp_tdacc_perc',\n'postcomp_tdacc_perc3',\n'precomp_tdacc_perc3',\n'postcomp_tdacc_perc5',\n'precomp_tdacc_perc5',\n'totalacc',\n'totalatt',\n'postcomp_totalacc_perc',\n'precomp_totalacc_perc',\n'postcomp_totalacc_perc3',\n'precomp_totalacc_perc3',\n'postcomp_totalacc_perc5',\n'precomp_totalacc_perc5',\n'headacc',\n'headatt',\n'postcomp_headacc_perc',\n'precomp_headacc_perc',\n'postcomp_headacc_perc3',\n'precomp_headacc_perc3',\n'postcomp_headacc_perc5',\n'precomp_headacc_perc5',\n'bodyacc',\n'bodyatt',\n'postcomp_bodyacc_perc',\n'precomp_bodyacc_perc',\n'postcomp_bodyacc_perc3',\n'precomp_bodyacc_perc3',\n'postcomp_bodyacc_perc5',\n'precomp_bodyacc_perc5',\n'legacc',\n'legatt',\n'postcomp_legacc_perc',\n'precomp_legacc_perc',\n'postcomp_legacc_perc3',\n'precomp_legacc_perc3',\n'postcomp_legacc_perc5',\n'precomp_legacc_perc5',\n'distacc',\n'distatt',\n'postcomp_distacc_perc',\n'precomp_distacc_perc',\n'postcomp_distacc_perc3',\n'precomp_distacc_perc3',\n'postcomp_distacc_perc5',\n'precomp_distacc_perc5',\n'clinchacc',\n'clinchatt',\n'postcomp_clinchacc_perc',\n'precomp_clinchacc_perc',\n'postcomp_clinchacc_perc3',\n'precomp_clinchacc_perc3',\n'postcomp_clinchacc_perc5',\n'precomp_clinchacc_perc5',\n'groundacc',\n'groundatt',\n'postcomp_groundacc_perc',\n'precomp_groundacc_perc',\n'postcomp_groundacc_perc3',\n'precomp_groundacc_perc3',\n'postcomp_groundacc_perc5',\n'precomp_groundacc_perc5',\n'postcomp_winsum',\n'precomp_winsum',\n'postcomp_boutcount',\n'precomp_boutcount',\n'postcomp_winavg',\n'precomp_winavg',\n'postcomp_winsum3',\n'precomp_winsum3',\n'postcomp_winavg3',\n'precomp_winavg3',\n'postcomp_winsum5',\n'precomp_winsum5',\n'postcomp_winavg5',\n'precomp_winavg5',\n'postcomp_losssum',\n'precomp_losssum',\n'postcomp_lossavg',\n'precomp_lossavg',\n'postcomp_losssum3',\n'precomp_losssum3',\n'postcomp_lossavg3',\n'precomp_lossavg3',\n'postcomp_losssum5',\n'precomp_losssum5',\n'postcomp_lossavg5',\n'precomp_lossavg5',\n'postcomp_kosum',\n'precomp_kosum',\n'postcomp_koavg',\n'precomp_koavg',\n'postcomp_kosum3',\n'precomp_kosum3',\n'postcomp_koavg3',\n'precomp_koavg3',\n'postcomp_kosum5',\n'precomp_kosum5',\n'postcomp_koavg5',\n'precomp_koavg5',\n'postcomp_kodsum',\n'precomp_kodsum',\n'postcomp_kodavg',\n'precomp_kodavg',\n'postcomp_kodsum3',\n'precomp_kodsum3',\n'postcomp_kodavg3',\n'precomp_kodavg3',\n'postcomp_kodsum5',\n'precomp_kodsum5',\n'postcomp_kodavg5',\n'precomp_kodavg5',\n'postcomp_subwsum',\n'precomp_subwsum',\n'postcomp_subwavg',\n'precomp_subwavg',\n'postcomp_subwsum3',\n'precomp_subwsum3',\n'postcomp_subwavg3',\n'precomp_subwavg3',\n'postcomp_subwsum5',\n'precomp_subsum5',\n'postcomp_subwavg5',\n'precomp_subwavg5',\n'postcomp_subwdsum',\n'precomp_subwdsum',\n'postcomp_subwdavg',\n'precomp_subwdavg',\n'postcomp_subwdsum3',\n'precomp_subdsum3',\n'postcomp_subwdavg3',\n'precomp_subwdavg3',\n'postcomp_subwdsum5',\n'precomp_subwdsum5',\n'postcomp_subwdavg5',\n'precomp_subwdavg5',\n'postcomp_udecsum',\n'precomp_udecsum',\n'postcomp_udecavg',\n'precomp_udecavg',\n'postcomp_udecsum3',\n'precomp_udecsum3',\n'postcomp_udecavg3',\n'precomp_udecavg3',\n'postcomp_udecsum5',\n'precomp_udecsum5',\n'postcomp_udecavg5',\n'precomp_udecavg5',\n'postcomp_udecdsum',\n'precomp_udecdsum',\n'postcomp_udecdavg',\n'precomp_udecdavg',\n'postcomp_udecdsum3',\n'precomp_udecdsum3',\n'postcomp_udecdavg3',\n'precomp_udecdavg3',\n'postcomp_udecdsum5',\n'precomp_udecdsum5',\n'postcomp_udecdavg5',\n'precomp_udecdavg5',\n'postcomp_sdecsum',\n'precomp_sdecsum',\n'postcomp_sdecavg',\n'precomp_sdecavg',\n'postcomp_sdecsum3',\n'precomp_sdecsum3',\n'postcomp_sdecavg3',\n'precomp_sdecavg3',\n'postcomp_sdecsum5',\n'precomp_sdecsum5',\n'postcomp_sdecavg5',\n'precomp_sdecavg5',\n'postcomp_sdecdsum',\n'precomp_sdecdsum',\n'postcomp_sdecdavg',\n'precomp_sdecdavg',\n'postcomp_sdecdsum3',\n'precomp_sdecdsum3',\n'postcomp_sdecdavg3',\n'precomp_sdecdavg3',\n'postcomp_sdecdsum5',\n'precomp_sdecdsum5',\n'postcomp_sdecdavg5',\n'precomp_sdecdavg5',\n'postcomp_mdecsum',\n'precomp_mdecsum',\n'postcomp_mdecavg',\n'precomp_mdecavg',\n'postcomp_mdecsum3',\n'precomp_mdecsum3',\n'postcomp_mdecavg3',\n'precomp_mdecavg3',\n'postcomp_mdecsum5',\n'precomp_mdecsum5',\n'postcomp_mdecavg5',\n'precomp_mdecavg5',\n'postcomp_mdecdsum',\n'precomp_mdecdsum',\n'postcomp_mdecdavg',\n'precomp_mdecdavg',\n'postcomp_mdecdsum3',\n'precomp_mdecdsum3',\n'postcomp_mdecdavg3',\n'precomp_mdecdavg3',\n'postcomp_mdecdsum5',\n'precomp_mdecdsum5',\n'postcomp_mdecdavg5',\n'precomp_mdecdavg5',\n'opp_DATE',\n'opp_jbout',\n'opp_jevent',\n'opp_jfighter',\n'opp_EVENT',\n'opp_BOUT',\n'opp_FIGHTER',\n'opp_fight_time_minutes',\n'opp_precomp_tot_time_in_cage',\n'opp_postcomp_tot_time_in_cage',\n'opp_age',\n'opp_HEIGHT',\n'opp_WEIGHT',\n'opp_REACH',\n'opp_DOB',\n'opp_sex',\n'opp_weightindex',\n'opp_weight_stat',\n'opp_weight_of_fight',\n'opp_precomp_weight_avg3',\n'opp_postcomp_weight_avg3',\n'opp_win',\n'opp_loss',\n'opp_ko',\n'opp_kod',\n'opp_subw',\n'opp_subwd',\n'opp_udec',\n'opp_udecd',\n'opp_sdec',\n'opp_sdecd',\n'opp_mdec',\n'opp_mdecd',\n'opp_subatt',\n'opp_postcomp_tot_time_in_cage_3',\n'opp_precomp_tot_time_in_cage_3',\n'opp_postcomp_tot_time_in_cage_5',\n'opp_precomp_tot_time_in_cage_5',\n'opp_postcomp_sigstr_pm',\n'opp_precomp_sigstr_pm',\n'opp_postcomp_sigstr_pm3',\n'opp_precomp_sigstr_pm3',\n'opp_postcomp_sigstr_pm5',\n'opp_precomp_sigstr_pm5',\n'opp_postcomp_tdavg',\n'opp_precomp_tdavg',\n'opp_postcomp_tdavg3',\n'opp_precomp_tdavg3',\n'opp_postcomp_tdavg5',\n'opp_precomp_tdavg5',\n'opp_sigstrabs',\n'opp_postcomp_sapm',\n'opp_precomp_sapm',\n'opp_precomp_sapm3',\n'opp_postcomp_sapm3',\n'opp_precomp_sapm5',\n'opp_postcomp_sapm5',\n'opp_postcomp_subavg',\n'opp_precomp_subavg',\n'opp_postcomp_subavg3',\n'opp_precomp_subavg3',\n'opp_postcomp_subavg5',\n'opp_precomp_subavg5',\n'opp_tdabs',\n'opp_tdattfromopp',\n'opp_postcomp_tddef',\n'opp_precomp_tddef',\n'opp_postcomp_tddef3',\n'opp_precomp_tddef3',\n'opp_postcomp_tddef5',\n'opp_precomp_tddef5',\n'opp_ostrabs',\n'opp_postcomp_ostrabssum',\n'opp_sigstracc',\n'opp_sigstratt',\n'opp_precomp_sigstraccsum',\n'opp_postcomp_sigstraccsum',\n'opp_postcomp_sigstr_perc',\n'opp_precomp_sigstr_perc',\n'opp_precomp_sigstr_perc3',\n'opp_postcomp_sigstr_perc3',\n'opp_precomp_sigstr_perc5',\n'opp_postcomp_sigstr_perc5',\n'opp_sigstrattfromopp',\n'opp_postcomp_strdef',\n'opp_precomp_strdef',\n'opp_postcomp_strdef3',\n'opp_precomp_strdef3',\n'opp_postcomp_strdef5',\n'opp_precomp_strdef5',\n'opp_tdacc',\n'opp_tdatt',\n'opp_postcomp_tdacc_perc',\n'opp_precomp_tdacc_perc',\n'opp_postcomp_tdacc_perc3',\n'opp_precomp_tdacc_perc3',\n'opp_postcomp_tdacc_perc5',\n'opp_precomp_tdacc_perc5',\n'opp_totalacc',\n'opp_totalatt',\n'opp_postcomp_totalacc_perc',\n'opp_precomp_totalacc_perc',\n'opp_postcomp_totalacc_perc3',\n'opp_precomp_totalacc_perc3',\n'opp_postcomp_totalacc_perc5',\n'opp_precomp_totalacc_perc5',\n'opp_headacc',\n'opp_headatt',\n'opp_postcomp_headacc_perc',\n'opp_precomp_headacc_perc',\n'opp_postcomp_headacc_perc3',\n'opp_precomp_headacc_perc3',\n'opp_postcomp_headacc_perc5',\n'opp_precomp_headacc_perc5',\n'opp_bodyacc',\n'opp_bodyatt',\n'opp_postcomp_bodyacc_perc',\n'opp_precomp_bodyacc_perc',\n'opp_postcomp_bodyacc_perc3',\n'opp_precomp_bodyacc_perc3',\n'opp_postcomp_bodyacc_perc5',\n'opp_precomp_bodyacc_perc5',\n'opp_legacc',\n'opp_legatt',\n'opp_postcomp_legacc_perc',\n'opp_precomp_legacc_perc',\n'opp_postcomp_legacc_perc3',\n'opp_precomp_legacc_perc3',\n'opp_postcomp_legacc_perc5',\n'opp_precomp_legacc_perc5',\n'opp_distacc',\n'opp_distatt',\n'opp_postcomp_distacc_perc',\n'opp_precomp_distacc_perc',\n'opp_postcomp_distacc_perc3',\n'opp_precomp_distacc_perc3',\n'opp_postcomp_distacc_perc5',\n'opp_precomp_distacc_perc5',\n'opp_clinchacc',\n'opp_clinchatt',\n'opp_postcomp_clinchacc_perc',\n'opp_precomp_clinchacc_perc',\n'opp_postcomp_clinchacc_perc3',\n'opp_precomp_clinchacc_perc3',\n'opp_postcomp_clinchacc_perc5',\n'opp_precomp_clinchacc_perc5',\n'opp_groundacc',\n'opp_groundatt',\n'opp_postcomp_groundacc_perc',\n'opp_precomp_groundacc_perc',\n'opp_postcomp_groundacc_perc3',\n'opp_precomp_groundacc_perc3',\n'opp_postcomp_groundacc_perc5',\n'opp_precomp_groundacc_perc5',\n'opp_postcomp_winsum',\n'opp_precomp_winsum',\n'opp_postcomp_boutcount',\n'opp_precomp_boutcount',\n'opp_postcomp_winavg',\n'opp_precomp_winavg',\n'opp_postcomp_winsum3',\n'opp_precomp_winsum3',\n'opp_postcomp_winavg3',\n'opp_precomp_winavg3',\n'opp_postcomp_winsum5',\n'opp_precomp_winsum5',\n'opp_postcomp_winavg5',\n'opp_precomp_winavg5',\n'opp_postcomp_losssum',\n'opp_precomp_losssum',\n'opp_postcomp_lossavg',\n'opp_precomp_lossavg',\n'opp_postcomp_losssum3',\n'opp_precomp_losssum3',\n'opp_postcomp_lossavg3',\n'opp_precomp_lossavg3',\n'opp_postcomp_losssum5',\n'opp_precomp_losssum5',\n'opp_postcomp_lossavg5',\n'opp_precomp_lossavg5',\n'opp_postcomp_kosum',\n'opp_precomp_kosum',\n'opp_postcomp_koavg',\n'opp_precomp_koavg',\n'opp_postcomp_kosum3',\n'opp_precomp_kosum3',\n'opp_postcomp_koavg3',\n'opp_precomp_koavg3',\n'opp_postcomp_kosum5',\n'opp_precomp_kosum5',\n'opp_postcomp_koavg5',\n'opp_precomp_koavg5',\n'opp_postcomp_kodsum',\n'opp_precomp_kodsum',\n'opp_postcomp_kodavg',\n'opp_precomp_kodavg',\n'opp_postcomp_kodsum3',\n'opp_precomp_kodsum3',\n'opp_postcomp_kodavg3',\n'opp_precomp_kodavg3',\n'opp_postcomp_kodsum5',\n'opp_precomp_kodsum5',\n'opp_postcomp_kodavg5',\n'opp_precomp_kodavg5',\n'opp_postcomp_subwsum',\n'opp_precomp_subwsum',\n'opp_postcomp_subwavg',\n'opp_precomp_suwbavg',\n'opp_postcomp_subwsum3',\n'opp_precomp_subwsum3',\n'opp_postcomp_subwavg3',\n'opp_precomp_subwavg3',\n'opp_postcomp_subwsum5',\n'opp_precomp_subwsum5',\n'opp_postcomp_subwavg5',\n'opp_precomp_subwavg5',\n'opp_postcomp_subwdsum',\n'opp_precomp_subwdsum',\n'opp_postcomp_subwdavg',\n'opp_precomp_subwdavg',\n'opp_postcomp_subwdsum3',\n'opp_precomp_subwdsum3',\n'opp_postcomp_subwdavg3',\n'opp_precomp_subwdavg3',\n'opp_postcomp_subwdsum5',\n'opp_precomp_subwdsum5',\n'opp_postcomp_subwdavg5',\n'opp_precomp_subwdavg5',\n'opp_postcomp_udecsum',\n'opp_precomp_udecsum',\n'opp_postcomp_udecavg',\n'opp_precomp_udecavg',\n'opp_postcomp_udecsum3',\n'opp_precomp_udecsum3',\n'opp_postcomp_udecavg3',\n'opp_precomp_udecavg3',\n'opp_postcomp_udecsum5',\n'opp_precomp_udecsum5',\n'opp_postcomp_udecavg5',\n'opp_precomp_udecavg5',\n'opp_postcomp_udecdsum',\n'opp_precomp_udecdsum',\n'opp_postcomp_udecdavg',\n'opp_precomp_udecdavg',\n'opp_postcomp_udecdsum3',\n'opp_precomp_udecdsum3',\n'opp_postcomp_udecdavg3',\n'opp_precomp_udecdavg3',\n'opp_postcomp_udecdsum5',\n'opp_precomp_udecdsum5',\n'opp_postcomp_udecdavg5',\n'opp_precomp_udecdavg5',\n'opp_postcomp_sdecsum',\n'opp_precomp_sdecsum',\n'opp_postcomp_sdecavg',\n'opp_precomp_sdecavg',\n'opp_postcomp_sdecsum3',\n'opp_precomp_sdecsum3',\n'opp_postcomp_sdecavg3',\n'opp_precomp_sdecavg3',\n'opp_postcomp_sdecsum5',\n'opp_precomp_sdecsum5',\n'opp_postcomp_sdecavg5',\n'opp_precomp_sdecavg5',\n'opp_postcomp_sdecdsum',\n'opp_precomp_sdecdsum',\n'opp_postcomp_sdecdavg',\n'opp_precomp_sdecdavg',\n'opp_postcomp_sdecdsum3',\n'opp_precomp_sdecdsum3',\n'opp_postcomp_sdecdavg3',\n'opp_precomp_sdecdavg3',\n'opp_postcomp_sdecdsum5',\n'opp_precomp_sdecdsum5',\n'opp_postcomp_sdecdavg5',\n'opp_precomp_sdecdavg5',\n'opp_postcomp_mdecsum',\n'opp_precomp_mdecsum',\n'opp_postcomp_mdecavg',\n'opp_precomp_mdecavg',\n'opp_postcomp_mdecsum3',\n'opp_precomp_mdecsum3',\n'opp_postcomp_mdecavg3',\n'opp_precomp_mdecavg3',\n'opp_postcomp_mdecsum5',\n'opp_precomp_mdecsum5',\n'opp_postcomp_mdecavg5',\n'opp_precomp_mdecavg5',\n'opp_postcomp_mdecdsum',\n'opp_precomp_mdecdsum',\n'opp_postcomp_mdecdavg',\n'opp_precomp_mdecdavg',\n'opp_postcomp_mdecdsum3',\n'opp_precomp_mdecdsum3',\n'opp_postcomp_mdecdavg3',\n'opp_precomp_mdecdavg3',\n'opp_postcomp_mdecdsum5',\n'opp_precomp_mdecdsum5',\n'opp_postcomp_mdecdavg5',\n'opp_precomp_mdecdavg5'\n  UNION ALL\nSELECT\n-- SApM : SApM - Significant Strikes Absorbed per Minute\n-- Post Competition\nsingle_fighter_view.DATE,\n    single_fighter_view.jbout,\n    single_fighter_view.jevent,\n    single_fighter_view.jfighter,\n    single_fighter_view.EVENT,\n    single_fighter_view.BOUT,\n    single_fighter_view.FIGHTER,\n    single_fighter_view.fight_time_minutes,\n    single_fighter_view.precomp_tot_time_in_cage,\n    single_fighter_view.postcomp_tot_time_in_cage,\n    single_fighter_view.age,\n    single_fighter_view.HEIGHT,\n    single_fighter_view.WEIGHT,\n    single_fighter_view.REACH,\n    single_fighter_view.DOB,\n    single_fighter_view.sex,\n    single_fighter_view.weightindex,\n    single_fighter_view.weight_stat,\n    single_fighter_view.weight_of_fight,\n    single_fighter_view.precomp_weight_avg3,\n    single_fighter_view.postcomp_weight_avg3,\n    single_fighter_view.win,\n    single_fighter_view.loss,\n    single_fighter_view.ko,\n    single_fighter_view.kod,\n    single_fighter_view.subw,\n    single_fighter_view.subwd,\n    single_fighter_view.udec,\n    single_fighter_view.udecd,\n    single_fighter_view.sdec,\n    single_fighter_view.sdecd,\n    single_fighter_view.mdec,\n    single_fighter_view.mdecd,\n    single_fighter_view.subatt,\n    single_fighter_view.postcomp_tot_time_in_cage_3,\n    single_fighter_view.precomp_tot_time_in_cage_3,\n    single_fighter_view.postcomp_tot_time_in_cage_5,\n    single_fighter_view.precomp_tot_time_in_cage_5,\n    single_fighter_view.postcomp_sigstr_pm,\n    single_fighter_view.precomp_sigstr_pm,\n    single_fighter_view.postcomp_sigstr_pm3,\n    single_fighter_view.precomp_sigstr_pm3,\n    single_fighter_view.postcomp_sigstr_pm5,\n    single_fighter_view.precomp_sigstr_pm5,\n    single_fighter_view.postcomp_tdavg,\n    single_fighter_view.precomp_tdavg,\n    single_fighter_view.postcomp_tdavg3,\n    single_fighter_view.precomp_tdavg3,\n    single_fighter_view.postcomp_tdavg5,\n    single_fighter_view.precomp_tdavg5,\n    single_fighter_view.sigstrabs,\n    single_fighter_view.postcomp_sapm,\n    single_fighter_view.precomp_sapm,\n    single_fighter_view.precomp_sapm3,\n    single_fighter_view.postcomp_sapm3,\n    single_fighter_view.precomp_sapm5,\n    single_fighter_view.postcomp_sapm5,\n    single_fighter_view.postcomp_subavg,\n    single_fighter_view.precomp_subavg,\n    single_fighter_view.postcomp_subavg3,\n    single_fighter_view.precomp_subavg3,\n    single_fighter_view.postcomp_subavg5,\n    single_fighter_view.precomp_subavg5,\n    single_fighter_view.tdabs,\n    single_fighter_view.tdattfromopp,\n    single_fighter_view.postcomp_tddef,\n    single_fighter_view.precomp_tddef,\n    single_fighter_view.postcomp_tddef3,\n    single_fighter_view.precomp_tddef3,\n    single_fighter_view.postcomp_tddef5,\n    single_fighter_view.precomp_tddef5,\n    single_fighter_view.ostrabs,\n    single_fighter_view.postcomp_ostrabssum,\n    single_fighter_view.sigstracc,\n    single_fighter_view.sigstratt,\n    single_fighter_view.precomp_sigstraccsum,\n    single_fighter_view.postcomp_sigstraccsum,\n    single_fighter_view.postcomp_sigstr_perc,\n    single_fighter_view.precomp_sigstr_perc,\n    single_fighter_view.precomp_sigstr_perc3,\n    single_fighter_view.postcomp_sigstr_perc3,\n    single_fighter_view.precomp_sigstr_perc5,\n    single_fighter_view.postcomp_sigstr_perc5,\n    single_fighter_view.sigstrattfromopp,\n    single_fighter_view.postcomp_strdef,\n    single_fighter_view.precomp_strdef,\n    single_fighter_view.postcomp_strdef3,\n    single_fighter_view.precomp_strdef3,\n    single_fighter_view.postcomp_strdef5,\n    single_fighter_view.precomp_strdef5,\n    single_fighter_view.tdacc,\n    single_fighter_view.tdatt,\n    single_fighter_view.postcomp_tdacc_perc,\n    single_fighter_view.precomp_tdacc_perc,\n    single_fighter_view.postcomp_tdacc_perc3,\n    single_fighter_view.precomp_tdacc_perc3,\n    single_fighter_view.postcomp_tdacc_perc5,\n    single_fighter_view.precomp_tdacc_perc5,\n    single_fighter_view.totalacc,\n    single_fighter_view.totalatt,\n    single_fighter_view.postcomp_totalacc_perc,\n    single_fighter_view.precomp_totalacc_perc,\n    single_fighter_view.postcomp_totalacc_perc3,\n    single_fighter_view.precomp_totalacc_perc3,\n    single_fighter_view.postcomp_totalacc_perc5,\n    single_fighter_view.precomp_totalacc_perc5,\n    single_fighter_view.headacc,\n    single_fighter_view.headatt,\n    single_fighter_view.postcomp_headacc_perc,\n    single_fighter_view.precomp_headacc_perc,\n    single_fighter_view.postcomp_headacc_perc3,\n    single_fighter_view.precomp_headacc_perc3,\n    single_fighter_view.postcomp_headacc_perc5,\n    single_fighter_view.precomp_headacc_perc5,\n    single_fighter_view.bodyacc,\n    single_fighter_view.bodyatt,\n    single_fighter_view.postcomp_bodyacc_perc,\n    single_fighter_view.precomp_bodyacc_perc,\n    single_fighter_view.postcomp_bodyacc_perc3,\n    single_fighter_view.precomp_bodyacc_perc3,\n    single_fighter_view.postcomp_bodyacc_perc5,\n    single_fighter_view.precomp_bodyacc_perc5,\n    single_fighter_view.legacc,\n    single_fighter_view.legatt,\n    single_fighter_view.postcomp_legacc_perc,\n    single_fighter_view.precomp_legacc_perc,\n    single_fighter_view.postcomp_legacc_perc3,\n    single_fighter_view.precomp_legacc_perc3,\n    single_fighter_view.postcomp_legacc_perc5,\n    single_fighter_view.precomp_legacc_perc5,\n    single_fighter_view.distacc,\n    single_fighter_view.distatt,\n    single_fighter_view.postcomp_distacc_perc,\n    single_fighter_view.precomp_distacc_perc,\n    single_fighter_view.postcomp_distacc_perc3,\n    single_fighter_view.precomp_distacc_perc3,\n    single_fighter_view.postcomp_distacc_perc5,\n    single_fighter_view.precomp_distacc_perc5,\n    single_fighter_view.clinchacc,\n    single_fighter_view.clinchatt,\n    single_fighter_view.postcomp_clinchacc_perc,\n    single_fighter_view.precomp_clinchacc_perc,\n    single_fighter_view.postcomp_clinchacc_perc3,\n    single_fighter_view.precomp_clinchacc_perc3,\n    single_fighter_view.postcomp_clinchacc_perc5,\n    single_fighter_view.precomp_clinchacc_perc5,\n    single_fighter_view.groundacc,\n    single_fighter_view.groundatt,\n    single_fighter_view.postcomp_groundacc_perc,\n    single_fighter_view.precomp_groundacc_perc,\n    single_fighter_view.postcomp_groundacc_perc3,\n    single_fighter_view.precomp_groundacc_perc3,\n    single_fighter_view.postcomp_groundacc_perc5,\n    single_fighter_view.precomp_groundacc_perc5,\n    single_fighter_view.postcomp_winsum,\n    single_fighter_view.precomp_winsum,\n    single_fighter_view.postcomp_boutcount,\n    single_fighter_view.precomp_boutcount,\n    single_fighter_view.postcomp_winavg,\n    single_fighter_view.precomp_winavg,\n    single_fighter_view.postcomp_winsum3,\n    single_fighter_view.precomp_winsum3,\n    single_fighter_view.postcomp_winavg3,\n    single_fighter_view.precomp_winavg3,\n    single_fighter_view.postcomp_winsum5,\n    single_fighter_view.precomp_winsum5,\n    single_fighter_view.postcomp_winavg5,\n    single_fighter_view.precomp_winavg5,\n    single_fighter_view.postcomp_losssum,\n    single_fighter_view.precomp_losssum,\n    single_fighter_view.postcomp_lossavg,\n    single_fighter_view.precomp_lossavg,\n    single_fighter_view.postcomp_losssum3,\n    single_fighter_view.precomp_losssum3,\n    single_fighter_view.postcomp_lossavg3,\n    single_fighter_view.precomp_lossavg3,\n    single_fighter_view.postcomp_losssum5,\n    single_fighter_view.precomp_losssum5,\n    single_fighter_view.postcomp_lossavg5,\n    single_fighter_view.precomp_lossavg5,\n    single_fighter_view.postcomp_kosum,\n    single_fighter_view.precomp_kosum,\n    single_fighter_view.postcomp_koavg,\n    single_fighter_view.precomp_koavg,\n    single_fighter_view.postcomp_kosum3,\n    single_fighter_view.precomp_kosum3,\n    single_fighter_view.postcomp_koavg3,\n    single_fighter_view.precomp_koavg3,\n    single_fighter_view.postcomp_kosum5,\n    single_fighter_view.precomp_kosum5,\n    single_fighter_view.postcomp_koavg5,\n    single_fighter_view.precomp_koavg5,\n    single_fighter_view.postcomp_kodsum,\n    single_fighter_view.precomp_kodsum,\n    single_fighter_view.postcomp_kodavg,\n    single_fighter_view.precomp_kodavg,\n    single_fighter_view.postcomp_kodsum3,\n    single_fighter_view.precomp_kodsum3,\n    single_fighter_view.postcomp_kodavg3,\n    single_fighter_view.precomp_kodavg3,\n    single_fighter_view.postcomp_kodsum5,\n    single_fighter_view.precomp_kodsum5,\n    single_fighter_view.postcomp_kodavg5,\n    single_fighter_view.precomp_kodavg5,\n    single_fighter_view.postcomp_subwsum,\n    single_fighter_view.precomp_subwsum,\n    single_fighter_view.postcomp_subwavg,\n    single_fighter_view.precomp_subwavg,\n    single_fighter_view.postcomp_subwsum3,\n    single_fighter_view.precomp_subwsum3,\n    single_fighter_view.postcomp_subwavg3,\n    single_fighter_view.precomp_subwavg3,\n    single_fighter_view.postcomp_subwsum5,\n    single_fighter_view.precomp_subwsum5,\n    single_fighter_view.postcomp_subwavg5,\n    single_fighter_view.precomp_subwavg5,\n    single_fighter_view.postcomp_subwdsum,\n    single_fighter_view.precomp_subwdsum,\n    single_fighter_view.postcomp_subwdavg,\n    single_fighter_view.precomp_subwdavg,\n    single_fighter_view.postcomp_subwdsum3,\n    single_fighter_view.precomp_subwdsum3,\n    single_fighter_view.postcomp_subwdavg3,\n    single_fighter_view.precomp_subwdavg3,\n    single_fighter_view.postcomp_subwdsum5,\n    single_fighter_view.precomp_subwdsum5,\n    single_fighter_view.postcomp_subwdavg5,\n    single_fighter_view.precomp_subwdavg5,\n    single_fighter_view.postcomp_udecsum,\n    single_fighter_view.precomp_udecsum,\n    single_fighter_view.postcomp_udecavg,\n    single_fighter_view.precomp_udecavg,\n    single_fighter_view.postcomp_udecsum3,\n    single_fighter_view.precomp_udecsum3,\n    single_fighter_view.postcomp_udecavg3,\n    single_fighter_view.precomp_udecavg3,\n    single_fighter_view.postcomp_udecsum5,\n    single_fighter_view.precomp_udecsum5,\n    single_fighter_view.postcomp_udecavg5,\n    single_fighter_view.precomp_udecavg5,\n    single_fighter_view.postcomp_udecdsum,\n    single_fighter_view.precomp_udecdsum,\n    single_fighter_view.postcomp_udecdavg,\n    single_fighter_view.precomp_udecdavg,\n    single_fighter_view.postcomp_udecdsum3,\n    single_fighter_view.precomp_udecdsum3,\n    single_fighter_view.postcomp_udecdavg3,\n    single_fighter_view.precomp_udecdavg3,\n    single_fighter_view.postcomp_udecdsum5,\n    single_fighter_view.precomp_udecdsum5,\n    single_fighter_view.postcomp_udecdavg5,\n    single_fighter_view.precomp_udecdavg5,\n    single_fighter_view.postcomp_sdecsum,\n    single_fighter_view.precomp_sdecsum,\n    single_fighter_view.postcomp_sdecavg,\n    single_fighter_view.precomp_sdecavg,\n    single_fighter_view.postcomp_sdecsum3,\n    single_fighter_view.precomp_sdecsum3,\n    single_fighter_view.postcomp_sdecavg3,\n    single_fighter_view.precomp_sdecavg3,\n    single_fighter_view.postcomp_sdecsum5,\n    single_fighter_view.precomp_sdecsum5,\n    single_fighter_view.postcomp_sdecavg5,\n    single_fighter_view.precomp_sdecavg5,\n    single_fighter_view.postcomp_sdecdsum,\n    single_fighter_view.precomp_sdecdsum,\n    single_fighter_view.postcomp_sdecdavg,\n    single_fighter_view.precomp_sdecdavg,\n    single_fighter_view.postcomp_sdecdsum3,\n    single_fighter_view.precomp_sdecdsum3,\n    single_fighter_view.postcomp_sdecdavg3,\n    single_fighter_view.precomp_sdecdavg3,\n    single_fighter_view.postcomp_sdecdsum5,\n    single_fighter_view.precomp_sdecdsum5,\n    single_fighter_view.postcomp_sdecdavg5,\n    single_fighter_view.precomp_sdecdavg5,\n    single_fighter_view.postcomp_mdecsum,\n    single_fighter_view.precomp_mdecsum,\n    single_fighter_view.postcomp_mdecavg,\n    single_fighter_view.precomp_mdecavg,\n    single_fighter_view.postcomp_mdecsum3,\n    single_fighter_view.precomp_mdecsum3,\n    single_fighter_view.postcomp_mdecavg3,\n    single_fighter_view.precomp_mdecavg3,\n    single_fighter_view.postcomp_mdecsum5,\n    single_fighter_view.precomp_mdecsum5,\n    single_fighter_view.postcomp_mdecavg5,\n    single_fighter_view.precomp_mdecavg5,\n    single_fighter_view.postcomp_mdecdsum,\n    single_fighter_view.precomp_mdecdsum,\n    single_fighter_view.postcomp_mdecdavg,\n    single_fighter_view.precomp_mdecdavg,\n    single_fighter_view.postcomp_mdecdsum3,\n    single_fighter_view.precomp_mdecdsum3,\n    single_fighter_view.postcomp_mdecdavg3,\n    single_fighter_view.precomp_mdecdavg3,\n    single_fighter_view.postcomp_mdecdsum5,\n    single_fighter_view.precomp_mdecdsum5,\n    single_fighter_view.postcomp_mdecdavg5,\n    single_fighter_view.precomp_mdecdavg5,\n    single_opponent_view.DATE as opp_DATE,\n    single_opponent_view.jbout as opp_jbout,\n    single_opponent_view.jevent as opp_jevent,\n    single_opponent_view.jfighter as opp_jfighter,\n    single_opponent_view.EVENT as opp_EVENT,\n    single_opponent_view.BOUT as opp_BOUT,\n    single_opponent_view.FIGHTER as opp_FIGHTER,\n    single_opponent_view.fight_time_minutes as opp_fight_time_minutes,\n    single_opponent_view.precomp_tot_time_in_cage as opp_precomp_tot_time_in_cage,\n    single_opponent_view.postcomp_tot_time_in_cage as opp_postcomp_tot_time_in_cage,\n    single_opponent_view.age as opp_age,\n    single_opponent_view.HEIGHT as opp_HEIGHT,\n    single_opponent_view.WEIGHT as opp_WEIGHT,\n    single_opponent_view.REACH as opp_REACH,\n    single_opponent_view.DOB as opp_DOB,\n    single_opponent_view.sex as opp_sex,\n    single_opponent_view.weightindex as opp_weightindex,\n    single_opponent_view.weight_stat as opp_weight_stat,\n    single_opponent_view.weight_of_fight as opp_weight_of_fight,\n    single_opponent_view.precomp_weight_avg3 as opp_precomp_weight_avg3,\n    single_opponent_view.postcomp_weight_avg3 as opp_postcomp_weight_avg3,\n    single_opponent_view.win as opp_win,\n    single_opponent_view.loss as opp_loss,\n    single_opponent_view.ko as opp_ko,\n    single_opponent_view.kod as opp_kod,\n    single_opponent_view.subw as opp_subw,\n    single_opponent_view.subwd as opp_subwd,\n    single_opponent_view.udec as opp_udec,\n    single_opponent_view.udecd as opp_udecd,\n    single_opponent_view.sdec as opp_sdec,\n    single_opponent_view.sdecd as opp_sdecd,\n    single_opponent_view.mdec as opp_mdec,\n    single_opponent_view.mdecd as opp_mdecd,\n    single_opponent_view.subatt as opp_subatt,\n    single_opponent_view.postcomp_tot_time_in_cage_3 as opp_postcomp_tot_time_in_cage_3,\n    single_opponent_view.precomp_tot_time_in_cage_3 as opp_precomp_tot_time_in_cage_3,\n    single_opponent_view.postcomp_tot_time_in_cage_5 as opp_postcomp_tot_time_in_cage_5,\n    single_opponent_view.precomp_tot_time_in_cage_5 as opp_precomp_tot_time_in_cage_5,\n    single_opponent_view.postcomp_sigstr_pm as opp_postcomp_sigstr_pm,\n    single_opponent_view.precomp_sigstr_pm as opp_precomp_sigstr_pm,\n    single_opponent_view.postcomp_sigstr_pm3 as opp_postcomp_sigstr_pm3,\n    single_opponent_view.precomp_sigstr_pm3 as opp_precomp_sigstr_pm3,\n    single_opponent_view.postcomp_sigstr_pm5 as opp_postcomp_sigstr_pm5,\n    single_opponent_view.precomp_sigstr_pm5 as opp_precomp_sigstr_pm5,\n    single_opponent_view.postcomp_tdavg as opp_postcomp_tdavg,\n    single_opponent_view.precomp_tdavg as opp_precomp_tdavg,\n    single_opponent_view.postcomp_tdavg3 as opp_postcomp_tdavg3,\n    single_opponent_view.precomp_tdavg3 as opp_precomp_tdavg3,\n    single_opponent_view.postcomp_tdavg5 as opp_postcomp_tdavg5,\n    single_opponent_view.precomp_tdavg5 as opp_precomp_tdavg5,\n    single_opponent_view.sigstrabs as opp_sigstrabs,\n    single_opponent_view.postcomp_sapm as opp_postcomp_sapm,\n    single_opponent_view.precomp_sapm as opp_precomp_sapm,\n    single_opponent_view.precomp_sapm3 as opp_precomp_sapm3,\n    single_opponent_view.postcomp_sapm3 as opp_postcomp_sapm3,\n    single_opponent_view.precomp_sapm5 as opp_precomp_sapm5,\n    single_opponent_view.postcomp_sapm5 as opp_postcomp_sapm5,\n    single_opponent_view.postcomp_subavg as opp_postcomp_subavg,\n    single_opponent_view.precomp_subavg as opp_precomp_subavg,\n    single_opponent_view.postcomp_subavg3 as opp_postcomp_subavg3,\n    single_opponent_view.precomp_subavg3 as opp_precomp_subavg3,\n    single_opponent_view.postcomp_subavg5 as opp_postcomp_subavg5,\n    single_opponent_view.precomp_subavg5 as opp_precomp_subavg5,\n    single_opponent_view.tdabs as opp_tdabs,\n    single_opponent_view.tdattfromopp as opp_tdattfromopp,\n    single_opponent_view.postcomp_tddef as opp_postcomp_tddef,\n    single_opponent_view.precomp_tddef as opp_precomp_tddef,\n    single_opponent_view.postcomp_tddef3 as opp_postcomp_tddef3,\n    single_opponent_view.precomp_tddef3 as opp_precomp_tddef3,\n    single_opponent_view.postcomp_tddef5 as opp_postcomp_tddef5,\n    single_opponent_view.precomp_tddef5 as opp_precomp_tddef5,\n    single_opponent_view.ostrabs as opp_ostrabs,\n    single_opponent_view.postcomp_ostrabssum as opp_postcomp_ostrabssum,\n    single_opponent_view.sigstracc as opp_sigstracc,\n    single_opponent_view.sigstratt as opp_sigstratt,\n    single_opponent_view.precomp_sigstraccsum as opp_precomp_sigstraccsum,\n    single_opponent_view.postcomp_sigstraccsum as opp_postcomp_sigstraccsum,\n    single_opponent_view.postcomp_sigstr_perc as opp_postcomp_sigstr_perc,\n    single_opponent_view.precomp_sigstr_perc as opp_precomp_sigstr_perc,\n    single_opponent_view.precomp_sigstr_perc3 as opp_precomp_sigstr_perc3,\n    single_opponent_view.postcomp_sigstr_perc3 as opp_postcomp_sigstr_perc3,\n    single_opponent_view.precomp_sigstr_perc5 as opp_precomp_sigstr_perc5,\n    single_opponent_view.postcomp_sigstr_perc5 as opp_postcomp_sigstr_perc5,\n    single_opponent_view.sigstrattfromopp as opp_sigstrattfromopp,\n    single_opponent_view.postcomp_strdef as opp_postcomp_strdef,\n    single_opponent_view.precomp_strdef as opp_precomp_strdef,\n    single_opponent_view.postcomp_strdef3 as opp_postcomp_strdef3,\n    single_opponent_view.precomp_strdef3 as opp_precomp_strdef3,\n    single_opponent_view.postcomp_strdef5 as opp_postcomp_strdef5,\n    single_opponent_view.precomp_strdef5 as opp_precomp_strdef5,\n    single_opponent_view.tdacc as opp_tdacc,\n    single_opponent_view.tdatt as opp_tdatt,\n    single_opponent_view.postcomp_tdacc_perc as opp_postcomp_tdacc_perc,\n    single_opponent_view.precomp_tdacc_perc as opp_precomp_tdacc_perc,\n    single_opponent_view.postcomp_tdacc_perc3 as opp_postcomp_tdacc_perc3,\n    single_opponent_view.precomp_tdacc_perc3 as opp_precomp_tdacc_perc3,\n    single_opponent_view.postcomp_tdacc_perc5 as opp_postcomp_tdacc_perc5,\n    single_opponent_view.precomp_tdacc_perc5 as opp_precomp_tdacc_perc5,\n    single_opponent_view.totalacc as opp_totalacc,\n    single_opponent_view.totalatt as opp_totalatt,\n    single_opponent_view.postcomp_totalacc_perc as opp_postcomp_totalacc_perc,\n    single_opponent_view.precomp_totalacc_perc as opp_precomp_totalacc_perc,\n    single_opponent_view.postcomp_totalacc_perc3 as opp_postcomp_totalacc_perc3,\n    single_opponent_view.precomp_totalacc_perc3 as opp_precomp_totalacc_perc3,\n    single_opponent_view.postcomp_totalacc_perc5 as opp_postcomp_totalacc_perc5,\n    single_opponent_view.precomp_totalacc_perc5 as opp_precomp_totalacc_perc5,\n    single_opponent_view.headacc as opp_headacc,\n    single_opponent_view.headatt as opp_headatt,\n    single_opponent_view.postcomp_headacc_perc as opp_postcomp_headacc_perc,\n    single_opponent_view.precomp_headacc_perc as opp_precomp_headacc_perc,\n    single_opponent_view.postcomp_headacc_perc3 as opp_postcomp_headacc_perc3,\n    single_opponent_view.precomp_headacc_perc3 as opp_precomp_headacc_perc3,\n    single_opponent_view.postcomp_headacc_perc5 as opp_postcomp_headacc_perc5,\n    single_opponent_view.precomp_headacc_perc5 as opp_precomp_headacc_perc5,\n    single_opponent_view.bodyacc as opp_bodyacc,\n    single_opponent_view.bodyatt as opp_bodyatt,\n    single_opponent_view.postcomp_bodyacc_perc as opp_postcomp_bodyacc_perc,\n    single_opponent_view.precomp_bodyacc_perc as opp_precomp_bodyacc_perc,\n    single_opponent_view.postcomp_bodyacc_perc3 as opp_postcomp_bodyacc_perc3,\n    single_opponent_view.precomp_bodyacc_perc3 as opp_precomp_bodyacc_perc3,\n    single_opponent_view.postcomp_bodyacc_perc5 as opp_postcomp_bodyacc_perc5,\n    single_opponent_view.precomp_bodyacc_perc5 as opp_precomp_bodyacc_perc5,\n    single_opponent_view.legacc as opp_legacc,\n    single_opponent_view.legatt as opp_legatt,\n    single_opponent_view.postcomp_legacc_perc as opp_postcomp_legacc_perc,\n    single_opponent_view.precomp_legacc_perc as opp_precomp_legacc_perc,\n    single_opponent_view.postcomp_legacc_perc3 as opp_postcomp_legacc_perc3,\n    single_opponent_view.precomp_legacc_perc3 as opp_precomp_legacc_perc3,\n    single_opponent_view.postcomp_legacc_perc5 as opp_postcomp_legacc_perc5,\n    single_opponent_view.precomp_legacc_perc5 as opp_precomp_legacc_perc5,\n    single_opponent_view.distacc as opp_distacc,\n    single_opponent_view.distatt as opp_distatt,\n    single_opponent_view.postcomp_distacc_perc as opp_postcomp_distacc_perc,\n    single_opponent_view.precomp_distacc_perc as opp_precomp_distacc_perc,\n    single_opponent_view.postcomp_distacc_perc3 as opp_postcomp_distacc_perc3,\n    single_opponent_view.precomp_distacc_perc3 as opp_precomp_distacc_perc3,\n    single_opponent_view.postcomp_distacc_perc5 as opp_postcomp_distacc_perc5,\n    single_opponent_view.precomp_distacc_perc5 as opp_precomp_distacc_perc5,\n    single_opponent_view.clinchacc as opp_clinchacc,\n    single_opponent_view.clinchatt as opp_clinchatt,\n    single_opponent_view.postcomp_clinchacc_perc as opp_postcomp_clinchacc_perc,\n    single_opponent_view.precomp_clinchacc_perc as opp_precomp_clinchacc_perc,\n    single_opponent_view.postcomp_clinchacc_perc3 as opp_postcomp_clinchacc_perc3,\n    single_opponent_view.precomp_clinchacc_perc3 as opp_precomp_clinchacc_perc3,\n    single_opponent_view.postcomp_clinchacc_perc5 as opp_postcomp_clinchacc_perc5,\n    single_opponent_view.precomp_clinchacc_perc5 as opp_precomp_clinchacc_perc5,\n    single_opponent_view.groundacc as opp_groundacc,\n    single_opponent_view.groundatt as opp_groundatt,\n    single_opponent_view.postcomp_groundacc_perc as opp_postcomp_groundacc_perc,\n    single_opponent_view.precomp_groundacc_perc as opp_precomp_groundacc_perc,\n    single_opponent_view.postcomp_groundacc_perc3 as opp_postcomp_groundacc_perc3,\n    single_opponent_view.precomp_groundacc_perc3 as opp_precomp_groundacc_perc3,\n    single_opponent_view.postcomp_groundacc_perc5 as opp_postcomp_groundacc_perc5,\n    single_opponent_view.precomp_groundacc_perc5 as opp_precomp_groundacc_perc5,\n    single_opponent_view.postcomp_winsum as opp_postcomp_winsum,\n    single_opponent_view.precomp_winsum as opp_precomp_winsum,\n    single_opponent_view.postcomp_boutcount as opp_postcomp_boutcount,\n    single_opponent_view.precomp_boutcount as opp_precomp_boutcount,\n    single_opponent_view.postcomp_winavg as opp_postcomp_winavg,\n    single_opponent_view.precomp_winavg as opp_precomp_winavg,\n    single_opponent_view.postcomp_winsum3 as opp_postcomp_winsum3,\n    single_opponent_view.precomp_winsum3 as opp_precomp_winsum3,\n    single_opponent_view.postcomp_winavg3 as opp_postcomp_winavg3,\n    single_opponent_view.precomp_winavg3 as opp_precomp_winavg3,\n    single_opponent_view.postcomp_winsum5 as opp_postcomp_winsum5,\n    single_opponent_view.precomp_winsum5 as opp_precomp_winsum5,\n    single_opponent_view.postcomp_winavg5 as opp_postcomp_winavg5,\n    single_opponent_view.precomp_winavg5 as opp_precomp_winavg5,\n    single_opponent_view.postcomp_losssum as opp_postcomp_losssum,\n    single_opponent_view.precomp_losssum as opp_precomp_losssum,\n    single_opponent_view.postcomp_lossavg as opp_postcomp_lossavg,\n    single_opponent_view.precomp_lossavg as opp_precomp_lossavg,\n    single_opponent_view.postcomp_losssum3 as opp_postcomp_losssum3,\n    single_opponent_view.precomp_losssum3 as opp_precomp_losssum3,\n    single_opponent_view.postcomp_lossavg3 as opp_postcomp_lossavg3,\n    single_opponent_view.precomp_lossavg3 as opp_precomp_lossavg3,\n    single_opponent_view.postcomp_losssum5 as opp_postcomp_losssum5,\n    single_opponent_view.precomp_losssum5 as opp_precomp_losssum5,\n    single_opponent_view.postcomp_lossavg5 as opp_postcomp_lossavg5,\n    single_opponent_view.precomp_lossavg5 as opp_precomp_lossavg5,\n    single_opponent_view.postcomp_kosum as opp_postcomp_kosum,\n    single_opponent_view.precomp_kosum as opp_precomp_kosum,\n    single_opponent_view.postcomp_koavg as opp_postcomp_koavg,\n    single_opponent_view.precomp_koavg as opp_precomp_koavg,\n    single_opponent_view.postcomp_kosum3 as opp_postcomp_kosum3,\n    single_opponent_view.precomp_kosum3 as opp_precomp_kosum3,\n    single_opponent_view.postcomp_koavg3 as opp_postcomp_koavg3,\n    single_opponent_view.precomp_koavg3 as opp_precomp_koavg3,\n    single_opponent_view.postcomp_kosum5 as opp_postcomp_kosum5,\n    single_opponent_view.precomp_kosum5 as opp_precomp_kosum5,\n    single_opponent_view.postcomp_koavg5 as opp_postcomp_koavg5,\n    single_opponent_view.precomp_koavg5 as opp_precomp_koavg5,\n    single_opponent_view.postcomp_kodsum as opp_postcomp_kodsum,\n    single_opponent_view.precomp_kodsum as opp_precomp_kodsum,\n    single_opponent_view.postcomp_kodavg as opp_postcomp_kodavg,\n    single_opponent_view.precomp_kodavg as opp_precomp_kodavg,\n    single_opponent_view.postcomp_kodsum3 as opp_postcomp_kodsum3,\n    single_opponent_view.precomp_kodsum3 as opp_precomp_kodsum3,\n    single_opponent_view.postcomp_kodavg3 as opp_postcomp_kodavg3,\n    single_opponent_view.precomp_kodavg3 as opp_precomp_kodavg3,\n    single_opponent_view.postcomp_kodsum5 as opp_postcomp_kodsum5,\n    single_opponent_view.precomp_kodsum5 as opp_precomp_kodsum5,\n    single_opponent_view.postcomp_kodavg5 as opp_postcomp_kodavg5,\n    single_opponent_view.precomp_kodavg5 as opp_precomp_kodavg5,\n    single_opponent_view.postcomp_subwsum as opp_postcomp_subwsum,\n    single_opponent_view.precomp_subwsum as opp_precomp_subwsum,\n    single_opponent_view.postcomp_subwavg as opp_postcomp_subwavg,\n    single_opponent_view.precomp_subwavg as opp_precomp_subwavg,\n    single_opponent_view.postcomp_subwsum3 as opp_postcomp_subwsum3,\n    single_opponent_view.precomp_subwsum3 as opp_precomp_subwsum3,\n    single_opponent_view.postcomp_subwavg3 as opp_postcomp_subwavg3,\n    single_opponent_view.precomp_subwavg3 as opp_precomp_subwavg3,\n    single_opponent_view.postcomp_subwsum5 as opp_postcomp_subwsum5,\n    single_opponent_view.precomp_subwsum5 as opp_precomp_subsum5,\n    single_opponent_view.postcomp_subwavg5 as opp_postcomp_subwavg5,\n    single_opponent_view.precomp_subwavg5 as opp_precomp_subwavg5,\n    single_opponent_view.postcomp_subwdsum as opp_postcomp_subwdsum,\n    single_opponent_view.precomp_subwdsum as opp_precomp_subwdsum,\n    single_opponent_view.postcomp_subwdavg as opp_postcomp_subwdavg,\n    single_opponent_view.precomp_subwdavg as opp_precomp_subwdavg,\n    single_opponent_view.postcomp_subwdsum3 as opp_postcomp_subwdsum3,\n    single_opponent_view.precomp_subwdsum3 as opp_precomp_subwdsum3,\n    single_opponent_view.postcomp_subwdavg3 as opp_postcomp_subwdavg3,\n    single_opponent_view.precomp_subwdavg3 as opp_precomp_subwdavg3,\n    single_opponent_view.postcomp_subwdsum5 as opp_postcomp_subwdsum5,\n    single_opponent_view.precomp_subwdsum5 as opp_precomp_subwdsum5,\n    single_opponent_view.postcomp_subwdavg5 as opp_postcomp_subwdavg5,\n    single_opponent_view.precomp_subwdavg5 as opp_precomp_subwdavg5,\n    single_opponent_view.postcomp_udecsum as opp_postcomp_udecsum,\n    single_opponent_view.precomp_udecsum as opp_precomp_udecsum,\n    single_opponent_view.postcomp_udecavg as opp_postcomp_udecavg,\n    single_opponent_view.precomp_udecavg as opp_precomp_udecavg,\n    single_opponent_view.postcomp_udecsum3 as opp_postcomp_udecsum3,\n    single_opponent_view.precomp_udecsum3 as opp_precomp_udecsum3,\n    single_opponent_view.postcomp_udecavg3 as opp_postcomp_udecavg3,\n    single_opponent_view.precomp_udecavg3 as opp_precomp_udecavg3,\n    single_opponent_view.postcomp_udecsum5 as opp_postcomp_udecsum5,\n    single_opponent_view.precomp_udecsum5 as opp_precomp_udecsum5,\n    single_opponent_view.postcomp_udecavg5 as opp_postcomp_udecavg5,\n    single_opponent_view.precomp_udecavg5 as opp_precomp_udecavg5,\n    single_opponent_view.postcomp_udecdsum as opp_postcomp_udecdsum,\n    single_opponent_view.precomp_udecdsum as opp_precomp_udecdsum,\n    single_opponent_view.postcomp_udecdavg as opp_postcomp_udecdavg,\n    single_opponent_view.precomp_udecdavg as opp_precomp_udecdavg,\n    single_opponent_view.postcomp_udecdsum3 as opp_postcomp_udecdsum3,\n    single_opponent_view.precomp_udecdsum3 as opp_precomp_udecdsum3,\n    single_opponent_view.postcomp_udecdavg3 as opp_postcomp_udecdavg3,\n    single_opponent_view.precomp_udecdavg3 as opp_precomp_udecdavg3,\n    single_opponent_view.postcomp_udecdsum5 as opp_postcomp_udecdsum5,\n    single_opponent_view.precomp_udecdsum5 as opp_precomp_udecdsum5,\n    single_opponent_view.postcomp_udecdavg5 as opp_postcomp_udecdavg5,\n    single_opponent_view.precomp_udecdavg5 as opp_precomp_udecdavg5,\n    single_opponent_view.postcomp_sdecsum as opp_postcomp_sdecsum,\n    single_opponent_view.precomp_sdecsum as opp_precomp_sdecsum,\n    single_opponent_view.postcomp_sdecavg as opp_postcomp_sdecavg,\n    single_opponent_view.precomp_sdecavg as opp_precomp_sdecavg,\n    single_opponent_view.postcomp_sdecsum3 as opp_postcomp_sdecsum3,\n    single_opponent_view.precomp_sdecsum3 as opp_precomp_sdecsum3,\n    single_opponent_view.postcomp_sdecavg3 as opp_postcomp_sdecavg3,\n    single_opponent_view.precomp_sdecavg3 as opp_precomp_sdecavg3,\n    single_opponent_view.postcomp_sdecsum5 as opp_postcomp_sdecsum5,\n    single_opponent_view.precomp_sdecsum5 as opp_precomp_sdecsum5,\n    single_opponent_view.postcomp_sdecavg5 as opp_postcomp_sdecavg5,\n    single_opponent_view.precomp_sdecavg5 as opp_precomp_sdecavg5,\n    single_opponent_view.postcomp_sdecdsum as opp_postcomp_sdecdsum,\n    single_opponent_view.precomp_sdecdsum as opp_precomp_sdecdsum,\n    single_opponent_view.postcomp_sdecdavg as opp_postcomp_sdecdavg,\n    single_opponent_view.precomp_sdecdavg as opp_precomp_sdecdavg,\n    single_opponent_view.postcomp_sdecdsum3 as opp_postcomp_sdecdsum3,\n    single_opponent_view.precomp_sdecdsum3 as opp_precomp_sdecdsum3,\n    single_opponent_view.postcomp_sdecdavg3 as opp_postcomp_sdecdavg3,\n    single_opponent_view.precomp_sdecdavg3 as opp_precomp_sdecdavg3,\n    single_opponent_view.postcomp_sdecdsum5 as opp_postcomp_sdecdsum5,\n    single_opponent_view.precomp_sdecdsum5 as opp_precomp_sdecdsum5,\n    single_opponent_view.postcomp_sdecdavg5 as opp_postcomp_sdecdavg5,\n    single_opponent_view.precomp_sdecdavg5 as opp_precomp_sdecdavg5,\n    single_opponent_view.postcomp_mdecsum as opp_postcomp_mdecsum,\n    single_opponent_view.precomp_mdecsum as opp_precomp_mdecsum,\n    single_opponent_view.postcomp_mdecavg as opp_postcomp_mdecavg,\n    single_opponent_view.precomp_mdecavg as opp_precomp_mdecavg,\n    single_opponent_view.postcomp_mdecsum3 as opp_postcomp_mdecsum3,\n    single_opponent_view.precomp_mdecsum3 as opp_precomp_mdecsum3,\n    single_opponent_view.postcomp_mdecavg3 as opp_postcomp_mdecavg3,\n    single_opponent_view.precomp_mdecavg3 as opp_precomp_mdecavg3,\n    single_opponent_view.postcomp_mdecsum5 as opp_postcomp_mdecsum5,\n    single_opponent_view.precomp_mdecsum5 as opp_precomp_mdecsum5,\n    single_opponent_view.postcomp_mdecavg5 as opp_postcomp_mdecavg5,\n    single_opponent_view.precomp_mdecavg5 as opp_precomp_mdecavg5,\n    single_opponent_view.postcomp_mdecdsum as opp_postcomp_mdecdsum,\n    single_opponent_view.precomp_mdecdsum as opp_precomp_mdecdsum,\n    single_opponent_view.postcomp_mdecdavg as opp_postcomp_mdecdavg,\n    single_opponent_view.precomp_mdecdavg as opp_precomp_mdecdavg,\n    single_opponent_view.postcomp_mdecdsum3 as opp_postcomp_mdecdsum3,\n    single_opponent_view.precomp_mdecdsum3 as opp_precomp_mdecdsum3,\n    single_opponent_view.postcomp_mdecdavg3 as opp_postcomp_mdecdavg3,\n    single_opponent_view.precomp_mdecdavg3 as opp_precomp_mdecdavg3,\n    single_opponent_view.postcomp_mdecdsum5 as opp_postcomp_mdecdsum5,\n    single_opponent_view.precomp_mdecdsum5 as opp_precomp_mdecdsum5,\n    single_opponent_view.postcomp_mdecdavg5 as opp_postcomp_mdecdavg5,\n    single_opponent_view.precomp_mdecdavg5 as opp_precomp_mdecdavg5\nFROM single_fighter_view JOIN single_opponent_view\nON single_fighter_view.jbout = single_opponent_view.jbout AND\n   single_fighter_view.jevent = single_opponent_view.jevent;\n': You can only execute one statement at a time."
     ]
    }
   ],
   "source": [
    "with open('../src/sql_scripts/test.sql', 'r') as f:\n",
    "  sql_final_views = f.read()\n",
    "\n",
    "cursor.executescript(sql_final_views)\n",
    "db_conn.commit()"
   ]
  },
  {
   "cell_type": "code",
   "execution_count": null,
   "metadata": {},
   "outputs": [],
   "source": [
    "# just display the rows where the jsfighter is 'RaulRosasJr.'\n",
    "df[df['jfs_fighter'] == 'RaulRosasJr.']"
   ]
  },
  {
   "cell_type": "code",
   "execution_count": null,
   "metadata": {},
   "outputs": [],
   "source": [
    "import pandas as pd\n",
    "df = pd.read_sql_query(\"SELECT * from pre_final\", db_conn)"
   ]
  },
  {
   "cell_type": "code",
   "execution_count": null,
   "metadata": {},
   "outputs": [],
   "source": [
    "df.head(10)"
   ]
  },
  {
   "cell_type": "code",
   "execution_count": null,
   "metadata": {},
   "outputs": [],
   "source": [
    "df.to_csv('../data/tmp/pre_final.csv', index=True)"
   ]
  },
  {
   "cell_type": "code",
   "execution_count": null,
   "metadata": {},
   "outputs": [],
   "source": [
    "!ls"
   ]
  },
  {
   "cell_type": "code",
   "execution_count": null,
   "metadata": {},
   "outputs": [],
   "source": [
    "df.head()"
   ]
  },
  {
   "cell_type": "code",
   "execution_count": null,
   "metadata": {},
   "outputs": [],
   "source": [
    "import cleanup_class\n",
    "\n",
    "cleaner = cleanup_class.Cleanup(df)\n",
    "cleaner.order_by_date()\n",
    "#interleaved_df = cleaner.duplicate_and_swap_row()\n",
    "interleaved_df = cleaner.results_column()"
   ]
  },
  {
   "cell_type": "code",
   "execution_count": null,
   "metadata": {},
   "outputs": [],
   "source": [
    "interleaved_df.to_csv('../data/tmp/interleaved_clean.csv', index=True)"
   ]
  },
  {
   "cell_type": "code",
   "execution_count": null,
   "metadata": {},
   "outputs": [],
   "source": [
    "interleaved_df.head(10)"
   ]
  },
  {
   "cell_type": "code",
   "execution_count": null,
   "metadata": {},
   "outputs": [],
   "source": [
    "from elo_class_fixed import FightDataProcessor, EnhancedElo"
   ]
  },
  {
   "cell_type": "code",
   "execution_count": null,
   "metadata": {},
   "outputs": [],
   "source": [
    "\n",
    "# Add WINNER column from existing `result` column if it's present\n",
    "if 'result' in interleaved_df.columns:\n",
    "    interleaved_df['WINNER'] = interleaved_df.apply(\n",
    "        lambda row: row['FIGHTER'] if row['result'] == 1 else row['opp_FIGHTER'], axis=1\n",
    "    )\n",
    "\n",
    "interleaved_df.to_csv('../data/tmp/interleaved_clean.csv', index=False)"
   ]
  },
  {
   "cell_type": "code",
   "execution_count": null,
   "metadata": {},
   "outputs": [],
   "source": [
    "processor = FightDataProcessor('../data/tmp/interleaved_clean.csv')\n",
    "raw_data = processor.load_data()\n",
    "raw_data.to_csv('../data/tmp/interleaved_raw.csv')\n",
    "cleaned_data = processor.clean_data()\n",
    "cleaned_data.to_csv('../data/tmp/interleaved_cleaned.csv')\n",
    "\n",
    "elo_calculator = EnhancedElo(k_factor=40)\n",
    "results_with_elo = elo_calculator.process_fights(cleaned_data)\n",
    "results_with_elo.to_csv('../data/tmp/interleaved_with_elo.csv')\n",
    "\n",
    "print(results_with_elo.head())\n"
   ]
  },
  {
   "cell_type": "markdown",
   "metadata": {},
   "source": [
    "# Confirm precomp postcomp "
   ]
  },
  {
   "cell_type": "code",
   "execution_count": null,
   "metadata": {},
   "outputs": [],
   "source": [
    "data = pd.read_csv('../data/tmp/interleaved_with_elo.csv')"
   ]
  },
  {
   "cell_type": "code",
   "execution_count": null,
   "metadata": {},
   "outputs": [],
   "source": [
    "from elo_feature_enhancer import EloFeatureEnhancer\n",
    "\n",
    "editor = EloFeatureEnhancer('../data/tmp/interleaved_with_elo.csv')\n",
    "\n",
    "#arrage elo features in the proper place\n",
    "ordered_data = editor.insert_elo_features_in_order()\n",
    "\n",
    "# Confirm precomp postcomp - Store fighter's most recent postcomp stats\n",
    "# and check consistency between precomp and previous postcomp values\n",
    "editor.verify_precomp_postcomp_consistency()\n",
    "editor.store_fighter_postcomp_stats()\n",
    "\n",
    "filtered_data = editor.filter_by_fight_count(min_fights=1)\n",
    "\n",
    "swapped_data = editor.duplicate_and_swap_rows()\n",
    "\n",
    "swapped_data.to_csv('../data/tmp/final.csv')"
   ]
  },
  {
   "cell_type": "code",
   "execution_count": null,
   "metadata": {},
   "outputs": [],
   "source": [
    "elo_calculator.query_fighter_elo('Ian Machado Garry')"
   ]
  },
  {
   "cell_type": "code",
   "execution_count": null,
   "metadata": {},
   "outputs": [],
   "source": [
    "elo_calculator.top_k_fighters(50)"
   ]
  },
  {
   "cell_type": "markdown",
   "metadata": {},
   "source": [
    "# Predictions/Models"
   ]
  },
  {
   "cell_type": "code",
   "execution_count": null,
   "metadata": {},
   "outputs": [],
   "source": [
    "from model import DNNFightPredictor\n",
    "\n",
    "predictor = DNNFightPredictor(file_path = '../data/tmp/final.csv')"
   ]
  },
  {
   "cell_type": "code",
   "execution_count": null,
   "metadata": {},
   "outputs": [],
   "source": [
    "predictor.hyperparameter_tuning()"
   ]
  },
  {
   "cell_type": "code",
   "execution_count": null,
   "metadata": {},
   "outputs": [],
   "source": [
    "predictor.evaluate_generalization()"
   ]
  },
  {
   "cell_type": "code",
   "execution_count": null,
   "metadata": {},
   "outputs": [],
   "source": [
    "predictor.evaluate_generalization_with_postcomp()"
   ]
  },
  {
   "cell_type": "code",
   "execution_count": null,
   "metadata": {},
   "outputs": [],
   "source": [
    "#export fighter data\n",
    "pre_final_data = pd.read_csv('../data/tmp/pre_final.csv')\n",
    "filtered_pf = pre_final_data[pre_final_data['FIGHTER'] == 'Alexandre Pantoja']"
   ]
  },
  {
   "cell_type": "code",
   "execution_count": null,
   "metadata": {},
   "outputs": [],
   "source": [
    "filtered_pf.to_csv('../data/tmp/fighter_filtered_final.csv')"
   ]
  },
  {
   "cell_type": "code",
   "execution_count": null,
   "metadata": {},
   "outputs": [],
   "source": [
    "predictor.predict_with_postcomp_data('Alex Pereira', 'Magomed Ankalaev', weight1=205, weight2=205)\n",
    "predictor.predict_with_postcomp_data('Justin Gaethje', 'Rafael Fiziev', weight1=155, weight2=155)\n",
    "predictor.predict_with_postcomp_data('Jalin Turner', 'Ignacio Bahamondes', weight1=155, weight2=155)\n",
    "predictor.predict_with_postcomp_data('King Green', 'Mauricio Ruffy', weight1=155, weight2=155)\n",
    "predictor.predict_with_postcomp_data('Joshua Van', 'Rei Tsuruya', weight1=125, weight2=125)\n",
    "predictor.predict_with_postcomp_data('Bruno Fe', 'Rei Tsuruya', weight1=125, weight2=125)"
   ]
  },
  {
   "cell_type": "markdown",
   "metadata": {},
   "source": [
    "# Predict Kape vs Almabayev"
   ]
  },
  {
   "cell_type": "code",
   "execution_count": null,
   "metadata": {},
   "outputs": [],
   "source": [
    "predictor.mlflow_run()"
   ]
  },
  {
   "cell_type": "code",
   "execution_count": null,
   "metadata": {},
   "outputs": [],
   "source": [
    "predictor = DNNFightPredictor(file_path = '../data/tmp/interleaved_results_elo_hist_1_removed.csv')\n",
    "predictor.hyperparameter_tuning()"
   ]
  },
  {
   "cell_type": "markdown",
   "metadata": {},
   "source": [
    "# Elo Comparisson\n",
    "* old data + elo columns(2) = 0.664\n",
    "\n",
    "{'learning_rate': 2.661075089731784e-05,\n",
    " 'batch_size': 64,\n",
    " 'dropout_rate': 0.4113464221107168,\n",
    " 'l2_reg': 0.0067498143500825235,\n",
    " 'layer_size_0': 64,\n",
    " 'layer_size_1': 48,\n",
    " 'layer_size_2': 32,\n",
    " 'layer_size_3': 112}\n",
    "\n",
    "* new data + elo columns(2) = 0.666\n",
    "\n",
    "\n"
   ]
  },
  {
   "cell_type": "code",
   "execution_count": null,
   "metadata": {},
   "outputs": [],
   "source": [
    "predictor.shap_analysis()"
   ]
  },
  {
   "cell_type": "code",
   "execution_count": null,
   "metadata": {},
   "outputs": [],
   "source": [
    "predictor.predict_fight_winner('Merab Dvalishvili', 'Umar Nurmagomedov')"
   ]
  },
  {
   "cell_type": "markdown",
   "metadata": {},
   "source": [
    "# Best Hyperparameters for elo columns\n",
    "\n",
    "{'learning_rate': 0.001441126615791276,\n",
    " 'batch_size': 64,\n",
    " 'dropout_rate': 0.35954714170732943,\n",
    " 'l2_reg': 0.0030518395936230975,\n",
    " 'layer_size_0': 80,\n",
    " 'layer_size_1': 32}"
   ]
  },
  {
   "cell_type": "markdown",
   "metadata": {},
   "source": [
    "selected_features = [\n",
    "            'age', 'HEIGHT', 'WEIGHT', 'REACH', 'weightindex', \n",
    "            'precomp_sigstr_pm', 'precomp_tdavg', 'precomp_sapm', 'precomp_subavg',\n",
    "            'precomp_tddef', 'precomp_sigstr_perc', 'precomp_strdef', 'precomp_tdacc_perc',\n",
    "            'precomp_totalacc_perc', 'precomp_headacc_perc', 'precomp_bodyacc_perc', 'precomp_legacc_perc',\n",
    "            'precomp_distacc_perc','precomp_clinchacc_perc','precomp_groundacc_perc','precomp_winsum', 'precomp_losssum',\n",
    "            'precomp_sigstr_pm3', 'precomp_tdavg3', 'precomp_sapm3', 'precomp_subavg3',\n",
    "            'precomp_tddef3', 'precomp_sigstr_perc3', 'precomp_strdef3', 'precomp_tdacc_perc3',\n",
    "            'precomp_totalacc_perc3', 'precomp_headacc_perc3', 'precomp_bodyacc_perc3', 'precomp_legacc_perc3',\n",
    "            'precomp_distacc_perc3','precomp_clinchacc_perc3','precomp_groundacc_perc3',\n",
    "            'precomp_winsum3', 'precomp_losssum3',\n",
    "            'precomp_sigstr_pm5', 'precomp_tdavg5', 'precomp_sapm5', 'precomp_subavg5',\n",
    "            'precomp_tddef5', 'precomp_sigstr_perc5', 'precomp_strdef5', 'precomp_tdacc_perc5',\n",
    "            'precomp_totalacc_perc5', 'precomp_headacc_perc5', 'precomp_bodyacc_perc5', 'precomp_legacc_perc5',\n",
    "            'precomp_distacc_perc5','precomp_clinchacc_perc5','precomp_groundacc_perc5',\n",
    "            'precomp_winsum5', 'precomp_losssum5',\n",
    "            'precomp_elo','elo_diff_pre', 'precomp_elo_change_3', 'precomp_elo_change_5', \n",
    "            'opp_age', 'opp_HEIGHT', 'opp_WEIGHT', 'opp_REACH','opp_weightindex',\n",
    "            'opp_precomp_sigstr_pm', 'opp_precomp_tdavg', 'opp_precomp_sapm', 'opp_precomp_subavg',\n",
    "            'opp_precomp_tddef', 'opp_precomp_sigstr_perc', 'opp_precomp_strdef', 'opp_precomp_tdacc_perc',\n",
    "            'opp_precomp_totalacc_perc', 'opp_precomp_headacc_perc','opp_precomp_bodyacc_perc','opp_precomp_legacc_perc',\n",
    "            'opp_precomp_distacc_perc','opp_precomp_clinchacc_perc','opp_precomp_groundacc_perc','opp_precomp_winsum', 'opp_precomp_losssum',\n",
    "            'opp_precomp_sigstr_pm3', 'opp_precomp_tdavg3', 'opp_precomp_sapm3', 'opp_precomp_subavg3',\n",
    "            'opp_precomp_tddef3', 'opp_precomp_sigstr_perc3', 'opp_precomp_strdef3', 'opp_precomp_tdacc_perc3',\n",
    "            'opp_precomp_totalacc_perc3', 'opp_precomp_headacc_perc3','opp_precomp_bodyacc_perc3','opp_precomp_legacc_perc3',\n",
    "            'opp_precomp_distacc_perc3','opp_precomp_clinchacc_perc3','opp_precomp_groundacc_perc3',\n",
    "            'opp_precomp_winsum3', 'opp_precomp_losssum3','opp_weight_avg3',\n",
    "            'opp_precomp_elo','opp_elo_diff_pre', 'opp_precomp_elo_change_3', 'opp_precomp_elo_change_5',\n",
    "            'opp_precomp_sigstr_pm5', 'opp_precomp_tdavg5', 'opp_precomp_sapm5', 'opp_precomp_subavg5',\n",
    "            'opp_precomp_tddef5', 'opp_precomp_sigstr_perc5', 'opp_precomp_strdef5', 'opp_precomp_tdacc_perc5',\n",
    "            'opp_precomp_totalacc_perc5', 'opp_precomp_headacc_perc5','opp_precomp_bodyacc_perc5','opp_precomp_legacc_perc5',\n",
    "            'opp_precomp_distacc_perc5','opp_precomp_clinchacc_perc5','opp_precomp_groundacc_perc5',\n",
    "            'opp_precomp_winsum5', 'opp_precomp_losssum5','opp_precomp_elo_change_5',\n",
    "        ]\n",
    "\n",
    "\n",
    "\n",
    "        {'learning_rate': 0.0004982871706745808,\n",
    " 'batch_size': 16,\n",
    " 'dropout_rate': 0.4512401787251757,\n",
    " 'l2_reg': 0.0005124681578208401,\n",
    " 'layer_size_0': 128,\n",
    " 'layer_size_1': 80,\n",
    " 'layer_size_2': 64,\n",
    " 'layer_size_3': 32}"
   ]
  },
  {
   "cell_type": "code",
   "execution_count": null,
   "metadata": {},
   "outputs": [],
   "source": [
    "import pandas as pd\n",
    "\n",
    "# Creating the data for the CSV file\n",
    "data = [\n",
    "    [\"Song Yadong\", \"Henry Cejudo\", \"Song Yadong\"],\n",
    "    [\"Anthony Hernandez\", \"Brendan Allen\", \"Anthony Hernandez\"],\n",
    "    [\"Rob Font\", \"Jean Matsumoto\", \"Rob Font\"],\n",
    "    [\"Jean Silva\", \"Melsik Baghdasaryan\", \"Jean Silva\"],\n",
    "    [\"Alonzo Menifield\", \"Julius Walker\", \"Alonzo Menifield\"],\n",
    "    [\"Ion Cuțelaba\", \"Ibo Aslan\", \"Ion Cuțelaba\"],\n",
    "    [\"Melquizael Costa\", \"Andre Fili\", \"Melquizael Costa\"],\n",
    "    [\"Mansur Abdul-Malik\", \"Nick Klein\", \"Mansur Abdul-Malik\"],\n",
    "    [\"Ricky Simón\", \"Javid Basharat\", \"Ricky Simón\"],\n",
    "    [\"Austin Vanderford\", \"Nikolay Veretennikov\", \"Austin Vanderford\"],\n",
    "    [\"Nursulton Ruziboev\", \"Eric McConico\", \"Nursulton Ruziboev\"],\n",
    "    [\"Modestas Bukauskas\", \"Raffael Cerqueira\", \"Modestas Bukauskas\"],\n",
    "    [\"Manel Kape\", \"Asu Almabayev\", \"Manel Kape\"],\n",
    "    [\"Cody Brundage\", \"Julian Marquez\", \"Cody Brundage\"],\n",
    "    [\"Nasrat Haqparast\", \"Esteban Ribovics\", \"Nasrat Haqparast\"],\n",
    "    [\"Hyder Amil\", \"William Gomis\", \"Hyder Amil\"],\n",
    "    [\"Sam Patterson\", \"Danny Barlow\", \"Sam Patterson\"],\n",
    "    [\"Mário Pinto\", \"Austen Lane\", \"Mário Pinto\"],\n",
    "    [\"Chepe Mariscal\", \"Ricardo Ramos\", \"Chepe Mariscal\"],\n",
    "    [\"Danny Silva\", \"Lucas Almeida\", \"Danny Silva\"],\n",
    "    [\"JJ Aldrich\", \"Andrea Lee\", \"JJ Aldrich\"],\n",
    "    [\"Ramazan Temirov\", \"Charles Johnson\", \"Ramazan Temirov\"]\n",
    "]\n",
    "\n",
    "# Creating a DataFrame\n",
    "df = pd.DataFrame(data, columns=[\"Fighter A\", \"Fighter B\", \"Winner\"])\n",
    "\n",
    "# Exporting the DataFrame to a CSV file\n",
    "file_path = \"../data/tmp/UFC_Fight_Night_Results.csv\"\n",
    "df.to_csv(file_path, index=False)\n",
    "\n",
    "# Providing the file to the user\n",
    "file_path\n"
   ]
  },
  {
   "cell_type": "markdown",
   "metadata": {},
   "source": []
  }
 ],
 "metadata": {
  "colab": {
   "provenance": []
  },
  "kernelspec": {
   "display_name": "ufc_env",
   "language": "python",
   "name": "python3"
  },
  "language_info": {
   "codemirror_mode": {
    "name": "ipython",
    "version": 3
   },
   "file_extension": ".py",
   "mimetype": "text/x-python",
   "name": "python",
   "nbconvert_exporter": "python",
   "pygments_lexer": "ipython3",
   "version": "3.9.6"
  },
  "widgets": {
   "application/vnd.jupyter.widget-state+json": {
    "16b584af3e6a430a9a613bece67a2563": {
     "model_module": "@jupyter-widgets/controls",
     "model_module_version": "1.5.0",
     "model_name": "HTMLModel",
     "state": {
      "_dom_classes": [],
      "_model_module": "@jupyter-widgets/controls",
      "_model_module_version": "1.5.0",
      "_model_name": "HTMLModel",
      "_view_count": null,
      "_view_module": "@jupyter-widgets/controls",
      "_view_module_version": "1.5.0",
      "_view_name": "HTMLView",
      "description": "",
      "description_tooltip": null,
      "layout": "IPY_MODEL_26f5cbdb369641fb9bfe67a6bbbdc080",
      "placeholder": "​",
      "style": "IPY_MODEL_423913db86e34360b8a313617b2cccdf",
      "value": " 26/26 [00:21&lt;00:00,  1.87it/s]"
     }
    },
    "1c17c4618c6543608856ba1e674af557": {
     "model_module": "@jupyter-widgets/controls",
     "model_module_version": "1.5.0",
     "model_name": "ProgressStyleModel",
     "state": {
      "_model_module": "@jupyter-widgets/controls",
      "_model_module_version": "1.5.0",
      "_model_name": "ProgressStyleModel",
      "_view_count": null,
      "_view_module": "@jupyter-widgets/base",
      "_view_module_version": "1.2.0",
      "_view_name": "StyleView",
      "bar_color": null,
      "description_width": ""
     }
    },
    "1ef486183d784b6dbed5d7d4762bcaa8": {
     "model_module": "@jupyter-widgets/base",
     "model_module_version": "1.2.0",
     "model_name": "LayoutModel",
     "state": {
      "_model_module": "@jupyter-widgets/base",
      "_model_module_version": "1.2.0",
      "_model_name": "LayoutModel",
      "_view_count": null,
      "_view_module": "@jupyter-widgets/base",
      "_view_module_version": "1.2.0",
      "_view_name": "LayoutView",
      "align_content": null,
      "align_items": null,
      "align_self": null,
      "border": null,
      "bottom": null,
      "display": null,
      "flex": null,
      "flex_flow": null,
      "grid_area": null,
      "grid_auto_columns": null,
      "grid_auto_flow": null,
      "grid_auto_rows": null,
      "grid_column": null,
      "grid_gap": null,
      "grid_row": null,
      "grid_template_areas": null,
      "grid_template_columns": null,
      "grid_template_rows": null,
      "height": null,
      "justify_content": null,
      "justify_items": null,
      "left": null,
      "margin": null,
      "max_height": null,
      "max_width": null,
      "min_height": null,
      "min_width": null,
      "object_fit": null,
      "object_position": null,
      "order": null,
      "overflow": null,
      "overflow_x": null,
      "overflow_y": null,
      "padding": null,
      "right": null,
      "top": null,
      "visibility": null,
      "width": null
     }
    },
    "26f5cbdb369641fb9bfe67a6bbbdc080": {
     "model_module": "@jupyter-widgets/base",
     "model_module_version": "1.2.0",
     "model_name": "LayoutModel",
     "state": {
      "_model_module": "@jupyter-widgets/base",
      "_model_module_version": "1.2.0",
      "_model_name": "LayoutModel",
      "_view_count": null,
      "_view_module": "@jupyter-widgets/base",
      "_view_module_version": "1.2.0",
      "_view_name": "LayoutView",
      "align_content": null,
      "align_items": null,
      "align_self": null,
      "border": null,
      "bottom": null,
      "display": null,
      "flex": null,
      "flex_flow": null,
      "grid_area": null,
      "grid_auto_columns": null,
      "grid_auto_flow": null,
      "grid_auto_rows": null,
      "grid_column": null,
      "grid_gap": null,
      "grid_row": null,
      "grid_template_areas": null,
      "grid_template_columns": null,
      "grid_template_rows": null,
      "height": null,
      "justify_content": null,
      "justify_items": null,
      "left": null,
      "margin": null,
      "max_height": null,
      "max_width": null,
      "min_height": null,
      "min_width": null,
      "object_fit": null,
      "object_position": null,
      "order": null,
      "overflow": null,
      "overflow_x": null,
      "overflow_y": null,
      "padding": null,
      "right": null,
      "top": null,
      "visibility": null,
      "width": null
     }
    },
    "2f81a1b04587479b89c6a04c9b397f8a": {
     "model_module": "@jupyter-widgets/controls",
     "model_module_version": "1.5.0",
     "model_name": "HTMLModel",
     "state": {
      "_dom_classes": [],
      "_model_module": "@jupyter-widgets/controls",
      "_model_module_version": "1.5.0",
      "_model_name": "HTMLModel",
      "_view_count": null,
      "_view_module": "@jupyter-widgets/controls",
      "_view_module_version": "1.5.0",
      "_view_name": "HTMLView",
      "description": "",
      "description_tooltip": null,
      "layout": "IPY_MODEL_af15705b86ad4fe5a14a1ac80ddb6518",
      "placeholder": "​",
      "style": "IPY_MODEL_ae77db4c323b46299d9955d2f6106e1f",
      "value": "100%"
     }
    },
    "423913db86e34360b8a313617b2cccdf": {
     "model_module": "@jupyter-widgets/controls",
     "model_module_version": "1.5.0",
     "model_name": "DescriptionStyleModel",
     "state": {
      "_model_module": "@jupyter-widgets/controls",
      "_model_module_version": "1.5.0",
      "_model_name": "DescriptionStyleModel",
      "_view_count": null,
      "_view_module": "@jupyter-widgets/base",
      "_view_module_version": "1.2.0",
      "_view_name": "StyleView",
      "description_width": ""
     }
    },
    "4617bb9161fb4b63b134e5ccc43fda02": {
     "model_module": "@jupyter-widgets/controls",
     "model_module_version": "1.5.0",
     "model_name": "ProgressStyleModel",
     "state": {
      "_model_module": "@jupyter-widgets/controls",
      "_model_module_version": "1.5.0",
      "_model_name": "ProgressStyleModel",
      "_view_count": null,
      "_view_module": "@jupyter-widgets/base",
      "_view_module_version": "1.2.0",
      "_view_name": "StyleView",
      "bar_color": null,
      "description_width": ""
     }
    },
    "48ddb60ff85a404f8c1c4cd11208358a": {
     "model_module": "@jupyter-widgets/controls",
     "model_module_version": "1.5.0",
     "model_name": "FloatProgressModel",
     "state": {
      "_dom_classes": [],
      "_model_module": "@jupyter-widgets/controls",
      "_model_module_version": "1.5.0",
      "_model_name": "FloatProgressModel",
      "_view_count": null,
      "_view_module": "@jupyter-widgets/controls",
      "_view_module_version": "1.5.0",
      "_view_name": "ProgressView",
      "bar_style": "success",
      "description": "",
      "description_tooltip": null,
      "layout": "IPY_MODEL_aea2ff927ae4451eaafa94c50d1b8d1e",
      "max": 7898,
      "min": 0,
      "orientation": "horizontal",
      "style": "IPY_MODEL_b4ca1843f1d6451d8d6982135741d31e",
      "value": 7898
     }
    },
    "4b1107254e4645efacc0793ef76eee62": {
     "model_module": "@jupyter-widgets/controls",
     "model_module_version": "1.5.0",
     "model_name": "HTMLModel",
     "state": {
      "_dom_classes": [],
      "_model_module": "@jupyter-widgets/controls",
      "_model_module_version": "1.5.0",
      "_model_name": "HTMLModel",
      "_view_count": null,
      "_view_module": "@jupyter-widgets/controls",
      "_view_module_version": "1.5.0",
      "_view_name": "HTMLView",
      "description": "",
      "description_tooltip": null,
      "layout": "IPY_MODEL_aacb4cc6bfd14ef8a655d79a9576b45a",
      "placeholder": "​",
      "style": "IPY_MODEL_e2a7bcde2af34b948a5d72f341807c6e",
      "value": "100%"
     }
    },
    "51915e04257f4aeea54a68dd7cff745b": {
     "model_module": "@jupyter-widgets/base",
     "model_module_version": "1.2.0",
     "model_name": "LayoutModel",
     "state": {
      "_model_module": "@jupyter-widgets/base",
      "_model_module_version": "1.2.0",
      "_model_name": "LayoutModel",
      "_view_count": null,
      "_view_module": "@jupyter-widgets/base",
      "_view_module_version": "1.2.0",
      "_view_name": "LayoutView",
      "align_content": null,
      "align_items": null,
      "align_self": null,
      "border": null,
      "bottom": null,
      "display": null,
      "flex": null,
      "flex_flow": null,
      "grid_area": null,
      "grid_auto_columns": null,
      "grid_auto_flow": null,
      "grid_auto_rows": null,
      "grid_column": null,
      "grid_gap": null,
      "grid_row": null,
      "grid_template_areas": null,
      "grid_template_columns": null,
      "grid_template_rows": null,
      "height": null,
      "justify_content": null,
      "justify_items": null,
      "left": null,
      "margin": null,
      "max_height": null,
      "max_width": null,
      "min_height": null,
      "min_width": null,
      "object_fit": null,
      "object_position": null,
      "order": null,
      "overflow": null,
      "overflow_x": null,
      "overflow_y": null,
      "padding": null,
      "right": null,
      "top": null,
      "visibility": null,
      "width": null
     }
    },
    "575f4e9102344b97a2d067634843716f": {
     "model_module": "@jupyter-widgets/controls",
     "model_module_version": "1.5.0",
     "model_name": "HTMLModel",
     "state": {
      "_dom_classes": [],
      "_model_module": "@jupyter-widgets/controls",
      "_model_module_version": "1.5.0",
      "_model_name": "HTMLModel",
      "_view_count": null,
      "_view_module": "@jupyter-widgets/controls",
      "_view_module_version": "1.5.0",
      "_view_name": "HTMLView",
      "description": "",
      "description_tooltip": null,
      "layout": "IPY_MODEL_ba1836a331804b79868f7ac079376d08",
      "placeholder": "​",
      "style": "IPY_MODEL_c6fb2ebea039492e94742640c0c908e8",
      "value": " 2511/2511 [11:57&lt;00:00,  3.23it/s]"
     }
    },
    "73b9915cef1b46968b987ed2b83a5acd": {
     "model_module": "@jupyter-widgets/controls",
     "model_module_version": "1.5.0",
     "model_name": "DescriptionStyleModel",
     "state": {
      "_model_module": "@jupyter-widgets/controls",
      "_model_module_version": "1.5.0",
      "_model_name": "DescriptionStyleModel",
      "_view_count": null,
      "_view_module": "@jupyter-widgets/base",
      "_view_module_version": "1.2.0",
      "_view_name": "StyleView",
      "description_width": ""
     }
    },
    "7c8a538969ed413aa9ed3ea062ef769d": {
     "model_module": "@jupyter-widgets/controls",
     "model_module_version": "1.5.0",
     "model_name": "HTMLModel",
     "state": {
      "_dom_classes": [],
      "_model_module": "@jupyter-widgets/controls",
      "_model_module_version": "1.5.0",
      "_model_name": "HTMLModel",
      "_view_count": null,
      "_view_module": "@jupyter-widgets/controls",
      "_view_module_version": "1.5.0",
      "_view_name": "HTMLView",
      "description": "",
      "description_tooltip": null,
      "layout": "IPY_MODEL_881d2f8f6df3415eb849d57430f35883",
      "placeholder": "​",
      "style": "IPY_MODEL_b0334b9a67074c1a8e08431c9a71ed4a",
      "value": "100%"
     }
    },
    "7e1926a1065947c096434b417867da83": {
     "model_module": "@jupyter-widgets/base",
     "model_module_version": "1.2.0",
     "model_name": "LayoutModel",
     "state": {
      "_model_module": "@jupyter-widgets/base",
      "_model_module_version": "1.2.0",
      "_model_name": "LayoutModel",
      "_view_count": null,
      "_view_module": "@jupyter-widgets/base",
      "_view_module_version": "1.2.0",
      "_view_name": "LayoutView",
      "align_content": null,
      "align_items": null,
      "align_self": null,
      "border": null,
      "bottom": null,
      "display": null,
      "flex": null,
      "flex_flow": null,
      "grid_area": null,
      "grid_auto_columns": null,
      "grid_auto_flow": null,
      "grid_auto_rows": null,
      "grid_column": null,
      "grid_gap": null,
      "grid_row": null,
      "grid_template_areas": null,
      "grid_template_columns": null,
      "grid_template_rows": null,
      "height": null,
      "justify_content": null,
      "justify_items": null,
      "left": null,
      "margin": null,
      "max_height": null,
      "max_width": null,
      "min_height": null,
      "min_width": null,
      "object_fit": null,
      "object_position": null,
      "order": null,
      "overflow": null,
      "overflow_x": null,
      "overflow_y": null,
      "padding": null,
      "right": null,
      "top": null,
      "visibility": null,
      "width": null
     }
    },
    "8718154bce88472a973464b97c94a606": {
     "model_module": "@jupyter-widgets/controls",
     "model_module_version": "1.5.0",
     "model_name": "HBoxModel",
     "state": {
      "_dom_classes": [],
      "_model_module": "@jupyter-widgets/controls",
      "_model_module_version": "1.5.0",
      "_model_name": "HBoxModel",
      "_view_count": null,
      "_view_module": "@jupyter-widgets/controls",
      "_view_module_version": "1.5.0",
      "_view_name": "HBoxView",
      "box_style": "",
      "children": [
       "IPY_MODEL_7c8a538969ed413aa9ed3ea062ef769d",
       "IPY_MODEL_48ddb60ff85a404f8c1c4cd11208358a",
       "IPY_MODEL_e04d8cd066d641d68c7372bd0e7860e2"
      ],
      "layout": "IPY_MODEL_9f5bf2febfab4b38b37eb06be0fe2cf0"
     }
    },
    "881d2f8f6df3415eb849d57430f35883": {
     "model_module": "@jupyter-widgets/base",
     "model_module_version": "1.2.0",
     "model_name": "LayoutModel",
     "state": {
      "_model_module": "@jupyter-widgets/base",
      "_model_module_version": "1.2.0",
      "_model_name": "LayoutModel",
      "_view_count": null,
      "_view_module": "@jupyter-widgets/base",
      "_view_module_version": "1.2.0",
      "_view_name": "LayoutView",
      "align_content": null,
      "align_items": null,
      "align_self": null,
      "border": null,
      "bottom": null,
      "display": null,
      "flex": null,
      "flex_flow": null,
      "grid_area": null,
      "grid_auto_columns": null,
      "grid_auto_flow": null,
      "grid_auto_rows": null,
      "grid_column": null,
      "grid_gap": null,
      "grid_row": null,
      "grid_template_areas": null,
      "grid_template_columns": null,
      "grid_template_rows": null,
      "height": null,
      "justify_content": null,
      "justify_items": null,
      "left": null,
      "margin": null,
      "max_height": null,
      "max_width": null,
      "min_height": null,
      "min_width": null,
      "object_fit": null,
      "object_position": null,
      "order": null,
      "overflow": null,
      "overflow_x": null,
      "overflow_y": null,
      "padding": null,
      "right": null,
      "top": null,
      "visibility": null,
      "width": null
     }
    },
    "8ce7677305da441ab84b7e0ef668980b": {
     "model_module": "@jupyter-widgets/controls",
     "model_module_version": "1.5.0",
     "model_name": "HBoxModel",
     "state": {
      "_dom_classes": [],
      "_model_module": "@jupyter-widgets/controls",
      "_model_module_version": "1.5.0",
      "_model_name": "HBoxModel",
      "_view_count": null,
      "_view_module": "@jupyter-widgets/controls",
      "_view_module_version": "1.5.0",
      "_view_name": "HBoxView",
      "box_style": "",
      "children": [
       "IPY_MODEL_4b1107254e4645efacc0793ef76eee62",
       "IPY_MODEL_a55edca0b3e7471b91ab614b4812d7eb",
       "IPY_MODEL_16b584af3e6a430a9a613bece67a2563"
      ],
      "layout": "IPY_MODEL_e63f80b576f5469c865c021a3b49c24f"
     }
    },
    "8dd7c962e49f490091c9d89a0e623d7b": {
     "model_module": "@jupyter-widgets/controls",
     "model_module_version": "1.5.0",
     "model_name": "HBoxModel",
     "state": {
      "_dom_classes": [],
      "_model_module": "@jupyter-widgets/controls",
      "_model_module_version": "1.5.0",
      "_model_name": "HBoxModel",
      "_view_count": null,
      "_view_module": "@jupyter-widgets/controls",
      "_view_module_version": "1.5.0",
      "_view_name": "HBoxView",
      "box_style": "",
      "children": [
       "IPY_MODEL_b78b1ad75fb64fdbb595c5baff305516",
       "IPY_MODEL_ce230fb6df0940caa94a83c5e346da7a",
       "IPY_MODEL_9fabd27658e7458da7e23671a84cc5b1"
      ],
      "layout": "IPY_MODEL_dc28b5145ffa404b87e55d7cf6dc8638"
     }
    },
    "99aacd0c155141018c0064158a5191fe": {
     "model_module": "@jupyter-widgets/controls",
     "model_module_version": "1.5.0",
     "model_name": "DescriptionStyleModel",
     "state": {
      "_model_module": "@jupyter-widgets/controls",
      "_model_module_version": "1.5.0",
      "_model_name": "DescriptionStyleModel",
      "_view_count": null,
      "_view_module": "@jupyter-widgets/base",
      "_view_module_version": "1.2.0",
      "_view_name": "StyleView",
      "description_width": ""
     }
    },
    "9f5bf2febfab4b38b37eb06be0fe2cf0": {
     "model_module": "@jupyter-widgets/base",
     "model_module_version": "1.2.0",
     "model_name": "LayoutModel",
     "state": {
      "_model_module": "@jupyter-widgets/base",
      "_model_module_version": "1.2.0",
      "_model_name": "LayoutModel",
      "_view_count": null,
      "_view_module": "@jupyter-widgets/base",
      "_view_module_version": "1.2.0",
      "_view_name": "LayoutView",
      "align_content": null,
      "align_items": null,
      "align_self": null,
      "border": null,
      "bottom": null,
      "display": null,
      "flex": null,
      "flex_flow": null,
      "grid_area": null,
      "grid_auto_columns": null,
      "grid_auto_flow": null,
      "grid_auto_rows": null,
      "grid_column": null,
      "grid_gap": null,
      "grid_row": null,
      "grid_template_areas": null,
      "grid_template_columns": null,
      "grid_template_rows": null,
      "height": null,
      "justify_content": null,
      "justify_items": null,
      "left": null,
      "margin": null,
      "max_height": null,
      "max_width": null,
      "min_height": null,
      "min_width": null,
      "object_fit": null,
      "object_position": null,
      "order": null,
      "overflow": null,
      "overflow_x": null,
      "overflow_y": null,
      "padding": null,
      "right": null,
      "top": null,
      "visibility": null,
      "width": null
     }
    },
    "9fabd27658e7458da7e23671a84cc5b1": {
     "model_module": "@jupyter-widgets/controls",
     "model_module_version": "1.5.0",
     "model_name": "HTMLModel",
     "state": {
      "_dom_classes": [],
      "_model_module": "@jupyter-widgets/controls",
      "_model_module_version": "1.5.0",
      "_model_name": "HTMLModel",
      "_view_count": null,
      "_view_module": "@jupyter-widgets/controls",
      "_view_module_version": "1.5.0",
      "_view_name": "HTMLView",
      "description": "",
      "description_tooltip": null,
      "layout": "IPY_MODEL_7e1926a1065947c096434b417867da83",
      "placeholder": "​",
      "style": "IPY_MODEL_a6514271fc2d4894accadb7d52f0b932",
      "value": " 709/709 [04:01&lt;00:00,  3.38it/s]"
     }
    },
    "a55edca0b3e7471b91ab614b4812d7eb": {
     "model_module": "@jupyter-widgets/controls",
     "model_module_version": "1.5.0",
     "model_name": "FloatProgressModel",
     "state": {
      "_dom_classes": [],
      "_model_module": "@jupyter-widgets/controls",
      "_model_module_version": "1.5.0",
      "_model_name": "FloatProgressModel",
      "_view_count": null,
      "_view_module": "@jupyter-widgets/controls",
      "_view_module_version": "1.5.0",
      "_view_name": "ProgressView",
      "bar_style": "success",
      "description": "",
      "description_tooltip": null,
      "layout": "IPY_MODEL_d86cd8e4d3f74244801ce1a94cbdb99e",
      "max": 26,
      "min": 0,
      "orientation": "horizontal",
      "style": "IPY_MODEL_1c17c4618c6543608856ba1e674af557",
      "value": 26
     }
    },
    "a6514271fc2d4894accadb7d52f0b932": {
     "model_module": "@jupyter-widgets/controls",
     "model_module_version": "1.5.0",
     "model_name": "DescriptionStyleModel",
     "state": {
      "_model_module": "@jupyter-widgets/controls",
      "_model_module_version": "1.5.0",
      "_model_name": "DescriptionStyleModel",
      "_view_count": null,
      "_view_module": "@jupyter-widgets/base",
      "_view_module_version": "1.2.0",
      "_view_name": "StyleView",
      "description_width": ""
     }
    },
    "a7fb973dbc5d4e098f9f0c24a9624aac": {
     "model_module": "@jupyter-widgets/base",
     "model_module_version": "1.2.0",
     "model_name": "LayoutModel",
     "state": {
      "_model_module": "@jupyter-widgets/base",
      "_model_module_version": "1.2.0",
      "_model_name": "LayoutModel",
      "_view_count": null,
      "_view_module": "@jupyter-widgets/base",
      "_view_module_version": "1.2.0",
      "_view_name": "LayoutView",
      "align_content": null,
      "align_items": null,
      "align_self": null,
      "border": null,
      "bottom": null,
      "display": null,
      "flex": null,
      "flex_flow": null,
      "grid_area": null,
      "grid_auto_columns": null,
      "grid_auto_flow": null,
      "grid_auto_rows": null,
      "grid_column": null,
      "grid_gap": null,
      "grid_row": null,
      "grid_template_areas": null,
      "grid_template_columns": null,
      "grid_template_rows": null,
      "height": null,
      "justify_content": null,
      "justify_items": null,
      "left": null,
      "margin": null,
      "max_height": null,
      "max_width": null,
      "min_height": null,
      "min_width": null,
      "object_fit": null,
      "object_position": null,
      "order": null,
      "overflow": null,
      "overflow_x": null,
      "overflow_y": null,
      "padding": null,
      "right": null,
      "top": null,
      "visibility": null,
      "width": null
     }
    },
    "aacb4cc6bfd14ef8a655d79a9576b45a": {
     "model_module": "@jupyter-widgets/base",
     "model_module_version": "1.2.0",
     "model_name": "LayoutModel",
     "state": {
      "_model_module": "@jupyter-widgets/base",
      "_model_module_version": "1.2.0",
      "_model_name": "LayoutModel",
      "_view_count": null,
      "_view_module": "@jupyter-widgets/base",
      "_view_module_version": "1.2.0",
      "_view_name": "LayoutView",
      "align_content": null,
      "align_items": null,
      "align_self": null,
      "border": null,
      "bottom": null,
      "display": null,
      "flex": null,
      "flex_flow": null,
      "grid_area": null,
      "grid_auto_columns": null,
      "grid_auto_flow": null,
      "grid_auto_rows": null,
      "grid_column": null,
      "grid_gap": null,
      "grid_row": null,
      "grid_template_areas": null,
      "grid_template_columns": null,
      "grid_template_rows": null,
      "height": null,
      "justify_content": null,
      "justify_items": null,
      "left": null,
      "margin": null,
      "max_height": null,
      "max_width": null,
      "min_height": null,
      "min_width": null,
      "object_fit": null,
      "object_position": null,
      "order": null,
      "overflow": null,
      "overflow_x": null,
      "overflow_y": null,
      "padding": null,
      "right": null,
      "top": null,
      "visibility": null,
      "width": null
     }
    },
    "ac7cb17738264d52a33076459316cff5": {
     "model_module": "@jupyter-widgets/controls",
     "model_module_version": "1.5.0",
     "model_name": "ProgressStyleModel",
     "state": {
      "_model_module": "@jupyter-widgets/controls",
      "_model_module_version": "1.5.0",
      "_model_name": "ProgressStyleModel",
      "_view_count": null,
      "_view_module": "@jupyter-widgets/base",
      "_view_module_version": "1.2.0",
      "_view_name": "StyleView",
      "bar_color": null,
      "description_width": ""
     }
    },
    "ae77db4c323b46299d9955d2f6106e1f": {
     "model_module": "@jupyter-widgets/controls",
     "model_module_version": "1.5.0",
     "model_name": "DescriptionStyleModel",
     "state": {
      "_model_module": "@jupyter-widgets/controls",
      "_model_module_version": "1.5.0",
      "_model_name": "DescriptionStyleModel",
      "_view_count": null,
      "_view_module": "@jupyter-widgets/base",
      "_view_module_version": "1.2.0",
      "_view_name": "StyleView",
      "description_width": ""
     }
    },
    "aea2ff927ae4451eaafa94c50d1b8d1e": {
     "model_module": "@jupyter-widgets/base",
     "model_module_version": "1.2.0",
     "model_name": "LayoutModel",
     "state": {
      "_model_module": "@jupyter-widgets/base",
      "_model_module_version": "1.2.0",
      "_model_name": "LayoutModel",
      "_view_count": null,
      "_view_module": "@jupyter-widgets/base",
      "_view_module_version": "1.2.0",
      "_view_name": "LayoutView",
      "align_content": null,
      "align_items": null,
      "align_self": null,
      "border": null,
      "bottom": null,
      "display": null,
      "flex": null,
      "flex_flow": null,
      "grid_area": null,
      "grid_auto_columns": null,
      "grid_auto_flow": null,
      "grid_auto_rows": null,
      "grid_column": null,
      "grid_gap": null,
      "grid_row": null,
      "grid_template_areas": null,
      "grid_template_columns": null,
      "grid_template_rows": null,
      "height": null,
      "justify_content": null,
      "justify_items": null,
      "left": null,
      "margin": null,
      "max_height": null,
      "max_width": null,
      "min_height": null,
      "min_width": null,
      "object_fit": null,
      "object_position": null,
      "order": null,
      "overflow": null,
      "overflow_x": null,
      "overflow_y": null,
      "padding": null,
      "right": null,
      "top": null,
      "visibility": null,
      "width": null
     }
    },
    "af15705b86ad4fe5a14a1ac80ddb6518": {
     "model_module": "@jupyter-widgets/base",
     "model_module_version": "1.2.0",
     "model_name": "LayoutModel",
     "state": {
      "_model_module": "@jupyter-widgets/base",
      "_model_module_version": "1.2.0",
      "_model_name": "LayoutModel",
      "_view_count": null,
      "_view_module": "@jupyter-widgets/base",
      "_view_module_version": "1.2.0",
      "_view_name": "LayoutView",
      "align_content": null,
      "align_items": null,
      "align_self": null,
      "border": null,
      "bottom": null,
      "display": null,
      "flex": null,
      "flex_flow": null,
      "grid_area": null,
      "grid_auto_columns": null,
      "grid_auto_flow": null,
      "grid_auto_rows": null,
      "grid_column": null,
      "grid_gap": null,
      "grid_row": null,
      "grid_template_areas": null,
      "grid_template_columns": null,
      "grid_template_rows": null,
      "height": null,
      "justify_content": null,
      "justify_items": null,
      "left": null,
      "margin": null,
      "max_height": null,
      "max_width": null,
      "min_height": null,
      "min_width": null,
      "object_fit": null,
      "object_position": null,
      "order": null,
      "overflow": null,
      "overflow_x": null,
      "overflow_y": null,
      "padding": null,
      "right": null,
      "top": null,
      "visibility": null,
      "width": null
     }
    },
    "b0334b9a67074c1a8e08431c9a71ed4a": {
     "model_module": "@jupyter-widgets/controls",
     "model_module_version": "1.5.0",
     "model_name": "DescriptionStyleModel",
     "state": {
      "_model_module": "@jupyter-widgets/controls",
      "_model_module_version": "1.5.0",
      "_model_name": "DescriptionStyleModel",
      "_view_count": null,
      "_view_module": "@jupyter-widgets/base",
      "_view_module_version": "1.2.0",
      "_view_name": "StyleView",
      "description_width": ""
     }
    },
    "b4ca1843f1d6451d8d6982135741d31e": {
     "model_module": "@jupyter-widgets/controls",
     "model_module_version": "1.5.0",
     "model_name": "ProgressStyleModel",
     "state": {
      "_model_module": "@jupyter-widgets/controls",
      "_model_module_version": "1.5.0",
      "_model_name": "ProgressStyleModel",
      "_view_count": null,
      "_view_module": "@jupyter-widgets/base",
      "_view_module_version": "1.2.0",
      "_view_name": "StyleView",
      "bar_color": null,
      "description_width": ""
     }
    },
    "b78b1ad75fb64fdbb595c5baff305516": {
     "model_module": "@jupyter-widgets/controls",
     "model_module_version": "1.5.0",
     "model_name": "HTMLModel",
     "state": {
      "_dom_classes": [],
      "_model_module": "@jupyter-widgets/controls",
      "_model_module_version": "1.5.0",
      "_model_name": "HTMLModel",
      "_view_count": null,
      "_view_module": "@jupyter-widgets/controls",
      "_view_module_version": "1.5.0",
      "_view_name": "HTMLView",
      "description": "",
      "description_tooltip": null,
      "layout": "IPY_MODEL_d0839cc8cd314153a24c5984e02e95e4",
      "placeholder": "​",
      "style": "IPY_MODEL_73b9915cef1b46968b987ed2b83a5acd",
      "value": "100%"
     }
    },
    "ba1836a331804b79868f7ac079376d08": {
     "model_module": "@jupyter-widgets/base",
     "model_module_version": "1.2.0",
     "model_name": "LayoutModel",
     "state": {
      "_model_module": "@jupyter-widgets/base",
      "_model_module_version": "1.2.0",
      "_model_name": "LayoutModel",
      "_view_count": null,
      "_view_module": "@jupyter-widgets/base",
      "_view_module_version": "1.2.0",
      "_view_name": "LayoutView",
      "align_content": null,
      "align_items": null,
      "align_self": null,
      "border": null,
      "bottom": null,
      "display": null,
      "flex": null,
      "flex_flow": null,
      "grid_area": null,
      "grid_auto_columns": null,
      "grid_auto_flow": null,
      "grid_auto_rows": null,
      "grid_column": null,
      "grid_gap": null,
      "grid_row": null,
      "grid_template_areas": null,
      "grid_template_columns": null,
      "grid_template_rows": null,
      "height": null,
      "justify_content": null,
      "justify_items": null,
      "left": null,
      "margin": null,
      "max_height": null,
      "max_width": null,
      "min_height": null,
      "min_width": null,
      "object_fit": null,
      "object_position": null,
      "order": null,
      "overflow": null,
      "overflow_x": null,
      "overflow_y": null,
      "padding": null,
      "right": null,
      "top": null,
      "visibility": null,
      "width": null
     }
    },
    "c6dd4753b9d640578077c0dee4e372dc": {
     "model_module": "@jupyter-widgets/controls",
     "model_module_version": "1.5.0",
     "model_name": "HBoxModel",
     "state": {
      "_dom_classes": [],
      "_model_module": "@jupyter-widgets/controls",
      "_model_module_version": "1.5.0",
      "_model_name": "HBoxModel",
      "_view_count": null,
      "_view_module": "@jupyter-widgets/controls",
      "_view_module_version": "1.5.0",
      "_view_name": "HBoxView",
      "box_style": "",
      "children": [
       "IPY_MODEL_2f81a1b04587479b89c6a04c9b397f8a",
       "IPY_MODEL_ed3f1900a0cc423cb2657cb2ea1bfad5",
       "IPY_MODEL_575f4e9102344b97a2d067634843716f"
      ],
      "layout": "IPY_MODEL_a7fb973dbc5d4e098f9f0c24a9624aac"
     }
    },
    "c6fb2ebea039492e94742640c0c908e8": {
     "model_module": "@jupyter-widgets/controls",
     "model_module_version": "1.5.0",
     "model_name": "DescriptionStyleModel",
     "state": {
      "_model_module": "@jupyter-widgets/controls",
      "_model_module_version": "1.5.0",
      "_model_name": "DescriptionStyleModel",
      "_view_count": null,
      "_view_module": "@jupyter-widgets/base",
      "_view_module_version": "1.2.0",
      "_view_name": "StyleView",
      "description_width": ""
     }
    },
    "ce230fb6df0940caa94a83c5e346da7a": {
     "model_module": "@jupyter-widgets/controls",
     "model_module_version": "1.5.0",
     "model_name": "FloatProgressModel",
     "state": {
      "_dom_classes": [],
      "_model_module": "@jupyter-widgets/controls",
      "_model_module_version": "1.5.0",
      "_model_name": "FloatProgressModel",
      "_view_count": null,
      "_view_module": "@jupyter-widgets/controls",
      "_view_module_version": "1.5.0",
      "_view_name": "ProgressView",
      "bar_style": "success",
      "description": "",
      "description_tooltip": null,
      "layout": "IPY_MODEL_e7a4b28a6129451fb6856a448068ee5d",
      "max": 709,
      "min": 0,
      "orientation": "horizontal",
      "style": "IPY_MODEL_4617bb9161fb4b63b134e5ccc43fda02",
      "value": 709
     }
    },
    "d0839cc8cd314153a24c5984e02e95e4": {
     "model_module": "@jupyter-widgets/base",
     "model_module_version": "1.2.0",
     "model_name": "LayoutModel",
     "state": {
      "_model_module": "@jupyter-widgets/base",
      "_model_module_version": "1.2.0",
      "_model_name": "LayoutModel",
      "_view_count": null,
      "_view_module": "@jupyter-widgets/base",
      "_view_module_version": "1.2.0",
      "_view_name": "LayoutView",
      "align_content": null,
      "align_items": null,
      "align_self": null,
      "border": null,
      "bottom": null,
      "display": null,
      "flex": null,
      "flex_flow": null,
      "grid_area": null,
      "grid_auto_columns": null,
      "grid_auto_flow": null,
      "grid_auto_rows": null,
      "grid_column": null,
      "grid_gap": null,
      "grid_row": null,
      "grid_template_areas": null,
      "grid_template_columns": null,
      "grid_template_rows": null,
      "height": null,
      "justify_content": null,
      "justify_items": null,
      "left": null,
      "margin": null,
      "max_height": null,
      "max_width": null,
      "min_height": null,
      "min_width": null,
      "object_fit": null,
      "object_position": null,
      "order": null,
      "overflow": null,
      "overflow_x": null,
      "overflow_y": null,
      "padding": null,
      "right": null,
      "top": null,
      "visibility": null,
      "width": null
     }
    },
    "d86cd8e4d3f74244801ce1a94cbdb99e": {
     "model_module": "@jupyter-widgets/base",
     "model_module_version": "1.2.0",
     "model_name": "LayoutModel",
     "state": {
      "_model_module": "@jupyter-widgets/base",
      "_model_module_version": "1.2.0",
      "_model_name": "LayoutModel",
      "_view_count": null,
      "_view_module": "@jupyter-widgets/base",
      "_view_module_version": "1.2.0",
      "_view_name": "LayoutView",
      "align_content": null,
      "align_items": null,
      "align_self": null,
      "border": null,
      "bottom": null,
      "display": null,
      "flex": null,
      "flex_flow": null,
      "grid_area": null,
      "grid_auto_columns": null,
      "grid_auto_flow": null,
      "grid_auto_rows": null,
      "grid_column": null,
      "grid_gap": null,
      "grid_row": null,
      "grid_template_areas": null,
      "grid_template_columns": null,
      "grid_template_rows": null,
      "height": null,
      "justify_content": null,
      "justify_items": null,
      "left": null,
      "margin": null,
      "max_height": null,
      "max_width": null,
      "min_height": null,
      "min_width": null,
      "object_fit": null,
      "object_position": null,
      "order": null,
      "overflow": null,
      "overflow_x": null,
      "overflow_y": null,
      "padding": null,
      "right": null,
      "top": null,
      "visibility": null,
      "width": null
     }
    },
    "dc28b5145ffa404b87e55d7cf6dc8638": {
     "model_module": "@jupyter-widgets/base",
     "model_module_version": "1.2.0",
     "model_name": "LayoutModel",
     "state": {
      "_model_module": "@jupyter-widgets/base",
      "_model_module_version": "1.2.0",
      "_model_name": "LayoutModel",
      "_view_count": null,
      "_view_module": "@jupyter-widgets/base",
      "_view_module_version": "1.2.0",
      "_view_name": "LayoutView",
      "align_content": null,
      "align_items": null,
      "align_self": null,
      "border": null,
      "bottom": null,
      "display": null,
      "flex": null,
      "flex_flow": null,
      "grid_area": null,
      "grid_auto_columns": null,
      "grid_auto_flow": null,
      "grid_auto_rows": null,
      "grid_column": null,
      "grid_gap": null,
      "grid_row": null,
      "grid_template_areas": null,
      "grid_template_columns": null,
      "grid_template_rows": null,
      "height": null,
      "justify_content": null,
      "justify_items": null,
      "left": null,
      "margin": null,
      "max_height": null,
      "max_width": null,
      "min_height": null,
      "min_width": null,
      "object_fit": null,
      "object_position": null,
      "order": null,
      "overflow": null,
      "overflow_x": null,
      "overflow_y": null,
      "padding": null,
      "right": null,
      "top": null,
      "visibility": null,
      "width": null
     }
    },
    "e04d8cd066d641d68c7372bd0e7860e2": {
     "model_module": "@jupyter-widgets/controls",
     "model_module_version": "1.5.0",
     "model_name": "HTMLModel",
     "state": {
      "_dom_classes": [],
      "_model_module": "@jupyter-widgets/controls",
      "_model_module_version": "1.5.0",
      "_model_name": "HTMLModel",
      "_view_count": null,
      "_view_module": "@jupyter-widgets/controls",
      "_view_module_version": "1.5.0",
      "_view_name": "HTMLView",
      "description": "",
      "description_tooltip": null,
      "layout": "IPY_MODEL_1ef486183d784b6dbed5d7d4762bcaa8",
      "placeholder": "​",
      "style": "IPY_MODEL_99aacd0c155141018c0064158a5191fe",
      "value": " 7898/7898 [1:24:54&lt;00:00,  1.91it/s]"
     }
    },
    "e2a7bcde2af34b948a5d72f341807c6e": {
     "model_module": "@jupyter-widgets/controls",
     "model_module_version": "1.5.0",
     "model_name": "DescriptionStyleModel",
     "state": {
      "_model_module": "@jupyter-widgets/controls",
      "_model_module_version": "1.5.0",
      "_model_name": "DescriptionStyleModel",
      "_view_count": null,
      "_view_module": "@jupyter-widgets/base",
      "_view_module_version": "1.2.0",
      "_view_name": "StyleView",
      "description_width": ""
     }
    },
    "e63f80b576f5469c865c021a3b49c24f": {
     "model_module": "@jupyter-widgets/base",
     "model_module_version": "1.2.0",
     "model_name": "LayoutModel",
     "state": {
      "_model_module": "@jupyter-widgets/base",
      "_model_module_version": "1.2.0",
      "_model_name": "LayoutModel",
      "_view_count": null,
      "_view_module": "@jupyter-widgets/base",
      "_view_module_version": "1.2.0",
      "_view_name": "LayoutView",
      "align_content": null,
      "align_items": null,
      "align_self": null,
      "border": null,
      "bottom": null,
      "display": null,
      "flex": null,
      "flex_flow": null,
      "grid_area": null,
      "grid_auto_columns": null,
      "grid_auto_flow": null,
      "grid_auto_rows": null,
      "grid_column": null,
      "grid_gap": null,
      "grid_row": null,
      "grid_template_areas": null,
      "grid_template_columns": null,
      "grid_template_rows": null,
      "height": null,
      "justify_content": null,
      "justify_items": null,
      "left": null,
      "margin": null,
      "max_height": null,
      "max_width": null,
      "min_height": null,
      "min_width": null,
      "object_fit": null,
      "object_position": null,
      "order": null,
      "overflow": null,
      "overflow_x": null,
      "overflow_y": null,
      "padding": null,
      "right": null,
      "top": null,
      "visibility": null,
      "width": null
     }
    },
    "e7a4b28a6129451fb6856a448068ee5d": {
     "model_module": "@jupyter-widgets/base",
     "model_module_version": "1.2.0",
     "model_name": "LayoutModel",
     "state": {
      "_model_module": "@jupyter-widgets/base",
      "_model_module_version": "1.2.0",
      "_model_name": "LayoutModel",
      "_view_count": null,
      "_view_module": "@jupyter-widgets/base",
      "_view_module_version": "1.2.0",
      "_view_name": "LayoutView",
      "align_content": null,
      "align_items": null,
      "align_self": null,
      "border": null,
      "bottom": null,
      "display": null,
      "flex": null,
      "flex_flow": null,
      "grid_area": null,
      "grid_auto_columns": null,
      "grid_auto_flow": null,
      "grid_auto_rows": null,
      "grid_column": null,
      "grid_gap": null,
      "grid_row": null,
      "grid_template_areas": null,
      "grid_template_columns": null,
      "grid_template_rows": null,
      "height": null,
      "justify_content": null,
      "justify_items": null,
      "left": null,
      "margin": null,
      "max_height": null,
      "max_width": null,
      "min_height": null,
      "min_width": null,
      "object_fit": null,
      "object_position": null,
      "order": null,
      "overflow": null,
      "overflow_x": null,
      "overflow_y": null,
      "padding": null,
      "right": null,
      "top": null,
      "visibility": null,
      "width": null
     }
    },
    "ed3f1900a0cc423cb2657cb2ea1bfad5": {
     "model_module": "@jupyter-widgets/controls",
     "model_module_version": "1.5.0",
     "model_name": "FloatProgressModel",
     "state": {
      "_dom_classes": [],
      "_model_module": "@jupyter-widgets/controls",
      "_model_module_version": "1.5.0",
      "_model_name": "FloatProgressModel",
      "_view_count": null,
      "_view_module": "@jupyter-widgets/controls",
      "_view_module_version": "1.5.0",
      "_view_name": "ProgressView",
      "bar_style": "success",
      "description": "",
      "description_tooltip": null,
      "layout": "IPY_MODEL_51915e04257f4aeea54a68dd7cff745b",
      "max": 2511,
      "min": 0,
      "orientation": "horizontal",
      "style": "IPY_MODEL_ac7cb17738264d52a33076459316cff5",
      "value": 2511
     }
    }
   }
  }
 },
 "nbformat": 4,
 "nbformat_minor": 0
}
